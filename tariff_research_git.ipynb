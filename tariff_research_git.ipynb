{
 "cells": [
  {
   "cell_type": "markdown",
   "metadata": {},
   "source": [
    "# Определение перспективного тарифа для телеком-компании"
   ]
  },
  {
   "cell_type": "markdown",
   "metadata": {},
   "source": [
    "## Описание проекта"
   ]
  },
  {
   "cell_type": "markdown",
   "metadata": {},
   "source": [
    "Клиентам предлагают два тарифных плана: «Смарт» и «Ультра». Чтобы скорректировать рекламный бюджет, необходимо проанализировать, какой тариф приносит больше денег.\n",
    "Предварительный анализ тарифов мы сделаем на небольшой выборке клиентов. У нас есть данные 500 пользователей «Мегалайна»: кто они, откуда, каким тарифом пользуются, сколько звонков и сообщений каждый отправил за 2018 год. Нужно проанализировать поведение клиентов и сделать вывод — какой тариф лучше."
   ]
  },
  {
   "cell_type": "markdown",
   "metadata": {},
   "source": [
    "### Описание тарифов\n",
    "**Тариф «Смарт»**\n",
    "\n",
    "Ежемесячная плата: 550 рублей\n",
    "\n",
    "Включено 500 минут разговора, 50 сообщений и 15 Гб интернет-трафика\n",
    "\n",
    "Стоимость услуг сверх тарифного пакета:\n",
    "- минута разговора: 3 рубля\n",
    "- сообщение: 3 рубля\n",
    "- 1 Гб интернет-трафика: 200 рублей\n",
    "\n",
    "**Тариф «Ультра»**\n",
    "\n",
    "Ежемесячная плата: 1950 рублей\n",
    "\n",
    "Включено 3000 минут разговора, 1000 сообщений и 30 Гб интернет-трафика\n",
    "\n",
    "Стоимость услуг сверх тарифного пакета:\n",
    "- минута разговора: 1 рубль\n",
    "- сообщение: 1 рубль\n",
    "- 1 Гб интернет-трафика: 150 рублей"
   ]
  },
  {
   "cell_type": "markdown",
   "metadata": {},
   "source": [
    "### Описание данных"
   ]
  },
  {
   "cell_type": "markdown",
   "metadata": {},
   "source": [
    "**Таблица users (информация о пользователях):**\n",
    "\n",
    "- `user_id` — уникальный идентификатор пользователя\n",
    "- `first_name` — имя пользователя\n",
    "- `last_name` — фамилия пользователя\n",
    "- `age` — возраст пользователя (годы)\n",
    "- `reg_date` — дата подключения тарифа (день, месяц, год)\n",
    "- `churn_date` — дата прекращения пользования тарифом (если значение пропущено, то тариф ещё действовал на момент выгрузки данных)\n",
    "- `city` — город проживания пользователя\n",
    "- `tariff` — название тарифного плана\n",
    "\n",
    "**Таблица calls (информация о звонках):**\n",
    "\n",
    "- `id` — уникальный номер звонка\n",
    "- `call_date` — дата звонка\n",
    "- `duration` — длительность звонка в минутах\n",
    "- `user_id` — идентификатор пользователя, сделавшего звонок\n",
    "\n",
    "**Таблица messages (информация о сообщениях):**\n",
    "\n",
    "- `id` — уникальный номер сообщения\n",
    "- `message_date` — дата сообщения\n",
    "- `user_id` — идентификатор пользователя, отправившего сообщение\n",
    "\n",
    "**Таблица internet (информация об интернет-сессиях):**\n",
    "\n",
    "- `id` — уникальный номер сессии\n",
    "- `mb_used` — объём потраченного за сессию интернет-трафика (в мегабайтах)\n",
    "- `session_date` — дата интернет-сессии\n",
    "- `user_id` — идентификатор пользователя\n",
    "\n",
    "**Таблица tariffs (информация о тарифах):**\n",
    "\n",
    "- `tariff_name` — название тарифа\n",
    "- `rub_monthly_fee` — ежемесячная абонентская плата в рублях\n",
    "- `minutes_included` — количество минут разговора в месяц, включённых в абонентскую плату\n",
    "- `messages_included` — количество сообщений в месяц, включённых в абонентскую плату\n",
    "- `mb_per_month_included` — объём интернет-трафика, включённого в абонентскую плату (в мегабайтах)\n",
    "- `rub_per_minute` — стоимость минуты разговора сверх тарифного пакета (например, если в тарифе 100 минут разговора в месяц, то со 101 минуты будет взиматься плата)\n",
    "- `rub_per_message` — стоимость отправки сообщения сверх тарифного пакета\n",
    "- `rub_per_gb` — стоимость дополнительного гигабайта интернет-трафика сверх тарифного пакета (1 гигабайт = 1024 мегабайта)\n"
   ]
  },
  {
   "cell_type": "markdown",
   "metadata": {},
   "source": [
    "«Мегалайн» всегда округляет секунды до минут, а мегабайты — до гигабайт. Каждый звонок округляется отдельно: даже если он длился всего 1 секунду, будет засчитан как 1 минута.\n",
    "Для веб-трафика отдельные сессии не считаются. Вместо этого общая сумма за месяц округляется в бо́льшую сторону. Если абонент использует 1025 мегабайт в этом месяце, с него возьмут плату за 2 гигабайта. Также мы будем принимать тот факт, что неиспользованные за предыдущий месяц звонки, смс, интернет на следующий месяц не переносятся."
   ]
  },
  {
   "cell_type": "markdown",
   "metadata": {},
   "source": [
    "## Загрузка библиотек и данных из файлов"
   ]
  },
  {
   "cell_type": "markdown",
   "metadata": {},
   "source": [
    "Для начала загрузим все необходимые для исследования библиотеки:"
   ]
  },
  {
   "cell_type": "code",
   "execution_count": 1,
   "metadata": {},
   "outputs": [],
   "source": [
    "import pandas as pd\n",
    "import numpy as np\n",
    "from scipy import stats as st\n",
    "import matplotlib.pyplot as plt \n",
    "import seaborn as sns\n",
    "import datetime as dt\n",
    "import math\n",
    "import warnings\n",
    "warnings.filterwarnings(\"ignore\")"
   ]
  },
  {
   "cell_type": "markdown",
   "metadata": {},
   "source": [
    "В этом исследовании мы будем использовать несколько датасетов. Ознакомимся с данными из них. "
   ]
  },
  {
   "cell_type": "code",
   "execution_count": 2,
   "metadata": {
    "scrolled": true
   },
   "outputs": [],
   "source": [
    "try:\n",
    "    users_data = pd.read_csv('/datasets/users.csv')\n",
    "except:\n",
    "    users_data = pd.read_csv('/Users/irina/Documents/praktikum/csv/users.csv')"
   ]
  },
  {
   "cell_type": "code",
   "execution_count": 3,
   "metadata": {},
   "outputs": [
    {
     "data": {
      "text/html": [
       "<div>\n",
       "<style scoped>\n",
       "    .dataframe tbody tr th:only-of-type {\n",
       "        vertical-align: middle;\n",
       "    }\n",
       "\n",
       "    .dataframe tbody tr th {\n",
       "        vertical-align: top;\n",
       "    }\n",
       "\n",
       "    .dataframe thead th {\n",
       "        text-align: right;\n",
       "    }\n",
       "</style>\n",
       "<table border=\"1\" class=\"dataframe\">\n",
       "  <thead>\n",
       "    <tr style=\"text-align: right;\">\n",
       "      <th></th>\n",
       "      <th>user_id</th>\n",
       "      <th>age</th>\n",
       "      <th>churn_date</th>\n",
       "      <th>city</th>\n",
       "      <th>first_name</th>\n",
       "      <th>last_name</th>\n",
       "      <th>reg_date</th>\n",
       "      <th>tariff</th>\n",
       "    </tr>\n",
       "  </thead>\n",
       "  <tbody>\n",
       "    <tr>\n",
       "      <th>0</th>\n",
       "      <td>1000</td>\n",
       "      <td>52</td>\n",
       "      <td>NaN</td>\n",
       "      <td>Краснодар</td>\n",
       "      <td>Рафаил</td>\n",
       "      <td>Верещагин</td>\n",
       "      <td>2018-05-25</td>\n",
       "      <td>ultra</td>\n",
       "    </tr>\n",
       "    <tr>\n",
       "      <th>1</th>\n",
       "      <td>1001</td>\n",
       "      <td>41</td>\n",
       "      <td>NaN</td>\n",
       "      <td>Москва</td>\n",
       "      <td>Иван</td>\n",
       "      <td>Ежов</td>\n",
       "      <td>2018-11-01</td>\n",
       "      <td>smart</td>\n",
       "    </tr>\n",
       "    <tr>\n",
       "      <th>2</th>\n",
       "      <td>1002</td>\n",
       "      <td>59</td>\n",
       "      <td>NaN</td>\n",
       "      <td>Стерлитамак</td>\n",
       "      <td>Евгений</td>\n",
       "      <td>Абрамович</td>\n",
       "      <td>2018-06-17</td>\n",
       "      <td>smart</td>\n",
       "    </tr>\n",
       "    <tr>\n",
       "      <th>3</th>\n",
       "      <td>1003</td>\n",
       "      <td>23</td>\n",
       "      <td>NaN</td>\n",
       "      <td>Москва</td>\n",
       "      <td>Белла</td>\n",
       "      <td>Белякова</td>\n",
       "      <td>2018-08-17</td>\n",
       "      <td>ultra</td>\n",
       "    </tr>\n",
       "    <tr>\n",
       "      <th>4</th>\n",
       "      <td>1004</td>\n",
       "      <td>68</td>\n",
       "      <td>NaN</td>\n",
       "      <td>Новокузнецк</td>\n",
       "      <td>Татьяна</td>\n",
       "      <td>Авдеенко</td>\n",
       "      <td>2018-05-14</td>\n",
       "      <td>ultra</td>\n",
       "    </tr>\n",
       "  </tbody>\n",
       "</table>\n",
       "</div>"
      ],
      "text/plain": [
       "   user_id  age churn_date         city first_name  last_name    reg_date  \\\n",
       "0     1000   52        NaN    Краснодар     Рафаил  Верещагин  2018-05-25   \n",
       "1     1001   41        NaN       Москва       Иван       Ежов  2018-11-01   \n",
       "2     1002   59        NaN  Стерлитамак    Евгений  Абрамович  2018-06-17   \n",
       "3     1003   23        NaN       Москва      Белла   Белякова  2018-08-17   \n",
       "4     1004   68        NaN  Новокузнецк    Татьяна   Авдеенко  2018-05-14   \n",
       "\n",
       "  tariff  \n",
       "0  ultra  \n",
       "1  smart  \n",
       "2  smart  \n",
       "3  ultra  \n",
       "4  ultra  "
      ]
     },
     "execution_count": 3,
     "metadata": {},
     "output_type": "execute_result"
    }
   ],
   "source": [
    "users_data[:5]"
   ]
  },
  {
   "cell_type": "code",
   "execution_count": 4,
   "metadata": {
    "scrolled": true
   },
   "outputs": [
    {
     "name": "stdout",
     "output_type": "stream",
     "text": [
      "<class 'pandas.core.frame.DataFrame'>\n",
      "RangeIndex: 500 entries, 0 to 499\n",
      "Data columns (total 8 columns):\n",
      " #   Column      Non-Null Count  Dtype \n",
      "---  ------      --------------  ----- \n",
      " 0   user_id     500 non-null    int64 \n",
      " 1   age         500 non-null    int64 \n",
      " 2   churn_date  38 non-null     object\n",
      " 3   city        500 non-null    object\n",
      " 4   first_name  500 non-null    object\n",
      " 5   last_name   500 non-null    object\n",
      " 6   reg_date    500 non-null    object\n",
      " 7   tariff      500 non-null    object\n",
      "dtypes: int64(2), object(6)\n",
      "memory usage: 31.4+ KB\n"
     ]
    }
   ],
   "source": [
    "users_data.info()"
   ]
  },
  {
   "cell_type": "markdown",
   "metadata": {},
   "source": [
    "Мы сохранили в переменной `users_data` информацию о пользователях. В таблице 8 столбцов, есть пропуски в столбце churn_date. Это столбец с датой прекращения пользования тарифом (если значение пропущено, то тариф ещё действовал на момент выгрузки данных). Позже мы подробнее ознакомимся с этими данными и исправим пропуски."
   ]
  },
  {
   "cell_type": "code",
   "execution_count": 5,
   "metadata": {},
   "outputs": [],
   "source": [
    "try:\n",
    "    calls_data = pd.read_csv('/datasets/calls.csv')\n",
    "except:\n",
    "    calls_data = pd.read_csv('/Users/irina/Documents/praktikum/csv/calls.csv')"
   ]
  },
  {
   "cell_type": "code",
   "execution_count": 6,
   "metadata": {},
   "outputs": [
    {
     "data": {
      "text/html": [
       "<div>\n",
       "<style scoped>\n",
       "    .dataframe tbody tr th:only-of-type {\n",
       "        vertical-align: middle;\n",
       "    }\n",
       "\n",
       "    .dataframe tbody tr th {\n",
       "        vertical-align: top;\n",
       "    }\n",
       "\n",
       "    .dataframe thead th {\n",
       "        text-align: right;\n",
       "    }\n",
       "</style>\n",
       "<table border=\"1\" class=\"dataframe\">\n",
       "  <thead>\n",
       "    <tr style=\"text-align: right;\">\n",
       "      <th></th>\n",
       "      <th>id</th>\n",
       "      <th>call_date</th>\n",
       "      <th>duration</th>\n",
       "      <th>user_id</th>\n",
       "    </tr>\n",
       "  </thead>\n",
       "  <tbody>\n",
       "    <tr>\n",
       "      <th>0</th>\n",
       "      <td>1000_0</td>\n",
       "      <td>2018-07-25</td>\n",
       "      <td>0.00</td>\n",
       "      <td>1000</td>\n",
       "    </tr>\n",
       "    <tr>\n",
       "      <th>1</th>\n",
       "      <td>1000_1</td>\n",
       "      <td>2018-08-17</td>\n",
       "      <td>0.00</td>\n",
       "      <td>1000</td>\n",
       "    </tr>\n",
       "    <tr>\n",
       "      <th>2</th>\n",
       "      <td>1000_2</td>\n",
       "      <td>2018-06-11</td>\n",
       "      <td>2.85</td>\n",
       "      <td>1000</td>\n",
       "    </tr>\n",
       "    <tr>\n",
       "      <th>3</th>\n",
       "      <td>1000_3</td>\n",
       "      <td>2018-09-21</td>\n",
       "      <td>13.80</td>\n",
       "      <td>1000</td>\n",
       "    </tr>\n",
       "    <tr>\n",
       "      <th>4</th>\n",
       "      <td>1000_4</td>\n",
       "      <td>2018-12-15</td>\n",
       "      <td>5.18</td>\n",
       "      <td>1000</td>\n",
       "    </tr>\n",
       "  </tbody>\n",
       "</table>\n",
       "</div>"
      ],
      "text/plain": [
       "       id   call_date  duration  user_id\n",
       "0  1000_0  2018-07-25      0.00     1000\n",
       "1  1000_1  2018-08-17      0.00     1000\n",
       "2  1000_2  2018-06-11      2.85     1000\n",
       "3  1000_3  2018-09-21     13.80     1000\n",
       "4  1000_4  2018-12-15      5.18     1000"
      ]
     },
     "execution_count": 6,
     "metadata": {},
     "output_type": "execute_result"
    }
   ],
   "source": [
    "calls_data[:5]"
   ]
  },
  {
   "cell_type": "code",
   "execution_count": 7,
   "metadata": {},
   "outputs": [
    {
     "name": "stdout",
     "output_type": "stream",
     "text": [
      "<class 'pandas.core.frame.DataFrame'>\n",
      "RangeIndex: 202607 entries, 0 to 202606\n",
      "Data columns (total 4 columns):\n",
      " #   Column     Non-Null Count   Dtype  \n",
      "---  ------     --------------   -----  \n",
      " 0   id         202607 non-null  object \n",
      " 1   call_date  202607 non-null  object \n",
      " 2   duration   202607 non-null  float64\n",
      " 3   user_id    202607 non-null  int64  \n",
      "dtypes: float64(1), int64(1), object(2)\n",
      "memory usage: 6.2+ MB\n"
     ]
    }
   ],
   "source": [
    "calls_data.info()"
   ]
  },
  {
   "cell_type": "markdown",
   "metadata": {},
   "source": [
    "Мы сохранили в переменной `calls_data` информацию о звонках. В нашей таблице 4 столбца, 3 типа данных, пропусков данных нет. Также нет общего количества звонков по каждому user_id, мы обязательно сделаем подсчёты позже. "
   ]
  },
  {
   "cell_type": "code",
   "execution_count": 8,
   "metadata": {},
   "outputs": [],
   "source": [
    "try:\n",
    "    internet_data = pd.read_csv('/datasets/internet.csv', index_col=0)\n",
    "except:\n",
    "    internet_data = pd.read_csv('/Users/irina/Documents/praktikum/csv/internet.csv', index_col=0)"
   ]
  },
  {
   "cell_type": "code",
   "execution_count": 9,
   "metadata": {},
   "outputs": [
    {
     "data": {
      "text/html": [
       "<div>\n",
       "<style scoped>\n",
       "    .dataframe tbody tr th:only-of-type {\n",
       "        vertical-align: middle;\n",
       "    }\n",
       "\n",
       "    .dataframe tbody tr th {\n",
       "        vertical-align: top;\n",
       "    }\n",
       "\n",
       "    .dataframe thead th {\n",
       "        text-align: right;\n",
       "    }\n",
       "</style>\n",
       "<table border=\"1\" class=\"dataframe\">\n",
       "  <thead>\n",
       "    <tr style=\"text-align: right;\">\n",
       "      <th></th>\n",
       "      <th>id</th>\n",
       "      <th>mb_used</th>\n",
       "      <th>session_date</th>\n",
       "      <th>user_id</th>\n",
       "    </tr>\n",
       "  </thead>\n",
       "  <tbody>\n",
       "    <tr>\n",
       "      <th>0</th>\n",
       "      <td>1000_0</td>\n",
       "      <td>112.95</td>\n",
       "      <td>2018-11-25</td>\n",
       "      <td>1000</td>\n",
       "    </tr>\n",
       "    <tr>\n",
       "      <th>1</th>\n",
       "      <td>1000_1</td>\n",
       "      <td>1052.81</td>\n",
       "      <td>2018-09-07</td>\n",
       "      <td>1000</td>\n",
       "    </tr>\n",
       "    <tr>\n",
       "      <th>2</th>\n",
       "      <td>1000_2</td>\n",
       "      <td>1197.26</td>\n",
       "      <td>2018-06-25</td>\n",
       "      <td>1000</td>\n",
       "    </tr>\n",
       "    <tr>\n",
       "      <th>3</th>\n",
       "      <td>1000_3</td>\n",
       "      <td>550.27</td>\n",
       "      <td>2018-08-22</td>\n",
       "      <td>1000</td>\n",
       "    </tr>\n",
       "    <tr>\n",
       "      <th>4</th>\n",
       "      <td>1000_4</td>\n",
       "      <td>302.56</td>\n",
       "      <td>2018-09-24</td>\n",
       "      <td>1000</td>\n",
       "    </tr>\n",
       "  </tbody>\n",
       "</table>\n",
       "</div>"
      ],
      "text/plain": [
       "       id  mb_used session_date  user_id\n",
       "0  1000_0   112.95   2018-11-25     1000\n",
       "1  1000_1  1052.81   2018-09-07     1000\n",
       "2  1000_2  1197.26   2018-06-25     1000\n",
       "3  1000_3   550.27   2018-08-22     1000\n",
       "4  1000_4   302.56   2018-09-24     1000"
      ]
     },
     "execution_count": 9,
     "metadata": {},
     "output_type": "execute_result"
    }
   ],
   "source": [
    "internet_data[:5]"
   ]
  },
  {
   "cell_type": "code",
   "execution_count": 10,
   "metadata": {},
   "outputs": [
    {
     "name": "stdout",
     "output_type": "stream",
     "text": [
      "<class 'pandas.core.frame.DataFrame'>\n",
      "Int64Index: 149396 entries, 0 to 149395\n",
      "Data columns (total 4 columns):\n",
      " #   Column        Non-Null Count   Dtype  \n",
      "---  ------        --------------   -----  \n",
      " 0   id            149396 non-null  object \n",
      " 1   mb_used       149396 non-null  float64\n",
      " 2   session_date  149396 non-null  object \n",
      " 3   user_id       149396 non-null  int64  \n",
      "dtypes: float64(1), int64(1), object(2)\n",
      "memory usage: 5.7+ MB\n"
     ]
    }
   ],
   "source": [
    "internet_data.info()"
   ]
  },
  {
   "cell_type": "markdown",
   "metadata": {},
   "source": [
    "Мы сохранили в переменной `internet_data` информацию об интернет-сессиях. В нашей таблице 5 столбцов, 3 типа данных, пропусков данных нет. Есть один столбец Unnamed: 0, позже мы изменим его название на более удобное для работы. "
   ]
  },
  {
   "cell_type": "code",
   "execution_count": 11,
   "metadata": {},
   "outputs": [],
   "source": [
    "try:\n",
    "    messages_data = pd.read_csv('/datasets/messages.csv')\n",
    "except:\n",
    "    messages_data = pd.read_csv('/Users/irina/Documents/praktikum/csv/messages.csv')"
   ]
  },
  {
   "cell_type": "code",
   "execution_count": 12,
   "metadata": {},
   "outputs": [
    {
     "data": {
      "text/html": [
       "<div>\n",
       "<style scoped>\n",
       "    .dataframe tbody tr th:only-of-type {\n",
       "        vertical-align: middle;\n",
       "    }\n",
       "\n",
       "    .dataframe tbody tr th {\n",
       "        vertical-align: top;\n",
       "    }\n",
       "\n",
       "    .dataframe thead th {\n",
       "        text-align: right;\n",
       "    }\n",
       "</style>\n",
       "<table border=\"1\" class=\"dataframe\">\n",
       "  <thead>\n",
       "    <tr style=\"text-align: right;\">\n",
       "      <th></th>\n",
       "      <th>id</th>\n",
       "      <th>message_date</th>\n",
       "      <th>user_id</th>\n",
       "    </tr>\n",
       "  </thead>\n",
       "  <tbody>\n",
       "    <tr>\n",
       "      <th>0</th>\n",
       "      <td>1000_0</td>\n",
       "      <td>2018-06-27</td>\n",
       "      <td>1000</td>\n",
       "    </tr>\n",
       "    <tr>\n",
       "      <th>1</th>\n",
       "      <td>1000_1</td>\n",
       "      <td>2018-10-08</td>\n",
       "      <td>1000</td>\n",
       "    </tr>\n",
       "    <tr>\n",
       "      <th>2</th>\n",
       "      <td>1000_2</td>\n",
       "      <td>2018-08-04</td>\n",
       "      <td>1000</td>\n",
       "    </tr>\n",
       "    <tr>\n",
       "      <th>3</th>\n",
       "      <td>1000_3</td>\n",
       "      <td>2018-06-16</td>\n",
       "      <td>1000</td>\n",
       "    </tr>\n",
       "    <tr>\n",
       "      <th>4</th>\n",
       "      <td>1000_4</td>\n",
       "      <td>2018-12-05</td>\n",
       "      <td>1000</td>\n",
       "    </tr>\n",
       "  </tbody>\n",
       "</table>\n",
       "</div>"
      ],
      "text/plain": [
       "       id message_date  user_id\n",
       "0  1000_0   2018-06-27     1000\n",
       "1  1000_1   2018-10-08     1000\n",
       "2  1000_2   2018-08-04     1000\n",
       "3  1000_3   2018-06-16     1000\n",
       "4  1000_4   2018-12-05     1000"
      ]
     },
     "execution_count": 12,
     "metadata": {},
     "output_type": "execute_result"
    }
   ],
   "source": [
    "messages_data[:5]"
   ]
  },
  {
   "cell_type": "code",
   "execution_count": 13,
   "metadata": {},
   "outputs": [
    {
     "name": "stdout",
     "output_type": "stream",
     "text": [
      "<class 'pandas.core.frame.DataFrame'>\n",
      "RangeIndex: 123036 entries, 0 to 123035\n",
      "Data columns (total 3 columns):\n",
      " #   Column        Non-Null Count   Dtype \n",
      "---  ------        --------------   ----- \n",
      " 0   id            123036 non-null  object\n",
      " 1   message_date  123036 non-null  object\n",
      " 2   user_id       123036 non-null  int64 \n",
      "dtypes: int64(1), object(2)\n",
      "memory usage: 2.8+ MB\n"
     ]
    }
   ],
   "source": [
    "messages_data.info()"
   ]
  },
  {
   "cell_type": "markdown",
   "metadata": {},
   "source": [
    "Мы сохранили в переменной `messages_data` информацию о сообщениях. В таблице 3 столбца, 2 типа данных, пропусков данных нет. Стоит отметить, что столбец user_id имеет тип данных int64. Также стоит отметить, что есть даты сообщений, число по каждому id, но нет их общего количества, позже мы посчитаем количество сообщений по каждому user_id по дням. "
   ]
  },
  {
   "cell_type": "code",
   "execution_count": 14,
   "metadata": {},
   "outputs": [],
   "source": [
    "try:\n",
    "    tariffs_data = pd.read_csv('/datasets/tariffs.csv')\n",
    "except:\n",
    "    tariffs_data = pd.read_csv('/Users/irina/Documents/praktikum/csv/tariffs.csv')"
   ]
  },
  {
   "cell_type": "code",
   "execution_count": 15,
   "metadata": {},
   "outputs": [
    {
     "data": {
      "text/html": [
       "<div>\n",
       "<style scoped>\n",
       "    .dataframe tbody tr th:only-of-type {\n",
       "        vertical-align: middle;\n",
       "    }\n",
       "\n",
       "    .dataframe tbody tr th {\n",
       "        vertical-align: top;\n",
       "    }\n",
       "\n",
       "    .dataframe thead th {\n",
       "        text-align: right;\n",
       "    }\n",
       "</style>\n",
       "<table border=\"1\" class=\"dataframe\">\n",
       "  <thead>\n",
       "    <tr style=\"text-align: right;\">\n",
       "      <th></th>\n",
       "      <th>messages_included</th>\n",
       "      <th>mb_per_month_included</th>\n",
       "      <th>minutes_included</th>\n",
       "      <th>rub_monthly_fee</th>\n",
       "      <th>rub_per_gb</th>\n",
       "      <th>rub_per_message</th>\n",
       "      <th>rub_per_minute</th>\n",
       "      <th>tariff_name</th>\n",
       "    </tr>\n",
       "  </thead>\n",
       "  <tbody>\n",
       "    <tr>\n",
       "      <th>0</th>\n",
       "      <td>50</td>\n",
       "      <td>15360</td>\n",
       "      <td>500</td>\n",
       "      <td>550</td>\n",
       "      <td>200</td>\n",
       "      <td>3</td>\n",
       "      <td>3</td>\n",
       "      <td>smart</td>\n",
       "    </tr>\n",
       "    <tr>\n",
       "      <th>1</th>\n",
       "      <td>1000</td>\n",
       "      <td>30720</td>\n",
       "      <td>3000</td>\n",
       "      <td>1950</td>\n",
       "      <td>150</td>\n",
       "      <td>1</td>\n",
       "      <td>1</td>\n",
       "      <td>ultra</td>\n",
       "    </tr>\n",
       "  </tbody>\n",
       "</table>\n",
       "</div>"
      ],
      "text/plain": [
       "   messages_included  mb_per_month_included  minutes_included  \\\n",
       "0                 50                  15360               500   \n",
       "1               1000                  30720              3000   \n",
       "\n",
       "   rub_monthly_fee  rub_per_gb  rub_per_message  rub_per_minute tariff_name  \n",
       "0              550         200                3               3       smart  \n",
       "1             1950         150                1               1       ultra  "
      ]
     },
     "execution_count": 15,
     "metadata": {},
     "output_type": "execute_result"
    }
   ],
   "source": [
    "tariffs_data[:5]"
   ]
  },
  {
   "cell_type": "code",
   "execution_count": 16,
   "metadata": {},
   "outputs": [
    {
     "name": "stdout",
     "output_type": "stream",
     "text": [
      "<class 'pandas.core.frame.DataFrame'>\n",
      "RangeIndex: 2 entries, 0 to 1\n",
      "Data columns (total 8 columns):\n",
      " #   Column                 Non-Null Count  Dtype \n",
      "---  ------                 --------------  ----- \n",
      " 0   messages_included      2 non-null      int64 \n",
      " 1   mb_per_month_included  2 non-null      int64 \n",
      " 2   minutes_included       2 non-null      int64 \n",
      " 3   rub_monthly_fee        2 non-null      int64 \n",
      " 4   rub_per_gb             2 non-null      int64 \n",
      " 5   rub_per_message        2 non-null      int64 \n",
      " 6   rub_per_minute         2 non-null      int64 \n",
      " 7   tariff_name            2 non-null      object\n",
      "dtypes: int64(7), object(1)\n",
      "memory usage: 256.0+ bytes\n"
     ]
    }
   ],
   "source": [
    "tariffs_data.info()"
   ]
  },
  {
   "cell_type": "markdown",
   "metadata": {},
   "source": [
    "Мы сохранили в переменной `tariffs_data` информацию о тарифах. В таблице 8 столбцов по два значения в каждом, пропусков нет. Позже мы подробнее ознакомимся с этими данными. "
   ]
  },
  {
   "cell_type": "markdown",
   "metadata": {},
   "source": [
    "**Вывод**\n",
    "\n",
    "Мы загрузили необходимые для работы библиотеки и файлы. Данные датасетов в большинстве своё готовы для работы, есть небольшие детали, по типу пропусков данных, также мы заменим типы данных в некоторых столбцах (например, есть столбцы, в которых содержится дата, такие столбцы нужно привести к соответствующему виду) и округлим необходимые значения. "
   ]
  },
  {
   "cell_type": "markdown",
   "metadata": {},
   "source": [
    "## Предобработка данных"
   ]
  },
  {
   "cell_type": "markdown",
   "metadata": {},
   "source": [
    "### Замена пропущенных значений"
   ]
  },
  {
   "cell_type": "markdown",
   "metadata": {},
   "source": [
    "Исходя из данных в предыдущем пункте нам нужно обработать пропуски в столбце churn_date. В описании данных есть объяснение на этот счёт - это столбец с датой прекращения пользования тарифом (если значение пропущено, то тариф ещё действовал на момент выгрузки данных). Поэтому заменять пропущенные значения мы не будем, оставим данные как есть. "
   ]
  },
  {
   "cell_type": "markdown",
   "metadata": {},
   "source": [
    "### Замена типов данных и округление "
   ]
  },
  {
   "cell_type": "markdown",
   "metadata": {},
   "source": [
    "Заменим типы данных на более подходящие для удобства расчетов. Также округлим до целых значений значения минут разговора. Важное уточнение - округление всегда будет происходить в большую сторону, даже если он длился всего 1 секунду, будет засчитан как 1 минута."
   ]
  },
  {
   "cell_type": "markdown",
   "metadata": {},
   "source": [
    "В наших таблицах есть столбцы с датами: reg_date, churn_date, call_date, session_date, message_date. Сразу риведем данные в этих столбцах к соответствующему типу datetime64:"
   ]
  },
  {
   "cell_type": "code",
   "execution_count": 17,
   "metadata": {},
   "outputs": [],
   "source": [
    "users_data['reg_date'] = pd.to_datetime(users_data['reg_date'], format='%Y-%m-%d')\n",
    "users_data['churn_date'] = pd.to_datetime(users_data['churn_date'], format='%Y-%m-%d')\n",
    "calls_data['call_date'] = pd.to_datetime(calls_data['call_date'], format='%Y-%m-%d')\n",
    "internet_data['session_date'] = pd.to_datetime(internet_data['session_date'], format='%Y-%m-%d')\n",
    "messages_data['message_date'] = pd.to_datetime(messages_data['message_date'], format='%Y-%m-%d')"
   ]
  },
  {
   "cell_type": "markdown",
   "metadata": {},
   "source": [
    "**Теперь посмотрим по порядку по каждому датасету, какие ещё есть особенности. Начнем с users_data:**"
   ]
  },
  {
   "cell_type": "code",
   "execution_count": 18,
   "metadata": {},
   "outputs": [
    {
     "data": {
      "text/html": [
       "<div>\n",
       "<style scoped>\n",
       "    .dataframe tbody tr th:only-of-type {\n",
       "        vertical-align: middle;\n",
       "    }\n",
       "\n",
       "    .dataframe tbody tr th {\n",
       "        vertical-align: top;\n",
       "    }\n",
       "\n",
       "    .dataframe thead th {\n",
       "        text-align: right;\n",
       "    }\n",
       "</style>\n",
       "<table border=\"1\" class=\"dataframe\">\n",
       "  <thead>\n",
       "    <tr style=\"text-align: right;\">\n",
       "      <th></th>\n",
       "      <th>user_id</th>\n",
       "      <th>age</th>\n",
       "    </tr>\n",
       "  </thead>\n",
       "  <tbody>\n",
       "    <tr>\n",
       "      <th>count</th>\n",
       "      <td>500.000000</td>\n",
       "      <td>500.00000</td>\n",
       "    </tr>\n",
       "    <tr>\n",
       "      <th>mean</th>\n",
       "      <td>1249.500000</td>\n",
       "      <td>46.58800</td>\n",
       "    </tr>\n",
       "    <tr>\n",
       "      <th>std</th>\n",
       "      <td>144.481833</td>\n",
       "      <td>16.66763</td>\n",
       "    </tr>\n",
       "    <tr>\n",
       "      <th>min</th>\n",
       "      <td>1000.000000</td>\n",
       "      <td>18.00000</td>\n",
       "    </tr>\n",
       "    <tr>\n",
       "      <th>25%</th>\n",
       "      <td>1124.750000</td>\n",
       "      <td>32.00000</td>\n",
       "    </tr>\n",
       "    <tr>\n",
       "      <th>50%</th>\n",
       "      <td>1249.500000</td>\n",
       "      <td>46.00000</td>\n",
       "    </tr>\n",
       "    <tr>\n",
       "      <th>75%</th>\n",
       "      <td>1374.250000</td>\n",
       "      <td>62.00000</td>\n",
       "    </tr>\n",
       "    <tr>\n",
       "      <th>max</th>\n",
       "      <td>1499.000000</td>\n",
       "      <td>75.00000</td>\n",
       "    </tr>\n",
       "  </tbody>\n",
       "</table>\n",
       "</div>"
      ],
      "text/plain": [
       "           user_id        age\n",
       "count   500.000000  500.00000\n",
       "mean   1249.500000   46.58800\n",
       "std     144.481833   16.66763\n",
       "min    1000.000000   18.00000\n",
       "25%    1124.750000   32.00000\n",
       "50%    1249.500000   46.00000\n",
       "75%    1374.250000   62.00000\n",
       "max    1499.000000   75.00000"
      ]
     },
     "execution_count": 18,
     "metadata": {},
     "output_type": "execute_result"
    }
   ],
   "source": [
    "users_data.describe()"
   ]
  },
  {
   "cell_type": "markdown",
   "metadata": {},
   "source": [
    "У нас всего 2 столбца с численными данными. Никаких особенности в данных нет, средний возраст пользователя составляет 47 лет."
   ]
  },
  {
   "cell_type": "markdown",
   "metadata": {},
   "source": [
    "**Теперь посмотрим таблицу calls_data:**"
   ]
  },
  {
   "cell_type": "code",
   "execution_count": 19,
   "metadata": {
    "scrolled": true
   },
   "outputs": [
    {
     "data": {
      "text/html": [
       "<div>\n",
       "<style scoped>\n",
       "    .dataframe tbody tr th:only-of-type {\n",
       "        vertical-align: middle;\n",
       "    }\n",
       "\n",
       "    .dataframe tbody tr th {\n",
       "        vertical-align: top;\n",
       "    }\n",
       "\n",
       "    .dataframe thead th {\n",
       "        text-align: right;\n",
       "    }\n",
       "</style>\n",
       "<table border=\"1\" class=\"dataframe\">\n",
       "  <thead>\n",
       "    <tr style=\"text-align: right;\">\n",
       "      <th></th>\n",
       "      <th>duration</th>\n",
       "      <th>user_id</th>\n",
       "    </tr>\n",
       "  </thead>\n",
       "  <tbody>\n",
       "    <tr>\n",
       "      <th>count</th>\n",
       "      <td>202607.000000</td>\n",
       "      <td>202607.000000</td>\n",
       "    </tr>\n",
       "    <tr>\n",
       "      <th>mean</th>\n",
       "      <td>6.755887</td>\n",
       "      <td>1253.940619</td>\n",
       "    </tr>\n",
       "    <tr>\n",
       "      <th>std</th>\n",
       "      <td>5.843365</td>\n",
       "      <td>144.722751</td>\n",
       "    </tr>\n",
       "    <tr>\n",
       "      <th>min</th>\n",
       "      <td>0.000000</td>\n",
       "      <td>1000.000000</td>\n",
       "    </tr>\n",
       "    <tr>\n",
       "      <th>25%</th>\n",
       "      <td>1.300000</td>\n",
       "      <td>1126.000000</td>\n",
       "    </tr>\n",
       "    <tr>\n",
       "      <th>50%</th>\n",
       "      <td>6.000000</td>\n",
       "      <td>1260.000000</td>\n",
       "    </tr>\n",
       "    <tr>\n",
       "      <th>75%</th>\n",
       "      <td>10.700000</td>\n",
       "      <td>1379.000000</td>\n",
       "    </tr>\n",
       "    <tr>\n",
       "      <th>max</th>\n",
       "      <td>38.000000</td>\n",
       "      <td>1499.000000</td>\n",
       "    </tr>\n",
       "  </tbody>\n",
       "</table>\n",
       "</div>"
      ],
      "text/plain": [
       "            duration        user_id\n",
       "count  202607.000000  202607.000000\n",
       "mean        6.755887    1253.940619\n",
       "std         5.843365     144.722751\n",
       "min         0.000000    1000.000000\n",
       "25%         1.300000    1126.000000\n",
       "50%         6.000000    1260.000000\n",
       "75%        10.700000    1379.000000\n",
       "max        38.000000    1499.000000"
      ]
     },
     "execution_count": 19,
     "metadata": {},
     "output_type": "execute_result"
    }
   ],
   "source": [
    "calls_data.describe()"
   ]
  },
  {
   "cell_type": "markdown",
   "metadata": {},
   "source": [
    "Никаких особенностей в столбце с длительностью разговора не наблюдается, все данные в пределах нормального распределения. Нужно поработать с типом данных - округлить все вещественные числа в столбце duration до целых в большую сторону, согласно политике компании. Посмотрим на данные в столбце в целом - есть и нулевые значения, их мы трогать не будем, т.к. это пропущенные звонки. Но, например, время длительности звонка в 5.18 нам нужно округлить до 6 минут, т.к. даже 1 секунда каждый минуты, будет засчитана как 1 минута. Так поступим со всеми ненулевыми значениями, и после переведем тип данных в формат целочисленных."
   ]
  },
  {
   "cell_type": "code",
   "execution_count": 20,
   "metadata": {},
   "outputs": [
    {
     "data": {
      "text/html": [
       "<div>\n",
       "<style scoped>\n",
       "    .dataframe tbody tr th:only-of-type {\n",
       "        vertical-align: middle;\n",
       "    }\n",
       "\n",
       "    .dataframe tbody tr th {\n",
       "        vertical-align: top;\n",
       "    }\n",
       "\n",
       "    .dataframe thead th {\n",
       "        text-align: right;\n",
       "    }\n",
       "</style>\n",
       "<table border=\"1\" class=\"dataframe\">\n",
       "  <thead>\n",
       "    <tr style=\"text-align: right;\">\n",
       "      <th></th>\n",
       "      <th>duration</th>\n",
       "    </tr>\n",
       "  </thead>\n",
       "  <tbody>\n",
       "    <tr>\n",
       "      <th>0</th>\n",
       "      <td>0.00</td>\n",
       "    </tr>\n",
       "    <tr>\n",
       "      <th>1</th>\n",
       "      <td>0.00</td>\n",
       "    </tr>\n",
       "    <tr>\n",
       "      <th>2</th>\n",
       "      <td>2.85</td>\n",
       "    </tr>\n",
       "    <tr>\n",
       "      <th>3</th>\n",
       "      <td>13.80</td>\n",
       "    </tr>\n",
       "    <tr>\n",
       "      <th>4</th>\n",
       "      <td>5.18</td>\n",
       "    </tr>\n",
       "    <tr>\n",
       "      <th>...</th>\n",
       "      <td>...</td>\n",
       "    </tr>\n",
       "    <tr>\n",
       "      <th>202602</th>\n",
       "      <td>0.76</td>\n",
       "    </tr>\n",
       "    <tr>\n",
       "      <th>202603</th>\n",
       "      <td>18.83</td>\n",
       "    </tr>\n",
       "    <tr>\n",
       "      <th>202604</th>\n",
       "      <td>10.81</td>\n",
       "    </tr>\n",
       "    <tr>\n",
       "      <th>202605</th>\n",
       "      <td>4.27</td>\n",
       "    </tr>\n",
       "    <tr>\n",
       "      <th>202606</th>\n",
       "      <td>19.62</td>\n",
       "    </tr>\n",
       "  </tbody>\n",
       "</table>\n",
       "<p>202607 rows × 1 columns</p>\n",
       "</div>"
      ],
      "text/plain": [
       "        duration\n",
       "0           0.00\n",
       "1           0.00\n",
       "2           2.85\n",
       "3          13.80\n",
       "4           5.18\n",
       "...          ...\n",
       "202602      0.76\n",
       "202603     18.83\n",
       "202604     10.81\n",
       "202605      4.27\n",
       "202606     19.62\n",
       "\n",
       "[202607 rows x 1 columns]"
      ]
     },
     "execution_count": 20,
     "metadata": {},
     "output_type": "execute_result"
    }
   ],
   "source": [
    "calls_data[['duration']]"
   ]
  },
  {
   "cell_type": "code",
   "execution_count": 21,
   "metadata": {
    "scrolled": false
   },
   "outputs": [],
   "source": [
    "calls_data['duration'] = np.ceil(calls_data['duration']).astype('int')"
   ]
  },
  {
   "cell_type": "code",
   "execution_count": 22,
   "metadata": {},
   "outputs": [
    {
     "data": {
      "text/html": [
       "<div>\n",
       "<style scoped>\n",
       "    .dataframe tbody tr th:only-of-type {\n",
       "        vertical-align: middle;\n",
       "    }\n",
       "\n",
       "    .dataframe tbody tr th {\n",
       "        vertical-align: top;\n",
       "    }\n",
       "\n",
       "    .dataframe thead th {\n",
       "        text-align: right;\n",
       "    }\n",
       "</style>\n",
       "<table border=\"1\" class=\"dataframe\">\n",
       "  <thead>\n",
       "    <tr style=\"text-align: right;\">\n",
       "      <th></th>\n",
       "      <th>duration</th>\n",
       "    </tr>\n",
       "  </thead>\n",
       "  <tbody>\n",
       "    <tr>\n",
       "      <th>0</th>\n",
       "      <td>0</td>\n",
       "    </tr>\n",
       "    <tr>\n",
       "      <th>1</th>\n",
       "      <td>0</td>\n",
       "    </tr>\n",
       "    <tr>\n",
       "      <th>2</th>\n",
       "      <td>3</td>\n",
       "    </tr>\n",
       "    <tr>\n",
       "      <th>3</th>\n",
       "      <td>14</td>\n",
       "    </tr>\n",
       "    <tr>\n",
       "      <th>4</th>\n",
       "      <td>6</td>\n",
       "    </tr>\n",
       "    <tr>\n",
       "      <th>5</th>\n",
       "      <td>0</td>\n",
       "    </tr>\n",
       "    <tr>\n",
       "      <th>6</th>\n",
       "      <td>0</td>\n",
       "    </tr>\n",
       "    <tr>\n",
       "      <th>7</th>\n",
       "      <td>19</td>\n",
       "    </tr>\n",
       "    <tr>\n",
       "      <th>8</th>\n",
       "      <td>19</td>\n",
       "    </tr>\n",
       "    <tr>\n",
       "      <th>9</th>\n",
       "      <td>0</td>\n",
       "    </tr>\n",
       "  </tbody>\n",
       "</table>\n",
       "</div>"
      ],
      "text/plain": [
       "   duration\n",
       "0         0\n",
       "1         0\n",
       "2         3\n",
       "3        14\n",
       "4         6\n",
       "5         0\n",
       "6         0\n",
       "7        19\n",
       "8        19\n",
       "9         0"
      ]
     },
     "execution_count": 22,
     "metadata": {},
     "output_type": "execute_result"
    }
   ],
   "source": [
    "calls_data[['duration']][:10]"
   ]
  },
  {
   "cell_type": "code",
   "execution_count": 23,
   "metadata": {},
   "outputs": [
    {
     "name": "stdout",
     "output_type": "stream",
     "text": [
      "<class 'pandas.core.frame.DataFrame'>\n",
      "RangeIndex: 202607 entries, 0 to 202606\n",
      "Data columns (total 4 columns):\n",
      " #   Column     Non-Null Count   Dtype         \n",
      "---  ------     --------------   -----         \n",
      " 0   id         202607 non-null  object        \n",
      " 1   call_date  202607 non-null  datetime64[ns]\n",
      " 2   duration   202607 non-null  int64         \n",
      " 3   user_id    202607 non-null  int64         \n",
      "dtypes: datetime64[ns](1), int64(2), object(1)\n",
      "memory usage: 6.2+ MB\n"
     ]
    }
   ],
   "source": [
    "calls_data.info()"
   ]
  },
  {
   "cell_type": "markdown",
   "metadata": {},
   "source": [
    "Мы преобразовали данные в этом датафрейме к подходящим для вычислений типам. "
   ]
  },
  {
   "cell_type": "markdown",
   "metadata": {},
   "source": [
    "**Посмотрим таблицу internet_data:**"
   ]
  },
  {
   "cell_type": "code",
   "execution_count": 24,
   "metadata": {},
   "outputs": [
    {
     "data": {
      "text/html": [
       "<div>\n",
       "<style scoped>\n",
       "    .dataframe tbody tr th:only-of-type {\n",
       "        vertical-align: middle;\n",
       "    }\n",
       "\n",
       "    .dataframe tbody tr th {\n",
       "        vertical-align: top;\n",
       "    }\n",
       "\n",
       "    .dataframe thead th {\n",
       "        text-align: right;\n",
       "    }\n",
       "</style>\n",
       "<table border=\"1\" class=\"dataframe\">\n",
       "  <thead>\n",
       "    <tr style=\"text-align: right;\">\n",
       "      <th></th>\n",
       "      <th>id</th>\n",
       "      <th>mb_used</th>\n",
       "      <th>session_date</th>\n",
       "      <th>user_id</th>\n",
       "    </tr>\n",
       "  </thead>\n",
       "  <tbody>\n",
       "    <tr>\n",
       "      <th>0</th>\n",
       "      <td>1000_0</td>\n",
       "      <td>112.95</td>\n",
       "      <td>2018-11-25</td>\n",
       "      <td>1000</td>\n",
       "    </tr>\n",
       "    <tr>\n",
       "      <th>1</th>\n",
       "      <td>1000_1</td>\n",
       "      <td>1052.81</td>\n",
       "      <td>2018-09-07</td>\n",
       "      <td>1000</td>\n",
       "    </tr>\n",
       "    <tr>\n",
       "      <th>2</th>\n",
       "      <td>1000_2</td>\n",
       "      <td>1197.26</td>\n",
       "      <td>2018-06-25</td>\n",
       "      <td>1000</td>\n",
       "    </tr>\n",
       "    <tr>\n",
       "      <th>3</th>\n",
       "      <td>1000_3</td>\n",
       "      <td>550.27</td>\n",
       "      <td>2018-08-22</td>\n",
       "      <td>1000</td>\n",
       "    </tr>\n",
       "    <tr>\n",
       "      <th>4</th>\n",
       "      <td>1000_4</td>\n",
       "      <td>302.56</td>\n",
       "      <td>2018-09-24</td>\n",
       "      <td>1000</td>\n",
       "    </tr>\n",
       "    <tr>\n",
       "      <th>5</th>\n",
       "      <td>1000_5</td>\n",
       "      <td>399.97</td>\n",
       "      <td>2018-10-02</td>\n",
       "      <td>1000</td>\n",
       "    </tr>\n",
       "    <tr>\n",
       "      <th>6</th>\n",
       "      <td>1000_6</td>\n",
       "      <td>540.08</td>\n",
       "      <td>2018-09-07</td>\n",
       "      <td>1000</td>\n",
       "    </tr>\n",
       "    <tr>\n",
       "      <th>7</th>\n",
       "      <td>1000_7</td>\n",
       "      <td>415.70</td>\n",
       "      <td>2018-07-11</td>\n",
       "      <td>1000</td>\n",
       "    </tr>\n",
       "    <tr>\n",
       "      <th>8</th>\n",
       "      <td>1000_8</td>\n",
       "      <td>505.40</td>\n",
       "      <td>2018-10-08</td>\n",
       "      <td>1000</td>\n",
       "    </tr>\n",
       "    <tr>\n",
       "      <th>9</th>\n",
       "      <td>1000_9</td>\n",
       "      <td>345.54</td>\n",
       "      <td>2018-09-03</td>\n",
       "      <td>1000</td>\n",
       "    </tr>\n",
       "  </tbody>\n",
       "</table>\n",
       "</div>"
      ],
      "text/plain": [
       "       id  mb_used session_date  user_id\n",
       "0  1000_0   112.95   2018-11-25     1000\n",
       "1  1000_1  1052.81   2018-09-07     1000\n",
       "2  1000_2  1197.26   2018-06-25     1000\n",
       "3  1000_3   550.27   2018-08-22     1000\n",
       "4  1000_4   302.56   2018-09-24     1000\n",
       "5  1000_5   399.97   2018-10-02     1000\n",
       "6  1000_6   540.08   2018-09-07     1000\n",
       "7  1000_7   415.70   2018-07-11     1000\n",
       "8  1000_8   505.40   2018-10-08     1000\n",
       "9  1000_9   345.54   2018-09-03     1000"
      ]
     },
     "execution_count": 24,
     "metadata": {},
     "output_type": "execute_result"
    }
   ],
   "source": [
    "internet_data[:10]"
   ]
  },
  {
   "cell_type": "code",
   "execution_count": 25,
   "metadata": {},
   "outputs": [
    {
     "name": "stdout",
     "output_type": "stream",
     "text": [
      "<class 'pandas.core.frame.DataFrame'>\n",
      "Int64Index: 149396 entries, 0 to 149395\n",
      "Data columns (total 4 columns):\n",
      " #   Column        Non-Null Count   Dtype         \n",
      "---  ------        --------------   -----         \n",
      " 0   id            149396 non-null  object        \n",
      " 1   mb_used       149396 non-null  float64       \n",
      " 2   session_date  149396 non-null  datetime64[ns]\n",
      " 3   user_id       149396 non-null  int64         \n",
      "dtypes: datetime64[ns](1), float64(1), int64(1), object(1)\n",
      "memory usage: 5.7+ MB\n"
     ]
    }
   ],
   "source": [
    "internet_data.info()"
   ]
  },
  {
   "cell_type": "code",
   "execution_count": 26,
   "metadata": {},
   "outputs": [
    {
     "data": {
      "text/html": [
       "<div>\n",
       "<style scoped>\n",
       "    .dataframe tbody tr th:only-of-type {\n",
       "        vertical-align: middle;\n",
       "    }\n",
       "\n",
       "    .dataframe tbody tr th {\n",
       "        vertical-align: top;\n",
       "    }\n",
       "\n",
       "    .dataframe thead th {\n",
       "        text-align: right;\n",
       "    }\n",
       "</style>\n",
       "<table border=\"1\" class=\"dataframe\">\n",
       "  <thead>\n",
       "    <tr style=\"text-align: right;\">\n",
       "      <th></th>\n",
       "      <th>mb_used</th>\n",
       "      <th>user_id</th>\n",
       "    </tr>\n",
       "  </thead>\n",
       "  <tbody>\n",
       "    <tr>\n",
       "      <th>count</th>\n",
       "      <td>149396.000000</td>\n",
       "      <td>149396.000000</td>\n",
       "    </tr>\n",
       "    <tr>\n",
       "      <th>mean</th>\n",
       "      <td>370.192426</td>\n",
       "      <td>1252.099842</td>\n",
       "    </tr>\n",
       "    <tr>\n",
       "      <th>std</th>\n",
       "      <td>278.300951</td>\n",
       "      <td>144.050823</td>\n",
       "    </tr>\n",
       "    <tr>\n",
       "      <th>min</th>\n",
       "      <td>0.000000</td>\n",
       "      <td>1000.000000</td>\n",
       "    </tr>\n",
       "    <tr>\n",
       "      <th>25%</th>\n",
       "      <td>138.187500</td>\n",
       "      <td>1130.000000</td>\n",
       "    </tr>\n",
       "    <tr>\n",
       "      <th>50%</th>\n",
       "      <td>348.015000</td>\n",
       "      <td>1251.000000</td>\n",
       "    </tr>\n",
       "    <tr>\n",
       "      <th>75%</th>\n",
       "      <td>559.552500</td>\n",
       "      <td>1380.000000</td>\n",
       "    </tr>\n",
       "    <tr>\n",
       "      <th>max</th>\n",
       "      <td>1724.830000</td>\n",
       "      <td>1499.000000</td>\n",
       "    </tr>\n",
       "  </tbody>\n",
       "</table>\n",
       "</div>"
      ],
      "text/plain": [
       "             mb_used        user_id\n",
       "count  149396.000000  149396.000000\n",
       "mean      370.192426    1252.099842\n",
       "std       278.300951     144.050823\n",
       "min         0.000000    1000.000000\n",
       "25%       138.187500    1130.000000\n",
       "50%       348.015000    1251.000000\n",
       "75%       559.552500    1380.000000\n",
       "max      1724.830000    1499.000000"
      ]
     },
     "execution_count": 26,
     "metadata": {},
     "output_type": "execute_result"
    }
   ],
   "source": [
    "internet_data.describe()"
   ]
  },
  {
   "cell_type": "markdown",
   "metadata": {},
   "source": [
    "Также у нас есть столбец Unnamed: 0 в этом датасете, который судя по всему дублирует индексы строк. В загрузке библиотек мы с помощью index_col=0 убрали его, т.к. для расчетов он нам не понадобится"
   ]
  },
  {
   "cell_type": "code",
   "execution_count": 27,
   "metadata": {},
   "outputs": [
    {
     "name": "stdout",
     "output_type": "stream",
     "text": [
      "<class 'pandas.core.frame.DataFrame'>\n",
      "Int64Index: 149396 entries, 0 to 149395\n",
      "Data columns (total 4 columns):\n",
      " #   Column        Non-Null Count   Dtype         \n",
      "---  ------        --------------   -----         \n",
      " 0   id            149396 non-null  object        \n",
      " 1   mb_used       149396 non-null  float64       \n",
      " 2   session_date  149396 non-null  datetime64[ns]\n",
      " 3   user_id       149396 non-null  int64         \n",
      "dtypes: datetime64[ns](1), float64(1), int64(1), object(1)\n",
      "memory usage: 5.7+ MB\n"
     ]
    }
   ],
   "source": [
    "internet_data.info()"
   ]
  },
  {
   "cell_type": "markdown",
   "metadata": {},
   "source": [
    "Теперь в нашей таблицы остались только данные, необходимые для дальнейшего анализа. Тип данных количества использованных мегабайт изменять не будем, чуть позже добавим дополнительный столбец с количеством гигабайт и там уже всё округлим. "
   ]
  },
  {
   "cell_type": "markdown",
   "metadata": {},
   "source": [
    "Можно На этом этап предобработки данных завершен, перейдём к расчетам и добавлении результатов таблицы. "
   ]
  },
  {
   "cell_type": "markdown",
   "metadata": {},
   "source": [
    "## Расчеты и добавление результатов"
   ]
  },
  {
   "cell_type": "markdown",
   "metadata": {},
   "source": [
    "### Расчёт, добавление и округление интернет-трафика из МБ в ГБ"
   ]
  },
  {
   "cell_type": "markdown",
   "metadata": {},
   "source": [
    "Мы знаем, что в одном гигабайте 1024 мегабайт. Разделим значения столбца mb_used на 1024 и сохраним результаты в новом столбце 'gb_used' "
   ]
  },
  {
   "cell_type": "code",
   "execution_count": 28,
   "metadata": {
    "scrolled": true
   },
   "outputs": [],
   "source": [
    "internet_data['gb_used'] = internet_data['mb_used'] / 1024"
   ]
  },
  {
   "cell_type": "code",
   "execution_count": 29,
   "metadata": {},
   "outputs": [
    {
     "data": {
      "text/html": [
       "<div>\n",
       "<style scoped>\n",
       "    .dataframe tbody tr th:only-of-type {\n",
       "        vertical-align: middle;\n",
       "    }\n",
       "\n",
       "    .dataframe tbody tr th {\n",
       "        vertical-align: top;\n",
       "    }\n",
       "\n",
       "    .dataframe thead th {\n",
       "        text-align: right;\n",
       "    }\n",
       "</style>\n",
       "<table border=\"1\" class=\"dataframe\">\n",
       "  <thead>\n",
       "    <tr style=\"text-align: right;\">\n",
       "      <th></th>\n",
       "      <th>gb_used</th>\n",
       "    </tr>\n",
       "  </thead>\n",
       "  <tbody>\n",
       "    <tr>\n",
       "      <th>0</th>\n",
       "      <td>0.110303</td>\n",
       "    </tr>\n",
       "    <tr>\n",
       "      <th>1</th>\n",
       "      <td>1.028135</td>\n",
       "    </tr>\n",
       "    <tr>\n",
       "      <th>2</th>\n",
       "      <td>1.169199</td>\n",
       "    </tr>\n",
       "    <tr>\n",
       "      <th>3</th>\n",
       "      <td>0.537373</td>\n",
       "    </tr>\n",
       "    <tr>\n",
       "      <th>4</th>\n",
       "      <td>0.295469</td>\n",
       "    </tr>\n",
       "    <tr>\n",
       "      <th>5</th>\n",
       "      <td>0.390596</td>\n",
       "    </tr>\n",
       "    <tr>\n",
       "      <th>6</th>\n",
       "      <td>0.527422</td>\n",
       "    </tr>\n",
       "    <tr>\n",
       "      <th>7</th>\n",
       "      <td>0.405957</td>\n",
       "    </tr>\n",
       "    <tr>\n",
       "      <th>8</th>\n",
       "      <td>0.493555</td>\n",
       "    </tr>\n",
       "    <tr>\n",
       "      <th>9</th>\n",
       "      <td>0.337441</td>\n",
       "    </tr>\n",
       "  </tbody>\n",
       "</table>\n",
       "</div>"
      ],
      "text/plain": [
       "    gb_used\n",
       "0  0.110303\n",
       "1  1.028135\n",
       "2  1.169199\n",
       "3  0.537373\n",
       "4  0.295469\n",
       "5  0.390596\n",
       "6  0.527422\n",
       "7  0.405957\n",
       "8  0.493555\n",
       "9  0.337441"
      ]
     },
     "execution_count": 29,
     "metadata": {},
     "output_type": "execute_result"
    }
   ],
   "source": [
    "internet_data[['gb_used']][:10]"
   ]
  },
  {
   "cell_type": "markdown",
   "metadata": {},
   "source": [
    "У нас получился столбец использованного трафика в гб и вещественных числах. Позже мы посмотрим, сколько у пользователя вышло трафика за месяц и округлим в большую сторону. "
   ]
  },
  {
   "cell_type": "code",
   "execution_count": 30,
   "metadata": {},
   "outputs": [
    {
     "data": {
      "text/html": [
       "<div>\n",
       "<style scoped>\n",
       "    .dataframe tbody tr th:only-of-type {\n",
       "        vertical-align: middle;\n",
       "    }\n",
       "\n",
       "    .dataframe tbody tr th {\n",
       "        vertical-align: top;\n",
       "    }\n",
       "\n",
       "    .dataframe thead th {\n",
       "        text-align: right;\n",
       "    }\n",
       "</style>\n",
       "<table border=\"1\" class=\"dataframe\">\n",
       "  <thead>\n",
       "    <tr style=\"text-align: right;\">\n",
       "      <th></th>\n",
       "      <th>gb_used</th>\n",
       "    </tr>\n",
       "  </thead>\n",
       "  <tbody>\n",
       "    <tr>\n",
       "      <th>0</th>\n",
       "      <td>0.110303</td>\n",
       "    </tr>\n",
       "    <tr>\n",
       "      <th>1</th>\n",
       "      <td>1.028135</td>\n",
       "    </tr>\n",
       "    <tr>\n",
       "      <th>2</th>\n",
       "      <td>1.169199</td>\n",
       "    </tr>\n",
       "    <tr>\n",
       "      <th>3</th>\n",
       "      <td>0.537373</td>\n",
       "    </tr>\n",
       "    <tr>\n",
       "      <th>4</th>\n",
       "      <td>0.295469</td>\n",
       "    </tr>\n",
       "    <tr>\n",
       "      <th>5</th>\n",
       "      <td>0.390596</td>\n",
       "    </tr>\n",
       "    <tr>\n",
       "      <th>6</th>\n",
       "      <td>0.527422</td>\n",
       "    </tr>\n",
       "    <tr>\n",
       "      <th>7</th>\n",
       "      <td>0.405957</td>\n",
       "    </tr>\n",
       "    <tr>\n",
       "      <th>8</th>\n",
       "      <td>0.493555</td>\n",
       "    </tr>\n",
       "    <tr>\n",
       "      <th>9</th>\n",
       "      <td>0.337441</td>\n",
       "    </tr>\n",
       "  </tbody>\n",
       "</table>\n",
       "</div>"
      ],
      "text/plain": [
       "    gb_used\n",
       "0  0.110303\n",
       "1  1.028135\n",
       "2  1.169199\n",
       "3  0.537373\n",
       "4  0.295469\n",
       "5  0.390596\n",
       "6  0.527422\n",
       "7  0.405957\n",
       "8  0.493555\n",
       "9  0.337441"
      ]
     },
     "execution_count": 30,
     "metadata": {},
     "output_type": "execute_result"
    }
   ],
   "source": [
    "internet_data[['gb_used']][:10]"
   ]
  },
  {
   "cell_type": "markdown",
   "metadata": {},
   "source": [
    "Отлично, мы успешно перевели использованные мегабайты в гигабайты. "
   ]
  },
  {
   "cell_type": "markdown",
   "metadata": {},
   "source": [
    "### Подсчет количества сделанных звонков и израсходованных минут разговора по месяцам"
   ]
  },
  {
   "cell_type": "markdown",
   "metadata": {},
   "source": [
    "Сделаем сводную таблицу, чтобы удобно было всю информацию видеть сразу. Индексами будут user_id и месяцы, а подсчет будем вести по столбцу duration. Для этого сначала в основном датасете создадим столбец с месяцами. А после сохраним данные в переменную `calls_data_sorted`"
   ]
  },
  {
   "cell_type": "code",
   "execution_count": 31,
   "metadata": {},
   "outputs": [],
   "source": [
    "calls_data['month'] = calls_data['call_date'].dt.month"
   ]
  },
  {
   "cell_type": "code",
   "execution_count": 32,
   "metadata": {},
   "outputs": [
    {
     "data": {
      "text/html": [
       "<div>\n",
       "<style scoped>\n",
       "    .dataframe tbody tr th:only-of-type {\n",
       "        vertical-align: middle;\n",
       "    }\n",
       "\n",
       "    .dataframe tbody tr th {\n",
       "        vertical-align: top;\n",
       "    }\n",
       "\n",
       "    .dataframe thead th {\n",
       "        text-align: right;\n",
       "    }\n",
       "</style>\n",
       "<table border=\"1\" class=\"dataframe\">\n",
       "  <thead>\n",
       "    <tr style=\"text-align: right;\">\n",
       "      <th></th>\n",
       "      <th>user_id</th>\n",
       "      <th>month</th>\n",
       "      <th>minutes</th>\n",
       "      <th>calls</th>\n",
       "    </tr>\n",
       "  </thead>\n",
       "  <tbody>\n",
       "    <tr>\n",
       "      <th>0</th>\n",
       "      <td>1000</td>\n",
       "      <td>5</td>\n",
       "      <td>159</td>\n",
       "      <td>22</td>\n",
       "    </tr>\n",
       "    <tr>\n",
       "      <th>1</th>\n",
       "      <td>1000</td>\n",
       "      <td>6</td>\n",
       "      <td>172</td>\n",
       "      <td>43</td>\n",
       "    </tr>\n",
       "    <tr>\n",
       "      <th>2</th>\n",
       "      <td>1000</td>\n",
       "      <td>7</td>\n",
       "      <td>340</td>\n",
       "      <td>47</td>\n",
       "    </tr>\n",
       "    <tr>\n",
       "      <th>3</th>\n",
       "      <td>1000</td>\n",
       "      <td>8</td>\n",
       "      <td>408</td>\n",
       "      <td>52</td>\n",
       "    </tr>\n",
       "    <tr>\n",
       "      <th>4</th>\n",
       "      <td>1000</td>\n",
       "      <td>9</td>\n",
       "      <td>466</td>\n",
       "      <td>58</td>\n",
       "    </tr>\n",
       "    <tr>\n",
       "      <th>...</th>\n",
       "      <td>...</td>\n",
       "      <td>...</td>\n",
       "      <td>...</td>\n",
       "      <td>...</td>\n",
       "    </tr>\n",
       "    <tr>\n",
       "      <th>3169</th>\n",
       "      <td>1498</td>\n",
       "      <td>10</td>\n",
       "      <td>247</td>\n",
       "      <td>41</td>\n",
       "    </tr>\n",
       "    <tr>\n",
       "      <th>3170</th>\n",
       "      <td>1499</td>\n",
       "      <td>9</td>\n",
       "      <td>70</td>\n",
       "      <td>9</td>\n",
       "    </tr>\n",
       "    <tr>\n",
       "      <th>3171</th>\n",
       "      <td>1499</td>\n",
       "      <td>10</td>\n",
       "      <td>449</td>\n",
       "      <td>68</td>\n",
       "    </tr>\n",
       "    <tr>\n",
       "      <th>3172</th>\n",
       "      <td>1499</td>\n",
       "      <td>11</td>\n",
       "      <td>612</td>\n",
       "      <td>74</td>\n",
       "    </tr>\n",
       "    <tr>\n",
       "      <th>3173</th>\n",
       "      <td>1499</td>\n",
       "      <td>12</td>\n",
       "      <td>492</td>\n",
       "      <td>69</td>\n",
       "    </tr>\n",
       "  </tbody>\n",
       "</table>\n",
       "<p>3174 rows × 4 columns</p>\n",
       "</div>"
      ],
      "text/plain": [
       "      user_id  month  minutes  calls\n",
       "0        1000      5      159     22\n",
       "1        1000      6      172     43\n",
       "2        1000      7      340     47\n",
       "3        1000      8      408     52\n",
       "4        1000      9      466     58\n",
       "...       ...    ...      ...    ...\n",
       "3169     1498     10      247     41\n",
       "3170     1499      9       70      9\n",
       "3171     1499     10      449     68\n",
       "3172     1499     11      612     74\n",
       "3173     1499     12      492     69\n",
       "\n",
       "[3174 rows x 4 columns]"
      ]
     },
     "execution_count": 32,
     "metadata": {},
     "output_type": "execute_result"
    }
   ],
   "source": [
    "calls_data_sorted = calls_data.pivot_table(\n",
    "    index=['user_id', 'month'], values='duration', aggfunc=['sum', 'count']).reset_index()\n",
    "calls_data_sorted.columns = ['user_id', 'month', 'minutes','calls']\n",
    "calls_data_sorted"
   ]
  },
  {
   "cell_type": "markdown",
   "metadata": {},
   "source": [
    "Отлично, получилось очень наглядно - в первом столбце мы видим id пользователя, потом идет разбивка по месяцам, далее общее количество минут по месяцам и количество звонков."
   ]
  },
  {
   "cell_type": "markdown",
   "metadata": {},
   "source": [
    "### Подсчёт количества отправленных сообщений по месяцам"
   ]
  },
  {
   "cell_type": "markdown",
   "metadata": {},
   "source": [
    "По аналогии с пунктом 4.2 сделаем сводную таблицу, предварительно добавив столбец с номером месяца в основной датасет. Готовый результат сохраним в переменную `messages_data_sorted`"
   ]
  },
  {
   "cell_type": "code",
   "execution_count": 33,
   "metadata": {},
   "outputs": [],
   "source": [
    "messages_data['month'] = messages_data['message_date'].dt.month"
   ]
  },
  {
   "cell_type": "code",
   "execution_count": 34,
   "metadata": {},
   "outputs": [
    {
     "data": {
      "text/html": [
       "<div>\n",
       "<style scoped>\n",
       "    .dataframe tbody tr th:only-of-type {\n",
       "        vertical-align: middle;\n",
       "    }\n",
       "\n",
       "    .dataframe tbody tr th {\n",
       "        vertical-align: top;\n",
       "    }\n",
       "\n",
       "    .dataframe thead th {\n",
       "        text-align: right;\n",
       "    }\n",
       "</style>\n",
       "<table border=\"1\" class=\"dataframe\">\n",
       "  <thead>\n",
       "    <tr style=\"text-align: right;\">\n",
       "      <th></th>\n",
       "      <th>id</th>\n",
       "      <th>message_date</th>\n",
       "      <th>user_id</th>\n",
       "      <th>month</th>\n",
       "    </tr>\n",
       "  </thead>\n",
       "  <tbody>\n",
       "    <tr>\n",
       "      <th>0</th>\n",
       "      <td>1000_0</td>\n",
       "      <td>2018-06-27</td>\n",
       "      <td>1000</td>\n",
       "      <td>6</td>\n",
       "    </tr>\n",
       "    <tr>\n",
       "      <th>1</th>\n",
       "      <td>1000_1</td>\n",
       "      <td>2018-10-08</td>\n",
       "      <td>1000</td>\n",
       "      <td>10</td>\n",
       "    </tr>\n",
       "    <tr>\n",
       "      <th>2</th>\n",
       "      <td>1000_2</td>\n",
       "      <td>2018-08-04</td>\n",
       "      <td>1000</td>\n",
       "      <td>8</td>\n",
       "    </tr>\n",
       "    <tr>\n",
       "      <th>3</th>\n",
       "      <td>1000_3</td>\n",
       "      <td>2018-06-16</td>\n",
       "      <td>1000</td>\n",
       "      <td>6</td>\n",
       "    </tr>\n",
       "    <tr>\n",
       "      <th>4</th>\n",
       "      <td>1000_4</td>\n",
       "      <td>2018-12-05</td>\n",
       "      <td>1000</td>\n",
       "      <td>12</td>\n",
       "    </tr>\n",
       "    <tr>\n",
       "      <th>5</th>\n",
       "      <td>1000_5</td>\n",
       "      <td>2018-06-20</td>\n",
       "      <td>1000</td>\n",
       "      <td>6</td>\n",
       "    </tr>\n",
       "    <tr>\n",
       "      <th>6</th>\n",
       "      <td>1000_6</td>\n",
       "      <td>2018-11-19</td>\n",
       "      <td>1000</td>\n",
       "      <td>11</td>\n",
       "    </tr>\n",
       "    <tr>\n",
       "      <th>7</th>\n",
       "      <td>1000_7</td>\n",
       "      <td>2018-10-29</td>\n",
       "      <td>1000</td>\n",
       "      <td>10</td>\n",
       "    </tr>\n",
       "    <tr>\n",
       "      <th>8</th>\n",
       "      <td>1000_8</td>\n",
       "      <td>2018-06-25</td>\n",
       "      <td>1000</td>\n",
       "      <td>6</td>\n",
       "    </tr>\n",
       "    <tr>\n",
       "      <th>9</th>\n",
       "      <td>1000_9</td>\n",
       "      <td>2018-12-18</td>\n",
       "      <td>1000</td>\n",
       "      <td>12</td>\n",
       "    </tr>\n",
       "  </tbody>\n",
       "</table>\n",
       "</div>"
      ],
      "text/plain": [
       "       id message_date  user_id  month\n",
       "0  1000_0   2018-06-27     1000      6\n",
       "1  1000_1   2018-10-08     1000     10\n",
       "2  1000_2   2018-08-04     1000      8\n",
       "3  1000_3   2018-06-16     1000      6\n",
       "4  1000_4   2018-12-05     1000     12\n",
       "5  1000_5   2018-06-20     1000      6\n",
       "6  1000_6   2018-11-19     1000     11\n",
       "7  1000_7   2018-10-29     1000     10\n",
       "8  1000_8   2018-06-25     1000      6\n",
       "9  1000_9   2018-12-18     1000     12"
      ]
     },
     "execution_count": 34,
     "metadata": {},
     "output_type": "execute_result"
    }
   ],
   "source": [
    "messages_data[:10]"
   ]
  },
  {
   "cell_type": "code",
   "execution_count": 35,
   "metadata": {},
   "outputs": [
    {
     "data": {
      "text/html": [
       "<div>\n",
       "<style scoped>\n",
       "    .dataframe tbody tr th:only-of-type {\n",
       "        vertical-align: middle;\n",
       "    }\n",
       "\n",
       "    .dataframe tbody tr th {\n",
       "        vertical-align: top;\n",
       "    }\n",
       "\n",
       "    .dataframe thead th {\n",
       "        text-align: right;\n",
       "    }\n",
       "</style>\n",
       "<table border=\"1\" class=\"dataframe\">\n",
       "  <thead>\n",
       "    <tr style=\"text-align: right;\">\n",
       "      <th></th>\n",
       "      <th>user_id</th>\n",
       "      <th>month</th>\n",
       "      <th>sms_count</th>\n",
       "    </tr>\n",
       "  </thead>\n",
       "  <tbody>\n",
       "    <tr>\n",
       "      <th>0</th>\n",
       "      <td>1000</td>\n",
       "      <td>5</td>\n",
       "      <td>22</td>\n",
       "    </tr>\n",
       "    <tr>\n",
       "      <th>1</th>\n",
       "      <td>1000</td>\n",
       "      <td>6</td>\n",
       "      <td>60</td>\n",
       "    </tr>\n",
       "    <tr>\n",
       "      <th>2</th>\n",
       "      <td>1000</td>\n",
       "      <td>7</td>\n",
       "      <td>75</td>\n",
       "    </tr>\n",
       "    <tr>\n",
       "      <th>3</th>\n",
       "      <td>1000</td>\n",
       "      <td>8</td>\n",
       "      <td>81</td>\n",
       "    </tr>\n",
       "    <tr>\n",
       "      <th>4</th>\n",
       "      <td>1000</td>\n",
       "      <td>9</td>\n",
       "      <td>57</td>\n",
       "    </tr>\n",
       "    <tr>\n",
       "      <th>...</th>\n",
       "      <td>...</td>\n",
       "      <td>...</td>\n",
       "      <td>...</td>\n",
       "    </tr>\n",
       "    <tr>\n",
       "      <th>2712</th>\n",
       "      <td>1498</td>\n",
       "      <td>10</td>\n",
       "      <td>42</td>\n",
       "    </tr>\n",
       "    <tr>\n",
       "      <th>2713</th>\n",
       "      <td>1499</td>\n",
       "      <td>9</td>\n",
       "      <td>11</td>\n",
       "    </tr>\n",
       "    <tr>\n",
       "      <th>2714</th>\n",
       "      <td>1499</td>\n",
       "      <td>10</td>\n",
       "      <td>48</td>\n",
       "    </tr>\n",
       "    <tr>\n",
       "      <th>2715</th>\n",
       "      <td>1499</td>\n",
       "      <td>11</td>\n",
       "      <td>59</td>\n",
       "    </tr>\n",
       "    <tr>\n",
       "      <th>2716</th>\n",
       "      <td>1499</td>\n",
       "      <td>12</td>\n",
       "      <td>66</td>\n",
       "    </tr>\n",
       "  </tbody>\n",
       "</table>\n",
       "<p>2717 rows × 3 columns</p>\n",
       "</div>"
      ],
      "text/plain": [
       "      user_id  month  sms_count\n",
       "0        1000      5         22\n",
       "1        1000      6         60\n",
       "2        1000      7         75\n",
       "3        1000      8         81\n",
       "4        1000      9         57\n",
       "...       ...    ...        ...\n",
       "2712     1498     10         42\n",
       "2713     1499      9         11\n",
       "2714     1499     10         48\n",
       "2715     1499     11         59\n",
       "2716     1499     12         66\n",
       "\n",
       "[2717 rows x 3 columns]"
      ]
     },
     "execution_count": 35,
     "metadata": {},
     "output_type": "execute_result"
    }
   ],
   "source": [
    "messages_data_sorted = messages_data.pivot_table(\n",
    "    index=['user_id', 'month'], values='id', aggfunc=['count']).reset_index()\n",
    "messages_data_sorted.columns = ['user_id', 'month', 'sms_count']\n",
    "messages_data_sorted"
   ]
  },
  {
   "cell_type": "markdown",
   "metadata": {},
   "source": [
    "Таблица пригодится нам в будущих расчетах. "
   ]
  },
  {
   "cell_type": "markdown",
   "metadata": {},
   "source": [
    "### Подсчёт объема израсходованного интернет-трафика по месяцам"
   ]
  },
  {
   "cell_type": "markdown",
   "metadata": {},
   "source": [
    "Добавим в датасет с информацией об интернет-трафике столбец с месяцами, после создадим сводную таблицу, израсходованного интернет-трафика по месяцам и сохраним её в переменной `internet_data_sorted` и округлим использованные гигабайты в большую сторону."
   ]
  },
  {
   "cell_type": "code",
   "execution_count": 36,
   "metadata": {},
   "outputs": [],
   "source": [
    "internet_data['month'] = internet_data['session_date'].dt.month"
   ]
  },
  {
   "cell_type": "code",
   "execution_count": 37,
   "metadata": {},
   "outputs": [],
   "source": [
    "internet_data_sorted = internet_data.pivot_table(\n",
    "    index=['user_id', 'month'], values='gb_used', aggfunc=['sum'])\n",
    "internet_data_sorted.columns = ['gb_count']"
   ]
  },
  {
   "cell_type": "code",
   "execution_count": 38,
   "metadata": {},
   "outputs": [],
   "source": [
    "internet_data_sorted['gb_count'] = np.ceil(internet_data_sorted['gb_count']).astype('int')"
   ]
  },
  {
   "cell_type": "code",
   "execution_count": 39,
   "metadata": {
    "scrolled": true
   },
   "outputs": [
    {
     "data": {
      "text/html": [
       "<div>\n",
       "<style scoped>\n",
       "    .dataframe tbody tr th:only-of-type {\n",
       "        vertical-align: middle;\n",
       "    }\n",
       "\n",
       "    .dataframe tbody tr th {\n",
       "        vertical-align: top;\n",
       "    }\n",
       "\n",
       "    .dataframe thead th {\n",
       "        text-align: right;\n",
       "    }\n",
       "</style>\n",
       "<table border=\"1\" class=\"dataframe\">\n",
       "  <thead>\n",
       "    <tr style=\"text-align: right;\">\n",
       "      <th></th>\n",
       "      <th></th>\n",
       "      <th>gb_count</th>\n",
       "    </tr>\n",
       "    <tr>\n",
       "      <th>user_id</th>\n",
       "      <th>month</th>\n",
       "      <th></th>\n",
       "    </tr>\n",
       "  </thead>\n",
       "  <tbody>\n",
       "    <tr>\n",
       "      <th rowspan=\"5\" valign=\"top\">1000</th>\n",
       "      <th>5</th>\n",
       "      <td>3</td>\n",
       "    </tr>\n",
       "    <tr>\n",
       "      <th>6</th>\n",
       "      <td>23</td>\n",
       "    </tr>\n",
       "    <tr>\n",
       "      <th>7</th>\n",
       "      <td>14</td>\n",
       "    </tr>\n",
       "    <tr>\n",
       "      <th>8</th>\n",
       "      <td>14</td>\n",
       "    </tr>\n",
       "    <tr>\n",
       "      <th>9</th>\n",
       "      <td>15</td>\n",
       "    </tr>\n",
       "    <tr>\n",
       "      <th>...</th>\n",
       "      <th>...</th>\n",
       "      <td>...</td>\n",
       "    </tr>\n",
       "    <tr>\n",
       "      <th>1498</th>\n",
       "      <th>10</th>\n",
       "      <td>21</td>\n",
       "    </tr>\n",
       "    <tr>\n",
       "      <th rowspan=\"4\" valign=\"top\">1499</th>\n",
       "      <th>9</th>\n",
       "      <td>2</td>\n",
       "    </tr>\n",
       "    <tr>\n",
       "      <th>10</th>\n",
       "      <td>18</td>\n",
       "    </tr>\n",
       "    <tr>\n",
       "      <th>11</th>\n",
       "      <td>18</td>\n",
       "    </tr>\n",
       "    <tr>\n",
       "      <th>12</th>\n",
       "      <td>13</td>\n",
       "    </tr>\n",
       "  </tbody>\n",
       "</table>\n",
       "<p>3203 rows × 1 columns</p>\n",
       "</div>"
      ],
      "text/plain": [
       "               gb_count\n",
       "user_id month          \n",
       "1000    5             3\n",
       "        6            23\n",
       "        7            14\n",
       "        8            14\n",
       "        9            15\n",
       "...                 ...\n",
       "1498    10           21\n",
       "1499    9             2\n",
       "        10           18\n",
       "        11           18\n",
       "        12           13\n",
       "\n",
       "[3203 rows x 1 columns]"
      ]
     },
     "execution_count": 39,
     "metadata": {},
     "output_type": "execute_result"
    }
   ],
   "source": [
    "internet_data_sorted"
   ]
  },
  {
   "cell_type": "markdown",
   "metadata": {},
   "source": [
    "Таблица пригодится нам в будущих расчетах. "
   ]
  },
  {
   "cell_type": "markdown",
   "metadata": {},
   "source": [
    "### Подсчёт помесячной выручки с каждого пользователя"
   ]
  },
  {
   "cell_type": "markdown",
   "metadata": {},
   "source": [
    "Для того, чтобы посчитать выручку с каждого пользователя по месяцам, вычтем бесплатный лимит из суммарного количества звонков, сообщений и интернет-трафика, а остаток умножим на значение из тарифного плана. Прибавим абонентскую плату, соответствующую тарифному плану"
   ]
  },
  {
   "cell_type": "markdown",
   "metadata": {},
   "source": [
    "Сначала объединим наши подсчеты из пунктов выше. Начнем с объединения данных по звонкам и смс:"
   ]
  },
  {
   "cell_type": "code",
   "execution_count": 40,
   "metadata": {},
   "outputs": [],
   "source": [
    "calls_sms_merged = calls_data_sorted.merge(messages_data_sorted, on=['user_id', 'month'], how='outer')"
   ]
  },
  {
   "cell_type": "code",
   "execution_count": 41,
   "metadata": {},
   "outputs": [
    {
     "data": {
      "text/html": [
       "<div>\n",
       "<style scoped>\n",
       "    .dataframe tbody tr th:only-of-type {\n",
       "        vertical-align: middle;\n",
       "    }\n",
       "\n",
       "    .dataframe tbody tr th {\n",
       "        vertical-align: top;\n",
       "    }\n",
       "\n",
       "    .dataframe thead th {\n",
       "        text-align: right;\n",
       "    }\n",
       "</style>\n",
       "<table border=\"1\" class=\"dataframe\">\n",
       "  <thead>\n",
       "    <tr style=\"text-align: right;\">\n",
       "      <th></th>\n",
       "      <th>user_id</th>\n",
       "      <th>month</th>\n",
       "      <th>minutes</th>\n",
       "      <th>calls</th>\n",
       "      <th>sms_count</th>\n",
       "    </tr>\n",
       "  </thead>\n",
       "  <tbody>\n",
       "    <tr>\n",
       "      <th>0</th>\n",
       "      <td>1000</td>\n",
       "      <td>5</td>\n",
       "      <td>159.0</td>\n",
       "      <td>22.0</td>\n",
       "      <td>22.0</td>\n",
       "    </tr>\n",
       "    <tr>\n",
       "      <th>1</th>\n",
       "      <td>1000</td>\n",
       "      <td>6</td>\n",
       "      <td>172.0</td>\n",
       "      <td>43.0</td>\n",
       "      <td>60.0</td>\n",
       "    </tr>\n",
       "    <tr>\n",
       "      <th>2</th>\n",
       "      <td>1000</td>\n",
       "      <td>7</td>\n",
       "      <td>340.0</td>\n",
       "      <td>47.0</td>\n",
       "      <td>75.0</td>\n",
       "    </tr>\n",
       "    <tr>\n",
       "      <th>3</th>\n",
       "      <td>1000</td>\n",
       "      <td>8</td>\n",
       "      <td>408.0</td>\n",
       "      <td>52.0</td>\n",
       "      <td>81.0</td>\n",
       "    </tr>\n",
       "    <tr>\n",
       "      <th>4</th>\n",
       "      <td>1000</td>\n",
       "      <td>9</td>\n",
       "      <td>466.0</td>\n",
       "      <td>58.0</td>\n",
       "      <td>57.0</td>\n",
       "    </tr>\n",
       "    <tr>\n",
       "      <th>5</th>\n",
       "      <td>1000</td>\n",
       "      <td>10</td>\n",
       "      <td>350.0</td>\n",
       "      <td>57.0</td>\n",
       "      <td>73.0</td>\n",
       "    </tr>\n",
       "    <tr>\n",
       "      <th>6</th>\n",
       "      <td>1000</td>\n",
       "      <td>11</td>\n",
       "      <td>338.0</td>\n",
       "      <td>43.0</td>\n",
       "      <td>58.0</td>\n",
       "    </tr>\n",
       "    <tr>\n",
       "      <th>7</th>\n",
       "      <td>1000</td>\n",
       "      <td>12</td>\n",
       "      <td>333.0</td>\n",
       "      <td>46.0</td>\n",
       "      <td>70.0</td>\n",
       "    </tr>\n",
       "    <tr>\n",
       "      <th>8</th>\n",
       "      <td>1001</td>\n",
       "      <td>11</td>\n",
       "      <td>430.0</td>\n",
       "      <td>59.0</td>\n",
       "      <td>NaN</td>\n",
       "    </tr>\n",
       "    <tr>\n",
       "      <th>9</th>\n",
       "      <td>1001</td>\n",
       "      <td>12</td>\n",
       "      <td>414.0</td>\n",
       "      <td>63.0</td>\n",
       "      <td>NaN</td>\n",
       "    </tr>\n",
       "    <tr>\n",
       "      <th>10</th>\n",
       "      <td>1002</td>\n",
       "      <td>6</td>\n",
       "      <td>117.0</td>\n",
       "      <td>15.0</td>\n",
       "      <td>4.0</td>\n",
       "    </tr>\n",
       "    <tr>\n",
       "      <th>11</th>\n",
       "      <td>1002</td>\n",
       "      <td>7</td>\n",
       "      <td>214.0</td>\n",
       "      <td>26.0</td>\n",
       "      <td>11.0</td>\n",
       "    </tr>\n",
       "    <tr>\n",
       "      <th>12</th>\n",
       "      <td>1002</td>\n",
       "      <td>8</td>\n",
       "      <td>289.0</td>\n",
       "      <td>42.0</td>\n",
       "      <td>13.0</td>\n",
       "    </tr>\n",
       "    <tr>\n",
       "      <th>13</th>\n",
       "      <td>1002</td>\n",
       "      <td>9</td>\n",
       "      <td>206.0</td>\n",
       "      <td>36.0</td>\n",
       "      <td>4.0</td>\n",
       "    </tr>\n",
       "    <tr>\n",
       "      <th>14</th>\n",
       "      <td>1002</td>\n",
       "      <td>10</td>\n",
       "      <td>212.0</td>\n",
       "      <td>33.0</td>\n",
       "      <td>10.0</td>\n",
       "    </tr>\n",
       "    <tr>\n",
       "      <th>15</th>\n",
       "      <td>1002</td>\n",
       "      <td>11</td>\n",
       "      <td>243.0</td>\n",
       "      <td>32.0</td>\n",
       "      <td>16.0</td>\n",
       "    </tr>\n",
       "    <tr>\n",
       "      <th>16</th>\n",
       "      <td>1002</td>\n",
       "      <td>12</td>\n",
       "      <td>236.0</td>\n",
       "      <td>33.0</td>\n",
       "      <td>12.0</td>\n",
       "    </tr>\n",
       "    <tr>\n",
       "      <th>17</th>\n",
       "      <td>1003</td>\n",
       "      <td>8</td>\n",
       "      <td>380.0</td>\n",
       "      <td>55.0</td>\n",
       "      <td>37.0</td>\n",
       "    </tr>\n",
       "    <tr>\n",
       "      <th>18</th>\n",
       "      <td>1003</td>\n",
       "      <td>9</td>\n",
       "      <td>961.0</td>\n",
       "      <td>134.0</td>\n",
       "      <td>91.0</td>\n",
       "    </tr>\n",
       "    <tr>\n",
       "      <th>19</th>\n",
       "      <td>1003</td>\n",
       "      <td>10</td>\n",
       "      <td>855.0</td>\n",
       "      <td>108.0</td>\n",
       "      <td>83.0</td>\n",
       "    </tr>\n",
       "  </tbody>\n",
       "</table>\n",
       "</div>"
      ],
      "text/plain": [
       "    user_id  month  minutes  calls  sms_count\n",
       "0      1000      5    159.0   22.0       22.0\n",
       "1      1000      6    172.0   43.0       60.0\n",
       "2      1000      7    340.0   47.0       75.0\n",
       "3      1000      8    408.0   52.0       81.0\n",
       "4      1000      9    466.0   58.0       57.0\n",
       "5      1000     10    350.0   57.0       73.0\n",
       "6      1000     11    338.0   43.0       58.0\n",
       "7      1000     12    333.0   46.0       70.0\n",
       "8      1001     11    430.0   59.0        NaN\n",
       "9      1001     12    414.0   63.0        NaN\n",
       "10     1002      6    117.0   15.0        4.0\n",
       "11     1002      7    214.0   26.0       11.0\n",
       "12     1002      8    289.0   42.0       13.0\n",
       "13     1002      9    206.0   36.0        4.0\n",
       "14     1002     10    212.0   33.0       10.0\n",
       "15     1002     11    243.0   32.0       16.0\n",
       "16     1002     12    236.0   33.0       12.0\n",
       "17     1003      8    380.0   55.0       37.0\n",
       "18     1003      9    961.0  134.0       91.0\n",
       "19     1003     10    855.0  108.0       83.0"
      ]
     },
     "execution_count": 41,
     "metadata": {},
     "output_type": "execute_result"
    }
   ],
   "source": [
    "calls_sms_merged[:20]"
   ]
  },
  {
   "cell_type": "code",
   "execution_count": 42,
   "metadata": {},
   "outputs": [
    {
     "name": "stdout",
     "output_type": "stream",
     "text": [
      "<class 'pandas.core.frame.DataFrame'>\n",
      "Int64Index: 3213 entries, 0 to 3212\n",
      "Data columns (total 5 columns):\n",
      " #   Column     Non-Null Count  Dtype  \n",
      "---  ------     --------------  -----  \n",
      " 0   user_id    3213 non-null   int64  \n",
      " 1   month      3213 non-null   int64  \n",
      " 2   minutes    3174 non-null   float64\n",
      " 3   calls      3174 non-null   float64\n",
      " 4   sms_count  2717 non-null   float64\n",
      "dtypes: float64(3), int64(2)\n",
      "memory usage: 150.6 KB\n"
     ]
    }
   ],
   "source": [
    "calls_sms_merged.info()"
   ]
  },
  {
   "cell_type": "markdown",
   "metadata": {},
   "source": [
    "Можно заметить пропущенные значения в полях. Это значит, что некоторые не использовали те или иные возможности, которые предоставляет компания. Например, звонили, но не писали смс или наоборот. Заменим пропущенные значения на 0, но позже, когда присоединим таблицу с интернет-трафиком. "
   ]
  },
  {
   "cell_type": "markdown",
   "metadata": {},
   "source": [
    "Теперь объединим полученную таблицу с данными по интернет-трафику:"
   ]
  },
  {
   "cell_type": "code",
   "execution_count": 43,
   "metadata": {},
   "outputs": [],
   "source": [
    "merged_data = calls_sms_merged.merge(internet_data_sorted, on=['user_id', 'month'], how='outer')"
   ]
  },
  {
   "cell_type": "code",
   "execution_count": 44,
   "metadata": {
    "scrolled": true
   },
   "outputs": [
    {
     "data": {
      "text/html": [
       "<div>\n",
       "<style scoped>\n",
       "    .dataframe tbody tr th:only-of-type {\n",
       "        vertical-align: middle;\n",
       "    }\n",
       "\n",
       "    .dataframe tbody tr th {\n",
       "        vertical-align: top;\n",
       "    }\n",
       "\n",
       "    .dataframe thead th {\n",
       "        text-align: right;\n",
       "    }\n",
       "</style>\n",
       "<table border=\"1\" class=\"dataframe\">\n",
       "  <thead>\n",
       "    <tr style=\"text-align: right;\">\n",
       "      <th></th>\n",
       "      <th>user_id</th>\n",
       "      <th>month</th>\n",
       "      <th>minutes</th>\n",
       "      <th>calls</th>\n",
       "      <th>sms_count</th>\n",
       "      <th>gb_count</th>\n",
       "    </tr>\n",
       "  </thead>\n",
       "  <tbody>\n",
       "    <tr>\n",
       "      <th>0</th>\n",
       "      <td>1000</td>\n",
       "      <td>5</td>\n",
       "      <td>159.0</td>\n",
       "      <td>22.0</td>\n",
       "      <td>22.0</td>\n",
       "      <td>3.0</td>\n",
       "    </tr>\n",
       "    <tr>\n",
       "      <th>1</th>\n",
       "      <td>1000</td>\n",
       "      <td>6</td>\n",
       "      <td>172.0</td>\n",
       "      <td>43.0</td>\n",
       "      <td>60.0</td>\n",
       "      <td>23.0</td>\n",
       "    </tr>\n",
       "    <tr>\n",
       "      <th>2</th>\n",
       "      <td>1000</td>\n",
       "      <td>7</td>\n",
       "      <td>340.0</td>\n",
       "      <td>47.0</td>\n",
       "      <td>75.0</td>\n",
       "      <td>14.0</td>\n",
       "    </tr>\n",
       "    <tr>\n",
       "      <th>3</th>\n",
       "      <td>1000</td>\n",
       "      <td>8</td>\n",
       "      <td>408.0</td>\n",
       "      <td>52.0</td>\n",
       "      <td>81.0</td>\n",
       "      <td>14.0</td>\n",
       "    </tr>\n",
       "    <tr>\n",
       "      <th>4</th>\n",
       "      <td>1000</td>\n",
       "      <td>9</td>\n",
       "      <td>466.0</td>\n",
       "      <td>58.0</td>\n",
       "      <td>57.0</td>\n",
       "      <td>15.0</td>\n",
       "    </tr>\n",
       "    <tr>\n",
       "      <th>...</th>\n",
       "      <td>...</td>\n",
       "      <td>...</td>\n",
       "      <td>...</td>\n",
       "      <td>...</td>\n",
       "      <td>...</td>\n",
       "      <td>...</td>\n",
       "    </tr>\n",
       "    <tr>\n",
       "      <th>3209</th>\n",
       "      <td>1489</td>\n",
       "      <td>9</td>\n",
       "      <td>NaN</td>\n",
       "      <td>NaN</td>\n",
       "      <td>32.0</td>\n",
       "      <td>17.0</td>\n",
       "    </tr>\n",
       "    <tr>\n",
       "      <th>3210</th>\n",
       "      <td>1489</td>\n",
       "      <td>10</td>\n",
       "      <td>NaN</td>\n",
       "      <td>NaN</td>\n",
       "      <td>21.0</td>\n",
       "      <td>20.0</td>\n",
       "    </tr>\n",
       "    <tr>\n",
       "      <th>3211</th>\n",
       "      <td>1489</td>\n",
       "      <td>11</td>\n",
       "      <td>NaN</td>\n",
       "      <td>NaN</td>\n",
       "      <td>20.0</td>\n",
       "      <td>18.0</td>\n",
       "    </tr>\n",
       "    <tr>\n",
       "      <th>3212</th>\n",
       "      <td>1489</td>\n",
       "      <td>12</td>\n",
       "      <td>NaN</td>\n",
       "      <td>NaN</td>\n",
       "      <td>35.0</td>\n",
       "      <td>17.0</td>\n",
       "    </tr>\n",
       "    <tr>\n",
       "      <th>3213</th>\n",
       "      <td>1476</td>\n",
       "      <td>4</td>\n",
       "      <td>NaN</td>\n",
       "      <td>NaN</td>\n",
       "      <td>NaN</td>\n",
       "      <td>1.0</td>\n",
       "    </tr>\n",
       "  </tbody>\n",
       "</table>\n",
       "<p>3214 rows × 6 columns</p>\n",
       "</div>"
      ],
      "text/plain": [
       "      user_id  month  minutes  calls  sms_count  gb_count\n",
       "0        1000      5    159.0   22.0       22.0       3.0\n",
       "1        1000      6    172.0   43.0       60.0      23.0\n",
       "2        1000      7    340.0   47.0       75.0      14.0\n",
       "3        1000      8    408.0   52.0       81.0      14.0\n",
       "4        1000      9    466.0   58.0       57.0      15.0\n",
       "...       ...    ...      ...    ...        ...       ...\n",
       "3209     1489      9      NaN    NaN       32.0      17.0\n",
       "3210     1489     10      NaN    NaN       21.0      20.0\n",
       "3211     1489     11      NaN    NaN       20.0      18.0\n",
       "3212     1489     12      NaN    NaN       35.0      17.0\n",
       "3213     1476      4      NaN    NaN        NaN       1.0\n",
       "\n",
       "[3214 rows x 6 columns]"
      ]
     },
     "execution_count": 44,
     "metadata": {},
     "output_type": "execute_result"
    }
   ],
   "source": [
    "merged_data"
   ]
  },
  {
   "cell_type": "code",
   "execution_count": 45,
   "metadata": {},
   "outputs": [
    {
     "name": "stdout",
     "output_type": "stream",
     "text": [
      "<class 'pandas.core.frame.DataFrame'>\n",
      "Int64Index: 3214 entries, 0 to 3213\n",
      "Data columns (total 6 columns):\n",
      " #   Column     Non-Null Count  Dtype  \n",
      "---  ------     --------------  -----  \n",
      " 0   user_id    3214 non-null   int64  \n",
      " 1   month      3214 non-null   int64  \n",
      " 2   minutes    3174 non-null   float64\n",
      " 3   calls      3174 non-null   float64\n",
      " 4   sms_count  2717 non-null   float64\n",
      " 5   gb_count   3203 non-null   float64\n",
      "dtypes: float64(4), int64(2)\n",
      "memory usage: 175.8 KB\n"
     ]
    }
   ],
   "source": [
    "merged_data.info()"
   ]
  },
  {
   "cell_type": "markdown",
   "metadata": {},
   "source": [
    "В таблице есть пропущенные значения, посмотрим их количество:"
   ]
  },
  {
   "cell_type": "code",
   "execution_count": 46,
   "metadata": {},
   "outputs": [
    {
     "data": {
      "text/plain": [
       "user_id        0\n",
       "month          0\n",
       "minutes       40\n",
       "calls         40\n",
       "sms_count    497\n",
       "gb_count      11\n",
       "dtype: int64"
      ]
     },
     "execution_count": 46,
     "metadata": {},
     "output_type": "execute_result"
    }
   ],
   "source": [
    "merged_data.isna().sum()"
   ]
  },
  {
   "cell_type": "markdown",
   "metadata": {},
   "source": [
    "Равное количество пропущенных значений в столбцах с минутами и количеством звонков, это можно объяснить тем, что некоторые абоненты не звонят по телефону в принципе, а пользуются только смс и интернет-трафиком. По такому же принципу есть пропуски в столбцах с смс сообщениями и использованным трафиком - людям удобнее общаться по телефону, они находятся в роуминге либо есть какие то технические сложности с использованием доступа в интернет, но так как нулевых значений использованного трафика всего 11, каждый случай можно рассмотреть индивидуально при необходимости. "
   ]
  },
  {
   "cell_type": "markdown",
   "metadata": {},
   "source": [
    "Теперь добавим в нашу таблицу с данными по id информацию об абонентах и тарифных планах. Для этого выделим в отдельный датафрейм информацию об абонентах - город, тарифный план:"
   ]
  },
  {
   "cell_type": "code",
   "execution_count": 47,
   "metadata": {},
   "outputs": [],
   "source": [
    "all_users = users_data.loc[:,['user_id', 'city', 'tariff']]"
   ]
  },
  {
   "cell_type": "code",
   "execution_count": 48,
   "metadata": {},
   "outputs": [
    {
     "data": {
      "text/html": [
       "<div>\n",
       "<style scoped>\n",
       "    .dataframe tbody tr th:only-of-type {\n",
       "        vertical-align: middle;\n",
       "    }\n",
       "\n",
       "    .dataframe tbody tr th {\n",
       "        vertical-align: top;\n",
       "    }\n",
       "\n",
       "    .dataframe thead th {\n",
       "        text-align: right;\n",
       "    }\n",
       "</style>\n",
       "<table border=\"1\" class=\"dataframe\">\n",
       "  <thead>\n",
       "    <tr style=\"text-align: right;\">\n",
       "      <th></th>\n",
       "      <th>user_id</th>\n",
       "      <th>city</th>\n",
       "      <th>tariff</th>\n",
       "    </tr>\n",
       "  </thead>\n",
       "  <tbody>\n",
       "    <tr>\n",
       "      <th>0</th>\n",
       "      <td>1000</td>\n",
       "      <td>Краснодар</td>\n",
       "      <td>ultra</td>\n",
       "    </tr>\n",
       "    <tr>\n",
       "      <th>1</th>\n",
       "      <td>1001</td>\n",
       "      <td>Москва</td>\n",
       "      <td>smart</td>\n",
       "    </tr>\n",
       "    <tr>\n",
       "      <th>2</th>\n",
       "      <td>1002</td>\n",
       "      <td>Стерлитамак</td>\n",
       "      <td>smart</td>\n",
       "    </tr>\n",
       "    <tr>\n",
       "      <th>3</th>\n",
       "      <td>1003</td>\n",
       "      <td>Москва</td>\n",
       "      <td>ultra</td>\n",
       "    </tr>\n",
       "    <tr>\n",
       "      <th>4</th>\n",
       "      <td>1004</td>\n",
       "      <td>Новокузнецк</td>\n",
       "      <td>ultra</td>\n",
       "    </tr>\n",
       "  </tbody>\n",
       "</table>\n",
       "</div>"
      ],
      "text/plain": [
       "   user_id         city tariff\n",
       "0     1000    Краснодар  ultra\n",
       "1     1001       Москва  smart\n",
       "2     1002  Стерлитамак  smart\n",
       "3     1003       Москва  ultra\n",
       "4     1004  Новокузнецк  ultra"
      ]
     },
     "execution_count": 48,
     "metadata": {},
     "output_type": "execute_result"
    }
   ],
   "source": [
    "all_users[:5]"
   ]
  },
  {
   "cell_type": "markdown",
   "metadata": {},
   "source": [
    "Теперь добавим эти данные в нашу таблицу merged_data:"
   ]
  },
  {
   "cell_type": "code",
   "execution_count": 49,
   "metadata": {},
   "outputs": [],
   "source": [
    "merged_data = merged_data.merge(all_users, on=['user_id'], how='outer')"
   ]
  },
  {
   "cell_type": "code",
   "execution_count": 50,
   "metadata": {
    "scrolled": false
   },
   "outputs": [
    {
     "data": {
      "text/html": [
       "<div>\n",
       "<style scoped>\n",
       "    .dataframe tbody tr th:only-of-type {\n",
       "        vertical-align: middle;\n",
       "    }\n",
       "\n",
       "    .dataframe tbody tr th {\n",
       "        vertical-align: top;\n",
       "    }\n",
       "\n",
       "    .dataframe thead th {\n",
       "        text-align: right;\n",
       "    }\n",
       "</style>\n",
       "<table border=\"1\" class=\"dataframe\">\n",
       "  <thead>\n",
       "    <tr style=\"text-align: right;\">\n",
       "      <th></th>\n",
       "      <th>user_id</th>\n",
       "      <th>month</th>\n",
       "      <th>minutes</th>\n",
       "      <th>calls</th>\n",
       "      <th>sms_count</th>\n",
       "      <th>gb_count</th>\n",
       "      <th>city</th>\n",
       "      <th>tariff</th>\n",
       "    </tr>\n",
       "  </thead>\n",
       "  <tbody>\n",
       "    <tr>\n",
       "      <th>0</th>\n",
       "      <td>1000</td>\n",
       "      <td>5.0</td>\n",
       "      <td>159.0</td>\n",
       "      <td>22.0</td>\n",
       "      <td>22.0</td>\n",
       "      <td>3.0</td>\n",
       "      <td>Краснодар</td>\n",
       "      <td>ultra</td>\n",
       "    </tr>\n",
       "    <tr>\n",
       "      <th>1</th>\n",
       "      <td>1000</td>\n",
       "      <td>6.0</td>\n",
       "      <td>172.0</td>\n",
       "      <td>43.0</td>\n",
       "      <td>60.0</td>\n",
       "      <td>23.0</td>\n",
       "      <td>Краснодар</td>\n",
       "      <td>ultra</td>\n",
       "    </tr>\n",
       "    <tr>\n",
       "      <th>2</th>\n",
       "      <td>1000</td>\n",
       "      <td>7.0</td>\n",
       "      <td>340.0</td>\n",
       "      <td>47.0</td>\n",
       "      <td>75.0</td>\n",
       "      <td>14.0</td>\n",
       "      <td>Краснодар</td>\n",
       "      <td>ultra</td>\n",
       "    </tr>\n",
       "    <tr>\n",
       "      <th>3</th>\n",
       "      <td>1000</td>\n",
       "      <td>8.0</td>\n",
       "      <td>408.0</td>\n",
       "      <td>52.0</td>\n",
       "      <td>81.0</td>\n",
       "      <td>14.0</td>\n",
       "      <td>Краснодар</td>\n",
       "      <td>ultra</td>\n",
       "    </tr>\n",
       "    <tr>\n",
       "      <th>4</th>\n",
       "      <td>1000</td>\n",
       "      <td>9.0</td>\n",
       "      <td>466.0</td>\n",
       "      <td>58.0</td>\n",
       "      <td>57.0</td>\n",
       "      <td>15.0</td>\n",
       "      <td>Краснодар</td>\n",
       "      <td>ultra</td>\n",
       "    </tr>\n",
       "    <tr>\n",
       "      <th>...</th>\n",
       "      <td>...</td>\n",
       "      <td>...</td>\n",
       "      <td>...</td>\n",
       "      <td>...</td>\n",
       "      <td>...</td>\n",
       "      <td>...</td>\n",
       "      <td>...</td>\n",
       "      <td>...</td>\n",
       "    </tr>\n",
       "    <tr>\n",
       "      <th>3211</th>\n",
       "      <td>1489</td>\n",
       "      <td>10.0</td>\n",
       "      <td>NaN</td>\n",
       "      <td>NaN</td>\n",
       "      <td>21.0</td>\n",
       "      <td>20.0</td>\n",
       "      <td>Санкт-Петербург</td>\n",
       "      <td>smart</td>\n",
       "    </tr>\n",
       "    <tr>\n",
       "      <th>3212</th>\n",
       "      <td>1489</td>\n",
       "      <td>11.0</td>\n",
       "      <td>NaN</td>\n",
       "      <td>NaN</td>\n",
       "      <td>20.0</td>\n",
       "      <td>18.0</td>\n",
       "      <td>Санкт-Петербург</td>\n",
       "      <td>smart</td>\n",
       "    </tr>\n",
       "    <tr>\n",
       "      <th>3213</th>\n",
       "      <td>1489</td>\n",
       "      <td>12.0</td>\n",
       "      <td>NaN</td>\n",
       "      <td>NaN</td>\n",
       "      <td>35.0</td>\n",
       "      <td>17.0</td>\n",
       "      <td>Санкт-Петербург</td>\n",
       "      <td>smart</td>\n",
       "    </tr>\n",
       "    <tr>\n",
       "      <th>3214</th>\n",
       "      <td>1128</td>\n",
       "      <td>NaN</td>\n",
       "      <td>NaN</td>\n",
       "      <td>NaN</td>\n",
       "      <td>NaN</td>\n",
       "      <td>NaN</td>\n",
       "      <td>Волжский</td>\n",
       "      <td>ultra</td>\n",
       "    </tr>\n",
       "    <tr>\n",
       "      <th>3215</th>\n",
       "      <td>1371</td>\n",
       "      <td>NaN</td>\n",
       "      <td>NaN</td>\n",
       "      <td>NaN</td>\n",
       "      <td>NaN</td>\n",
       "      <td>NaN</td>\n",
       "      <td>Омск</td>\n",
       "      <td>smart</td>\n",
       "    </tr>\n",
       "  </tbody>\n",
       "</table>\n",
       "<p>3216 rows × 8 columns</p>\n",
       "</div>"
      ],
      "text/plain": [
       "      user_id  month  minutes  calls  sms_count  gb_count             city  \\\n",
       "0        1000    5.0    159.0   22.0       22.0       3.0        Краснодар   \n",
       "1        1000    6.0    172.0   43.0       60.0      23.0        Краснодар   \n",
       "2        1000    7.0    340.0   47.0       75.0      14.0        Краснодар   \n",
       "3        1000    8.0    408.0   52.0       81.0      14.0        Краснодар   \n",
       "4        1000    9.0    466.0   58.0       57.0      15.0        Краснодар   \n",
       "...       ...    ...      ...    ...        ...       ...              ...   \n",
       "3211     1489   10.0      NaN    NaN       21.0      20.0  Санкт-Петербург   \n",
       "3212     1489   11.0      NaN    NaN       20.0      18.0  Санкт-Петербург   \n",
       "3213     1489   12.0      NaN    NaN       35.0      17.0  Санкт-Петербург   \n",
       "3214     1128    NaN      NaN    NaN        NaN       NaN         Волжский   \n",
       "3215     1371    NaN      NaN    NaN        NaN       NaN             Омск   \n",
       "\n",
       "     tariff  \n",
       "0     ultra  \n",
       "1     ultra  \n",
       "2     ultra  \n",
       "3     ultra  \n",
       "4     ultra  \n",
       "...     ...  \n",
       "3211  smart  \n",
       "3212  smart  \n",
       "3213  smart  \n",
       "3214  ultra  \n",
       "3215  smart  \n",
       "\n",
       "[3216 rows x 8 columns]"
      ]
     },
     "execution_count": 50,
     "metadata": {},
     "output_type": "execute_result"
    }
   ],
   "source": [
    "merged_data "
   ]
  },
  {
   "cell_type": "markdown",
   "metadata": {},
   "source": [
    "Мы видим пропуски значений: у двух последних абонентов пропуски во всех колонках - возможно сначала эти абоненты подключились, но потом, возможно, передумали пользоваться. Посмотрим на данные этих пользователей отдельно:"
   ]
  },
  {
   "cell_type": "code",
   "execution_count": 51,
   "metadata": {},
   "outputs": [
    {
     "data": {
      "text/html": [
       "<div>\n",
       "<style scoped>\n",
       "    .dataframe tbody tr th:only-of-type {\n",
       "        vertical-align: middle;\n",
       "    }\n",
       "\n",
       "    .dataframe tbody tr th {\n",
       "        vertical-align: top;\n",
       "    }\n",
       "\n",
       "    .dataframe thead th {\n",
       "        text-align: right;\n",
       "    }\n",
       "</style>\n",
       "<table border=\"1\" class=\"dataframe\">\n",
       "  <thead>\n",
       "    <tr style=\"text-align: right;\">\n",
       "      <th></th>\n",
       "      <th>user_id</th>\n",
       "      <th>age</th>\n",
       "      <th>churn_date</th>\n",
       "      <th>city</th>\n",
       "      <th>first_name</th>\n",
       "      <th>last_name</th>\n",
       "      <th>reg_date</th>\n",
       "      <th>tariff</th>\n",
       "    </tr>\n",
       "  </thead>\n",
       "  <tbody>\n",
       "    <tr>\n",
       "      <th>128</th>\n",
       "      <td>1128</td>\n",
       "      <td>51</td>\n",
       "      <td>2018-12-23</td>\n",
       "      <td>Волжский</td>\n",
       "      <td>Ксения</td>\n",
       "      <td>Агаева</td>\n",
       "      <td>2018-12-15</td>\n",
       "      <td>ultra</td>\n",
       "    </tr>\n",
       "    <tr>\n",
       "      <th>371</th>\n",
       "      <td>1371</td>\n",
       "      <td>50</td>\n",
       "      <td>2018-12-30</td>\n",
       "      <td>Омск</td>\n",
       "      <td>Ириней</td>\n",
       "      <td>Трофимов</td>\n",
       "      <td>2018-12-25</td>\n",
       "      <td>smart</td>\n",
       "    </tr>\n",
       "  </tbody>\n",
       "</table>\n",
       "</div>"
      ],
      "text/plain": [
       "     user_id  age churn_date      city first_name last_name   reg_date tariff\n",
       "128     1128   51 2018-12-23  Волжский     Ксения    Агаева 2018-12-15  ultra\n",
       "371     1371   50 2018-12-30      Омск     Ириней  Трофимов 2018-12-25  smart"
      ]
     },
     "execution_count": 51,
     "metadata": {},
     "output_type": "execute_result"
    }
   ],
   "source": [
    "users_data[(users_data.user_id==1128)|(users_data.user_id==1371)]"
   ]
  },
  {
   "cell_type": "markdown",
   "metadata": {},
   "source": [
    "По дате прекращения пользования тарифом видно, что Ксения расторгла договор через 8 дней после оформления, а Ириней расторг через 5 дней. Оба абонента не пользовались услугами вообще. Поэтому смело можно удалить этих абонентов из нашей таблицы, т.к. здесь представлены оба тарифные плана - некритично отсечь эти данные. Нужно уточнить у менеджеров, была ли списана абонентская плата, т.к. у нас нет информации, предоплаченные ли тарифные планы или нет."
   ]
  },
  {
   "cell_type": "code",
   "execution_count": 52,
   "metadata": {},
   "outputs": [],
   "source": [
    "merged_data = merged_data.drop([3214, 3215])"
   ]
  },
  {
   "cell_type": "code",
   "execution_count": 53,
   "metadata": {},
   "outputs": [
    {
     "data": {
      "text/html": [
       "<div>\n",
       "<style scoped>\n",
       "    .dataframe tbody tr th:only-of-type {\n",
       "        vertical-align: middle;\n",
       "    }\n",
       "\n",
       "    .dataframe tbody tr th {\n",
       "        vertical-align: top;\n",
       "    }\n",
       "\n",
       "    .dataframe thead th {\n",
       "        text-align: right;\n",
       "    }\n",
       "</style>\n",
       "<table border=\"1\" class=\"dataframe\">\n",
       "  <thead>\n",
       "    <tr style=\"text-align: right;\">\n",
       "      <th></th>\n",
       "      <th>user_id</th>\n",
       "      <th>month</th>\n",
       "      <th>minutes</th>\n",
       "      <th>calls</th>\n",
       "      <th>sms_count</th>\n",
       "      <th>gb_count</th>\n",
       "      <th>city</th>\n",
       "      <th>tariff</th>\n",
       "    </tr>\n",
       "  </thead>\n",
       "  <tbody>\n",
       "    <tr>\n",
       "      <th>3209</th>\n",
       "      <td>1489</td>\n",
       "      <td>8.0</td>\n",
       "      <td>NaN</td>\n",
       "      <td>NaN</td>\n",
       "      <td>17.0</td>\n",
       "      <td>11.0</td>\n",
       "      <td>Санкт-Петербург</td>\n",
       "      <td>smart</td>\n",
       "    </tr>\n",
       "    <tr>\n",
       "      <th>3210</th>\n",
       "      <td>1489</td>\n",
       "      <td>9.0</td>\n",
       "      <td>NaN</td>\n",
       "      <td>NaN</td>\n",
       "      <td>32.0</td>\n",
       "      <td>17.0</td>\n",
       "      <td>Санкт-Петербург</td>\n",
       "      <td>smart</td>\n",
       "    </tr>\n",
       "    <tr>\n",
       "      <th>3211</th>\n",
       "      <td>1489</td>\n",
       "      <td>10.0</td>\n",
       "      <td>NaN</td>\n",
       "      <td>NaN</td>\n",
       "      <td>21.0</td>\n",
       "      <td>20.0</td>\n",
       "      <td>Санкт-Петербург</td>\n",
       "      <td>smart</td>\n",
       "    </tr>\n",
       "    <tr>\n",
       "      <th>3212</th>\n",
       "      <td>1489</td>\n",
       "      <td>11.0</td>\n",
       "      <td>NaN</td>\n",
       "      <td>NaN</td>\n",
       "      <td>20.0</td>\n",
       "      <td>18.0</td>\n",
       "      <td>Санкт-Петербург</td>\n",
       "      <td>smart</td>\n",
       "    </tr>\n",
       "    <tr>\n",
       "      <th>3213</th>\n",
       "      <td>1489</td>\n",
       "      <td>12.0</td>\n",
       "      <td>NaN</td>\n",
       "      <td>NaN</td>\n",
       "      <td>35.0</td>\n",
       "      <td>17.0</td>\n",
       "      <td>Санкт-Петербург</td>\n",
       "      <td>smart</td>\n",
       "    </tr>\n",
       "  </tbody>\n",
       "</table>\n",
       "</div>"
      ],
      "text/plain": [
       "      user_id  month  minutes  calls  sms_count  gb_count             city  \\\n",
       "3209     1489    8.0      NaN    NaN       17.0      11.0  Санкт-Петербург   \n",
       "3210     1489    9.0      NaN    NaN       32.0      17.0  Санкт-Петербург   \n",
       "3211     1489   10.0      NaN    NaN       21.0      20.0  Санкт-Петербург   \n",
       "3212     1489   11.0      NaN    NaN       20.0      18.0  Санкт-Петербург   \n",
       "3213     1489   12.0      NaN    NaN       35.0      17.0  Санкт-Петербург   \n",
       "\n",
       "     tariff  \n",
       "3209  smart  \n",
       "3210  smart  \n",
       "3211  smart  \n",
       "3212  smart  \n",
       "3213  smart  "
      ]
     },
     "execution_count": 53,
     "metadata": {},
     "output_type": "execute_result"
    }
   ],
   "source": [
    "merged_data.tail(5)"
   ]
  },
  {
   "cell_type": "markdown",
   "metadata": {},
   "source": [
    "Мы убрали двух абонентов, информации о которых нет вообще за выбираемый период. Теперь заменим значения NaN на 0 для удобства расчетов и поменяем типы данных в колонках с информации о звонках, смс и трафике на целочисленные:"
   ]
  },
  {
   "cell_type": "code",
   "execution_count": 54,
   "metadata": {},
   "outputs": [],
   "source": [
    "merged_data = merged_data.fillna(0)"
   ]
  },
  {
   "cell_type": "code",
   "execution_count": 55,
   "metadata": {},
   "outputs": [],
   "source": [
    "merged_data[['month', 'minutes', 'calls', 'sms_count', 'gb_count']\n",
    "           ] = merged_data[['month', 'minutes', 'calls', 'sms_count', 'gb_count']].convert_dtypes()"
   ]
  },
  {
   "cell_type": "code",
   "execution_count": 56,
   "metadata": {},
   "outputs": [
    {
     "name": "stdout",
     "output_type": "stream",
     "text": [
      "<class 'pandas.core.frame.DataFrame'>\n",
      "Int64Index: 3214 entries, 0 to 3213\n",
      "Data columns (total 8 columns):\n",
      " #   Column     Non-Null Count  Dtype \n",
      "---  ------     --------------  ----- \n",
      " 0   user_id    3214 non-null   int64 \n",
      " 1   month      3214 non-null   Int64 \n",
      " 2   minutes    3214 non-null   Int64 \n",
      " 3   calls      3214 non-null   Int64 \n",
      " 4   sms_count  3214 non-null   Int64 \n",
      " 5   gb_count   3214 non-null   Int64 \n",
      " 6   city       3214 non-null   object\n",
      " 7   tariff     3214 non-null   object\n",
      "dtypes: Int64(5), int64(1), object(2)\n",
      "memory usage: 241.7+ KB\n"
     ]
    }
   ],
   "source": [
    "merged_data.info()"
   ]
  },
  {
   "cell_type": "markdown",
   "metadata": {},
   "source": [
    "Убедились, что пропусков нет, типы данных, нужные нам для расчетов. "
   ]
  },
  {
   "cell_type": "markdown",
   "metadata": {},
   "source": [
    "Теперь посчитаем выручку. Для этого мы будем использовать таблицы merged_data и tariffs_data. Посмотрим еще раз на особенности тарифных планов:"
   ]
  },
  {
   "cell_type": "code",
   "execution_count": 57,
   "metadata": {
    "scrolled": true
   },
   "outputs": [
    {
     "data": {
      "text/html": [
       "<div>\n",
       "<style scoped>\n",
       "    .dataframe tbody tr th:only-of-type {\n",
       "        vertical-align: middle;\n",
       "    }\n",
       "\n",
       "    .dataframe tbody tr th {\n",
       "        vertical-align: top;\n",
       "    }\n",
       "\n",
       "    .dataframe thead th {\n",
       "        text-align: right;\n",
       "    }\n",
       "</style>\n",
       "<table border=\"1\" class=\"dataframe\">\n",
       "  <thead>\n",
       "    <tr style=\"text-align: right;\">\n",
       "      <th></th>\n",
       "      <th>messages_included</th>\n",
       "      <th>mb_per_month_included</th>\n",
       "      <th>minutes_included</th>\n",
       "      <th>rub_monthly_fee</th>\n",
       "      <th>rub_per_gb</th>\n",
       "      <th>rub_per_message</th>\n",
       "      <th>rub_per_minute</th>\n",
       "      <th>tariff_name</th>\n",
       "    </tr>\n",
       "  </thead>\n",
       "  <tbody>\n",
       "    <tr>\n",
       "      <th>0</th>\n",
       "      <td>50</td>\n",
       "      <td>15360</td>\n",
       "      <td>500</td>\n",
       "      <td>550</td>\n",
       "      <td>200</td>\n",
       "      <td>3</td>\n",
       "      <td>3</td>\n",
       "      <td>smart</td>\n",
       "    </tr>\n",
       "    <tr>\n",
       "      <th>1</th>\n",
       "      <td>1000</td>\n",
       "      <td>30720</td>\n",
       "      <td>3000</td>\n",
       "      <td>1950</td>\n",
       "      <td>150</td>\n",
       "      <td>1</td>\n",
       "      <td>1</td>\n",
       "      <td>ultra</td>\n",
       "    </tr>\n",
       "  </tbody>\n",
       "</table>\n",
       "</div>"
      ],
      "text/plain": [
       "   messages_included  mb_per_month_included  minutes_included  \\\n",
       "0                 50                  15360               500   \n",
       "1               1000                  30720              3000   \n",
       "\n",
       "   rub_monthly_fee  rub_per_gb  rub_per_message  rub_per_minute tariff_name  \n",
       "0              550         200                3               3       smart  \n",
       "1             1950         150                1               1       ultra  "
      ]
     },
     "execution_count": 57,
     "metadata": {},
     "output_type": "execute_result"
    }
   ],
   "source": [
    "tariffs_data"
   ]
  },
  {
   "cell_type": "markdown",
   "metadata": {},
   "source": [
    "Есть особенность - в этой таблице указано количество мегабайт, входящих в тарифный план. Добавим столбец с гигабайтами:"
   ]
  },
  {
   "cell_type": "code",
   "execution_count": 58,
   "metadata": {
    "scrolled": true
   },
   "outputs": [],
   "source": [
    "tariffs_data['gb_per_month_included'] = (tariffs_data['mb_per_month_included'] / 1024).astype('int')"
   ]
  },
  {
   "cell_type": "code",
   "execution_count": 59,
   "metadata": {
    "scrolled": true
   },
   "outputs": [
    {
     "data": {
      "text/html": [
       "<div>\n",
       "<style scoped>\n",
       "    .dataframe tbody tr th:only-of-type {\n",
       "        vertical-align: middle;\n",
       "    }\n",
       "\n",
       "    .dataframe tbody tr th {\n",
       "        vertical-align: top;\n",
       "    }\n",
       "\n",
       "    .dataframe thead th {\n",
       "        text-align: right;\n",
       "    }\n",
       "</style>\n",
       "<table border=\"1\" class=\"dataframe\">\n",
       "  <thead>\n",
       "    <tr style=\"text-align: right;\">\n",
       "      <th></th>\n",
       "      <th>messages_included</th>\n",
       "      <th>mb_per_month_included</th>\n",
       "      <th>minutes_included</th>\n",
       "      <th>rub_monthly_fee</th>\n",
       "      <th>rub_per_gb</th>\n",
       "      <th>rub_per_message</th>\n",
       "      <th>rub_per_minute</th>\n",
       "      <th>tariff_name</th>\n",
       "      <th>gb_per_month_included</th>\n",
       "    </tr>\n",
       "  </thead>\n",
       "  <tbody>\n",
       "    <tr>\n",
       "      <th>0</th>\n",
       "      <td>50</td>\n",
       "      <td>15360</td>\n",
       "      <td>500</td>\n",
       "      <td>550</td>\n",
       "      <td>200</td>\n",
       "      <td>3</td>\n",
       "      <td>3</td>\n",
       "      <td>smart</td>\n",
       "      <td>15</td>\n",
       "    </tr>\n",
       "    <tr>\n",
       "      <th>1</th>\n",
       "      <td>1000</td>\n",
       "      <td>30720</td>\n",
       "      <td>3000</td>\n",
       "      <td>1950</td>\n",
       "      <td>150</td>\n",
       "      <td>1</td>\n",
       "      <td>1</td>\n",
       "      <td>ultra</td>\n",
       "      <td>30</td>\n",
       "    </tr>\n",
       "  </tbody>\n",
       "</table>\n",
       "</div>"
      ],
      "text/plain": [
       "   messages_included  mb_per_month_included  minutes_included  \\\n",
       "0                 50                  15360               500   \n",
       "1               1000                  30720              3000   \n",
       "\n",
       "   rub_monthly_fee  rub_per_gb  rub_per_message  rub_per_minute tariff_name  \\\n",
       "0              550         200                3               3       smart   \n",
       "1             1950         150                1               1       ultra   \n",
       "\n",
       "   gb_per_month_included  \n",
       "0                     15  \n",
       "1                     30  "
      ]
     },
     "execution_count": 59,
     "metadata": {},
     "output_type": "execute_result"
    }
   ],
   "source": [
    "tariffs_data"
   ]
  },
  {
   "cell_type": "markdown",
   "metadata": {},
   "source": [
    "Напишем функцию, которая поможет нам посчитать бесплатный лимит из суммарного количества минут, сообщений и интернет-трафика, а остаток умножим на значение из тарифного плана. Прибавим абонентскую плату, соответствующую тарифному плану и применим функцию к нашей таблице merged_data."
   ]
  },
  {
   "cell_type": "code",
   "execution_count": 64,
   "metadata": {
    "scrolled": true
   },
   "outputs": [
    {
     "data": {
      "text/html": [
       "<div>\n",
       "<style scoped>\n",
       "    .dataframe tbody tr th:only-of-type {\n",
       "        vertical-align: middle;\n",
       "    }\n",
       "\n",
       "    .dataframe tbody tr th {\n",
       "        vertical-align: top;\n",
       "    }\n",
       "\n",
       "    .dataframe thead th {\n",
       "        text-align: right;\n",
       "    }\n",
       "</style>\n",
       "<table border=\"1\" class=\"dataframe\">\n",
       "  <thead>\n",
       "    <tr style=\"text-align: right;\">\n",
       "      <th></th>\n",
       "      <th>user_id</th>\n",
       "      <th>month</th>\n",
       "      <th>minutes</th>\n",
       "      <th>calls</th>\n",
       "      <th>sms_count</th>\n",
       "      <th>gb_count</th>\n",
       "      <th>city</th>\n",
       "      <th>tariff</th>\n",
       "      <th>income_rub</th>\n",
       "    </tr>\n",
       "  </thead>\n",
       "  <tbody>\n",
       "    <tr>\n",
       "      <th>0</th>\n",
       "      <td>1000</td>\n",
       "      <td>5</td>\n",
       "      <td>159</td>\n",
       "      <td>22</td>\n",
       "      <td>22</td>\n",
       "      <td>3</td>\n",
       "      <td>Краснодар</td>\n",
       "      <td>ultra</td>\n",
       "      <td>1950.0</td>\n",
       "    </tr>\n",
       "    <tr>\n",
       "      <th>1</th>\n",
       "      <td>1000</td>\n",
       "      <td>6</td>\n",
       "      <td>172</td>\n",
       "      <td>43</td>\n",
       "      <td>60</td>\n",
       "      <td>23</td>\n",
       "      <td>Краснодар</td>\n",
       "      <td>ultra</td>\n",
       "      <td>1950.0</td>\n",
       "    </tr>\n",
       "    <tr>\n",
       "      <th>2</th>\n",
       "      <td>1000</td>\n",
       "      <td>7</td>\n",
       "      <td>340</td>\n",
       "      <td>47</td>\n",
       "      <td>75</td>\n",
       "      <td>14</td>\n",
       "      <td>Краснодар</td>\n",
       "      <td>ultra</td>\n",
       "      <td>1950.0</td>\n",
       "    </tr>\n",
       "    <tr>\n",
       "      <th>3</th>\n",
       "      <td>1000</td>\n",
       "      <td>8</td>\n",
       "      <td>408</td>\n",
       "      <td>52</td>\n",
       "      <td>81</td>\n",
       "      <td>14</td>\n",
       "      <td>Краснодар</td>\n",
       "      <td>ultra</td>\n",
       "      <td>1950.0</td>\n",
       "    </tr>\n",
       "    <tr>\n",
       "      <th>4</th>\n",
       "      <td>1000</td>\n",
       "      <td>9</td>\n",
       "      <td>466</td>\n",
       "      <td>58</td>\n",
       "      <td>57</td>\n",
       "      <td>15</td>\n",
       "      <td>Краснодар</td>\n",
       "      <td>ultra</td>\n",
       "      <td>1950.0</td>\n",
       "    </tr>\n",
       "    <tr>\n",
       "      <th>...</th>\n",
       "      <td>...</td>\n",
       "      <td>...</td>\n",
       "      <td>...</td>\n",
       "      <td>...</td>\n",
       "      <td>...</td>\n",
       "      <td>...</td>\n",
       "      <td>...</td>\n",
       "      <td>...</td>\n",
       "      <td>...</td>\n",
       "    </tr>\n",
       "    <tr>\n",
       "      <th>3209</th>\n",
       "      <td>1489</td>\n",
       "      <td>8</td>\n",
       "      <td>0</td>\n",
       "      <td>0</td>\n",
       "      <td>17</td>\n",
       "      <td>11</td>\n",
       "      <td>Санкт-Петербург</td>\n",
       "      <td>smart</td>\n",
       "      <td>550.0</td>\n",
       "    </tr>\n",
       "    <tr>\n",
       "      <th>3210</th>\n",
       "      <td>1489</td>\n",
       "      <td>9</td>\n",
       "      <td>0</td>\n",
       "      <td>0</td>\n",
       "      <td>32</td>\n",
       "      <td>17</td>\n",
       "      <td>Санкт-Петербург</td>\n",
       "      <td>smart</td>\n",
       "      <td>950.0</td>\n",
       "    </tr>\n",
       "    <tr>\n",
       "      <th>3211</th>\n",
       "      <td>1489</td>\n",
       "      <td>10</td>\n",
       "      <td>0</td>\n",
       "      <td>0</td>\n",
       "      <td>21</td>\n",
       "      <td>20</td>\n",
       "      <td>Санкт-Петербург</td>\n",
       "      <td>smart</td>\n",
       "      <td>1550.0</td>\n",
       "    </tr>\n",
       "    <tr>\n",
       "      <th>3212</th>\n",
       "      <td>1489</td>\n",
       "      <td>11</td>\n",
       "      <td>0</td>\n",
       "      <td>0</td>\n",
       "      <td>20</td>\n",
       "      <td>18</td>\n",
       "      <td>Санкт-Петербург</td>\n",
       "      <td>smart</td>\n",
       "      <td>1150.0</td>\n",
       "    </tr>\n",
       "    <tr>\n",
       "      <th>3213</th>\n",
       "      <td>1489</td>\n",
       "      <td>12</td>\n",
       "      <td>0</td>\n",
       "      <td>0</td>\n",
       "      <td>35</td>\n",
       "      <td>17</td>\n",
       "      <td>Санкт-Петербург</td>\n",
       "      <td>smart</td>\n",
       "      <td>950.0</td>\n",
       "    </tr>\n",
       "  </tbody>\n",
       "</table>\n",
       "<p>3214 rows × 9 columns</p>\n",
       "</div>"
      ],
      "text/plain": [
       "      user_id  month  minutes  calls  sms_count  gb_count             city  \\\n",
       "0        1000      5      159     22         22         3        Краснодар   \n",
       "1        1000      6      172     43         60        23        Краснодар   \n",
       "2        1000      7      340     47         75        14        Краснодар   \n",
       "3        1000      8      408     52         81        14        Краснодар   \n",
       "4        1000      9      466     58         57        15        Краснодар   \n",
       "...       ...    ...      ...    ...        ...       ...              ...   \n",
       "3209     1489      8        0      0         17        11  Санкт-Петербург   \n",
       "3210     1489      9        0      0         32        17  Санкт-Петербург   \n",
       "3211     1489     10        0      0         21        20  Санкт-Петербург   \n",
       "3212     1489     11        0      0         20        18  Санкт-Петербург   \n",
       "3213     1489     12        0      0         35        17  Санкт-Петербург   \n",
       "\n",
       "     tariff  income_rub  \n",
       "0     ultra      1950.0  \n",
       "1     ultra      1950.0  \n",
       "2     ultra      1950.0  \n",
       "3     ultra      1950.0  \n",
       "4     ultra      1950.0  \n",
       "...     ...         ...  \n",
       "3209  smart       550.0  \n",
       "3210  smart       950.0  \n",
       "3211  smart      1550.0  \n",
       "3212  smart      1150.0  \n",
       "3213  smart       950.0  \n",
       "\n",
       "[3214 rows x 9 columns]"
      ]
     },
     "execution_count": 64,
     "metadata": {},
     "output_type": "execute_result"
    }
   ],
   "source": [
    "def income(merged_data):\n",
    "    minutes = merged_data['minutes']\n",
    "    sms_count = merged_data['sms_count']\n",
    "    gb_count = merged_data['gb_count']\n",
    "    tariff = merged_data['tariff']\n",
    "    if tariff == 'smart':\n",
    "        if minutes > tariffs_data.loc[0,'minutes_included']: #минуты сверх тарифа\n",
    "            over_min = (minutes - tariffs_data.loc[0,'minutes_included']) * tariffs_data.loc[0,'rub_per_minute'] \n",
    "        else:\n",
    "            over_min = 0\n",
    "        if sms_count > tariffs_data.loc[0,'messages_included']: #сообщения сверх тарифа\n",
    "            over_sms = (sms_count - tariffs_data.loc[0,'messages_included']) * tariffs_data.loc[0,'rub_per_message'] \n",
    "        else:\n",
    "            over_sms = 0\n",
    "        if gb_count > tariffs_data.loc[0,'gb_per_month_included']: #гб сверх тарифа\n",
    "            over_gb = (gb_count - tariffs_data.loc[0,'gb_per_month_included']) * tariffs_data.loc[0,'rub_per_gb'] \n",
    "        else:\n",
    "            over_gb = 0 \n",
    "        return over_min + over_sms + over_gb + tariffs_data.loc[0,'rub_monthly_fee'] #стоимость услуг сверх тарифа + абонплата\n",
    "    elif tariff == 'ultra':\n",
    "        if minutes > tariffs_data.loc[1,'minutes_included']: ##минуты сверх тарифа\n",
    "            over_min = (minutes - tariffs_data.loc[1,'minutes_included']) * tariffs_data.loc[1,'rub_per_minute'] \n",
    "        else:\n",
    "            over_min = 0\n",
    "        if sms_count > tariffs_data.loc[1,'messages_included']: #сообщения сверх тарифа\n",
    "            over_sms = (sms_count - tariffs_data.loc[1,'messages_included']) * tariffs_data.loc[1,'rub_per_message']\n",
    "        else:\n",
    "            over_sms = 0\n",
    "        if gb_count > tariffs_data.loc[1,'gb_per_month_included']: #гб сверх тарифа\n",
    "            over_gb = (gb_count - tariffs_data.loc[1,'gb_per_month_included']) * tariffs_data.loc[1,'rub_per_gb'] \n",
    "        else:\n",
    "            over_gb = 0\n",
    "        return over_min + over_sms + over_gb + tariffs_data.loc[1,'rub_monthly_fee'] #стоимость услуг сверх тарифа + абонплата\n",
    "\n",
    "merged_data['income_rub'] = merged_data.apply(income, axis=1)\n",
    "merged_data"
   ]
  },
  {
   "cell_type": "markdown",
   "metadata": {},
   "source": [
    "Теперь в нашей таблице с данными появились суммы помесячной выручки по каждому месяцу у каждого абонента. На этом мы можем завершить этап расчётов и добавлений результатов в таблицы и приступить к анализу данных. "
   ]
  },
  {
   "cell_type": "markdown",
   "metadata": {},
   "source": [
    "## Анализ данных"
   ]
  },
  {
   "cell_type": "markdown",
   "metadata": {},
   "source": [
    "В этом пункте мы опишем поведение клиентов оператора, исходя из выборки. Сколько минут разговора, сколько сообщений и какой объём интернет-трафика требуется пользователям каждого тарифа в месяц? Посчитаем среднее количество, дисперсию и стандартное отклонение. Построим гистограммы и опишем распределения."
   ]
  },
  {
   "cell_type": "markdown",
   "metadata": {},
   "source": [
    "### Посмотрим сводную таблицу по тарифам, в которой посчитаны среднее количество, медиана, дисперсию и стандартное отклонение:"
   ]
  },
  {
   "cell_type": "code",
   "execution_count": 62,
   "metadata": {
    "scrolled": false
   },
   "outputs": [
    {
     "data": {
      "text/html": [
       "<div>\n",
       "<style scoped>\n",
       "    .dataframe tbody tr th:only-of-type {\n",
       "        vertical-align: middle;\n",
       "    }\n",
       "\n",
       "    .dataframe tbody tr th {\n",
       "        vertical-align: top;\n",
       "    }\n",
       "\n",
       "    .dataframe thead tr th {\n",
       "        text-align: left;\n",
       "    }\n",
       "\n",
       "    .dataframe thead tr:last-of-type th {\n",
       "        text-align: right;\n",
       "    }\n",
       "</style>\n",
       "<table border=\"1\" class=\"dataframe\">\n",
       "  <thead>\n",
       "    <tr>\n",
       "      <th></th>\n",
       "      <th colspan=\"4\" halign=\"left\">mean</th>\n",
       "      <th colspan=\"4\" halign=\"left\">median</th>\n",
       "      <th colspan=\"4\" halign=\"left\">var</th>\n",
       "      <th colspan=\"4\" halign=\"left\">std</th>\n",
       "    </tr>\n",
       "    <tr>\n",
       "      <th></th>\n",
       "      <th>gb_count</th>\n",
       "      <th>income_rub</th>\n",
       "      <th>minutes</th>\n",
       "      <th>sms_count</th>\n",
       "      <th>gb_count</th>\n",
       "      <th>income_rub</th>\n",
       "      <th>minutes</th>\n",
       "      <th>sms_count</th>\n",
       "      <th>gb_count</th>\n",
       "      <th>income_rub</th>\n",
       "      <th>minutes</th>\n",
       "      <th>sms_count</th>\n",
       "      <th>gb_count</th>\n",
       "      <th>income_rub</th>\n",
       "      <th>minutes</th>\n",
       "      <th>sms_count</th>\n",
       "    </tr>\n",
       "    <tr>\n",
       "      <th>tariff</th>\n",
       "      <th></th>\n",
       "      <th></th>\n",
       "      <th></th>\n",
       "      <th></th>\n",
       "      <th></th>\n",
       "      <th></th>\n",
       "      <th></th>\n",
       "      <th></th>\n",
       "      <th></th>\n",
       "      <th></th>\n",
       "      <th></th>\n",
       "      <th></th>\n",
       "      <th></th>\n",
       "      <th></th>\n",
       "      <th></th>\n",
       "      <th></th>\n",
       "    </tr>\n",
       "  </thead>\n",
       "  <tbody>\n",
       "    <tr>\n",
       "      <th>smart</th>\n",
       "      <td>16.328847</td>\n",
       "      <td>1289.973531</td>\n",
       "      <td>417.934948</td>\n",
       "      <td>33.384029</td>\n",
       "      <td>17.0</td>\n",
       "      <td>1023</td>\n",
       "      <td>422.0</td>\n",
       "      <td>28.0</td>\n",
       "      <td>33.028705</td>\n",
       "      <td>669785.708006</td>\n",
       "      <td>36219.315784</td>\n",
       "      <td>796.812958</td>\n",
       "      <td>5.747061</td>\n",
       "      <td>818.404367</td>\n",
       "      <td>190.313730</td>\n",
       "      <td>28.227876</td>\n",
       "    </tr>\n",
       "    <tr>\n",
       "      <th>ultra</th>\n",
       "      <td>19.494416</td>\n",
       "      <td>2070.152284</td>\n",
       "      <td>526.62335</td>\n",
       "      <td>49.363452</td>\n",
       "      <td>19.0</td>\n",
       "      <td>1950</td>\n",
       "      <td>518.0</td>\n",
       "      <td>38.0</td>\n",
       "      <td>97.091686</td>\n",
       "      <td>141516.745079</td>\n",
       "      <td>100873.633397</td>\n",
       "      <td>2285.266143</td>\n",
       "      <td>9.853511</td>\n",
       "      <td>376.187114</td>\n",
       "      <td>317.606098</td>\n",
       "      <td>47.804457</td>\n",
       "    </tr>\n",
       "  </tbody>\n",
       "</table>\n",
       "</div>"
      ],
      "text/plain": [
       "             mean                                       median             \\\n",
       "         gb_count   income_rub     minutes  sms_count gb_count income_rub   \n",
       "tariff                                                                      \n",
       "smart   16.328847  1289.973531  417.934948  33.384029     17.0       1023   \n",
       "ultra   19.494416  2070.152284   526.62335  49.363452     19.0       1950   \n",
       "\n",
       "                                var                                \\\n",
       "       minutes sms_count   gb_count     income_rub        minutes   \n",
       "tariff                                                              \n",
       "smart    422.0      28.0  33.028705  669785.708006   36219.315784   \n",
       "ultra    518.0      38.0  97.091686  141516.745079  100873.633397   \n",
       "\n",
       "                          std                                     \n",
       "          sms_count  gb_count  income_rub     minutes  sms_count  \n",
       "tariff                                                            \n",
       "smart    796.812958  5.747061  818.404367  190.313730  28.227876  \n",
       "ultra   2285.266143  9.853511  376.187114  317.606098  47.804457  "
      ]
     },
     "execution_count": 62,
     "metadata": {},
     "output_type": "execute_result"
    }
   ],
   "source": [
    "merged_data.pivot_table(index = 'tariff', values = [\n",
    "    'minutes', 'sms_count', 'gb_count', 'income_rub'\n",
    "], aggfunc = ['mean', 'median', 'var', 'std'])"
   ]
  },
  {
   "cell_type": "markdown",
   "metadata": {},
   "source": [
    "Обратим внимание, что дисперсии выручки у нас не равны, эта информация пригодится нам при проверке гипотез. "
   ]
  },
  {
   "cell_type": "code",
   "execution_count": 65,
   "metadata": {
    "scrolled": true
   },
   "outputs": [
    {
     "data": {
      "image/png": "[encoded data removed]",
      "text/plain": [
       "<Figure size 720x360 with 1 Axes>"
      ]
     },
     "metadata": {
      "needs_background": "light"
     },
     "output_type": "display_data"
    },
    {
     "data": {
      "image/png": "[encoded data removed]",
      "text/plain": [
       "<Figure size 720x360 with 1 Axes>"
      ]
     },
     "metadata": {
      "needs_background": "light"
     },
     "output_type": "display_data"
    },
    {
     "data": {
      "image/png": "[encoded data removed]",
      "text/plain": [
       "<Figure size 720x360 with 1 Axes>"
      ]
     },
     "metadata": {
      "needs_background": "light"
     },
     "output_type": "display_data"
    },
    {
     "data": {
      "image/png": "[encoded data removed]",
      "text/plain": [
       "<Figure size 720x360 with 1 Axes>"
      ]
     },
     "metadata": {
      "needs_background": "light"
     },
     "output_type": "display_data"
    }
   ],
   "source": [
    "title=['minutes','sms_count','gb_count','income_rub']\n",
    "tariffs = ['ultra','smart']\n",
    "\n",
    "for column in title:\n",
    "    merged_data.loc[merged_data.loc[:,'tariff'] == 'smart'][\n",
    "        column].plot(kind = 'hist', bins = 30, label = 'smart', color = 'y', figsize = (10,5))\n",
    "    merged_data.loc[merged_data.loc[:,'tariff'] == \"ultra\"][\n",
    "        column].plot(kind = 'hist', bins = 30, alpha =0.5, label = 'ultra', color = 'g', figsize = (10,5))\n",
    "        \n",
    "    plt.title(column)\n",
    "    plt.ylabel('count')\n",
    "    plt.legend()\n",
    "    plt.show()"
   ]
  },
  {
   "cell_type": "markdown",
   "metadata": {},
   "source": [
    "Согласно нашим гистограммам можно сделать несколько выводов:\n",
    "\n",
    "* Минуты. Согласно гистограмме мы можем видеть, что длиннее всего разговоры у пользователей тарифом SMART, хотя пакет минут меньше в 6 раз и каждая минута разговора стоит в 3 раза дороже, чем на тарифе ULTRA. Можно предложить таким абонентам перейти на тариф ULTRA. \n",
    "\n",
    "* Сообщения. Общая тенденция показывает, что основная масса абонентов отправляет от 1 до 75 сообщений в месяц. Пользователи тарифа SMART чаще выходят за рамки пакета в 50 сообщений, то есть чаще приносят дополнительный доход компании.\n",
    "\n",
    "* Интернет-трафик. Мы видим, что в среднем пользователи тарифа SMART используют около 17гб интернет-трафика в месяц, а в ULTRA около 20гб. То есть в целом пользователи тарифа SMART в этом пункте тоже приносят дополнительный доход от превышения трафика. \n",
    "\n",
    "* Суммарные траты. Мы видим, что в основном людям хватает лимитов по тарифным планам, и пики у нас идут по оплатам 550 и 1950 руб соответственно. Но также, мы видим, что есть абоненты, которые оплачивают превышения тарифа сверх стоимости, но переплата небольшая, то есть мотивации перейти на другой тариф всё же скорее всего не появится. Исключение составляют лишь пользователи, которые платят свыше 1950 рублей за тариф SMART - им стоит предложить перейти на тариф ULTRA."
   ]
  },
  {
   "cell_type": "markdown",
   "metadata": {},
   "source": [
    "### Посмотрим на показатели пакетных услуг по каждому тарифу помесячно."
   ]
  },
  {
   "cell_type": "markdown",
   "metadata": {},
   "source": [
    "Начнем с общей выручки:"
   ]
  },
  {
   "cell_type": "code",
   "execution_count": 66,
   "metadata": {},
   "outputs": [
    {
     "data": {
      "image/png": "[encoded data removed]",
      "text/plain": [
       "<Figure size 432x288 with 1 Axes>"
      ]
     },
     "metadata": {
      "needs_background": "light"
     },
     "output_type": "display_data"
    }
   ],
   "source": [
    "ax = sns.barplot(x='month', y='income_rub', data=merged_data, hue='tariff', palette='cool')"
   ]
  },
  {
   "cell_type": "markdown",
   "metadata": {},
   "source": [
    "Можно заметить, что пользователи тарифа ULTRA в среднем практически не выбиваются из лимита пакетных услуг, которые включены в тариф. А вот абоненты SMART очень часто превышают лимит, тем самым принося дополнительную прибыль компании за счет оплаты услуг сверх тарифного плана. Виден уверенный рост объемов выручки по тарифу SMART от начала года к концу. "
   ]
  },
  {
   "cell_type": "markdown",
   "metadata": {},
   "source": [
    "Теперь посмотрим на количество минут, вспомнив, какие объемы пакетных услуг у нас есть:"
   ]
  },
  {
   "cell_type": "code",
   "execution_count": 67,
   "metadata": {},
   "outputs": [
    {
     "data": {
      "text/html": [
       "<div>\n",
       "<style scoped>\n",
       "    .dataframe tbody tr th:only-of-type {\n",
       "        vertical-align: middle;\n",
       "    }\n",
       "\n",
       "    .dataframe tbody tr th {\n",
       "        vertical-align: top;\n",
       "    }\n",
       "\n",
       "    .dataframe thead th {\n",
       "        text-align: right;\n",
       "    }\n",
       "</style>\n",
       "<table border=\"1\" class=\"dataframe\">\n",
       "  <thead>\n",
       "    <tr style=\"text-align: right;\">\n",
       "      <th></th>\n",
       "      <th>messages_included</th>\n",
       "      <th>mb_per_month_included</th>\n",
       "      <th>minutes_included</th>\n",
       "      <th>rub_monthly_fee</th>\n",
       "      <th>rub_per_gb</th>\n",
       "      <th>rub_per_message</th>\n",
       "      <th>rub_per_minute</th>\n",
       "      <th>tariff_name</th>\n",
       "      <th>gb_per_month_included</th>\n",
       "    </tr>\n",
       "  </thead>\n",
       "  <tbody>\n",
       "    <tr>\n",
       "      <th>0</th>\n",
       "      <td>50</td>\n",
       "      <td>15360</td>\n",
       "      <td>500</td>\n",
       "      <td>550</td>\n",
       "      <td>200</td>\n",
       "      <td>3</td>\n",
       "      <td>3</td>\n",
       "      <td>smart</td>\n",
       "      <td>15.0</td>\n",
       "    </tr>\n",
       "    <tr>\n",
       "      <th>1</th>\n",
       "      <td>1000</td>\n",
       "      <td>30720</td>\n",
       "      <td>3000</td>\n",
       "      <td>1950</td>\n",
       "      <td>150</td>\n",
       "      <td>1</td>\n",
       "      <td>1</td>\n",
       "      <td>ultra</td>\n",
       "      <td>30.0</td>\n",
       "    </tr>\n",
       "  </tbody>\n",
       "</table>\n",
       "</div>"
      ],
      "text/plain": [
       "   messages_included  mb_per_month_included  minutes_included  \\\n",
       "0                 50                  15360               500   \n",
       "1               1000                  30720              3000   \n",
       "\n",
       "   rub_monthly_fee  rub_per_gb  rub_per_message  rub_per_minute tariff_name  \\\n",
       "0              550         200                3               3       smart   \n",
       "1             1950         150                1               1       ultra   \n",
       "\n",
       "   gb_per_month_included  \n",
       "0                   15.0  \n",
       "1                   30.0  "
      ]
     },
     "execution_count": 67,
     "metadata": {},
     "output_type": "execute_result"
    }
   ],
   "source": [
    "tariffs_data"
   ]
  },
  {
   "cell_type": "code",
   "execution_count": 68,
   "metadata": {
    "scrolled": true
   },
   "outputs": [
    {
     "data": {
      "image/png": "[encoded data removed]",
      "text/plain": [
       "<Figure size 432x288 with 1 Axes>"
      ]
     },
     "metadata": {
      "needs_background": "light"
     },
     "output_type": "display_data"
    }
   ],
   "source": [
    "ax = sns.barplot(x='month', y='minutes', data=merged_data, hue='tariff', palette='cool')"
   ]
  },
  {
   "cell_type": "code",
   "execution_count": 69,
   "metadata": {},
   "outputs": [
    {
     "data": {
      "image/png": "[encoded data removed]",
      "text/plain": [
       "<Figure size 432x288 with 1 Axes>"
      ]
     },
     "metadata": {
      "needs_background": "light"
     },
     "output_type": "display_data"
    }
   ],
   "source": [
    "ax = sns.barplot(x='month', y='calls', data=merged_data, hue='tariff', palette='cool')"
   ]
  },
  {
   "cell_type": "markdown",
   "metadata": {},
   "source": [
    "Пользователи обоих тарифов в среднем не превышают свои пакеты минут, но абоненты тарифа ULTRA совершают больше звонков, а у абонентов SMART телефонные разговоры длиннее."
   ]
  },
  {
   "cell_type": "code",
   "execution_count": 70,
   "metadata": {
    "scrolled": true
   },
   "outputs": [
    {
     "data": {
      "image/png": "[encoded data removed]",
      "text/plain": [
       "<Figure size 432x288 with 1 Axes>"
      ]
     },
     "metadata": {
      "needs_background": "light"
     },
     "output_type": "display_data"
    }
   ],
   "source": [
    "ax = sns.barplot(x='month', y='sms_count', data=merged_data, hue='tariff', palette='cool')"
   ]
  },
  {
   "cell_type": "markdown",
   "metadata": {},
   "source": [
    "По графику виден рост среднего объёма отправляемых сообщений у пользователей тарифа ULTRA с мая по декабрь, в то время как пользователи SMART вышли на плато в мае месяце и средний объем отправляемых сообщений не меняется, то есть пересматривать объем пакета сообщений в тарифе не требуется. "
   ]
  },
  {
   "cell_type": "code",
   "execution_count": 71,
   "metadata": {
    "scrolled": true
   },
   "outputs": [
    {
     "data": {
      "image/png": "[encoded data removed]",
      "text/plain": [
       "<Figure size 432x288 with 1 Axes>"
      ]
     },
     "metadata": {
      "needs_background": "light"
     },
     "output_type": "display_data"
    }
   ],
   "source": [
    "ax = sns.barplot(x='month', y='gb_count', data=merged_data, hue='tariff', palette='cool')"
   ]
  },
  {
   "cell_type": "markdown",
   "metadata": {},
   "source": [
    "Анализ объема интернет-трафика дает возможность оценить, что в среднем пользователи тарифа SMART чаще выходят за рамки предоставляемого пакета трафика, тем самым оплачивая услуги сверх тарифного плана. В целом по выборке можно судить, что тарифный план SMART более прибыльный для компании. "
   ]
  },
  {
   "cell_type": "markdown",
   "metadata": {},
   "source": [
    "## Проверка гипотез"
   ]
  },
  {
   "cell_type": "markdown",
   "metadata": {},
   "source": [
    "В этом пункте нам предстоит проверить две гипотезы:\n",
    "* средняя выручка пользователей тарифов «Ультра» и «Смарт» различаются;\n",
    "* средняя выручка пользователей из Москвы отличается от выручки пользователей из других регионов.\n",
    "\n",
    "Пороговое значение *alpha* будем использовать равным 0.01, т.к. уровень достоверности наших данных достаточно высок."
   ]
  },
  {
   "cell_type": "markdown",
   "metadata": {},
   "source": [
    "### Проверим первую гипотезу: cредняя выручка пользователей тарифов «Ультра» и «Смарт» различаются."
   ]
  },
  {
   "cell_type": "markdown",
   "metadata": {},
   "source": [
    "* Нулевая гипотеза: средняя выручка пользователей тарифов «Ультра» и «Смарт» равны.\n",
    "* Альтернативная гипотеза: средняя выручка пользователей тарифов «Ультра» и «Смарт» различается."
   ]
  },
  {
   "cell_type": "markdown",
   "metadata": {},
   "source": [
    "Создадим две выборки - отсортируем значения выручки по каждому тарифу и сохраним в соответствующие переменные:"
   ]
  },
  {
   "cell_type": "code",
   "execution_count": 72,
   "metadata": {},
   "outputs": [],
   "source": [
    "smart_income = merged_data.query('tariff ==\"smart\"')['income_rub'].values\n",
    "ultra_income = merged_data.query('tariff ==\"ultra\"')['income_rub'].values"
   ]
  },
  {
   "cell_type": "markdown",
   "metadata": {},
   "source": [
    "Мы будем проверять гипотезу о равенстве среднего двух генеральных совокупностей по взятым из них выборкам, поэтому будем использовать метод st.ttest_ind и укажем, что дисперсии не равны:"
   ]
  },
  {
   "cell_type": "code",
   "execution_count": 73,
   "metadata": {},
   "outputs": [
    {
     "name": "stdout",
     "output_type": "stream",
     "text": [
      "p-значение: 4.2606313931076085e-250\n",
      "Отвергаем нулевую гипотезу\n"
     ]
    }
   ],
   "source": [
    "alpha = .01\n",
    "results = st.ttest_ind(smart_income, ultra_income, equal_var = False)\n",
    "print('p-значение:', results.pvalue)\n",
    "\n",
    "if (results.pvalue < alpha):\n",
    "    print('Отвергаем нулевую гипотезу')\n",
    "else:\n",
    "    print('Не получилось отвергнуть нулевую гипотезу')"
   ]
  },
  {
   "cell_type": "markdown",
   "metadata": {},
   "source": [
    "Уровень значимости между сравниваемыми значениями достаточно велик, нулевую гипотезу отвергаем, принимаем альтернативную гипотезу - средняя выручка пользователей тарифов «Ультра» и «Смарт» различается"
   ]
  },
  {
   "cell_type": "markdown",
   "metadata": {},
   "source": [
    "Также напомним себе про средние выручки, чтобы наглядно убедиться в исходе эксперимента:"
   ]
  },
  {
   "cell_type": "code",
   "execution_count": 74,
   "metadata": {},
   "outputs": [
    {
     "data": {
      "text/html": [
       "<div>\n",
       "<style scoped>\n",
       "    .dataframe tbody tr th:only-of-type {\n",
       "        vertical-align: middle;\n",
       "    }\n",
       "\n",
       "    .dataframe tbody tr th {\n",
       "        vertical-align: top;\n",
       "    }\n",
       "\n",
       "    .dataframe thead th {\n",
       "        text-align: right;\n",
       "    }\n",
       "</style>\n",
       "<table border=\"1\" class=\"dataframe\">\n",
       "  <thead>\n",
       "    <tr style=\"text-align: right;\">\n",
       "      <th></th>\n",
       "      <th>income_rub</th>\n",
       "    </tr>\n",
       "    <tr>\n",
       "      <th>tariff</th>\n",
       "      <th></th>\n",
       "    </tr>\n",
       "  </thead>\n",
       "  <tbody>\n",
       "    <tr>\n",
       "      <th>smart</th>\n",
       "      <td>1289.973531</td>\n",
       "    </tr>\n",
       "    <tr>\n",
       "      <th>ultra</th>\n",
       "      <td>2070.152284</td>\n",
       "    </tr>\n",
       "  </tbody>\n",
       "</table>\n",
       "</div>"
      ],
      "text/plain": [
       "         income_rub\n",
       "tariff             \n",
       "smart   1289.973531\n",
       "ultra   2070.152284"
      ]
     },
     "execution_count": 74,
     "metadata": {},
     "output_type": "execute_result"
    }
   ],
   "source": [
    "merged_data.groupby(['tariff'])['income_rub'].mean().to_frame()"
   ]
  },
  {
   "cell_type": "markdown",
   "metadata": {},
   "source": [
    "Наглядно тоже можно сделать выбор в пользу альтернативной гипотезы. "
   ]
  },
  {
   "cell_type": "markdown",
   "metadata": {},
   "source": [
    "### Проверим вторую гипотезу: средняя выручка пользователей из Москвы отличается от выручки пользователей из других регионов."
   ]
  },
  {
   "cell_type": "markdown",
   "metadata": {},
   "source": [
    "* Нулевая гипотеза: средняя выручка пользователей из Москвы и пользователей из других регионов тарифов «Ультра» и «Смарт» не различается.\n",
    "* Альтернативная гипотеза: средняя выручка пользователей из Москвы и пользователей из других регионов тарифов «Ультра» и «Смарт» различается."
   ]
  },
  {
   "cell_type": "markdown",
   "metadata": {},
   "source": [
    "Создадим две выборки - таблицы с населенными пунктами: отдельно Москва и отдельно все остальные населенные пункты:"
   ]
  },
  {
   "cell_type": "code",
   "execution_count": 75,
   "metadata": {},
   "outputs": [],
   "source": [
    "moscow_income = merged_data.query('city == \"Москва\"')['income_rub'].values\n",
    "locality_income = merged_data.query('city != \"Москва\"')['income_rub'].values"
   ]
  },
  {
   "cell_type": "markdown",
   "metadata": {},
   "source": [
    "Снова будем использовать метод st.ttest_ind и укажем, что дисперсии не равны:"
   ]
  },
  {
   "cell_type": "code",
   "execution_count": 76,
   "metadata": {},
   "outputs": [
    {
     "name": "stdout",
     "output_type": "stream",
     "text": [
      "p-значение: 0.5257376663729298\n",
      "Не получилось отвергнуть нулевую гипотезу\n"
     ]
    }
   ],
   "source": [
    "alpha = 0.01\n",
    "results = st.ttest_ind(moscow_income, locality_income, equal_var = False)\n",
    "print('p-значение:', results.pvalue)\n",
    "\n",
    "if (results.pvalue < alpha): \n",
    "    print('Отвергаем нулевую гипотезу')\n",
    "else:\n",
    "    print('Не получилось отвергнуть нулевую гипотезу')"
   ]
  },
  {
   "cell_type": "markdown",
   "metadata": {},
   "source": [
    "Не получилось отвергнуть нулевую гипотезу - средняя выручка пользователей из Москвы и пользователей из других регионов тарифов «Ультра» и «Смарт» не различается, то есть местонахождение абонента не влияет на среднюю выручку. Посмотрим, как это выглядит на графике:"
   ]
  },
  {
   "cell_type": "code",
   "execution_count": 77,
   "metadata": {},
   "outputs": [
    {
     "data": {
      "text/plain": [
       "Text(0, 0.5, 'Города')"
      ]
     },
     "execution_count": 77,
     "metadata": {},
     "output_type": "execute_result"
    },
    {
     "data": {
      "image/png": "[encoded data removed]",
      "text/plain": [
       "<Figure size 432x288 with 1 Axes>"
      ]
     },
     "metadata": {
      "needs_background": "light"
     },
     "output_type": "display_data"
    }
   ],
   "source": [
    "ax = merged_data['income_rub'][merged_data['city'] == 'Москва'].plot(\n",
    "    kind='hist',\n",
    "    range=(500, 2000),\n",
    "    bins=10,\n",
    "    linewidth=5,\n",
    "    alpha=0.5,\n",
    "    title= 'сравнение выручки в Москве и других городах',\n",
    "    label='Москва',\n",
    "    color='purple',\n",
    "    legend=True\n",
    ")\n",
    "merged_data['income_rub'][merged_data['city'] != 'Москва'].plot(\n",
    "    kind='hist',\n",
    "    range=(500, 2000),\n",
    "    bins=10,\n",
    "    linewidth=5,\n",
    "    alpha=0.5,\n",
    "    label='Другие города',\n",
    "    ax=ax,\n",
    "    grid=True,\n",
    "    legend=True\n",
    ") \n",
    "plt.xlabel('Выручка за месяц, руб', fontsize=10, color='black')\n",
    "plt.ylabel('Города', fontsize=10, color='black')"
   ]
  },
  {
   "cell_type": "markdown",
   "metadata": {},
   "source": [
    "По нашей гистограмме также заметно, что у абонентов из других регионов численное преимущество, а в целом пики идентичны и нет отличий в средней выручке по регионам. "
   ]
  },
  {
   "cell_type": "markdown",
   "metadata": {},
   "source": [
    "## Общий вывод"
   ]
  },
  {
   "attachments": {
    "image-2.png": {
     "image/png": "[encoded data removed]"
    },
    "image-3.png": {
     "image/png": "[encoded data removed]"
    },
    "image-4.png": {
     "image/png": "[encoded data removed]"
    },
    "image-5.png": {
     "image/png": "[encoded data removed]"
    },
    "image-6.png": {
     "image/png": "[encoded data removed]"
    },
    "image-7.png": {
     "image/png": "[encoded data removed]"
    },
    "image-8.png": {
     "image/png": "[encoded data removed]"
    },
    "image-9.png": {
     "image/png": "[encoded data removed]"
    },
    "image.png": {
     "image/png": "[encoded data removed]"
    }
   },
   "cell_type": "markdown",
   "metadata": {},
   "source": [
    "В данном исследовании были проанализированы массивы данных с информацией по двум тарифным планам оператора сотовой связи. В процессе предобработки данных были найдены и заменены пропуски, исправлены типы данных и удален столбец, дублирующий индексы в таблице - он нам не нужен для расчетов. \n",
    "\n",
    "1. В процессе исследования были рассчитаны и добавлены в таблицы следующие данные: \n",
    "\n",
    "* Расчёт, добавление и округление интернет-трафика из МБ в ГБ;\n",
    "* Подсчет количества сделанных звонков и израсходованных минут разговора по месяцам;\n",
    "* Подсчёт количества отправленных сообщений по месяцам;\n",
    "* Подсчёт помесячной выручки с каждого пользователя.\n",
    "\n",
    "2. В ходе анализа данных пункте мы описали поведение клиентов оператора, исходя из выборки и построили гистограммы:\n",
    "\n",
    "Минуты. Согласно гистограмме мы можем видеть, что длиннее всего разговоры у пользователей тарифом SMART, хотя пакет минут меньше в 6 раз и каждая минута разговора стоит в 3 раза дороже, чем на тарифе ULTRA. Можно предложить таким абонентам перейти на тариф ULTRA.\n",
    "\n",
    "![image.png](attachment:image.png)\n",
    "\n",
    "Сообщения. Общая тенденция показывает, что основная масса абонентов отправляет от 1 до 75 сообщений в месяц. Пользователи тарифа SMART чаще выходят за рамки пакета в 50 сообщений, то есть чаще приносят дополнительный доход компании.\n",
    "\n",
    "![image-2.png](attachment:image-2.png)\n",
    "\n",
    "Интернет-трафик. Мы видим, что в среднем пользователи тарифа SMART используют около 17гб интернет-трафика в месяц, а в ULTRA около 20гб. То есть в целом пользователи тарифа SMART в этом пункте тоже приносят дополнительный доход от превышения трафика.\n",
    "\n",
    "![image-3.png](attachment:image-3.png)\n",
    "\n",
    "Суммарные траты. Мы видим, что в основном людям хватает лимитов по тарифным планам, и пики у нас идут по оплатам 550 и 1950 руб соответственно. Но также, мы видим, что есть абоненты, которые оплачивают превышения тарифа сверх стоимости, но переплата небольшая, то есть мотивации перейти на другой тариф всё же скорее всего не появится. Исключение составляют лишь пользователи, которые платят свыше 1950 рублей за тариф SMART - им стоит предложить перейти на тариф ULTRA.\n",
    "\n",
    "![image-4.png](attachment:image-4.png)\n",
    "\n",
    "3. Посмотрели на показатели пакетных услуг по каждому тарифу помесячно:\n",
    "\n",
    "Можно заметить, что пользователи тарифа ULTRA в среднем практически не выбиваются из лимита пакетных услуг, которые включены в тариф. А вот абоненты SMART очень часто превышают лимит, тем самым принося дополнительную прибыль компании за счет оплаты услуг сверх тарифного плана. Виден уверенный рост объемов выручки по тарифу SMART от начала года к концу.\n",
    "\n",
    "![image-5.png](attachment:image-5.png)\n",
    "\n",
    "Пользователи обоих тарифов в среднем не превышают свои пакеты минут, но абоненты тарифа ULTRA совершают больше звонков, а у абонентов SMART телефонные разговоры длиннее.\n",
    "\n",
    "![image-6.png](attachment:image-6.png), ![image-7.png](attachment:image-7.png)\n",
    "\n",
    "По графику виден рост среднего объёма отправляемых сообщений у пользователей тарифа ULTRA с мая по декабрь, в то время как пользователи SMART вышли на плато в мае месяце и средний объем отправляемых сообщений не меняется, то есть пересматривать объем пакета сообщений в тарифе не требуется.\n",
    "\n",
    "![image-8.png](attachment:image-8.png)\n",
    "\n",
    "Анализ объема интернет-трафика дает возможность оценить, что в среднем пользователи тарифа SMART чаще выходят за рамки предоставляемого пакета трафика, тем самым оплачивая услуги сверх тарифного плана. В целом по выборке можно судить, что тарифный план SMART более прибыльный для компании.\n",
    "\n",
    "![image-9.png](attachment:image-9.png)\n",
    "\n",
    "\n",
    "4. Также мы проверили 2 гипотезы и пришли к выводам:\n",
    "\n",
    "* Cредняя выручка пользователей тарифов «Ультра» и «Смарт» различается\n",
    "* Cредняя выручка пользователей из Москвы и пользователей из других регионов тарифов «Ультра» и «Смарт» не различается, то есть местонахождение абонента не влияет на среднюю выручку\n",
    "\n",
    "Анализ показал, что условия и пакетные опции тарифа SMART подходят для большинства пользователей этим тарифом. И для многих даже при превышении пакетных опции тариф остаётся более выгодным, нежели тариф ULTRA. Только для совсем небольшого количества клиентов предложение перейти на тарифный план ULTRA будет резонным. \n",
    "\n",
    "Тариф ULTRA подходит для клиентов, много и долго разговаривающих по телефону и пользующихся интернет-трафиком в больших объемах. \n",
    "\n",
    "Изучив поведение клиентов можно сделать сделать вывод, что тарифный план SMART приносит больше прибыли и является более выгодным для компании в целом, т.к. его абоненты часто переплачивают сверх лимита, в отличие от абонентов ULTRA, которые редко превышают объемы пакетных опций, и стоимость минуты разговоры и интернет-трафика в нём в три раза ниже."
   ]
  }
 ],
 "metadata": {
  "ExecuteTimeLog": [
   {
    "duration": 3,
    "start_time": "2022-06-02T04:09:51.542Z"
   },
   {
    "duration": 1301,
    "start_time": "2022-06-02T04:26:14.304Z"
   },
   {
    "duration": 211,
    "start_time": "2022-06-02T04:26:56.096Z"
   },
   {
    "duration": 23,
    "start_time": "2022-06-02T04:27:14.658Z"
   },
   {
    "duration": 303,
    "start_time": "2022-06-02T04:36:27.095Z"
   },
   {
    "duration": 18,
    "start_time": "2022-06-02T04:36:38.766Z"
   },
   {
    "duration": 321,
    "start_time": "2022-06-02T04:41:52.430Z"
   },
   {
    "duration": 18,
    "start_time": "2022-06-02T04:42:06.350Z"
   },
   {
    "duration": 70,
    "start_time": "2022-06-02T04:45:31.761Z"
   },
   {
    "duration": 27,
    "start_time": "2022-06-02T04:48:05.512Z"
   },
   {
    "duration": 27,
    "start_time": "2022-06-02T04:49:39.961Z"
   },
   {
    "duration": 10,
    "start_time": "2022-06-02T04:50:17.179Z"
   },
   {
    "duration": 88,
    "start_time": "2022-06-02T04:54:25.766Z"
   },
   {
    "duration": 11,
    "start_time": "2022-06-02T04:54:37.694Z"
   },
   {
    "duration": 156,
    "start_time": "2022-06-02T05:31:09.321Z"
   },
   {
    "duration": 22,
    "start_time": "2022-06-02T05:31:09.514Z"
   },
   {
    "duration": 3,
    "start_time": "2022-06-02T05:31:35.393Z"
   },
   {
    "duration": 11,
    "start_time": "2022-06-02T05:36:01.438Z"
   },
   {
    "duration": 153,
    "start_time": "2022-06-02T05:36:37.187Z"
   },
   {
    "duration": 22,
    "start_time": "2022-06-02T05:36:37.403Z"
   },
   {
    "duration": 1015,
    "start_time": "2022-06-02T05:36:43.335Z"
   },
   {
    "duration": 40,
    "start_time": "2022-06-02T05:36:44.352Z"
   },
   {
    "duration": 12,
    "start_time": "2022-06-02T05:36:44.393Z"
   },
   {
    "duration": 146,
    "start_time": "2022-06-02T05:36:44.406Z"
   },
   {
    "duration": 23,
    "start_time": "2022-06-02T05:36:44.554Z"
   },
   {
    "duration": 114,
    "start_time": "2022-06-02T05:36:44.578Z"
   },
   {
    "duration": 20,
    "start_time": "2022-06-02T05:36:44.694Z"
   },
   {
    "duration": 80,
    "start_time": "2022-06-02T05:36:44.715Z"
   },
   {
    "duration": 16,
    "start_time": "2022-06-02T05:36:44.797Z"
   },
   {
    "duration": 15,
    "start_time": "2022-06-02T05:36:44.815Z"
   },
   {
    "duration": 9,
    "start_time": "2022-06-02T05:36:44.831Z"
   },
   {
    "duration": 10,
    "start_time": "2022-06-02T05:37:42.377Z"
   },
   {
    "duration": 8,
    "start_time": "2022-06-02T05:38:13.207Z"
   },
   {
    "duration": 7,
    "start_time": "2022-06-02T05:38:36.339Z"
   },
   {
    "duration": 8,
    "start_time": "2022-06-02T05:43:50.760Z"
   },
   {
    "duration": 64,
    "start_time": "2022-06-02T05:50:16.916Z"
   },
   {
    "duration": 23,
    "start_time": "2022-06-02T05:50:27.707Z"
   },
   {
    "duration": 108,
    "start_time": "2022-06-02T05:50:38.902Z"
   },
   {
    "duration": 32,
    "start_time": "2022-06-02T05:50:54.443Z"
   },
   {
    "duration": 14,
    "start_time": "2022-06-02T05:51:20.396Z"
   },
   {
    "duration": 10,
    "start_time": "2022-06-02T05:56:44.964Z"
   },
   {
    "duration": 10,
    "start_time": "2022-06-02T05:58:03.756Z"
   },
   {
    "duration": 36,
    "start_time": "2022-06-02T05:58:54.831Z"
   },
   {
    "duration": 10,
    "start_time": "2022-06-02T05:58:57.097Z"
   },
   {
    "duration": 10,
    "start_time": "2022-06-02T05:59:00.690Z"
   },
   {
    "duration": 15,
    "start_time": "2022-06-02T06:00:11.725Z"
   },
   {
    "duration": 5,
    "start_time": "2022-06-02T06:00:34.360Z"
   },
   {
    "duration": 10,
    "start_time": "2022-06-02T06:02:56.775Z"
   },
   {
    "duration": 4,
    "start_time": "2022-06-02T06:05:02.156Z"
   },
   {
    "duration": 99,
    "start_time": "2022-06-02T06:05:50.108Z"
   },
   {
    "duration": 5,
    "start_time": "2022-06-02T06:05:51.877Z"
   },
   {
    "duration": 9,
    "start_time": "2022-06-02T06:06:03.259Z"
   },
   {
    "duration": 10,
    "start_time": "2022-06-02T06:06:13.343Z"
   },
   {
    "duration": 28,
    "start_time": "2022-06-02T06:06:24.645Z"
   },
   {
    "duration": 8,
    "start_time": "2022-06-02T06:06:27.311Z"
   },
   {
    "duration": 9,
    "start_time": "2022-06-02T06:06:35.021Z"
   },
   {
    "duration": 12,
    "start_time": "2022-06-02T06:06:39.495Z"
   },
   {
    "duration": 100,
    "start_time": "2022-06-02T06:06:50.319Z"
   },
   {
    "duration": 10,
    "start_time": "2022-06-02T06:06:56.822Z"
   },
   {
    "duration": 8,
    "start_time": "2022-06-02T06:07:30.947Z"
   },
   {
    "duration": 9,
    "start_time": "2022-06-02T06:07:35.902Z"
   },
   {
    "duration": 10,
    "start_time": "2022-06-02T06:07:43.295Z"
   },
   {
    "duration": 2,
    "start_time": "2022-06-02T06:08:17.753Z"
   },
   {
    "duration": 7,
    "start_time": "2022-06-02T06:18:29.789Z"
   },
   {
    "duration": 13,
    "start_time": "2022-06-02T06:18:43.465Z"
   },
   {
    "duration": 5,
    "start_time": "2022-06-02T06:19:08.504Z"
   },
   {
    "duration": 5,
    "start_time": "2022-06-02T06:19:18.608Z"
   },
   {
    "duration": 17,
    "start_time": "2022-06-02T06:40:42.067Z"
   },
   {
    "duration": 32,
    "start_time": "2022-06-02T06:42:44.950Z"
   },
   {
    "duration": 27,
    "start_time": "2022-06-02T06:43:21.058Z"
   },
   {
    "duration": 22,
    "start_time": "2022-06-02T06:44:32.235Z"
   },
   {
    "duration": 16,
    "start_time": "2022-06-02T06:44:38.071Z"
   },
   {
    "duration": 5,
    "start_time": "2022-06-02T06:51:12.707Z"
   },
   {
    "duration": 11,
    "start_time": "2022-06-02T06:52:37.709Z"
   },
   {
    "duration": 9,
    "start_time": "2022-06-02T06:54:50.353Z"
   },
   {
    "duration": 3,
    "start_time": "2022-06-02T06:58:15.708Z"
   },
   {
    "duration": 12,
    "start_time": "2022-06-02T06:58:47.667Z"
   },
   {
    "duration": 1049,
    "start_time": "2022-06-02T06:58:55.329Z"
   },
   {
    "duration": 44,
    "start_time": "2022-06-02T06:58:56.380Z"
   },
   {
    "duration": 13,
    "start_time": "2022-06-02T06:58:56.425Z"
   },
   {
    "duration": 10,
    "start_time": "2022-06-02T06:58:56.439Z"
   },
   {
    "duration": 143,
    "start_time": "2022-06-02T06:58:56.451Z"
   },
   {
    "duration": 10,
    "start_time": "2022-06-02T06:58:56.602Z"
   },
   {
    "duration": 23,
    "start_time": "2022-06-02T06:58:56.614Z"
   },
   {
    "duration": 116,
    "start_time": "2022-06-02T06:58:56.639Z"
   },
   {
    "duration": 9,
    "start_time": "2022-06-02T06:58:56.757Z"
   },
   {
    "duration": 32,
    "start_time": "2022-06-02T06:58:56.769Z"
   },
   {
    "duration": 78,
    "start_time": "2022-06-02T06:58:56.808Z"
   },
   {
    "duration": 14,
    "start_time": "2022-06-02T06:58:56.887Z"
   },
   {
    "duration": 22,
    "start_time": "2022-06-02T06:58:56.903Z"
   },
   {
    "duration": 15,
    "start_time": "2022-06-02T06:58:56.927Z"
   },
   {
    "duration": 7,
    "start_time": "2022-06-02T06:58:56.943Z"
   },
   {
    "duration": 11,
    "start_time": "2022-06-02T06:58:56.951Z"
   },
   {
    "duration": 8,
    "start_time": "2022-06-02T06:58:56.963Z"
   },
   {
    "duration": 6,
    "start_time": "2022-06-02T06:58:56.972Z"
   },
   {
    "duration": 78,
    "start_time": "2022-06-02T06:58:56.979Z"
   },
   {
    "duration": 13,
    "start_time": "2022-06-02T06:58:57.058Z"
   },
   {
    "duration": 53,
    "start_time": "2022-06-02T06:58:57.073Z"
   },
   {
    "duration": 9,
    "start_time": "2022-06-02T06:58:57.129Z"
   },
   {
    "duration": 113,
    "start_time": "2022-06-02T06:58:57.139Z"
   },
   {
    "duration": 0,
    "start_time": "2022-06-02T06:58:57.254Z"
   },
   {
    "duration": 10,
    "start_time": "2022-06-02T06:59:35.418Z"
   },
   {
    "duration": 62,
    "start_time": "2022-06-02T07:01:20.337Z"
   },
   {
    "duration": 10,
    "start_time": "2022-06-02T07:01:22.909Z"
   },
   {
    "duration": 11,
    "start_time": "2022-06-02T07:01:29.542Z"
   },
   {
    "duration": 11,
    "start_time": "2022-06-02T07:02:16.771Z"
   },
   {
    "duration": 10,
    "start_time": "2022-06-02T07:02:20.920Z"
   },
   {
    "duration": 11,
    "start_time": "2022-06-02T07:02:57.384Z"
   },
   {
    "duration": 35,
    "start_time": "2022-06-02T07:03:07.838Z"
   },
   {
    "duration": 11,
    "start_time": "2022-06-02T07:03:27.902Z"
   },
   {
    "duration": 12,
    "start_time": "2022-06-02T07:04:25.374Z"
   },
   {
    "duration": 12,
    "start_time": "2022-06-02T07:04:31.231Z"
   },
   {
    "duration": 12,
    "start_time": "2022-06-02T07:04:36.040Z"
   },
   {
    "duration": 421,
    "start_time": "2022-06-02T07:04:48.816Z"
   },
   {
    "duration": 6,
    "start_time": "2022-06-02T07:04:56.170Z"
   },
   {
    "duration": 8,
    "start_time": "2022-06-02T07:05:50.936Z"
   },
   {
    "duration": 21,
    "start_time": "2022-06-02T07:06:08.566Z"
   },
   {
    "duration": 11,
    "start_time": "2022-06-02T07:27:58.969Z"
   },
   {
    "duration": 10,
    "start_time": "2022-06-02T07:28:10.451Z"
   },
   {
    "duration": 40,
    "start_time": "2022-06-02T08:35:17.455Z"
   },
   {
    "duration": 31,
    "start_time": "2022-06-02T08:35:32.494Z"
   },
   {
    "duration": 11,
    "start_time": "2022-06-02T08:45:21.256Z"
   },
   {
    "duration": 16,
    "start_time": "2022-06-02T09:03:06.309Z"
   },
   {
    "duration": 6,
    "start_time": "2022-06-02T10:13:52.070Z"
   },
   {
    "duration": 15,
    "start_time": "2022-06-02T10:15:35.860Z"
   },
   {
    "duration": 31,
    "start_time": "2022-06-02T10:23:18.768Z"
   },
   {
    "duration": 36,
    "start_time": "2022-06-02T10:28:26.630Z"
   },
   {
    "duration": 10,
    "start_time": "2022-06-02T10:28:31.991Z"
   },
   {
    "duration": 261,
    "start_time": "2022-06-02T10:29:07.120Z"
   },
   {
    "duration": 11,
    "start_time": "2022-06-02T10:29:20.379Z"
   },
   {
    "duration": 12,
    "start_time": "2022-06-02T10:29:52.437Z"
   },
   {
    "duration": 3,
    "start_time": "2022-06-02T10:30:49.772Z"
   },
   {
    "duration": 10,
    "start_time": "2022-06-02T10:32:20.231Z"
   },
   {
    "duration": 13,
    "start_time": "2022-06-02T10:32:46.388Z"
   },
   {
    "duration": 8,
    "start_time": "2022-06-02T10:32:55.537Z"
   },
   {
    "duration": 9,
    "start_time": "2022-06-02T10:38:19.796Z"
   },
   {
    "duration": 6,
    "start_time": "2022-06-02T10:38:53.439Z"
   },
   {
    "duration": 8,
    "start_time": "2022-06-02T10:39:01.308Z"
   },
   {
    "duration": 6,
    "start_time": "2022-06-02T10:39:08.476Z"
   },
   {
    "duration": 9,
    "start_time": "2022-06-02T10:39:13.871Z"
   },
   {
    "duration": 38,
    "start_time": "2022-06-02T10:43:07.788Z"
   },
   {
    "duration": 8,
    "start_time": "2022-06-02T10:43:11.520Z"
   },
   {
    "duration": 11,
    "start_time": "2022-06-02T10:48:54.622Z"
   },
   {
    "duration": 9,
    "start_time": "2022-06-02T10:52:25.041Z"
   },
   {
    "duration": 9,
    "start_time": "2022-06-02T10:57:58.106Z"
   },
   {
    "duration": 21,
    "start_time": "2022-06-02T10:58:21.612Z"
   },
   {
    "duration": 10,
    "start_time": "2022-06-02T10:58:29.930Z"
   },
   {
    "duration": 55,
    "start_time": "2022-06-02T11:01:47.671Z"
   },
   {
    "duration": 21,
    "start_time": "2022-06-02T11:01:55.089Z"
   },
   {
    "duration": 24,
    "start_time": "2022-06-02T11:02:04.068Z"
   },
   {
    "duration": 36,
    "start_time": "2022-06-02T11:02:51.078Z"
   },
   {
    "duration": 29,
    "start_time": "2022-06-02T11:02:58.295Z"
   },
   {
    "duration": 23,
    "start_time": "2022-06-02T11:03:03.581Z"
   },
   {
    "duration": 584,
    "start_time": "2022-06-02T11:04:28.788Z"
   },
   {
    "duration": 11,
    "start_time": "2022-06-02T11:06:14.295Z"
   },
   {
    "duration": 1014,
    "start_time": "2022-06-02T11:06:28.928Z"
   },
   {
    "duration": 40,
    "start_time": "2022-06-02T11:06:29.943Z"
   },
   {
    "duration": 14,
    "start_time": "2022-06-02T11:06:29.985Z"
   },
   {
    "duration": 11,
    "start_time": "2022-06-02T11:06:30.001Z"
   },
   {
    "duration": 147,
    "start_time": "2022-06-02T11:06:30.013Z"
   },
   {
    "duration": 9,
    "start_time": "2022-06-02T11:06:30.161Z"
   },
   {
    "duration": 32,
    "start_time": "2022-06-02T11:06:30.171Z"
   },
   {
    "duration": 118,
    "start_time": "2022-06-02T11:06:30.205Z"
   },
   {
    "duration": 8,
    "start_time": "2022-06-02T11:06:30.325Z"
   },
   {
    "duration": 28,
    "start_time": "2022-06-02T11:06:30.335Z"
   },
   {
    "duration": 85,
    "start_time": "2022-06-02T11:06:30.365Z"
   },
   {
    "duration": 7,
    "start_time": "2022-06-02T11:06:30.452Z"
   },
   {
    "duration": 24,
    "start_time": "2022-06-02T11:06:30.460Z"
   },
   {
    "duration": 16,
    "start_time": "2022-06-02T11:06:30.491Z"
   },
   {
    "duration": 7,
    "start_time": "2022-06-02T11:06:30.508Z"
   },
   {
    "duration": 18,
    "start_time": "2022-06-02T11:06:30.516Z"
   },
   {
    "duration": 76,
    "start_time": "2022-06-02T11:06:30.536Z"
   },
   {
    "duration": 14,
    "start_time": "2022-06-02T11:06:30.613Z"
   },
   {
    "duration": 40,
    "start_time": "2022-06-02T11:06:30.629Z"
   },
   {
    "duration": 11,
    "start_time": "2022-06-02T11:06:30.670Z"
   },
   {
    "duration": 26,
    "start_time": "2022-06-02T11:06:30.682Z"
   },
   {
    "duration": 17,
    "start_time": "2022-06-02T11:06:30.710Z"
   },
   {
    "duration": 14,
    "start_time": "2022-06-02T11:06:30.728Z"
   },
   {
    "duration": 24,
    "start_time": "2022-06-02T11:06:30.744Z"
   },
   {
    "duration": 32,
    "start_time": "2022-06-02T11:06:30.770Z"
   },
   {
    "duration": 6,
    "start_time": "2022-06-02T11:06:30.804Z"
   },
   {
    "duration": 23,
    "start_time": "2022-06-02T11:06:30.811Z"
   },
   {
    "duration": 16,
    "start_time": "2022-06-02T11:06:30.836Z"
   },
   {
    "duration": 17,
    "start_time": "2022-06-02T11:06:30.854Z"
   },
   {
    "duration": 15,
    "start_time": "2022-06-02T11:06:30.873Z"
   },
   {
    "duration": 12,
    "start_time": "2022-06-02T11:06:30.890Z"
   },
   {
    "duration": 181,
    "start_time": "2022-06-02T11:06:30.903Z"
   },
   {
    "duration": 0,
    "start_time": "2022-06-02T11:06:31.086Z"
   },
   {
    "duration": 0,
    "start_time": "2022-06-02T11:06:31.091Z"
   },
   {
    "duration": 5,
    "start_time": "2022-06-02T11:07:01.556Z"
   },
   {
    "duration": 9,
    "start_time": "2022-06-02T11:07:07.264Z"
   },
   {
    "duration": 8,
    "start_time": "2022-06-02T11:07:18.672Z"
   },
   {
    "duration": 14,
    "start_time": "2022-06-02T11:07:33.762Z"
   },
   {
    "duration": 14,
    "start_time": "2022-06-02T11:07:43.871Z"
   },
   {
    "duration": 13,
    "start_time": "2022-06-02T11:07:48.200Z"
   },
   {
    "duration": 13,
    "start_time": "2022-06-02T11:07:50.067Z"
   },
   {
    "duration": 13,
    "start_time": "2022-06-02T11:08:02.703Z"
   },
   {
    "duration": 1060,
    "start_time": "2022-06-02T11:08:09.220Z"
   },
   {
    "duration": 40,
    "start_time": "2022-06-02T11:08:10.282Z"
   },
   {
    "duration": 12,
    "start_time": "2022-06-02T11:08:10.323Z"
   },
   {
    "duration": 10,
    "start_time": "2022-06-02T11:08:10.337Z"
   },
   {
    "duration": 148,
    "start_time": "2022-06-02T11:08:10.348Z"
   },
   {
    "duration": 8,
    "start_time": "2022-06-02T11:08:10.498Z"
   },
   {
    "duration": 25,
    "start_time": "2022-06-02T11:08:10.507Z"
   },
   {
    "duration": 119,
    "start_time": "2022-06-02T11:08:10.534Z"
   },
   {
    "duration": 8,
    "start_time": "2022-06-02T11:08:10.654Z"
   },
   {
    "duration": 30,
    "start_time": "2022-06-02T11:08:10.664Z"
   },
   {
    "duration": 81,
    "start_time": "2022-06-02T11:08:10.695Z"
   },
   {
    "duration": 7,
    "start_time": "2022-06-02T11:08:10.778Z"
   },
   {
    "duration": 21,
    "start_time": "2022-06-02T11:08:10.786Z"
   },
   {
    "duration": 15,
    "start_time": "2022-06-02T11:08:10.808Z"
   },
   {
    "duration": 7,
    "start_time": "2022-06-02T11:08:10.824Z"
   },
   {
    "duration": 11,
    "start_time": "2022-06-02T11:08:10.833Z"
   },
   {
    "duration": 71,
    "start_time": "2022-06-02T11:08:10.845Z"
   },
   {
    "duration": 15,
    "start_time": "2022-06-02T11:08:10.918Z"
   },
   {
    "duration": 30,
    "start_time": "2022-06-02T11:08:10.935Z"
   },
   {
    "duration": 9,
    "start_time": "2022-06-02T11:08:10.966Z"
   },
   {
    "duration": 6,
    "start_time": "2022-06-02T11:08:10.992Z"
   },
   {
    "duration": 16,
    "start_time": "2022-06-02T11:08:10.999Z"
   },
   {
    "duration": 14,
    "start_time": "2022-06-02T11:08:11.016Z"
   },
   {
    "duration": 21,
    "start_time": "2022-06-02T11:08:11.031Z"
   },
   {
    "duration": 48,
    "start_time": "2022-06-02T11:08:11.053Z"
   },
   {
    "duration": 6,
    "start_time": "2022-06-02T11:08:11.103Z"
   },
   {
    "duration": 24,
    "start_time": "2022-06-02T11:08:11.110Z"
   },
   {
    "duration": 10,
    "start_time": "2022-06-02T11:08:11.137Z"
   },
   {
    "duration": 13,
    "start_time": "2022-06-02T11:08:11.149Z"
   },
   {
    "duration": 29,
    "start_time": "2022-06-02T11:08:11.164Z"
   },
   {
    "duration": 10,
    "start_time": "2022-06-02T11:08:11.195Z"
   },
   {
    "duration": 179,
    "start_time": "2022-06-02T11:08:11.207Z"
   },
   {
    "duration": 0,
    "start_time": "2022-06-02T11:08:11.388Z"
   },
   {
    "duration": 0,
    "start_time": "2022-06-02T11:08:11.389Z"
   },
   {
    "duration": 5,
    "start_time": "2022-06-02T11:08:29.177Z"
   },
   {
    "duration": 5,
    "start_time": "2022-06-02T11:08:40.454Z"
   },
   {
    "duration": 5,
    "start_time": "2022-06-02T11:09:39.401Z"
   },
   {
    "duration": 8,
    "start_time": "2022-06-02T11:09:52.297Z"
   },
   {
    "duration": 10,
    "start_time": "2022-06-02T11:10:11.210Z"
   },
   {
    "duration": 1074,
    "start_time": "2022-06-02T11:10:16.892Z"
   },
   {
    "duration": 42,
    "start_time": "2022-06-02T11:10:17.968Z"
   },
   {
    "duration": 12,
    "start_time": "2022-06-02T11:10:18.012Z"
   },
   {
    "duration": 11,
    "start_time": "2022-06-02T11:10:18.026Z"
   },
   {
    "duration": 142,
    "start_time": "2022-06-02T11:10:18.038Z"
   },
   {
    "duration": 10,
    "start_time": "2022-06-02T11:10:18.182Z"
   },
   {
    "duration": 23,
    "start_time": "2022-06-02T11:10:18.194Z"
   },
   {
    "duration": 118,
    "start_time": "2022-06-02T11:10:18.218Z"
   },
   {
    "duration": 9,
    "start_time": "2022-06-02T11:10:18.338Z"
   },
   {
    "duration": 20,
    "start_time": "2022-06-02T11:10:18.350Z"
   },
   {
    "duration": 89,
    "start_time": "2022-06-02T11:10:18.372Z"
   },
   {
    "duration": 7,
    "start_time": "2022-06-02T11:10:18.462Z"
   },
   {
    "duration": 29,
    "start_time": "2022-06-02T11:10:18.471Z"
   },
   {
    "duration": 16,
    "start_time": "2022-06-02T11:10:18.502Z"
   },
   {
    "duration": 11,
    "start_time": "2022-06-02T11:10:18.519Z"
   },
   {
    "duration": 11,
    "start_time": "2022-06-02T11:10:18.531Z"
   },
   {
    "duration": 79,
    "start_time": "2022-06-02T11:10:18.544Z"
   },
   {
    "duration": 15,
    "start_time": "2022-06-02T11:10:18.625Z"
   },
   {
    "duration": 29,
    "start_time": "2022-06-02T11:10:18.641Z"
   },
   {
    "duration": 9,
    "start_time": "2022-06-02T11:10:18.691Z"
   },
   {
    "duration": 9,
    "start_time": "2022-06-02T11:10:18.702Z"
   },
   {
    "duration": 11,
    "start_time": "2022-06-02T11:10:18.712Z"
   },
   {
    "duration": 15,
    "start_time": "2022-06-02T11:10:18.724Z"
   },
   {
    "duration": 9,
    "start_time": "2022-06-02T11:10:18.740Z"
   },
   {
    "duration": 43,
    "start_time": "2022-06-02T11:10:18.750Z"
   },
   {
    "duration": 27,
    "start_time": "2022-06-02T11:10:18.794Z"
   },
   {
    "duration": 6,
    "start_time": "2022-06-02T11:10:18.822Z"
   },
   {
    "duration": 17,
    "start_time": "2022-06-02T11:10:18.830Z"
   },
   {
    "duration": 5,
    "start_time": "2022-06-02T11:10:18.849Z"
   },
   {
    "duration": 36,
    "start_time": "2022-06-02T11:10:18.856Z"
   },
   {
    "duration": 4,
    "start_time": "2022-06-02T11:10:18.893Z"
   },
   {
    "duration": 7,
    "start_time": "2022-06-02T11:10:18.899Z"
   },
   {
    "duration": 10,
    "start_time": "2022-06-02T11:10:18.907Z"
   },
   {
    "duration": 184,
    "start_time": "2022-06-02T11:10:18.919Z"
   },
   {
    "duration": 0,
    "start_time": "2022-06-02T11:10:19.104Z"
   },
   {
    "duration": 0,
    "start_time": "2022-06-02T11:10:19.106Z"
   },
   {
    "duration": 553,
    "start_time": "2022-06-02T11:13:13.307Z"
   },
   {
    "duration": 46,
    "start_time": "2022-06-02T11:13:36.668Z"
   },
   {
    "duration": 25,
    "start_time": "2022-06-02T11:13:54.587Z"
   },
   {
    "duration": 28,
    "start_time": "2022-06-02T11:14:34.974Z"
   },
   {
    "duration": 22,
    "start_time": "2022-06-02T11:15:02.399Z"
   },
   {
    "duration": 28,
    "start_time": "2022-06-02T11:15:46.676Z"
   },
   {
    "duration": 451,
    "start_time": "2022-06-02T11:16:17.670Z"
   },
   {
    "duration": 38,
    "start_time": "2022-06-02T11:16:22.674Z"
   },
   {
    "duration": 19,
    "start_time": "2022-06-02T11:16:52.116Z"
   },
   {
    "duration": 27,
    "start_time": "2022-06-02T11:17:04.487Z"
   },
   {
    "duration": 12,
    "start_time": "2022-06-02T11:17:19.842Z"
   },
   {
    "duration": 17,
    "start_time": "2022-06-02T11:17:43.522Z"
   },
   {
    "duration": 45,
    "start_time": "2022-06-02T11:18:12.578Z"
   },
   {
    "duration": 55,
    "start_time": "2022-06-02T11:18:31.067Z"
   },
   {
    "duration": 27,
    "start_time": "2022-06-02T11:19:15.979Z"
   },
   {
    "duration": 53,
    "start_time": "2022-06-02T11:22:10.738Z"
   },
   {
    "duration": 11,
    "start_time": "2022-06-02T11:22:24.099Z"
   },
   {
    "duration": 9,
    "start_time": "2022-06-02T11:29:20.483Z"
   },
   {
    "duration": 11,
    "start_time": "2022-06-02T11:30:20.984Z"
   },
   {
    "duration": 1081,
    "start_time": "2022-06-02T11:31:36.804Z"
   },
   {
    "duration": 40,
    "start_time": "2022-06-02T11:31:37.886Z"
   },
   {
    "duration": 12,
    "start_time": "2022-06-02T11:31:37.928Z"
   },
   {
    "duration": 12,
    "start_time": "2022-06-02T11:31:37.942Z"
   },
   {
    "duration": 154,
    "start_time": "2022-06-02T11:31:37.956Z"
   },
   {
    "duration": 9,
    "start_time": "2022-06-02T11:31:38.111Z"
   },
   {
    "duration": 24,
    "start_time": "2022-06-02T11:31:38.121Z"
   },
   {
    "duration": 126,
    "start_time": "2022-06-02T11:31:38.147Z"
   },
   {
    "duration": 9,
    "start_time": "2022-06-02T11:31:38.274Z"
   },
   {
    "duration": 26,
    "start_time": "2022-06-02T11:31:38.284Z"
   },
   {
    "duration": 81,
    "start_time": "2022-06-02T11:31:38.311Z"
   },
   {
    "duration": 8,
    "start_time": "2022-06-02T11:31:38.394Z"
   },
   {
    "duration": 19,
    "start_time": "2022-06-02T11:31:38.403Z"
   },
   {
    "duration": 16,
    "start_time": "2022-06-02T11:31:38.424Z"
   },
   {
    "duration": 7,
    "start_time": "2022-06-02T11:31:38.441Z"
   },
   {
    "duration": 22,
    "start_time": "2022-06-02T11:31:38.449Z"
   },
   {
    "duration": 75,
    "start_time": "2022-06-02T11:31:38.472Z"
   },
   {
    "duration": 16,
    "start_time": "2022-06-02T11:31:38.548Z"
   },
   {
    "duration": 40,
    "start_time": "2022-06-02T11:31:38.565Z"
   },
   {
    "duration": 9,
    "start_time": "2022-06-02T11:31:38.607Z"
   },
   {
    "duration": 9,
    "start_time": "2022-06-02T11:31:38.618Z"
   },
   {
    "duration": 13,
    "start_time": "2022-06-02T11:31:38.629Z"
   },
   {
    "duration": 16,
    "start_time": "2022-06-02T11:31:38.643Z"
   },
   {
    "duration": 8,
    "start_time": "2022-06-02T11:31:38.661Z"
   },
   {
    "duration": 35,
    "start_time": "2022-06-02T11:31:38.670Z"
   },
   {
    "duration": 27,
    "start_time": "2022-06-02T11:31:38.706Z"
   },
   {
    "duration": 5,
    "start_time": "2022-06-02T11:31:38.735Z"
   },
   {
    "duration": 17,
    "start_time": "2022-06-02T11:31:38.742Z"
   },
   {
    "duration": 5,
    "start_time": "2022-06-02T11:31:38.761Z"
   },
   {
    "duration": 33,
    "start_time": "2022-06-02T11:31:38.767Z"
   },
   {
    "duration": 4,
    "start_time": "2022-06-02T11:31:38.802Z"
   },
   {
    "duration": 8,
    "start_time": "2022-06-02T11:31:38.807Z"
   },
   {
    "duration": 9,
    "start_time": "2022-06-02T11:31:38.816Z"
   },
   {
    "duration": 128,
    "start_time": "2022-06-02T11:31:38.827Z"
   },
   {
    "duration": 0,
    "start_time": "2022-06-02T11:31:38.957Z"
   },
   {
    "duration": 0,
    "start_time": "2022-06-02T11:31:38.958Z"
   },
   {
    "duration": 22,
    "start_time": "2022-06-02T11:32:18.587Z"
   },
   {
    "duration": 59,
    "start_time": "2022-06-02T11:32:20.980Z"
   },
   {
    "duration": 1103,
    "start_time": "2022-06-02T11:32:27.676Z"
   },
   {
    "duration": 40,
    "start_time": "2022-06-02T11:32:28.781Z"
   },
   {
    "duration": 12,
    "start_time": "2022-06-02T11:32:28.822Z"
   },
   {
    "duration": 10,
    "start_time": "2022-06-02T11:32:28.836Z"
   },
   {
    "duration": 144,
    "start_time": "2022-06-02T11:32:28.847Z"
   },
   {
    "duration": 8,
    "start_time": "2022-06-02T11:32:28.993Z"
   },
   {
    "duration": 24,
    "start_time": "2022-06-02T11:32:29.002Z"
   },
   {
    "duration": 122,
    "start_time": "2022-06-02T11:32:29.028Z"
   },
   {
    "duration": 8,
    "start_time": "2022-06-02T11:32:29.152Z"
   },
   {
    "duration": 32,
    "start_time": "2022-06-02T11:32:29.162Z"
   },
   {
    "duration": 80,
    "start_time": "2022-06-02T11:32:29.195Z"
   },
   {
    "duration": 7,
    "start_time": "2022-06-02T11:32:29.277Z"
   },
   {
    "duration": 20,
    "start_time": "2022-06-02T11:32:29.285Z"
   },
   {
    "duration": 14,
    "start_time": "2022-06-02T11:32:29.307Z"
   },
   {
    "duration": 6,
    "start_time": "2022-06-02T11:32:29.323Z"
   },
   {
    "duration": 11,
    "start_time": "2022-06-02T11:32:29.330Z"
   },
   {
    "duration": 72,
    "start_time": "2022-06-02T11:32:29.343Z"
   },
   {
    "duration": 13,
    "start_time": "2022-06-02T11:32:29.416Z"
   },
   {
    "duration": 26,
    "start_time": "2022-06-02T11:32:29.431Z"
   },
   {
    "duration": 8,
    "start_time": "2022-06-02T11:32:29.459Z"
   },
   {
    "duration": 27,
    "start_time": "2022-06-02T11:32:29.469Z"
   },
   {
    "duration": 10,
    "start_time": "2022-06-02T11:32:29.498Z"
   },
   {
    "duration": 16,
    "start_time": "2022-06-02T11:32:29.509Z"
   },
   {
    "duration": 8,
    "start_time": "2022-06-02T11:32:29.526Z"
   },
   {
    "duration": 16,
    "start_time": "2022-06-02T11:32:29.535Z"
   },
   {
    "duration": 57,
    "start_time": "2022-06-02T11:32:29.553Z"
   },
   {
    "duration": 5,
    "start_time": "2022-06-02T11:32:29.611Z"
   },
   {
    "duration": 16,
    "start_time": "2022-06-02T11:32:29.619Z"
   },
   {
    "duration": 5,
    "start_time": "2022-06-02T11:32:29.636Z"
   },
   {
    "duration": 9,
    "start_time": "2022-06-02T11:32:29.643Z"
   },
   {
    "duration": 5,
    "start_time": "2022-06-02T11:32:29.654Z"
   },
   {
    "duration": 34,
    "start_time": "2022-06-02T11:32:29.660Z"
   },
   {
    "duration": 22,
    "start_time": "2022-06-02T11:32:29.696Z"
   },
   {
    "duration": 56,
    "start_time": "2022-06-02T11:32:29.720Z"
   },
   {
    "duration": 9,
    "start_time": "2022-06-02T11:32:29.792Z"
   },
   {
    "duration": 105,
    "start_time": "2022-06-02T11:32:29.803Z"
   },
   {
    "duration": 591,
    "start_time": "2022-06-02T11:34:11.974Z"
   },
   {
    "duration": 14,
    "start_time": "2022-06-02T11:34:20.444Z"
   },
   {
    "duration": 10,
    "start_time": "2022-06-02T11:34:22.589Z"
   },
   {
    "duration": 8,
    "start_time": "2022-06-02T11:37:03.681Z"
   },
   {
    "duration": 9,
    "start_time": "2022-06-02T11:37:27.576Z"
   },
   {
    "duration": 269,
    "start_time": "2022-06-02T11:37:43.430Z"
   },
   {
    "duration": 28,
    "start_time": "2022-06-02T11:38:26.135Z"
   },
   {
    "duration": 29,
    "start_time": "2022-06-02T11:39:08.115Z"
   },
   {
    "duration": 27,
    "start_time": "2022-06-02T11:39:13.276Z"
   },
   {
    "duration": 485,
    "start_time": "2022-06-02T12:41:37.407Z"
   },
   {
    "duration": 16,
    "start_time": "2022-06-02T12:41:59.216Z"
   },
   {
    "duration": 13,
    "start_time": "2022-06-02T12:42:04.132Z"
   },
   {
    "duration": 36,
    "start_time": "2022-06-02T12:42:42.121Z"
   },
   {
    "duration": 18,
    "start_time": "2022-06-02T12:43:05.911Z"
   },
   {
    "duration": 17,
    "start_time": "2022-06-02T12:49:34.832Z"
   },
   {
    "duration": 24,
    "start_time": "2022-06-02T12:49:35.390Z"
   },
   {
    "duration": 10,
    "start_time": "2022-06-02T13:26:37.954Z"
   },
   {
    "duration": 9,
    "start_time": "2022-06-02T13:27:04.470Z"
   },
   {
    "duration": 12,
    "start_time": "2022-06-02T13:27:17.130Z"
   },
   {
    "duration": 18,
    "start_time": "2022-06-02T13:27:22.677Z"
   },
   {
    "duration": 8,
    "start_time": "2022-06-02T13:27:37.295Z"
   },
   {
    "duration": 14,
    "start_time": "2022-06-02T13:27:38.706Z"
   },
   {
    "duration": 12,
    "start_time": "2022-06-02T13:27:50.768Z"
   },
   {
    "duration": 9,
    "start_time": "2022-06-02T13:27:58.465Z"
   },
   {
    "duration": 14,
    "start_time": "2022-06-02T13:28:00.144Z"
   },
   {
    "duration": 43,
    "start_time": "2022-06-02T13:29:40.427Z"
   },
   {
    "duration": 13,
    "start_time": "2022-06-02T13:29:46.251Z"
   },
   {
    "duration": 21,
    "start_time": "2022-06-02T13:30:20.725Z"
   },
   {
    "duration": 103,
    "start_time": "2022-06-02T13:30:35.101Z"
   },
   {
    "duration": 78,
    "start_time": "2022-06-02T13:32:36.707Z"
   },
   {
    "duration": 1079,
    "start_time": "2022-06-02T13:32:45.492Z"
   },
   {
    "duration": 77,
    "start_time": "2022-06-02T13:32:46.573Z"
   },
   {
    "duration": 14,
    "start_time": "2022-06-02T13:32:46.651Z"
   },
   {
    "duration": 13,
    "start_time": "2022-06-02T13:32:46.666Z"
   },
   {
    "duration": 218,
    "start_time": "2022-06-02T13:32:46.681Z"
   },
   {
    "duration": 8,
    "start_time": "2022-06-02T13:32:46.901Z"
   },
   {
    "duration": 24,
    "start_time": "2022-06-02T13:32:46.911Z"
   },
   {
    "duration": 288,
    "start_time": "2022-06-02T13:32:46.936Z"
   },
   {
    "duration": 8,
    "start_time": "2022-06-02T13:32:47.226Z"
   },
   {
    "duration": 20,
    "start_time": "2022-06-02T13:32:47.236Z"
   },
   {
    "duration": 283,
    "start_time": "2022-06-02T13:32:47.257Z"
   },
   {
    "duration": 8,
    "start_time": "2022-06-02T13:32:47.541Z"
   },
   {
    "duration": 19,
    "start_time": "2022-06-02T13:32:47.551Z"
   },
   {
    "duration": 60,
    "start_time": "2022-06-02T13:32:47.572Z"
   },
   {
    "duration": 8,
    "start_time": "2022-06-02T13:32:47.634Z"
   },
   {
    "duration": 15,
    "start_time": "2022-06-02T13:32:47.643Z"
   },
   {
    "duration": 78,
    "start_time": "2022-06-02T13:32:47.660Z"
   },
   {
    "duration": 15,
    "start_time": "2022-06-02T13:32:47.740Z"
   },
   {
    "duration": 36,
    "start_time": "2022-06-02T13:32:47.756Z"
   },
   {
    "duration": 9,
    "start_time": "2022-06-02T13:32:47.794Z"
   },
   {
    "duration": 8,
    "start_time": "2022-06-02T13:32:47.804Z"
   },
   {
    "duration": 11,
    "start_time": "2022-06-02T13:32:47.814Z"
   },
   {
    "duration": 16,
    "start_time": "2022-06-02T13:32:47.826Z"
   },
   {
    "duration": 10,
    "start_time": "2022-06-02T13:32:47.844Z"
   },
   {
    "duration": 48,
    "start_time": "2022-06-02T13:32:47.855Z"
   },
   {
    "duration": 28,
    "start_time": "2022-06-02T13:32:47.905Z"
   },
   {
    "duration": 7,
    "start_time": "2022-06-02T13:32:47.934Z"
   },
   {
    "duration": 17,
    "start_time": "2022-06-02T13:32:47.945Z"
   },
   {
    "duration": 5,
    "start_time": "2022-06-02T13:32:47.964Z"
   },
   {
    "duration": 15,
    "start_time": "2022-06-02T13:32:47.992Z"
   },
   {
    "duration": 11,
    "start_time": "2022-06-02T13:32:48.009Z"
   },
   {
    "duration": 14,
    "start_time": "2022-06-02T13:32:48.022Z"
   },
   {
    "duration": 20,
    "start_time": "2022-06-02T13:32:48.038Z"
   },
   {
    "duration": 75,
    "start_time": "2022-06-02T13:32:48.060Z"
   },
   {
    "duration": 14,
    "start_time": "2022-06-02T13:32:48.137Z"
   },
   {
    "duration": 7,
    "start_time": "2022-06-02T13:32:48.153Z"
   },
   {
    "duration": 67,
    "start_time": "2022-06-02T13:32:48.162Z"
   },
   {
    "duration": 17,
    "start_time": "2022-06-02T13:32:48.230Z"
   },
   {
    "duration": 47,
    "start_time": "2022-06-02T13:32:48.248Z"
   },
   {
    "duration": 45,
    "start_time": "2022-06-02T13:32:48.296Z"
   },
   {
    "duration": 14,
    "start_time": "2022-06-02T13:32:48.345Z"
   },
   {
    "duration": 12,
    "start_time": "2022-06-02T13:32:48.361Z"
   },
   {
    "duration": 29,
    "start_time": "2022-06-02T13:32:48.374Z"
   },
   {
    "duration": 103,
    "start_time": "2022-06-02T13:33:30.227Z"
   },
   {
    "duration": 31,
    "start_time": "2022-06-02T13:33:35.407Z"
   },
   {
    "duration": 5,
    "start_time": "2022-06-02T13:33:52.488Z"
   },
   {
    "duration": 15,
    "start_time": "2022-06-02T13:34:02.718Z"
   },
   {
    "duration": 832,
    "start_time": "2022-06-02T13:35:01.231Z"
   },
   {
    "duration": 9,
    "start_time": "2022-06-02T13:40:05.534Z"
   },
   {
    "duration": 12,
    "start_time": "2022-06-02T13:40:23.538Z"
   },
   {
    "duration": 16,
    "start_time": "2022-06-02T13:40:50.032Z"
   },
   {
    "duration": 14,
    "start_time": "2022-06-02T13:49:25.973Z"
   },
   {
    "duration": 34,
    "start_time": "2022-06-02T13:49:32.932Z"
   },
   {
    "duration": 17,
    "start_time": "2022-06-02T13:49:39.842Z"
   },
   {
    "duration": 38,
    "start_time": "2022-06-02T13:51:01.388Z"
   },
   {
    "duration": 131,
    "start_time": "2022-06-02T13:51:30.862Z"
   },
   {
    "duration": 29,
    "start_time": "2022-06-02T13:51:39.845Z"
   },
   {
    "duration": 224,
    "start_time": "2022-06-02T13:52:12.557Z"
   },
   {
    "duration": 32,
    "start_time": "2022-06-02T13:52:22.184Z"
   },
   {
    "duration": 27,
    "start_time": "2022-06-02T13:52:42.307Z"
   },
   {
    "duration": 24,
    "start_time": "2022-06-02T13:53:23.597Z"
   },
   {
    "duration": 8,
    "start_time": "2022-06-02T13:53:29.198Z"
   },
   {
    "duration": 13,
    "start_time": "2022-06-02T13:53:30.061Z"
   },
   {
    "duration": 10,
    "start_time": "2022-06-02T13:54:26.800Z"
   },
   {
    "duration": 19,
    "start_time": "2022-06-02T13:54:29.304Z"
   },
   {
    "duration": 13,
    "start_time": "2022-06-02T13:54:36.505Z"
   },
   {
    "duration": 15,
    "start_time": "2022-06-02T13:55:26.031Z"
   },
   {
    "duration": 37,
    "start_time": "2022-06-02T13:58:03.770Z"
   },
   {
    "duration": 3,
    "start_time": "2022-06-02T13:58:57.696Z"
   },
   {
    "duration": 16,
    "start_time": "2022-06-02T13:59:02.206Z"
   },
   {
    "duration": 14,
    "start_time": "2022-06-02T13:59:04.496Z"
   },
   {
    "duration": 17,
    "start_time": "2022-06-02T13:59:23.368Z"
   },
   {
    "duration": 11,
    "start_time": "2022-06-02T14:09:47.847Z"
   },
   {
    "duration": 21,
    "start_time": "2022-06-02T14:09:48.888Z"
   },
   {
    "duration": 10,
    "start_time": "2022-06-02T14:10:02.705Z"
   },
   {
    "duration": 14,
    "start_time": "2022-06-02T14:11:57.890Z"
   },
   {
    "duration": 15,
    "start_time": "2022-06-02T14:13:22.806Z"
   },
   {
    "duration": 10,
    "start_time": "2022-06-02T14:13:40.576Z"
   },
   {
    "duration": 13,
    "start_time": "2022-06-02T14:14:01.820Z"
   },
   {
    "duration": 8,
    "start_time": "2022-06-02T14:14:33.287Z"
   },
   {
    "duration": 16,
    "start_time": "2022-06-02T14:14:33.799Z"
   },
   {
    "duration": 10,
    "start_time": "2022-06-02T14:15:27.657Z"
   },
   {
    "duration": 9,
    "start_time": "2022-06-02T14:19:10.329Z"
   },
   {
    "duration": 6,
    "start_time": "2022-06-02T14:19:15.742Z"
   },
   {
    "duration": 10,
    "start_time": "2022-06-02T14:19:22.226Z"
   },
   {
    "duration": 15,
    "start_time": "2022-06-02T14:19:40.691Z"
   },
   {
    "duration": 13,
    "start_time": "2022-06-02T14:19:52.754Z"
   },
   {
    "duration": 8,
    "start_time": "2022-06-02T14:19:56.222Z"
   },
   {
    "duration": 7,
    "start_time": "2022-06-02T14:20:21.097Z"
   },
   {
    "duration": 13,
    "start_time": "2022-06-02T14:20:23.589Z"
   },
   {
    "duration": 1094,
    "start_time": "2022-06-02T14:20:35.279Z"
   },
   {
    "duration": 40,
    "start_time": "2022-06-02T14:20:36.374Z"
   },
   {
    "duration": 18,
    "start_time": "2022-06-02T14:20:36.415Z"
   },
   {
    "duration": 13,
    "start_time": "2022-06-02T14:20:36.436Z"
   },
   {
    "duration": 154,
    "start_time": "2022-06-02T14:20:36.451Z"
   },
   {
    "duration": 9,
    "start_time": "2022-06-02T14:20:36.608Z"
   },
   {
    "duration": 29,
    "start_time": "2022-06-02T14:20:36.618Z"
   },
   {
    "duration": 125,
    "start_time": "2022-06-02T14:20:36.649Z"
   },
   {
    "duration": 8,
    "start_time": "2022-06-02T14:20:36.775Z"
   },
   {
    "duration": 22,
    "start_time": "2022-06-02T14:20:36.785Z"
   },
   {
    "duration": 90,
    "start_time": "2022-06-02T14:20:36.809Z"
   },
   {
    "duration": 7,
    "start_time": "2022-06-02T14:20:36.901Z"
   },
   {
    "duration": 22,
    "start_time": "2022-06-02T14:20:36.909Z"
   },
   {
    "duration": 26,
    "start_time": "2022-06-02T14:20:36.932Z"
   },
   {
    "duration": 8,
    "start_time": "2022-06-02T14:20:36.959Z"
   },
   {
    "duration": 27,
    "start_time": "2022-06-02T14:20:36.968Z"
   },
   {
    "duration": 75,
    "start_time": "2022-06-02T14:20:36.996Z"
   },
   {
    "duration": 14,
    "start_time": "2022-06-02T14:20:37.073Z"
   },
   {
    "duration": 30,
    "start_time": "2022-06-02T14:20:37.088Z"
   },
   {
    "duration": 9,
    "start_time": "2022-06-02T14:20:37.120Z"
   },
   {
    "duration": 18,
    "start_time": "2022-06-02T14:20:37.131Z"
   },
   {
    "duration": 22,
    "start_time": "2022-06-02T14:20:37.150Z"
   },
   {
    "duration": 16,
    "start_time": "2022-06-02T14:20:37.173Z"
   },
   {
    "duration": 14,
    "start_time": "2022-06-02T14:20:37.192Z"
   },
   {
    "duration": 21,
    "start_time": "2022-06-02T14:20:37.207Z"
   },
   {
    "duration": 26,
    "start_time": "2022-06-02T14:20:37.230Z"
   },
   {
    "duration": 5,
    "start_time": "2022-06-02T14:20:37.258Z"
   },
   {
    "duration": 30,
    "start_time": "2022-06-02T14:20:37.266Z"
   },
   {
    "duration": 12,
    "start_time": "2022-06-02T14:20:37.297Z"
   },
   {
    "duration": 21,
    "start_time": "2022-06-02T14:20:37.311Z"
   },
   {
    "duration": 22,
    "start_time": "2022-06-02T14:20:37.334Z"
   },
   {
    "duration": 30,
    "start_time": "2022-06-02T14:20:37.357Z"
   },
   {
    "duration": 25,
    "start_time": "2022-06-02T14:20:37.388Z"
   },
   {
    "duration": 62,
    "start_time": "2022-06-02T14:20:37.415Z"
   },
   {
    "duration": 20,
    "start_time": "2022-06-02T14:20:37.478Z"
   },
   {
    "duration": 8,
    "start_time": "2022-06-02T14:20:37.499Z"
   },
   {
    "duration": 41,
    "start_time": "2022-06-02T14:20:37.509Z"
   },
   {
    "duration": 17,
    "start_time": "2022-06-02T14:20:37.552Z"
   },
   {
    "duration": 42,
    "start_time": "2022-06-02T14:20:37.570Z"
   },
   {
    "duration": 114,
    "start_time": "2022-06-02T14:20:37.613Z"
   },
   {
    "duration": 0,
    "start_time": "2022-06-02T14:20:37.730Z"
   },
   {
    "duration": 0,
    "start_time": "2022-06-02T14:20:37.731Z"
   },
   {
    "duration": 0,
    "start_time": "2022-06-02T14:20:37.732Z"
   },
   {
    "duration": 0,
    "start_time": "2022-06-02T14:20:37.734Z"
   },
   {
    "duration": 0,
    "start_time": "2022-06-02T14:20:37.735Z"
   },
   {
    "duration": 0,
    "start_time": "2022-06-02T14:20:37.736Z"
   },
   {
    "duration": 0,
    "start_time": "2022-06-02T14:20:37.737Z"
   },
   {
    "duration": 0,
    "start_time": "2022-06-02T14:20:37.739Z"
   },
   {
    "duration": 0,
    "start_time": "2022-06-02T14:20:37.740Z"
   },
   {
    "duration": 11,
    "start_time": "2022-06-02T14:20:53.458Z"
   },
   {
    "duration": 17,
    "start_time": "2022-06-02T14:20:54.241Z"
   },
   {
    "duration": 12,
    "start_time": "2022-06-02T14:20:57.764Z"
   },
   {
    "duration": 1076,
    "start_time": "2022-06-02T14:21:02.795Z"
   },
   {
    "duration": 39,
    "start_time": "2022-06-02T14:21:03.873Z"
   },
   {
    "duration": 13,
    "start_time": "2022-06-02T14:21:03.914Z"
   },
   {
    "duration": 10,
    "start_time": "2022-06-02T14:21:03.928Z"
   },
   {
    "duration": 149,
    "start_time": "2022-06-02T14:21:03.940Z"
   },
   {
    "duration": 8,
    "start_time": "2022-06-02T14:21:04.091Z"
   },
   {
    "duration": 25,
    "start_time": "2022-06-02T14:21:04.100Z"
   },
   {
    "duration": 123,
    "start_time": "2022-06-02T14:21:04.127Z"
   },
   {
    "duration": 8,
    "start_time": "2022-06-02T14:21:04.252Z"
   },
   {
    "duration": 33,
    "start_time": "2022-06-02T14:21:04.263Z"
   },
   {
    "duration": 86,
    "start_time": "2022-06-02T14:21:04.298Z"
   },
   {
    "duration": 7,
    "start_time": "2022-06-02T14:21:04.385Z"
   },
   {
    "duration": 20,
    "start_time": "2022-06-02T14:21:04.394Z"
   },
   {
    "duration": 15,
    "start_time": "2022-06-02T14:21:04.416Z"
   },
   {
    "duration": 7,
    "start_time": "2022-06-02T14:21:04.433Z"
   },
   {
    "duration": 17,
    "start_time": "2022-06-02T14:21:04.442Z"
   },
   {
    "duration": 82,
    "start_time": "2022-06-02T14:21:04.461Z"
   },
   {
    "duration": 15,
    "start_time": "2022-06-02T14:21:04.544Z"
   },
   {
    "duration": 44,
    "start_time": "2022-06-02T14:21:04.560Z"
   },
   {
    "duration": 11,
    "start_time": "2022-06-02T14:21:04.606Z"
   },
   {
    "duration": 8,
    "start_time": "2022-06-02T14:21:04.620Z"
   },
   {
    "duration": 13,
    "start_time": "2022-06-02T14:21:04.629Z"
   },
   {
    "duration": 20,
    "start_time": "2022-06-02T14:21:04.644Z"
   },
   {
    "duration": 10,
    "start_time": "2022-06-02T14:21:04.691Z"
   },
   {
    "duration": 18,
    "start_time": "2022-06-02T14:21:04.702Z"
   },
   {
    "duration": 29,
    "start_time": "2022-06-02T14:21:04.722Z"
   },
   {
    "duration": 6,
    "start_time": "2022-06-02T14:21:04.752Z"
   },
   {
    "duration": 38,
    "start_time": "2022-06-02T14:21:04.761Z"
   },
   {
    "duration": 5,
    "start_time": "2022-06-02T14:21:04.801Z"
   },
   {
    "duration": 10,
    "start_time": "2022-06-02T14:21:04.808Z"
   },
   {
    "duration": 4,
    "start_time": "2022-06-02T14:21:04.819Z"
   },
   {
    "duration": 8,
    "start_time": "2022-06-02T14:21:04.825Z"
   },
   {
    "duration": 20,
    "start_time": "2022-06-02T14:21:04.835Z"
   },
   {
    "duration": 89,
    "start_time": "2022-06-02T14:21:04.856Z"
   },
   {
    "duration": 13,
    "start_time": "2022-06-02T14:21:04.947Z"
   },
   {
    "duration": 8,
    "start_time": "2022-06-02T14:21:04.961Z"
   },
   {
    "duration": 49,
    "start_time": "2022-06-02T14:21:04.970Z"
   },
   {
    "duration": 17,
    "start_time": "2022-06-02T14:21:05.020Z"
   },
   {
    "duration": 55,
    "start_time": "2022-06-02T14:21:05.039Z"
   },
   {
    "duration": 112,
    "start_time": "2022-06-02T14:21:05.095Z"
   },
   {
    "duration": 0,
    "start_time": "2022-06-02T14:21:05.209Z"
   },
   {
    "duration": 0,
    "start_time": "2022-06-02T14:21:05.210Z"
   },
   {
    "duration": 0,
    "start_time": "2022-06-02T14:21:05.211Z"
   },
   {
    "duration": 0,
    "start_time": "2022-06-02T14:21:05.212Z"
   },
   {
    "duration": 0,
    "start_time": "2022-06-02T14:21:05.214Z"
   },
   {
    "duration": 0,
    "start_time": "2022-06-02T14:21:05.215Z"
   },
   {
    "duration": 0,
    "start_time": "2022-06-02T14:21:05.216Z"
   },
   {
    "duration": 0,
    "start_time": "2022-06-02T14:21:05.217Z"
   },
   {
    "duration": 0,
    "start_time": "2022-06-02T14:21:05.218Z"
   },
   {
    "duration": 1107,
    "start_time": "2022-06-02T14:21:49.888Z"
   },
   {
    "duration": 39,
    "start_time": "2022-06-02T14:21:50.997Z"
   },
   {
    "duration": 12,
    "start_time": "2022-06-02T14:21:51.038Z"
   },
   {
    "duration": 12,
    "start_time": "2022-06-02T14:21:51.052Z"
   },
   {
    "duration": 166,
    "start_time": "2022-06-02T14:21:51.065Z"
   },
   {
    "duration": 10,
    "start_time": "2022-06-02T14:21:51.234Z"
   },
   {
    "duration": 56,
    "start_time": "2022-06-02T14:21:51.246Z"
   },
   {
    "duration": 120,
    "start_time": "2022-06-02T14:21:51.303Z"
   },
   {
    "duration": 8,
    "start_time": "2022-06-02T14:21:51.425Z"
   },
   {
    "duration": 37,
    "start_time": "2022-06-02T14:21:51.436Z"
   },
   {
    "duration": 86,
    "start_time": "2022-06-02T14:21:51.475Z"
   },
   {
    "duration": 8,
    "start_time": "2022-06-02T14:21:51.562Z"
   },
   {
    "duration": 30,
    "start_time": "2022-06-02T14:21:51.571Z"
   },
   {
    "duration": 17,
    "start_time": "2022-06-02T14:21:51.603Z"
   },
   {
    "duration": 13,
    "start_time": "2022-06-02T14:21:51.622Z"
   },
   {
    "duration": 16,
    "start_time": "2022-06-02T14:21:51.637Z"
   },
   {
    "duration": 91,
    "start_time": "2022-06-02T14:21:51.654Z"
   },
   {
    "duration": 15,
    "start_time": "2022-06-02T14:21:51.747Z"
   },
   {
    "duration": 53,
    "start_time": "2022-06-02T14:21:51.763Z"
   },
   {
    "duration": 12,
    "start_time": "2022-06-02T14:21:51.817Z"
   },
   {
    "duration": 10,
    "start_time": "2022-06-02T14:21:51.831Z"
   },
   {
    "duration": 24,
    "start_time": "2022-06-02T14:21:51.843Z"
   },
   {
    "duration": 36,
    "start_time": "2022-06-02T14:21:51.869Z"
   },
   {
    "duration": 9,
    "start_time": "2022-06-02T14:21:51.907Z"
   },
   {
    "duration": 36,
    "start_time": "2022-06-02T14:21:51.917Z"
   },
   {
    "duration": 29,
    "start_time": "2022-06-02T14:21:51.955Z"
   },
   {
    "duration": 7,
    "start_time": "2022-06-02T14:21:51.985Z"
   },
   {
    "duration": 36,
    "start_time": "2022-06-02T14:21:51.996Z"
   },
   {
    "duration": 6,
    "start_time": "2022-06-02T14:21:52.034Z"
   },
   {
    "duration": 17,
    "start_time": "2022-06-02T14:21:52.042Z"
   },
   {
    "duration": 14,
    "start_time": "2022-06-02T14:21:52.061Z"
   },
   {
    "duration": 12,
    "start_time": "2022-06-02T14:21:52.077Z"
   },
   {
    "duration": 26,
    "start_time": "2022-06-02T14:21:52.091Z"
   },
   {
    "duration": 60,
    "start_time": "2022-06-02T14:21:52.118Z"
   },
   {
    "duration": 23,
    "start_time": "2022-06-02T14:21:52.180Z"
   },
   {
    "duration": 8,
    "start_time": "2022-06-02T14:21:52.204Z"
   },
   {
    "duration": 49,
    "start_time": "2022-06-02T14:21:52.213Z"
   },
   {
    "duration": 16,
    "start_time": "2022-06-02T14:21:52.264Z"
   },
   {
    "duration": 36,
    "start_time": "2022-06-02T14:21:52.281Z"
   },
   {
    "duration": 8,
    "start_time": "2022-06-02T14:21:52.319Z"
   },
   {
    "duration": 26,
    "start_time": "2022-06-02T14:21:52.328Z"
   },
   {
    "duration": 21,
    "start_time": "2022-06-02T14:21:52.355Z"
   },
   {
    "duration": 28,
    "start_time": "2022-06-02T14:21:52.377Z"
   },
   {
    "duration": 24,
    "start_time": "2022-06-02T14:21:52.406Z"
   },
   {
    "duration": 10,
    "start_time": "2022-06-02T14:21:52.432Z"
   },
   {
    "duration": 10,
    "start_time": "2022-06-02T14:21:52.443Z"
   },
   {
    "duration": 12,
    "start_time": "2022-06-02T14:21:52.455Z"
   },
   {
    "duration": 25,
    "start_time": "2022-06-02T14:21:52.468Z"
   },
   {
    "duration": 18,
    "start_time": "2022-06-02T14:22:07.019Z"
   },
   {
    "duration": 15,
    "start_time": "2022-06-02T14:22:46.537Z"
   },
   {
    "duration": 9,
    "start_time": "2022-06-02T14:22:55.797Z"
   },
   {
    "duration": 5,
    "start_time": "2022-06-02T14:23:12.988Z"
   },
   {
    "duration": 58,
    "start_time": "2022-06-03T08:10:38.229Z"
   },
   {
    "duration": 1345,
    "start_time": "2022-06-03T08:10:44.336Z"
   },
   {
    "duration": 79,
    "start_time": "2022-06-03T08:10:45.683Z"
   },
   {
    "duration": 13,
    "start_time": "2022-06-03T08:10:45.763Z"
   },
   {
    "duration": 11,
    "start_time": "2022-06-03T08:10:45.778Z"
   },
   {
    "duration": 485,
    "start_time": "2022-06-03T08:10:45.791Z"
   },
   {
    "duration": 10,
    "start_time": "2022-06-03T08:10:46.277Z"
   },
   {
    "duration": 26,
    "start_time": "2022-06-03T08:10:46.289Z"
   },
   {
    "duration": 413,
    "start_time": "2022-06-03T08:10:46.316Z"
   },
   {
    "duration": 8,
    "start_time": "2022-06-03T08:10:46.730Z"
   },
   {
    "duration": 23,
    "start_time": "2022-06-03T08:10:46.741Z"
   },
   {
    "duration": 152,
    "start_time": "2022-06-03T08:10:46.766Z"
   },
   {
    "duration": 7,
    "start_time": "2022-06-03T08:10:46.919Z"
   },
   {
    "duration": 19,
    "start_time": "2022-06-03T08:10:46.928Z"
   },
   {
    "duration": 46,
    "start_time": "2022-06-03T08:10:46.949Z"
   },
   {
    "duration": 6,
    "start_time": "2022-06-03T08:10:46.997Z"
   },
   {
    "duration": 11,
    "start_time": "2022-06-03T08:10:47.005Z"
   },
   {
    "duration": 73,
    "start_time": "2022-06-03T08:10:47.017Z"
   },
   {
    "duration": 14,
    "start_time": "2022-06-03T08:10:47.091Z"
   },
   {
    "duration": 41,
    "start_time": "2022-06-03T08:10:47.107Z"
   },
   {
    "duration": 10,
    "start_time": "2022-06-03T08:10:47.149Z"
   },
   {
    "duration": 8,
    "start_time": "2022-06-03T08:10:47.160Z"
   },
   {
    "duration": 13,
    "start_time": "2022-06-03T08:10:47.169Z"
   },
   {
    "duration": 47,
    "start_time": "2022-06-03T08:10:47.184Z"
   },
   {
    "duration": 9,
    "start_time": "2022-06-03T08:10:47.233Z"
   },
   {
    "duration": 18,
    "start_time": "2022-06-03T08:10:47.244Z"
   },
   {
    "duration": 30,
    "start_time": "2022-06-03T08:10:47.263Z"
   },
   {
    "duration": 6,
    "start_time": "2022-06-03T08:10:47.294Z"
   },
   {
    "duration": 15,
    "start_time": "2022-06-03T08:10:47.327Z"
   },
   {
    "duration": 6,
    "start_time": "2022-06-03T08:10:47.344Z"
   },
   {
    "duration": 14,
    "start_time": "2022-06-03T08:10:47.351Z"
   },
   {
    "duration": 4,
    "start_time": "2022-06-03T08:10:47.366Z"
   },
   {
    "duration": 9,
    "start_time": "2022-06-03T08:10:47.372Z"
   },
   {
    "duration": 53,
    "start_time": "2022-06-03T08:10:47.382Z"
   },
   {
    "duration": 80,
    "start_time": "2022-06-03T08:10:47.436Z"
   },
   {
    "duration": 16,
    "start_time": "2022-06-03T08:10:47.525Z"
   },
   {
    "duration": 8,
    "start_time": "2022-06-03T08:10:47.542Z"
   },
   {
    "duration": 34,
    "start_time": "2022-06-03T08:10:47.551Z"
   },
   {
    "duration": 41,
    "start_time": "2022-06-03T08:10:47.586Z"
   },
   {
    "duration": 26,
    "start_time": "2022-06-03T08:10:47.628Z"
   },
   {
    "duration": 8,
    "start_time": "2022-06-03T08:10:47.656Z"
   },
   {
    "duration": 12,
    "start_time": "2022-06-03T08:10:47.666Z"
   },
   {
    "duration": 12,
    "start_time": "2022-06-03T08:10:47.679Z"
   },
   {
    "duration": 34,
    "start_time": "2022-06-03T08:10:47.693Z"
   },
   {
    "duration": 16,
    "start_time": "2022-06-03T08:10:47.729Z"
   },
   {
    "duration": 10,
    "start_time": "2022-06-03T08:10:47.746Z"
   },
   {
    "duration": 8,
    "start_time": "2022-06-03T08:10:47.757Z"
   },
   {
    "duration": 9,
    "start_time": "2022-06-03T08:10:47.767Z"
   },
   {
    "duration": 16,
    "start_time": "2022-06-03T08:10:47.778Z"
   },
   {
    "duration": 38,
    "start_time": "2022-06-03T08:10:47.795Z"
   },
   {
    "duration": 6,
    "start_time": "2022-06-03T08:10:47.835Z"
   },
   {
    "duration": 6,
    "start_time": "2022-06-03T08:12:59.160Z"
   },
   {
    "duration": 1097,
    "start_time": "2022-06-03T08:13:09.922Z"
   },
   {
    "duration": 611,
    "start_time": "2022-06-03T08:13:16.632Z"
   },
   {
    "duration": 9,
    "start_time": "2022-06-03T08:17:19.194Z"
   },
   {
    "duration": 15,
    "start_time": "2022-06-03T08:17:26.802Z"
   },
   {
    "duration": 51,
    "start_time": "2022-06-03T08:17:55.545Z"
   },
   {
    "duration": 33,
    "start_time": "2022-06-03T08:18:17.935Z"
   },
   {
    "duration": 38,
    "start_time": "2022-06-03T08:18:27.111Z"
   },
   {
    "duration": 14,
    "start_time": "2022-06-03T08:18:34.579Z"
   },
   {
    "duration": 4,
    "start_time": "2022-06-03T08:19:28.615Z"
   },
   {
    "duration": 32,
    "start_time": "2022-06-03T08:19:32.599Z"
   },
   {
    "duration": 12,
    "start_time": "2022-06-03T08:19:57.387Z"
   },
   {
    "duration": 217,
    "start_time": "2022-06-03T08:41:47.652Z"
   },
   {
    "duration": 1344,
    "start_time": "2022-06-03T08:42:04.547Z"
   },
   {
    "duration": 42,
    "start_time": "2022-06-03T08:42:05.893Z"
   },
   {
    "duration": 22,
    "start_time": "2022-06-03T08:42:05.937Z"
   },
   {
    "duration": 32,
    "start_time": "2022-06-03T08:42:05.962Z"
   },
   {
    "duration": 229,
    "start_time": "2022-06-03T08:42:05.996Z"
   },
   {
    "duration": 11,
    "start_time": "2022-06-03T08:42:06.227Z"
   },
   {
    "duration": 39,
    "start_time": "2022-06-03T08:42:06.241Z"
   },
   {
    "duration": 140,
    "start_time": "2022-06-03T08:42:06.281Z"
   },
   {
    "duration": 9,
    "start_time": "2022-06-03T08:42:06.425Z"
   },
   {
    "duration": 34,
    "start_time": "2022-06-03T08:42:06.437Z"
   },
   {
    "duration": 106,
    "start_time": "2022-06-03T08:42:06.473Z"
   },
   {
    "duration": 7,
    "start_time": "2022-06-03T08:42:06.583Z"
   },
   {
    "duration": 34,
    "start_time": "2022-06-03T08:42:06.592Z"
   },
   {
    "duration": 16,
    "start_time": "2022-06-03T08:42:06.628Z"
   },
   {
    "duration": 11,
    "start_time": "2022-06-03T08:42:06.646Z"
   },
   {
    "duration": 21,
    "start_time": "2022-06-03T08:42:06.659Z"
   },
   {
    "duration": 108,
    "start_time": "2022-06-03T08:42:06.682Z"
   },
   {
    "duration": 16,
    "start_time": "2022-06-03T08:42:06.792Z"
   },
   {
    "duration": 53,
    "start_time": "2022-06-03T08:42:06.810Z"
   },
   {
    "duration": 13,
    "start_time": "2022-06-03T08:42:06.866Z"
   },
   {
    "duration": 19,
    "start_time": "2022-06-03T08:42:06.880Z"
   },
   {
    "duration": 34,
    "start_time": "2022-06-03T08:42:06.900Z"
   },
   {
    "duration": 22,
    "start_time": "2022-06-03T08:42:06.936Z"
   },
   {
    "duration": 10,
    "start_time": "2022-06-03T08:42:06.960Z"
   },
   {
    "duration": 23,
    "start_time": "2022-06-03T08:42:06.971Z"
   },
   {
    "duration": 56,
    "start_time": "2022-06-03T08:42:06.996Z"
   },
   {
    "duration": 7,
    "start_time": "2022-06-03T08:42:07.055Z"
   },
   {
    "duration": 35,
    "start_time": "2022-06-03T08:42:07.066Z"
   },
   {
    "duration": 8,
    "start_time": "2022-06-03T08:42:07.103Z"
   },
   {
    "duration": 26,
    "start_time": "2022-06-03T08:42:07.112Z"
   },
   {
    "duration": 5,
    "start_time": "2022-06-03T08:42:07.141Z"
   },
   {
    "duration": 25,
    "start_time": "2022-06-03T08:42:07.148Z"
   },
   {
    "duration": 28,
    "start_time": "2022-06-03T08:42:07.175Z"
   },
   {
    "duration": 213,
    "start_time": "2022-06-03T08:42:07.205Z"
   },
   {
    "duration": 0,
    "start_time": "2022-06-03T08:42:07.420Z"
   },
   {
    "duration": 0,
    "start_time": "2022-06-03T08:42:07.421Z"
   },
   {
    "duration": 0,
    "start_time": "2022-06-03T08:42:07.425Z"
   },
   {
    "duration": 0,
    "start_time": "2022-06-03T08:42:07.426Z"
   },
   {
    "duration": 0,
    "start_time": "2022-06-03T08:42:07.427Z"
   },
   {
    "duration": 0,
    "start_time": "2022-06-03T08:42:07.428Z"
   },
   {
    "duration": 0,
    "start_time": "2022-06-03T08:42:07.429Z"
   },
   {
    "duration": 0,
    "start_time": "2022-06-03T08:42:07.430Z"
   },
   {
    "duration": 0,
    "start_time": "2022-06-03T08:42:07.430Z"
   },
   {
    "duration": 0,
    "start_time": "2022-06-03T08:42:07.431Z"
   },
   {
    "duration": 0,
    "start_time": "2022-06-03T08:42:07.432Z"
   },
   {
    "duration": 0,
    "start_time": "2022-06-03T08:42:07.433Z"
   },
   {
    "duration": 0,
    "start_time": "2022-06-03T08:42:07.434Z"
   },
   {
    "duration": 0,
    "start_time": "2022-06-03T08:42:07.434Z"
   },
   {
    "duration": 0,
    "start_time": "2022-06-03T08:42:07.435Z"
   },
   {
    "duration": 0,
    "start_time": "2022-06-03T08:42:07.436Z"
   },
   {
    "duration": 71,
    "start_time": "2022-06-03T08:42:35.645Z"
   },
   {
    "duration": 66,
    "start_time": "2022-06-03T08:42:45.790Z"
   },
   {
    "duration": 64,
    "start_time": "2022-06-03T08:42:53.027Z"
   },
   {
    "duration": 63,
    "start_time": "2022-06-03T08:42:57.254Z"
   },
   {
    "duration": 1146,
    "start_time": "2022-06-03T08:43:33.553Z"
   },
   {
    "duration": 45,
    "start_time": "2022-06-03T08:43:34.702Z"
   },
   {
    "duration": 18,
    "start_time": "2022-06-03T08:43:34.749Z"
   },
   {
    "duration": 14,
    "start_time": "2022-06-03T08:43:34.770Z"
   },
   {
    "duration": 193,
    "start_time": "2022-06-03T08:43:34.787Z"
   },
   {
    "duration": 9,
    "start_time": "2022-06-03T08:43:34.982Z"
   },
   {
    "duration": 40,
    "start_time": "2022-06-03T08:43:34.992Z"
   },
   {
    "duration": 135,
    "start_time": "2022-06-03T08:43:35.034Z"
   },
   {
    "duration": 9,
    "start_time": "2022-06-03T08:43:35.171Z"
   },
   {
    "duration": 25,
    "start_time": "2022-06-03T08:43:35.182Z"
   },
   {
    "duration": 99,
    "start_time": "2022-06-03T08:43:35.208Z"
   },
   {
    "duration": 18,
    "start_time": "2022-06-03T08:43:35.309Z"
   },
   {
    "duration": 24,
    "start_time": "2022-06-03T08:43:35.329Z"
   },
   {
    "duration": 16,
    "start_time": "2022-06-03T08:43:35.355Z"
   },
   {
    "duration": 8,
    "start_time": "2022-06-03T08:43:35.373Z"
   },
   {
    "duration": 12,
    "start_time": "2022-06-03T08:43:35.383Z"
   },
   {
    "duration": 105,
    "start_time": "2022-06-03T08:43:35.396Z"
   },
   {
    "duration": 25,
    "start_time": "2022-06-03T08:43:35.503Z"
   },
   {
    "duration": 35,
    "start_time": "2022-06-03T08:43:35.530Z"
   },
   {
    "duration": 11,
    "start_time": "2022-06-03T08:43:35.566Z"
   },
   {
    "duration": 12,
    "start_time": "2022-06-03T08:43:35.579Z"
   },
   {
    "duration": 37,
    "start_time": "2022-06-03T08:43:35.593Z"
   },
   {
    "duration": 19,
    "start_time": "2022-06-03T08:43:35.631Z"
   },
   {
    "duration": 11,
    "start_time": "2022-06-03T08:43:35.652Z"
   },
   {
    "duration": 23,
    "start_time": "2022-06-03T08:43:35.664Z"
   },
   {
    "duration": 71,
    "start_time": "2022-06-03T08:43:35.689Z"
   },
   {
    "duration": 7,
    "start_time": "2022-06-03T08:43:35.761Z"
   },
   {
    "duration": 20,
    "start_time": "2022-06-03T08:43:35.771Z"
   },
   {
    "duration": 6,
    "start_time": "2022-06-03T08:43:35.792Z"
   },
   {
    "duration": 33,
    "start_time": "2022-06-03T08:43:35.800Z"
   },
   {
    "duration": 4,
    "start_time": "2022-06-03T08:43:35.835Z"
   },
   {
    "duration": 11,
    "start_time": "2022-06-03T08:43:35.841Z"
   },
   {
    "duration": 23,
    "start_time": "2022-06-03T08:43:35.854Z"
   },
   {
    "duration": 213,
    "start_time": "2022-06-03T08:43:35.878Z"
   },
   {
    "duration": 0,
    "start_time": "2022-06-03T08:43:36.093Z"
   },
   {
    "duration": 0,
    "start_time": "2022-06-03T08:43:36.094Z"
   },
   {
    "duration": 0,
    "start_time": "2022-06-03T08:43:36.095Z"
   },
   {
    "duration": 0,
    "start_time": "2022-06-03T08:43:36.096Z"
   },
   {
    "duration": 0,
    "start_time": "2022-06-03T08:43:36.097Z"
   },
   {
    "duration": 0,
    "start_time": "2022-06-03T08:43:36.098Z"
   },
   {
    "duration": 0,
    "start_time": "2022-06-03T08:43:36.099Z"
   },
   {
    "duration": 0,
    "start_time": "2022-06-03T08:43:36.100Z"
   },
   {
    "duration": 0,
    "start_time": "2022-06-03T08:43:36.101Z"
   },
   {
    "duration": 0,
    "start_time": "2022-06-03T08:43:36.102Z"
   },
   {
    "duration": 0,
    "start_time": "2022-06-03T08:43:36.103Z"
   },
   {
    "duration": 0,
    "start_time": "2022-06-03T08:43:36.104Z"
   },
   {
    "duration": 0,
    "start_time": "2022-06-03T08:43:36.104Z"
   },
   {
    "duration": 0,
    "start_time": "2022-06-03T08:43:36.125Z"
   },
   {
    "duration": 0,
    "start_time": "2022-06-03T08:43:36.126Z"
   },
   {
    "duration": 0,
    "start_time": "2022-06-03T08:43:36.127Z"
   },
   {
    "duration": 67,
    "start_time": "2022-06-03T08:43:53.038Z"
   },
   {
    "duration": 62,
    "start_time": "2022-06-03T09:18:29.798Z"
   },
   {
    "duration": 29,
    "start_time": "2022-06-03T09:19:25.649Z"
   },
   {
    "duration": 1589,
    "start_time": "2022-06-03T09:19:32.951Z"
   },
   {
    "duration": 68,
    "start_time": "2022-06-03T09:19:34.542Z"
   },
   {
    "duration": 14,
    "start_time": "2022-06-03T09:19:34.612Z"
   },
   {
    "duration": 21,
    "start_time": "2022-06-03T09:19:34.629Z"
   },
   {
    "duration": 264,
    "start_time": "2022-06-03T09:19:34.652Z"
   },
   {
    "duration": 16,
    "start_time": "2022-06-03T09:19:34.919Z"
   },
   {
    "duration": 57,
    "start_time": "2022-06-03T09:19:34.940Z"
   },
   {
    "duration": 211,
    "start_time": "2022-06-03T09:19:34.999Z"
   },
   {
    "duration": 23,
    "start_time": "2022-06-03T09:19:35.212Z"
   },
   {
    "duration": 32,
    "start_time": "2022-06-03T09:19:35.239Z"
   },
   {
    "duration": 116,
    "start_time": "2022-06-03T09:19:35.273Z"
   },
   {
    "duration": 9,
    "start_time": "2022-06-03T09:19:35.391Z"
   },
   {
    "duration": 46,
    "start_time": "2022-06-03T09:19:35.402Z"
   },
   {
    "duration": 38,
    "start_time": "2022-06-03T09:19:35.451Z"
   },
   {
    "duration": 9,
    "start_time": "2022-06-03T09:19:35.491Z"
   },
   {
    "duration": 19,
    "start_time": "2022-06-03T09:19:35.503Z"
   },
   {
    "duration": 139,
    "start_time": "2022-06-03T09:19:35.524Z"
   },
   {
    "duration": 18,
    "start_time": "2022-06-03T09:19:35.665Z"
   },
   {
    "duration": 64,
    "start_time": "2022-06-03T09:19:35.685Z"
   },
   {
    "duration": 12,
    "start_time": "2022-06-03T09:19:35.751Z"
   },
   {
    "duration": 22,
    "start_time": "2022-06-03T09:19:35.766Z"
   },
   {
    "duration": 19,
    "start_time": "2022-06-03T09:19:35.791Z"
   },
   {
    "duration": 41,
    "start_time": "2022-06-03T09:19:35.812Z"
   },
   {
    "duration": 15,
    "start_time": "2022-06-03T09:19:35.855Z"
   },
   {
    "duration": 31,
    "start_time": "2022-06-03T09:19:35.872Z"
   },
   {
    "duration": 48,
    "start_time": "2022-06-03T09:19:35.925Z"
   },
   {
    "duration": 9,
    "start_time": "2022-06-03T09:19:35.976Z"
   },
   {
    "duration": 43,
    "start_time": "2022-06-03T09:19:35.988Z"
   },
   {
    "duration": 8,
    "start_time": "2022-06-03T09:19:36.034Z"
   },
   {
    "duration": 25,
    "start_time": "2022-06-03T09:19:36.045Z"
   },
   {
    "duration": 6,
    "start_time": "2022-06-03T09:19:36.073Z"
   },
   {
    "duration": 14,
    "start_time": "2022-06-03T09:19:36.082Z"
   },
   {
    "duration": 49,
    "start_time": "2022-06-03T09:19:36.099Z"
   },
   {
    "duration": 85,
    "start_time": "2022-06-03T09:19:36.150Z"
   },
   {
    "duration": 17,
    "start_time": "2022-06-03T09:19:36.236Z"
   },
   {
    "duration": 9,
    "start_time": "2022-06-03T09:19:36.254Z"
   },
   {
    "duration": 66,
    "start_time": "2022-06-03T09:19:36.264Z"
   },
   {
    "duration": 22,
    "start_time": "2022-06-03T09:19:36.332Z"
   },
   {
    "duration": 34,
    "start_time": "2022-06-03T09:19:36.356Z"
   },
   {
    "duration": 33,
    "start_time": "2022-06-03T09:19:36.392Z"
   },
   {
    "duration": 22,
    "start_time": "2022-06-03T09:19:36.427Z"
   },
   {
    "duration": 23,
    "start_time": "2022-06-03T09:19:36.451Z"
   },
   {
    "duration": 11,
    "start_time": "2022-06-03T09:19:36.476Z"
   },
   {
    "duration": 48,
    "start_time": "2022-06-03T09:19:36.490Z"
   },
   {
    "duration": 18,
    "start_time": "2022-06-03T09:19:36.540Z"
   },
   {
    "duration": 8,
    "start_time": "2022-06-03T09:19:36.560Z"
   },
   {
    "duration": 17,
    "start_time": "2022-06-03T09:19:36.570Z"
   },
   {
    "duration": 50,
    "start_time": "2022-06-03T09:19:36.589Z"
   },
   {
    "duration": 16,
    "start_time": "2022-06-03T09:19:36.642Z"
   },
   {
    "duration": 21,
    "start_time": "2022-06-03T09:19:36.661Z"
   },
   {
    "duration": 42,
    "start_time": "2022-06-03T09:20:42.334Z"
   },
   {
    "duration": 340,
    "start_time": "2022-06-03T09:21:01.638Z"
   },
   {
    "duration": 29,
    "start_time": "2022-06-03T09:21:11.780Z"
   },
   {
    "duration": 1330,
    "start_time": "2022-06-03T09:21:22.757Z"
   },
   {
    "duration": 38,
    "start_time": "2022-06-03T09:21:24.090Z"
   },
   {
    "duration": 22,
    "start_time": "2022-06-03T09:21:24.131Z"
   },
   {
    "duration": 20,
    "start_time": "2022-06-03T09:21:24.156Z"
   },
   {
    "duration": 211,
    "start_time": "2022-06-03T09:21:24.179Z"
   },
   {
    "duration": 9,
    "start_time": "2022-06-03T09:21:24.392Z"
   },
   {
    "duration": 40,
    "start_time": "2022-06-03T09:21:24.402Z"
   },
   {
    "duration": 156,
    "start_time": "2022-06-03T09:21:24.444Z"
   },
   {
    "duration": 9,
    "start_time": "2022-06-03T09:21:24.602Z"
   },
   {
    "duration": 27,
    "start_time": "2022-06-03T09:21:24.626Z"
   },
   {
    "duration": 131,
    "start_time": "2022-06-03T09:21:24.655Z"
   },
   {
    "duration": 10,
    "start_time": "2022-06-03T09:21:24.788Z"
   },
   {
    "duration": 38,
    "start_time": "2022-06-03T09:21:24.800Z"
   },
   {
    "duration": 32,
    "start_time": "2022-06-03T09:21:24.842Z"
   },
   {
    "duration": 17,
    "start_time": "2022-06-03T09:21:24.876Z"
   },
   {
    "duration": 42,
    "start_time": "2022-06-03T09:21:24.895Z"
   },
   {
    "duration": 138,
    "start_time": "2022-06-03T09:21:24.939Z"
   },
   {
    "duration": 23,
    "start_time": "2022-06-03T09:21:25.079Z"
   },
   {
    "duration": 54,
    "start_time": "2022-06-03T09:21:25.104Z"
   },
   {
    "duration": 16,
    "start_time": "2022-06-03T09:21:25.160Z"
   },
   {
    "duration": 9,
    "start_time": "2022-06-03T09:21:25.178Z"
   },
   {
    "duration": 45,
    "start_time": "2022-06-03T09:21:25.190Z"
   },
   {
    "duration": 29,
    "start_time": "2022-06-03T09:21:25.237Z"
   },
   {
    "duration": 22,
    "start_time": "2022-06-03T09:21:25.268Z"
   },
   {
    "duration": 44,
    "start_time": "2022-06-03T09:21:25.292Z"
   },
   {
    "duration": 47,
    "start_time": "2022-06-03T09:21:25.339Z"
   },
   {
    "duration": 8,
    "start_time": "2022-06-03T09:21:25.389Z"
   },
   {
    "duration": 37,
    "start_time": "2022-06-03T09:21:25.400Z"
   },
   {
    "duration": 7,
    "start_time": "2022-06-03T09:21:25.441Z"
   },
   {
    "duration": 27,
    "start_time": "2022-06-03T09:21:25.450Z"
   },
   {
    "duration": 10,
    "start_time": "2022-06-03T09:21:25.480Z"
   },
   {
    "duration": 18,
    "start_time": "2022-06-03T09:21:25.492Z"
   },
   {
    "duration": 27,
    "start_time": "2022-06-03T09:21:25.525Z"
   },
   {
    "duration": 99,
    "start_time": "2022-06-03T09:21:25.554Z"
   },
   {
    "duration": 21,
    "start_time": "2022-06-03T09:21:25.655Z"
   },
   {
    "duration": 12,
    "start_time": "2022-06-03T09:21:25.679Z"
   },
   {
    "duration": 74,
    "start_time": "2022-06-03T09:21:25.693Z"
   },
   {
    "duration": 23,
    "start_time": "2022-06-03T09:21:25.769Z"
   },
   {
    "duration": 58,
    "start_time": "2022-06-03T09:21:25.794Z"
   },
   {
    "duration": 13,
    "start_time": "2022-06-03T09:21:25.854Z"
   },
   {
    "duration": 25,
    "start_time": "2022-06-03T09:21:25.869Z"
   },
   {
    "duration": 30,
    "start_time": "2022-06-03T09:21:25.896Z"
   },
   {
    "duration": 11,
    "start_time": "2022-06-03T09:21:25.929Z"
   },
   {
    "duration": 22,
    "start_time": "2022-06-03T09:21:25.943Z"
   },
   {
    "duration": 12,
    "start_time": "2022-06-03T09:21:25.967Z"
   },
   {
    "duration": 44,
    "start_time": "2022-06-03T09:21:25.981Z"
   },
   {
    "duration": 19,
    "start_time": "2022-06-03T09:21:26.027Z"
   },
   {
    "duration": 32,
    "start_time": "2022-06-03T09:21:26.048Z"
   },
   {
    "duration": 19,
    "start_time": "2022-06-03T09:21:26.082Z"
   },
   {
    "duration": 10,
    "start_time": "2022-06-03T09:21:26.103Z"
   },
   {
    "duration": 1258,
    "start_time": "2022-06-03T09:29:38.191Z"
   },
   {
    "duration": 40,
    "start_time": "2022-06-03T09:29:39.451Z"
   },
   {
    "duration": 20,
    "start_time": "2022-06-03T09:29:39.493Z"
   },
   {
    "duration": 16,
    "start_time": "2022-06-03T09:29:39.515Z"
   },
   {
    "duration": 170,
    "start_time": "2022-06-03T09:29:39.534Z"
   },
   {
    "duration": 19,
    "start_time": "2022-06-03T09:29:39.706Z"
   },
   {
    "duration": 26,
    "start_time": "2022-06-03T09:29:39.727Z"
   },
   {
    "duration": 168,
    "start_time": "2022-06-03T09:29:39.755Z"
   },
   {
    "duration": 9,
    "start_time": "2022-06-03T09:29:39.925Z"
   },
   {
    "duration": 29,
    "start_time": "2022-06-03T09:29:39.935Z"
   },
   {
    "duration": 94,
    "start_time": "2022-06-03T09:29:39.965Z"
   },
   {
    "duration": 9,
    "start_time": "2022-06-03T09:29:40.060Z"
   },
   {
    "duration": 33,
    "start_time": "2022-06-03T09:29:40.071Z"
   },
   {
    "duration": 17,
    "start_time": "2022-06-03T09:29:40.124Z"
   },
   {
    "duration": 12,
    "start_time": "2022-06-03T09:29:40.144Z"
   },
   {
    "duration": 15,
    "start_time": "2022-06-03T09:29:40.158Z"
   },
   {
    "duration": 92,
    "start_time": "2022-06-03T09:29:40.175Z"
   },
   {
    "duration": 24,
    "start_time": "2022-06-03T09:29:40.269Z"
   },
   {
    "duration": 48,
    "start_time": "2022-06-03T09:29:40.296Z"
   },
   {
    "duration": 14,
    "start_time": "2022-06-03T09:29:40.347Z"
   },
   {
    "duration": 12,
    "start_time": "2022-06-03T09:29:40.364Z"
   },
   {
    "duration": 17,
    "start_time": "2022-06-03T09:29:40.378Z"
   },
   {
    "duration": 37,
    "start_time": "2022-06-03T09:29:40.396Z"
   },
   {
    "duration": 10,
    "start_time": "2022-06-03T09:29:40.435Z"
   },
   {
    "duration": 21,
    "start_time": "2022-06-03T09:29:40.446Z"
   },
   {
    "duration": 61,
    "start_time": "2022-06-03T09:29:40.469Z"
   },
   {
    "duration": 8,
    "start_time": "2022-06-03T09:29:40.533Z"
   },
   {
    "duration": 34,
    "start_time": "2022-06-03T09:29:40.543Z"
   },
   {
    "duration": 13,
    "start_time": "2022-06-03T09:29:40.580Z"
   },
   {
    "duration": 16,
    "start_time": "2022-06-03T09:29:40.595Z"
   },
   {
    "duration": 7,
    "start_time": "2022-06-03T09:29:40.625Z"
   },
   {
    "duration": 18,
    "start_time": "2022-06-03T09:29:40.634Z"
   },
   {
    "duration": 27,
    "start_time": "2022-06-03T09:29:40.654Z"
   },
   {
    "duration": 112,
    "start_time": "2022-06-03T09:29:40.683Z"
   },
   {
    "duration": 27,
    "start_time": "2022-06-03T09:29:40.797Z"
   },
   {
    "duration": 13,
    "start_time": "2022-06-03T09:29:40.827Z"
   },
   {
    "duration": 57,
    "start_time": "2022-06-03T09:29:40.843Z"
   },
   {
    "duration": 29,
    "start_time": "2022-06-03T09:29:40.903Z"
   },
   {
    "duration": 41,
    "start_time": "2022-06-03T09:29:40.934Z"
   },
   {
    "duration": 9,
    "start_time": "2022-06-03T09:29:40.977Z"
   },
   {
    "duration": 39,
    "start_time": "2022-06-03T09:29:40.992Z"
   },
   {
    "duration": 12,
    "start_time": "2022-06-03T09:29:41.033Z"
   },
   {
    "duration": 11,
    "start_time": "2022-06-03T09:29:41.047Z"
   },
   {
    "duration": 24,
    "start_time": "2022-06-03T09:29:41.060Z"
   },
   {
    "duration": 45,
    "start_time": "2022-06-03T09:29:41.086Z"
   },
   {
    "duration": 10,
    "start_time": "2022-06-03T09:29:41.133Z"
   },
   {
    "duration": 4,
    "start_time": "2022-06-03T13:15:31.277Z"
   },
   {
    "duration": 4,
    "start_time": "2022-06-03T13:18:42.496Z"
   },
   {
    "duration": 108,
    "start_time": "2022-06-03T13:19:25.059Z"
   },
   {
    "duration": 4,
    "start_time": "2022-06-03T13:19:51.951Z"
   },
   {
    "duration": 10,
    "start_time": "2022-06-03T13:20:58.240Z"
   },
   {
    "duration": 8,
    "start_time": "2022-06-03T13:22:22.311Z"
   },
   {
    "duration": 7,
    "start_time": "2022-06-03T13:23:17.403Z"
   },
   {
    "duration": 17,
    "start_time": "2022-06-03T13:23:22.492Z"
   },
   {
    "duration": 10,
    "start_time": "2022-06-03T13:23:49.859Z"
   },
   {
    "duration": 16,
    "start_time": "2022-06-03T13:23:54.930Z"
   },
   {
    "duration": 36,
    "start_time": "2022-06-03T13:24:49.957Z"
   },
   {
    "duration": 15,
    "start_time": "2022-06-03T13:26:09.219Z"
   },
   {
    "duration": 17,
    "start_time": "2022-06-03T13:26:17.395Z"
   },
   {
    "duration": 22,
    "start_time": "2022-06-03T13:29:14.935Z"
   },
   {
    "duration": 8,
    "start_time": "2022-06-03T13:32:53.961Z"
   },
   {
    "duration": 9,
    "start_time": "2022-06-03T13:33:00.452Z"
   },
   {
    "duration": 11,
    "start_time": "2022-06-03T13:33:05.703Z"
   },
   {
    "duration": 9,
    "start_time": "2022-06-03T13:33:39.341Z"
   },
   {
    "duration": 12,
    "start_time": "2022-06-03T13:33:52.220Z"
   },
   {
    "duration": 12,
    "start_time": "2022-06-03T13:34:45.532Z"
   },
   {
    "duration": 12,
    "start_time": "2022-06-03T13:37:58.272Z"
   },
   {
    "duration": 10,
    "start_time": "2022-06-03T13:39:52.597Z"
   },
   {
    "duration": 17,
    "start_time": "2022-06-03T13:41:43.169Z"
   },
   {
    "duration": 12,
    "start_time": "2022-06-03T13:43:17.673Z"
   },
   {
    "duration": 9,
    "start_time": "2022-06-03T13:43:38.143Z"
   },
   {
    "duration": 48,
    "start_time": "2022-06-03T13:45:22.562Z"
   },
   {
    "duration": 43,
    "start_time": "2022-06-03T13:45:36.852Z"
   },
   {
    "duration": 10,
    "start_time": "2022-06-03T13:45:44.071Z"
   },
   {
    "duration": 4,
    "start_time": "2022-06-03T13:47:02.871Z"
   },
   {
    "duration": 3,
    "start_time": "2022-06-03T13:47:11.411Z"
   },
   {
    "duration": 8,
    "start_time": "2022-06-03T13:47:21.197Z"
   },
   {
    "duration": 39,
    "start_time": "2022-06-03T13:47:38.745Z"
   },
   {
    "duration": 10,
    "start_time": "2022-06-03T13:47:48.069Z"
   },
   {
    "duration": 1089,
    "start_time": "2022-06-03T13:47:58.451Z"
   },
   {
    "duration": 39,
    "start_time": "2022-06-03T13:47:59.543Z"
   },
   {
    "duration": 14,
    "start_time": "2022-06-03T13:47:59.584Z"
   },
   {
    "duration": 12,
    "start_time": "2022-06-03T13:47:59.600Z"
   },
   {
    "duration": 164,
    "start_time": "2022-06-03T13:47:59.614Z"
   },
   {
    "duration": 9,
    "start_time": "2022-06-03T13:47:59.780Z"
   },
   {
    "duration": 41,
    "start_time": "2022-06-03T13:47:59.791Z"
   },
   {
    "duration": 255,
    "start_time": "2022-06-03T13:47:59.833Z"
   },
   {
    "duration": 10,
    "start_time": "2022-06-03T13:48:00.089Z"
   },
   {
    "duration": 43,
    "start_time": "2022-06-03T13:48:00.101Z"
   },
   {
    "duration": 90,
    "start_time": "2022-06-03T13:48:00.146Z"
   },
   {
    "duration": 7,
    "start_time": "2022-06-03T13:48:00.238Z"
   },
   {
    "duration": 32,
    "start_time": "2022-06-03T13:48:00.247Z"
   },
   {
    "duration": 17,
    "start_time": "2022-06-03T13:48:00.283Z"
   },
   {
    "duration": 8,
    "start_time": "2022-06-03T13:48:00.302Z"
   },
   {
    "duration": 17,
    "start_time": "2022-06-03T13:48:00.311Z"
   },
   {
    "duration": 103,
    "start_time": "2022-06-03T13:48:00.330Z"
   },
   {
    "duration": 16,
    "start_time": "2022-06-03T13:48:00.435Z"
   },
   {
    "duration": 93,
    "start_time": "2022-06-03T13:48:00.453Z"
   },
   {
    "duration": 15,
    "start_time": "2022-06-03T13:48:00.548Z"
   },
   {
    "duration": 61,
    "start_time": "2022-06-03T13:48:00.565Z"
   },
   {
    "duration": 22,
    "start_time": "2022-06-03T13:48:00.627Z"
   },
   {
    "duration": 26,
    "start_time": "2022-06-03T13:48:00.650Z"
   },
   {
    "duration": 9,
    "start_time": "2022-06-03T13:48:00.677Z"
   },
   {
    "duration": 49,
    "start_time": "2022-06-03T13:48:00.688Z"
   },
   {
    "duration": 92,
    "start_time": "2022-06-03T13:48:00.739Z"
   },
   {
    "duration": 7,
    "start_time": "2022-06-03T13:48:00.832Z"
   },
   {
    "duration": 30,
    "start_time": "2022-06-03T13:48:00.840Z"
   },
   {
    "duration": 56,
    "start_time": "2022-06-03T13:48:00.872Z"
   },
   {
    "duration": 27,
    "start_time": "2022-06-03T13:48:00.930Z"
   },
   {
    "duration": 21,
    "start_time": "2022-06-03T13:48:00.959Z"
   },
   {
    "duration": 44,
    "start_time": "2022-06-03T13:48:00.982Z"
   },
   {
    "duration": 24,
    "start_time": "2022-06-03T13:48:01.027Z"
   },
   {
    "duration": 120,
    "start_time": "2022-06-03T13:48:01.053Z"
   },
   {
    "duration": 50,
    "start_time": "2022-06-03T13:48:01.175Z"
   },
   {
    "duration": 10,
    "start_time": "2022-06-03T13:48:01.227Z"
   },
   {
    "duration": 100,
    "start_time": "2022-06-03T13:48:01.238Z"
   },
   {
    "duration": 18,
    "start_time": "2022-06-03T13:48:01.340Z"
   },
   {
    "duration": 83,
    "start_time": "2022-06-03T13:48:01.360Z"
   },
   {
    "duration": 9,
    "start_time": "2022-06-03T13:48:01.444Z"
   },
   {
    "duration": 69,
    "start_time": "2022-06-03T13:48:01.456Z"
   },
   {
    "duration": 13,
    "start_time": "2022-06-03T13:48:01.527Z"
   },
   {
    "duration": 16,
    "start_time": "2022-06-03T13:48:01.542Z"
   },
   {
    "duration": 66,
    "start_time": "2022-06-03T13:48:01.560Z"
   },
   {
    "duration": 17,
    "start_time": "2022-06-03T13:48:01.628Z"
   },
   {
    "duration": 7,
    "start_time": "2022-06-03T13:48:01.647Z"
   },
   {
    "duration": 9,
    "start_time": "2022-06-03T13:48:01.656Z"
   },
   {
    "duration": 24,
    "start_time": "2022-06-03T13:48:01.666Z"
   },
   {
    "duration": 34,
    "start_time": "2022-06-03T13:48:01.691Z"
   },
   {
    "duration": 18,
    "start_time": "2022-06-03T13:48:01.726Z"
   },
   {
    "duration": 11,
    "start_time": "2022-06-03T13:48:01.746Z"
   },
   {
    "duration": 68,
    "start_time": "2022-06-03T13:48:01.758Z"
   },
   {
    "duration": 25,
    "start_time": "2022-06-03T13:48:01.828Z"
   },
   {
    "duration": 279,
    "start_time": "2022-06-03T13:48:01.855Z"
   },
   {
    "duration": 16,
    "start_time": "2022-06-03T13:50:07.780Z"
   },
   {
    "duration": 5,
    "start_time": "2022-06-03T13:50:20.194Z"
   },
   {
    "duration": 17,
    "start_time": "2022-06-03T13:50:50.407Z"
   },
   {
    "duration": 612,
    "start_time": "2022-06-03T13:51:24.210Z"
   },
   {
    "duration": 29,
    "start_time": "2022-06-03T18:07:41.918Z"
   },
   {
    "duration": 7,
    "start_time": "2022-06-03T18:07:53.321Z"
   },
   {
    "duration": 32,
    "start_time": "2022-06-03T18:08:00.210Z"
   },
   {
    "duration": 12,
    "start_time": "2022-06-03T18:11:20.363Z"
   },
   {
    "duration": 28,
    "start_time": "2022-06-03T18:11:58.246Z"
   },
   {
    "duration": 25,
    "start_time": "2022-06-03T18:12:12.386Z"
   },
   {
    "duration": 5,
    "start_time": "2022-06-03T18:12:19.991Z"
   },
   {
    "duration": 24,
    "start_time": "2022-06-03T18:12:23.304Z"
   },
   {
    "duration": 725,
    "start_time": "2022-06-03T18:13:16.524Z"
   },
   {
    "duration": 14,
    "start_time": "2022-06-03T18:13:32.468Z"
   },
   {
    "duration": 6,
    "start_time": "2022-06-03T18:13:42.938Z"
   },
   {
    "duration": 11,
    "start_time": "2022-06-03T18:14:57.000Z"
   },
   {
    "duration": 1481,
    "start_time": "2022-06-03T18:15:36.121Z"
   },
   {
    "duration": 41,
    "start_time": "2022-06-03T18:15:37.605Z"
   },
   {
    "duration": 25,
    "start_time": "2022-06-03T18:15:37.650Z"
   },
   {
    "duration": 21,
    "start_time": "2022-06-03T18:15:37.677Z"
   },
   {
    "duration": 236,
    "start_time": "2022-06-03T18:15:37.702Z"
   },
   {
    "duration": 15,
    "start_time": "2022-06-03T18:15:37.941Z"
   },
   {
    "duration": 54,
    "start_time": "2022-06-03T18:15:37.958Z"
   },
   {
    "duration": 252,
    "start_time": "2022-06-03T18:15:38.014Z"
   },
   {
    "duration": 12,
    "start_time": "2022-06-03T18:15:38.269Z"
   },
   {
    "duration": 79,
    "start_time": "2022-06-03T18:15:38.286Z"
   },
   {
    "duration": 161,
    "start_time": "2022-06-03T18:15:38.367Z"
   },
   {
    "duration": 14,
    "start_time": "2022-06-03T18:15:38.534Z"
   },
   {
    "duration": 56,
    "start_time": "2022-06-03T18:15:38.553Z"
   },
   {
    "duration": 19,
    "start_time": "2022-06-03T18:15:38.614Z"
   },
   {
    "duration": 14,
    "start_time": "2022-06-03T18:15:38.635Z"
   },
   {
    "duration": 38,
    "start_time": "2022-06-03T18:15:38.651Z"
   },
   {
    "duration": 164,
    "start_time": "2022-06-03T18:15:38.698Z"
   },
   {
    "duration": 30,
    "start_time": "2022-06-03T18:15:38.877Z"
   },
   {
    "duration": 88,
    "start_time": "2022-06-03T18:15:38.909Z"
   },
   {
    "duration": 33,
    "start_time": "2022-06-03T18:15:39.000Z"
   },
   {
    "duration": 35,
    "start_time": "2022-06-03T18:15:39.035Z"
   },
   {
    "duration": 43,
    "start_time": "2022-06-03T18:15:39.078Z"
   },
   {
    "duration": 38,
    "start_time": "2022-06-03T18:15:39.123Z"
   },
   {
    "duration": 52,
    "start_time": "2022-06-03T18:15:39.164Z"
   },
   {
    "duration": 73,
    "start_time": "2022-06-03T18:15:39.218Z"
   },
   {
    "duration": 43,
    "start_time": "2022-06-03T18:15:39.293Z"
   },
   {
    "duration": 10,
    "start_time": "2022-06-03T18:15:39.338Z"
   },
   {
    "duration": 57,
    "start_time": "2022-06-03T18:15:39.351Z"
   },
   {
    "duration": 14,
    "start_time": "2022-06-03T18:15:39.410Z"
   },
   {
    "duration": 52,
    "start_time": "2022-06-03T18:15:39.426Z"
   },
   {
    "duration": 7,
    "start_time": "2022-06-03T18:15:39.480Z"
   },
   {
    "duration": 18,
    "start_time": "2022-06-03T18:15:39.489Z"
   },
   {
    "duration": 88,
    "start_time": "2022-06-03T18:15:39.509Z"
   },
   {
    "duration": 110,
    "start_time": "2022-06-03T18:15:39.599Z"
   },
   {
    "duration": 20,
    "start_time": "2022-06-03T18:15:39.712Z"
   },
   {
    "duration": 46,
    "start_time": "2022-06-03T18:15:39.734Z"
   },
   {
    "duration": 60,
    "start_time": "2022-06-03T18:15:39.782Z"
   },
   {
    "duration": 25,
    "start_time": "2022-06-03T18:15:39.844Z"
   },
   {
    "duration": 55,
    "start_time": "2022-06-03T18:15:39.871Z"
   },
   {
    "duration": 11,
    "start_time": "2022-06-03T18:15:39.928Z"
   },
   {
    "duration": 27,
    "start_time": "2022-06-03T18:15:39.945Z"
   },
   {
    "duration": 30,
    "start_time": "2022-06-03T18:15:39.975Z"
   },
   {
    "duration": 16,
    "start_time": "2022-06-03T18:15:40.007Z"
   },
   {
    "duration": 37,
    "start_time": "2022-06-03T18:15:40.025Z"
   },
   {
    "duration": 27,
    "start_time": "2022-06-03T18:15:40.064Z"
   },
   {
    "duration": 15,
    "start_time": "2022-06-03T18:15:40.093Z"
   },
   {
    "duration": 12,
    "start_time": "2022-06-03T18:15:40.110Z"
   },
   {
    "duration": 21,
    "start_time": "2022-06-03T18:15:40.124Z"
   },
   {
    "duration": 18,
    "start_time": "2022-06-03T18:15:40.147Z"
   },
   {
    "duration": 35,
    "start_time": "2022-06-03T18:15:40.167Z"
   },
   {
    "duration": 26,
    "start_time": "2022-06-03T18:15:40.204Z"
   },
   {
    "duration": 13,
    "start_time": "2022-06-03T18:15:40.235Z"
   },
   {
    "duration": 24,
    "start_time": "2022-06-03T18:15:40.253Z"
   },
   {
    "duration": 12,
    "start_time": "2022-06-03T18:15:40.280Z"
   },
   {
    "duration": 22,
    "start_time": "2022-06-03T18:15:40.296Z"
   },
   {
    "duration": 24,
    "start_time": "2022-06-03T18:15:59.144Z"
   },
   {
    "duration": 23,
    "start_time": "2022-06-03T18:16:12.226Z"
   },
   {
    "duration": 23,
    "start_time": "2022-06-03T18:16:14.626Z"
   },
   {
    "duration": 1532,
    "start_time": "2022-06-03T18:16:47.157Z"
   },
   {
    "duration": 43,
    "start_time": "2022-06-03T18:16:48.692Z"
   },
   {
    "duration": 22,
    "start_time": "2022-06-03T18:16:48.738Z"
   },
   {
    "duration": 27,
    "start_time": "2022-06-03T18:16:48.763Z"
   },
   {
    "duration": 272,
    "start_time": "2022-06-03T18:16:48.792Z"
   },
   {
    "duration": 21,
    "start_time": "2022-06-03T18:16:49.066Z"
   },
   {
    "duration": 67,
    "start_time": "2022-06-03T18:16:49.090Z"
   },
   {
    "duration": 224,
    "start_time": "2022-06-03T18:16:49.172Z"
   },
   {
    "duration": 14,
    "start_time": "2022-06-03T18:16:49.401Z"
   },
   {
    "duration": 46,
    "start_time": "2022-06-03T18:16:49.424Z"
   },
   {
    "duration": 149,
    "start_time": "2022-06-03T18:16:49.474Z"
   },
   {
    "duration": 14,
    "start_time": "2022-06-03T18:16:49.625Z"
   },
   {
    "duration": 43,
    "start_time": "2022-06-03T18:16:49.642Z"
   },
   {
    "duration": 19,
    "start_time": "2022-06-03T18:16:49.690Z"
   },
   {
    "duration": 16,
    "start_time": "2022-06-03T18:16:49.711Z"
   },
   {
    "duration": 22,
    "start_time": "2022-06-03T18:16:49.730Z"
   },
   {
    "duration": 158,
    "start_time": "2022-06-03T18:16:49.756Z"
   },
   {
    "duration": 28,
    "start_time": "2022-06-03T18:16:49.917Z"
   },
   {
    "duration": 50,
    "start_time": "2022-06-03T18:16:49.947Z"
   },
   {
    "duration": 34,
    "start_time": "2022-06-03T18:16:50.000Z"
   },
   {
    "duration": 13,
    "start_time": "2022-06-03T18:16:50.037Z"
   },
   {
    "duration": 26,
    "start_time": "2022-06-03T18:16:50.052Z"
   },
   {
    "duration": 49,
    "start_time": "2022-06-03T18:16:50.080Z"
   },
   {
    "duration": 16,
    "start_time": "2022-06-03T18:16:50.132Z"
   },
   {
    "duration": 36,
    "start_time": "2022-06-03T18:16:50.153Z"
   },
   {
    "duration": 55,
    "start_time": "2022-06-03T18:16:50.200Z"
   },
   {
    "duration": 13,
    "start_time": "2022-06-03T18:16:50.260Z"
   },
   {
    "duration": 36,
    "start_time": "2022-06-03T18:16:50.279Z"
   },
   {
    "duration": 19,
    "start_time": "2022-06-03T18:16:50.317Z"
   },
   {
    "duration": 35,
    "start_time": "2022-06-03T18:16:50.341Z"
   },
   {
    "duration": 13,
    "start_time": "2022-06-03T18:16:50.379Z"
   },
   {
    "duration": 36,
    "start_time": "2022-06-03T18:16:50.397Z"
   },
   {
    "duration": 38,
    "start_time": "2022-06-03T18:16:50.436Z"
   },
   {
    "duration": 113,
    "start_time": "2022-06-03T18:16:50.478Z"
   },
   {
    "duration": 19,
    "start_time": "2022-06-03T18:16:50.594Z"
   },
   {
    "duration": 25,
    "start_time": "2022-06-03T18:16:50.615Z"
   },
   {
    "duration": 65,
    "start_time": "2022-06-03T18:16:50.643Z"
   },
   {
    "duration": 31,
    "start_time": "2022-06-03T18:16:50.711Z"
   },
   {
    "duration": 49,
    "start_time": "2022-06-03T18:16:50.746Z"
   },
   {
    "duration": 21,
    "start_time": "2022-06-03T18:16:50.797Z"
   },
   {
    "duration": 37,
    "start_time": "2022-06-03T18:16:50.822Z"
   },
   {
    "duration": 27,
    "start_time": "2022-06-03T18:16:50.866Z"
   },
   {
    "duration": 16,
    "start_time": "2022-06-03T18:16:50.899Z"
   },
   {
    "duration": 44,
    "start_time": "2022-06-03T18:16:50.922Z"
   },
   {
    "duration": 35,
    "start_time": "2022-06-03T18:16:50.973Z"
   },
   {
    "duration": 29,
    "start_time": "2022-06-03T18:16:51.015Z"
   },
   {
    "duration": 20,
    "start_time": "2022-06-03T18:16:51.051Z"
   },
   {
    "duration": 31,
    "start_time": "2022-06-03T18:16:51.079Z"
   },
   {
    "duration": 29,
    "start_time": "2022-06-03T18:16:51.116Z"
   },
   {
    "duration": 43,
    "start_time": "2022-06-03T18:16:51.151Z"
   },
   {
    "duration": 19,
    "start_time": "2022-06-03T18:16:51.198Z"
   },
   {
    "duration": 6,
    "start_time": "2022-06-03T18:16:51.221Z"
   },
   {
    "duration": 39,
    "start_time": "2022-06-03T18:16:51.230Z"
   },
   {
    "duration": 37,
    "start_time": "2022-06-03T18:16:51.275Z"
   },
   {
    "duration": 22,
    "start_time": "2022-06-03T18:16:51.314Z"
   },
   {
    "duration": 22,
    "start_time": "2022-06-03T18:16:51.341Z"
   },
   {
    "duration": 1011,
    "start_time": "2022-06-03T18:17:48.800Z"
   },
   {
    "duration": 602,
    "start_time": "2022-06-03T18:18:02.308Z"
   },
   {
    "duration": 65,
    "start_time": "2022-06-03T18:20:39.551Z"
   },
   {
    "duration": 1101,
    "start_time": "2022-06-03T18:20:42.780Z"
   },
   {
    "duration": 23,
    "start_time": "2022-06-03T18:22:12.381Z"
   },
   {
    "duration": 25,
    "start_time": "2022-06-03T18:22:36.967Z"
   },
   {
    "duration": 21,
    "start_time": "2022-06-03T18:22:43.555Z"
   },
   {
    "duration": 10,
    "start_time": "2022-06-03T18:22:54.411Z"
   },
   {
    "duration": 15,
    "start_time": "2022-06-03T18:23:00.370Z"
   },
   {
    "duration": 21,
    "start_time": "2022-06-03T18:26:34.317Z"
   },
   {
    "duration": 11,
    "start_time": "2022-06-03T18:26:36.398Z"
   },
   {
    "duration": 9,
    "start_time": "2022-06-03T18:28:10.373Z"
   },
   {
    "duration": 20,
    "start_time": "2022-06-03T18:28:11.921Z"
   },
   {
    "duration": 9,
    "start_time": "2022-06-03T18:28:49.006Z"
   },
   {
    "duration": 12,
    "start_time": "2022-06-03T18:28:50.494Z"
   },
   {
    "duration": 19,
    "start_time": "2022-06-03T18:29:44.648Z"
   },
   {
    "duration": 8,
    "start_time": "2022-06-03T18:35:15.684Z"
   },
   {
    "duration": 15,
    "start_time": "2022-06-03T18:41:03.014Z"
   },
   {
    "duration": 4,
    "start_time": "2022-06-03T18:46:22.255Z"
   },
   {
    "duration": 4,
    "start_time": "2022-06-03T18:46:27.018Z"
   },
   {
    "duration": 12,
    "start_time": "2022-06-03T18:46:32.058Z"
   },
   {
    "duration": 14,
    "start_time": "2022-06-03T18:46:53.619Z"
   },
   {
    "duration": 34,
    "start_time": "2022-06-03T18:47:02.276Z"
   },
   {
    "duration": 37,
    "start_time": "2022-06-03T18:47:12.653Z"
   },
   {
    "duration": 4,
    "start_time": "2022-06-03T18:47:17.162Z"
   },
   {
    "duration": 14,
    "start_time": "2022-06-03T18:47:19.122Z"
   },
   {
    "duration": 8,
    "start_time": "2022-06-03T18:47:37.252Z"
   },
   {
    "duration": 11,
    "start_time": "2022-06-03T19:09:13.711Z"
   },
   {
    "duration": 20,
    "start_time": "2022-06-03T19:10:26.611Z"
   },
   {
    "duration": 24,
    "start_time": "2022-06-03T19:10:36.860Z"
   },
   {
    "duration": 233,
    "start_time": "2022-06-03T19:11:55.223Z"
   },
   {
    "duration": 211,
    "start_time": "2022-06-03T19:16:47.275Z"
   },
   {
    "duration": 1261,
    "start_time": "2022-06-03T19:16:57.442Z"
   },
   {
    "duration": 44,
    "start_time": "2022-06-03T19:16:58.705Z"
   },
   {
    "duration": 18,
    "start_time": "2022-06-03T19:16:58.751Z"
   },
   {
    "duration": 13,
    "start_time": "2022-06-03T19:16:58.771Z"
   },
   {
    "duration": 176,
    "start_time": "2022-06-03T19:16:58.785Z"
   },
   {
    "duration": 11,
    "start_time": "2022-06-03T19:16:58.963Z"
   },
   {
    "duration": 55,
    "start_time": "2022-06-03T19:16:58.976Z"
   },
   {
    "duration": 144,
    "start_time": "2022-06-03T19:16:59.034Z"
   },
   {
    "duration": 10,
    "start_time": "2022-06-03T19:16:59.180Z"
   },
   {
    "duration": 58,
    "start_time": "2022-06-03T19:16:59.193Z"
   },
   {
    "duration": 103,
    "start_time": "2022-06-03T19:16:59.253Z"
   },
   {
    "duration": 9,
    "start_time": "2022-06-03T19:16:59.359Z"
   },
   {
    "duration": 21,
    "start_time": "2022-06-03T19:16:59.370Z"
   },
   {
    "duration": 15,
    "start_time": "2022-06-03T19:16:59.393Z"
   },
   {
    "duration": 30,
    "start_time": "2022-06-03T19:16:59.410Z"
   },
   {
    "duration": 13,
    "start_time": "2022-06-03T19:16:59.443Z"
   },
   {
    "duration": 96,
    "start_time": "2022-06-03T19:16:59.458Z"
   },
   {
    "duration": 24,
    "start_time": "2022-06-03T19:16:59.556Z"
   },
   {
    "duration": 65,
    "start_time": "2022-06-03T19:16:59.582Z"
   },
   {
    "duration": 12,
    "start_time": "2022-06-03T19:16:59.648Z"
   },
   {
    "duration": 10,
    "start_time": "2022-06-03T19:16:59.662Z"
   },
   {
    "duration": 12,
    "start_time": "2022-06-03T19:16:59.674Z"
   },
   {
    "duration": 60,
    "start_time": "2022-06-03T19:16:59.688Z"
   },
   {
    "duration": 16,
    "start_time": "2022-06-03T19:16:59.751Z"
   },
   {
    "duration": 28,
    "start_time": "2022-06-03T19:16:59.769Z"
   },
   {
    "duration": 60,
    "start_time": "2022-06-03T19:16:59.799Z"
   },
   {
    "duration": 9,
    "start_time": "2022-06-03T19:16:59.861Z"
   },
   {
    "duration": 25,
    "start_time": "2022-06-03T19:16:59.874Z"
   },
   {
    "duration": 33,
    "start_time": "2022-06-03T19:16:59.901Z"
   },
   {
    "duration": 32,
    "start_time": "2022-06-03T19:16:59.935Z"
   },
   {
    "duration": 5,
    "start_time": "2022-06-03T19:16:59.969Z"
   },
   {
    "duration": 16,
    "start_time": "2022-06-03T19:16:59.976Z"
   },
   {
    "duration": 50,
    "start_time": "2022-06-03T19:16:59.994Z"
   },
   {
    "duration": 75,
    "start_time": "2022-06-03T19:17:00.048Z"
   },
   {
    "duration": 25,
    "start_time": "2022-06-03T19:17:00.124Z"
   },
   {
    "duration": 18,
    "start_time": "2022-06-03T19:17:00.151Z"
   },
   {
    "duration": 74,
    "start_time": "2022-06-03T19:17:00.172Z"
   },
   {
    "duration": 20,
    "start_time": "2022-06-03T19:17:00.249Z"
   },
   {
    "duration": 32,
    "start_time": "2022-06-03T19:17:00.271Z"
   },
   {
    "duration": 35,
    "start_time": "2022-06-03T19:17:00.304Z"
   },
   {
    "duration": 28,
    "start_time": "2022-06-03T19:17:00.342Z"
   },
   {
    "duration": 23,
    "start_time": "2022-06-03T19:17:00.371Z"
   },
   {
    "duration": 15,
    "start_time": "2022-06-03T19:17:00.395Z"
   },
   {
    "duration": 22,
    "start_time": "2022-06-03T19:17:00.412Z"
   },
   {
    "duration": 34,
    "start_time": "2022-06-03T19:17:00.435Z"
   },
   {
    "duration": 17,
    "start_time": "2022-06-03T19:17:00.470Z"
   },
   {
    "duration": 17,
    "start_time": "2022-06-03T19:17:00.489Z"
   },
   {
    "duration": 13,
    "start_time": "2022-06-03T19:17:00.507Z"
   },
   {
    "duration": 29,
    "start_time": "2022-06-03T19:17:00.522Z"
   },
   {
    "duration": 21,
    "start_time": "2022-06-03T19:17:00.553Z"
   },
   {
    "duration": 14,
    "start_time": "2022-06-03T19:17:00.576Z"
   },
   {
    "duration": 12,
    "start_time": "2022-06-03T19:17:00.592Z"
   },
   {
    "duration": 14,
    "start_time": "2022-06-03T19:17:00.606Z"
   },
   {
    "duration": 36,
    "start_time": "2022-06-03T19:17:00.621Z"
   },
   {
    "duration": 13,
    "start_time": "2022-06-03T19:17:00.658Z"
   },
   {
    "duration": 13,
    "start_time": "2022-06-03T19:17:00.673Z"
   },
   {
    "duration": 13,
    "start_time": "2022-06-03T19:17:00.688Z"
   },
   {
    "duration": 10,
    "start_time": "2022-06-03T19:17:00.703Z"
   },
   {
    "duration": 17,
    "start_time": "2022-06-03T19:17:00.714Z"
   },
   {
    "duration": 250,
    "start_time": "2022-06-03T19:17:00.733Z"
   },
   {
    "duration": 6,
    "start_time": "2022-06-03T19:29:46.489Z"
   },
   {
    "duration": 19,
    "start_time": "2022-06-03T19:29:54.404Z"
   },
   {
    "duration": 45,
    "start_time": "2022-06-03T19:35:43.110Z"
   },
   {
    "duration": 134,
    "start_time": "2022-06-03T19:36:41.506Z"
   },
   {
    "duration": 22,
    "start_time": "2022-06-03T19:48:06.192Z"
   },
   {
    "duration": 70,
    "start_time": "2022-06-03T19:48:53.482Z"
   },
   {
    "duration": 65,
    "start_time": "2022-06-03T19:49:09.253Z"
   },
   {
    "duration": 84,
    "start_time": "2022-06-03T19:49:14.867Z"
   },
   {
    "duration": 73,
    "start_time": "2022-06-03T19:52:54.571Z"
   },
   {
    "duration": 53,
    "start_time": "2022-06-03T19:54:13.198Z"
   },
   {
    "duration": 58,
    "start_time": "2022-06-03T20:16:37.496Z"
   },
   {
    "duration": 48,
    "start_time": "2022-06-03T20:16:54.594Z"
   },
   {
    "duration": 76,
    "start_time": "2022-06-03T20:17:03.472Z"
   },
   {
    "duration": 48,
    "start_time": "2022-06-03T20:17:16.856Z"
   },
   {
    "duration": 55,
    "start_time": "2022-06-03T20:17:23.665Z"
   },
   {
    "duration": 37,
    "start_time": "2022-06-03T20:19:56.269Z"
   },
   {
    "duration": 28,
    "start_time": "2022-06-03T20:20:42.992Z"
   },
   {
    "duration": 44,
    "start_time": "2022-06-03T20:20:47.893Z"
   },
   {
    "duration": 38,
    "start_time": "2022-06-03T20:20:51.418Z"
   },
   {
    "duration": 51,
    "start_time": "2022-06-03T20:20:56.338Z"
   },
   {
    "duration": 52,
    "start_time": "2022-06-03T20:21:32.999Z"
   },
   {
    "duration": 54,
    "start_time": "2022-06-03T20:21:38.114Z"
   },
   {
    "duration": 38,
    "start_time": "2022-06-03T20:24:02.434Z"
   },
   {
    "duration": 37,
    "start_time": "2022-06-03T20:24:11.741Z"
   },
   {
    "duration": 1223,
    "start_time": "2022-06-04T02:58:04.012Z"
   },
   {
    "duration": 78,
    "start_time": "2022-06-04T02:58:05.237Z"
   },
   {
    "duration": 15,
    "start_time": "2022-06-04T02:58:05.317Z"
   },
   {
    "duration": 12,
    "start_time": "2022-06-04T02:58:05.335Z"
   },
   {
    "duration": 220,
    "start_time": "2022-06-04T02:58:05.349Z"
   },
   {
    "duration": 9,
    "start_time": "2022-06-04T02:58:05.571Z"
   },
   {
    "duration": 26,
    "start_time": "2022-06-04T02:58:05.581Z"
   },
   {
    "duration": 282,
    "start_time": "2022-06-04T02:58:05.609Z"
   },
   {
    "duration": 9,
    "start_time": "2022-06-04T02:58:05.893Z"
   },
   {
    "duration": 22,
    "start_time": "2022-06-04T02:58:05.904Z"
   },
   {
    "duration": 283,
    "start_time": "2022-06-04T02:58:05.927Z"
   },
   {
    "duration": 8,
    "start_time": "2022-06-04T02:58:06.212Z"
   },
   {
    "duration": 21,
    "start_time": "2022-06-04T02:58:06.222Z"
   },
   {
    "duration": 58,
    "start_time": "2022-06-04T02:58:06.245Z"
   },
   {
    "duration": 8,
    "start_time": "2022-06-04T02:58:06.305Z"
   },
   {
    "duration": 13,
    "start_time": "2022-06-04T02:58:06.315Z"
   },
   {
    "duration": 79,
    "start_time": "2022-06-04T02:58:06.330Z"
   },
   {
    "duration": 16,
    "start_time": "2022-06-04T02:58:06.411Z"
   },
   {
    "duration": 35,
    "start_time": "2022-06-04T02:58:06.428Z"
   },
   {
    "duration": 11,
    "start_time": "2022-06-04T02:58:06.464Z"
   },
   {
    "duration": 7,
    "start_time": "2022-06-04T02:58:06.494Z"
   },
   {
    "duration": 13,
    "start_time": "2022-06-04T02:58:06.502Z"
   },
   {
    "duration": 18,
    "start_time": "2022-06-04T02:58:06.517Z"
   },
   {
    "duration": 9,
    "start_time": "2022-06-04T02:58:06.536Z"
   },
   {
    "duration": 47,
    "start_time": "2022-06-04T02:58:06.547Z"
   },
   {
    "duration": 30,
    "start_time": "2022-06-04T02:58:06.596Z"
   },
   {
    "duration": 7,
    "start_time": "2022-06-04T02:58:06.628Z"
   },
   {
    "duration": 19,
    "start_time": "2022-06-04T02:58:06.638Z"
   },
   {
    "duration": 6,
    "start_time": "2022-06-04T02:58:06.658Z"
   },
   {
    "duration": 35,
    "start_time": "2022-06-04T02:58:06.666Z"
   },
   {
    "duration": 5,
    "start_time": "2022-06-04T02:58:06.702Z"
   },
   {
    "duration": 12,
    "start_time": "2022-06-04T02:58:06.708Z"
   },
   {
    "duration": 22,
    "start_time": "2022-06-04T02:58:06.721Z"
   },
   {
    "duration": 90,
    "start_time": "2022-06-04T02:58:06.744Z"
   },
   {
    "duration": 15,
    "start_time": "2022-06-04T02:58:06.835Z"
   },
   {
    "duration": 8,
    "start_time": "2022-06-04T02:58:06.852Z"
   },
   {
    "duration": 56,
    "start_time": "2022-06-04T02:58:06.861Z"
   },
   {
    "duration": 18,
    "start_time": "2022-06-04T02:58:06.919Z"
   },
   {
    "duration": 30,
    "start_time": "2022-06-04T02:58:06.938Z"
   },
   {
    "duration": 32,
    "start_time": "2022-06-04T02:58:06.970Z"
   },
   {
    "duration": 13,
    "start_time": "2022-06-04T02:58:07.004Z"
   },
   {
    "duration": 11,
    "start_time": "2022-06-04T02:58:07.019Z"
   },
   {
    "duration": 7,
    "start_time": "2022-06-04T02:58:07.032Z"
   },
   {
    "duration": 16,
    "start_time": "2022-06-04T02:58:07.041Z"
   },
   {
    "duration": 38,
    "start_time": "2022-06-04T02:58:07.058Z"
   },
   {
    "duration": 6,
    "start_time": "2022-06-04T02:58:07.098Z"
   },
   {
    "duration": 8,
    "start_time": "2022-06-04T02:58:07.105Z"
   },
   {
    "duration": 11,
    "start_time": "2022-06-04T02:58:07.114Z"
   },
   {
    "duration": 10,
    "start_time": "2022-06-04T02:58:07.126Z"
   },
   {
    "duration": 18,
    "start_time": "2022-06-04T02:58:07.138Z"
   },
   {
    "duration": 15,
    "start_time": "2022-06-04T02:58:07.157Z"
   },
   {
    "duration": 23,
    "start_time": "2022-06-04T02:58:07.173Z"
   },
   {
    "duration": 12,
    "start_time": "2022-06-04T02:58:07.198Z"
   },
   {
    "duration": 10,
    "start_time": "2022-06-04T02:58:07.212Z"
   },
   {
    "duration": 10,
    "start_time": "2022-06-04T02:58:07.224Z"
   },
   {
    "duration": 13,
    "start_time": "2022-06-04T02:58:07.236Z"
   },
   {
    "duration": 8,
    "start_time": "2022-06-04T02:58:07.251Z"
   },
   {
    "duration": 7,
    "start_time": "2022-06-04T02:58:07.260Z"
   },
   {
    "duration": 28,
    "start_time": "2022-06-04T02:58:07.268Z"
   },
   {
    "duration": 198,
    "start_time": "2022-06-04T02:58:07.297Z"
   },
   {
    "duration": 33,
    "start_time": "2022-06-04T02:58:07.496Z"
   },
   {
    "duration": 6,
    "start_time": "2022-06-04T02:58:07.531Z"
   },
   {
    "duration": 45,
    "start_time": "2022-06-04T02:58:07.538Z"
   },
   {
    "duration": 49,
    "start_time": "2022-06-04T03:01:25.176Z"
   },
   {
    "duration": 471,
    "start_time": "2022-06-04T03:03:46.454Z"
   },
   {
    "duration": 37,
    "start_time": "2022-06-04T03:04:53.081Z"
   },
   {
    "duration": 37,
    "start_time": "2022-06-04T03:04:57.657Z"
   },
   {
    "duration": 37,
    "start_time": "2022-06-04T03:05:04.695Z"
   },
   {
    "duration": 52,
    "start_time": "2022-06-04T03:05:08.077Z"
   },
   {
    "duration": 745,
    "start_time": "2022-06-04T03:07:09.991Z"
   },
   {
    "duration": 388,
    "start_time": "2022-06-04T03:09:25.989Z"
   },
   {
    "duration": 388,
    "start_time": "2022-06-04T03:09:45.193Z"
   },
   {
    "duration": 46,
    "start_time": "2022-06-04T03:09:55.917Z"
   },
   {
    "duration": 297,
    "start_time": "2022-06-04T03:13:16.726Z"
   },
   {
    "duration": 39,
    "start_time": "2022-06-04T03:13:42.804Z"
   },
   {
    "duration": 103,
    "start_time": "2022-06-04T03:13:45.792Z"
   },
   {
    "duration": 49,
    "start_time": "2022-06-04T03:14:01.512Z"
   },
   {
    "duration": 10,
    "start_time": "2022-06-04T03:14:04.010Z"
   },
   {
    "duration": 9,
    "start_time": "2022-06-04T03:14:09.506Z"
   },
   {
    "duration": 51,
    "start_time": "2022-06-04T03:14:13.492Z"
   },
   {
    "duration": 1068,
    "start_time": "2022-06-04T03:20:46.496Z"
   },
   {
    "duration": 11,
    "start_time": "2022-06-04T03:26:13.491Z"
   },
   {
    "duration": 10,
    "start_time": "2022-06-04T03:26:43.349Z"
   },
   {
    "duration": 37,
    "start_time": "2022-06-04T03:28:08.163Z"
   },
   {
    "duration": 14,
    "start_time": "2022-06-04T03:28:21.910Z"
   },
   {
    "duration": 15,
    "start_time": "2022-06-04T03:29:15.990Z"
   },
   {
    "duration": 12,
    "start_time": "2022-06-04T03:30:53.281Z"
   },
   {
    "duration": 23,
    "start_time": "2022-06-04T03:31:00.917Z"
   },
   {
    "duration": 264,
    "start_time": "2022-06-04T03:31:33.939Z"
   },
   {
    "duration": 128,
    "start_time": "2022-06-04T03:32:14.148Z"
   },
   {
    "duration": 170,
    "start_time": "2022-06-04T03:32:32.601Z"
   },
   {
    "duration": 183,
    "start_time": "2022-06-04T03:32:48.942Z"
   },
   {
    "duration": 126,
    "start_time": "2022-06-04T03:34:02.494Z"
   },
   {
    "duration": 246,
    "start_time": "2022-06-04T03:34:49.386Z"
   },
   {
    "duration": 353,
    "start_time": "2022-06-04T03:35:01.026Z"
   },
   {
    "duration": 254,
    "start_time": "2022-06-04T03:41:24.678Z"
   },
   {
    "duration": 380,
    "start_time": "2022-06-04T03:41:33.487Z"
   },
   {
    "duration": 247,
    "start_time": "2022-06-04T03:42:00.188Z"
   },
   {
    "duration": 15,
    "start_time": "2022-06-04T03:43:36.724Z"
   },
   {
    "duration": 14,
    "start_time": "2022-06-04T03:43:44.688Z"
   },
   {
    "duration": 35,
    "start_time": "2022-06-04T03:44:11.402Z"
   },
   {
    "duration": 16,
    "start_time": "2022-06-04T03:44:37.889Z"
   },
   {
    "duration": 13,
    "start_time": "2022-06-04T03:46:59.094Z"
   },
   {
    "duration": 12,
    "start_time": "2022-06-04T03:47:05.392Z"
   },
   {
    "duration": 13,
    "start_time": "2022-06-04T03:50:30.995Z"
   },
   {
    "duration": 1080,
    "start_time": "2022-06-04T03:52:44.165Z"
   },
   {
    "duration": 338,
    "start_time": "2022-06-04T03:55:55.801Z"
   },
   {
    "duration": 6,
    "start_time": "2022-06-04T03:56:10.706Z"
   },
   {
    "duration": 341,
    "start_time": "2022-06-04T03:56:55.095Z"
   },
   {
    "duration": 2098,
    "start_time": "2022-06-04T03:57:28.020Z"
   },
   {
    "duration": 5,
    "start_time": "2022-06-04T03:57:48.864Z"
   },
   {
    "duration": 5,
    "start_time": "2022-06-04T03:57:54.078Z"
   },
   {
    "duration": 17,
    "start_time": "2022-06-04T03:57:59.926Z"
   },
   {
    "duration": 5,
    "start_time": "2022-06-04T03:58:11.511Z"
   },
   {
    "duration": 4,
    "start_time": "2022-06-04T03:58:20.891Z"
   },
   {
    "duration": 12,
    "start_time": "2022-06-04T03:58:24.464Z"
   },
   {
    "duration": 6,
    "start_time": "2022-06-04T03:58:41.251Z"
   },
   {
    "duration": 6,
    "start_time": "2022-06-04T03:58:47.951Z"
   },
   {
    "duration": 12,
    "start_time": "2022-06-04T03:58:58.630Z"
   },
   {
    "duration": 11,
    "start_time": "2022-06-04T03:59:03.486Z"
   },
   {
    "duration": 12,
    "start_time": "2022-06-04T03:59:09.447Z"
   },
   {
    "duration": 6,
    "start_time": "2022-06-04T03:59:21.509Z"
   },
   {
    "duration": 5,
    "start_time": "2022-06-04T03:59:28.981Z"
   },
   {
    "duration": 4,
    "start_time": "2022-06-04T03:59:31.435Z"
   },
   {
    "duration": 305,
    "start_time": "2022-06-04T03:59:53.482Z"
   },
   {
    "duration": 13,
    "start_time": "2022-06-04T04:00:16.296Z"
   },
   {
    "duration": 407,
    "start_time": "2022-06-04T04:00:19.578Z"
   },
   {
    "duration": 62,
    "start_time": "2022-06-04T08:24:37.001Z"
   },
   {
    "duration": 1303,
    "start_time": "2022-06-04T08:24:43.398Z"
   },
   {
    "duration": 91,
    "start_time": "2022-06-04T08:24:44.705Z"
   },
   {
    "duration": 17,
    "start_time": "2022-06-04T08:24:44.798Z"
   },
   {
    "duration": 22,
    "start_time": "2022-06-04T08:24:44.817Z"
   },
   {
    "duration": 269,
    "start_time": "2022-06-04T08:24:44.844Z"
   },
   {
    "duration": 9,
    "start_time": "2022-06-04T08:24:45.115Z"
   },
   {
    "duration": 29,
    "start_time": "2022-06-04T08:24:45.126Z"
   },
   {
    "duration": 371,
    "start_time": "2022-06-04T08:24:45.156Z"
   },
   {
    "duration": 12,
    "start_time": "2022-06-04T08:24:45.529Z"
   },
   {
    "duration": 40,
    "start_time": "2022-06-04T08:24:45.543Z"
   },
   {
    "duration": 301,
    "start_time": "2022-06-04T08:24:45.585Z"
   },
   {
    "duration": 9,
    "start_time": "2022-06-04T08:24:45.887Z"
   },
   {
    "duration": 33,
    "start_time": "2022-06-04T08:24:45.899Z"
   },
   {
    "duration": 71,
    "start_time": "2022-06-04T08:24:45.937Z"
   },
   {
    "duration": 9,
    "start_time": "2022-06-04T08:24:46.010Z"
   },
   {
    "duration": 18,
    "start_time": "2022-06-04T08:24:46.020Z"
   },
   {
    "duration": 92,
    "start_time": "2022-06-04T08:24:46.040Z"
   },
   {
    "duration": 15,
    "start_time": "2022-06-04T08:24:46.134Z"
   },
   {
    "duration": 57,
    "start_time": "2022-06-04T08:24:46.151Z"
   },
   {
    "duration": 12,
    "start_time": "2022-06-04T08:24:46.209Z"
   },
   {
    "duration": 10,
    "start_time": "2022-06-04T08:24:46.223Z"
   },
   {
    "duration": 32,
    "start_time": "2022-06-04T08:24:46.234Z"
   },
   {
    "duration": 28,
    "start_time": "2022-06-04T08:24:46.268Z"
   },
   {
    "duration": 11,
    "start_time": "2022-06-04T08:24:46.298Z"
   },
   {
    "duration": 22,
    "start_time": "2022-06-04T08:24:46.311Z"
   },
   {
    "duration": 67,
    "start_time": "2022-06-04T08:24:46.335Z"
   },
   {
    "duration": 9,
    "start_time": "2022-06-04T08:24:46.405Z"
   },
   {
    "duration": 29,
    "start_time": "2022-06-04T08:24:46.416Z"
   },
   {
    "duration": 22,
    "start_time": "2022-06-04T08:24:46.447Z"
   },
   {
    "duration": 15,
    "start_time": "2022-06-04T08:24:46.471Z"
   },
   {
    "duration": 12,
    "start_time": "2022-06-04T08:24:46.488Z"
   },
   {
    "duration": 12,
    "start_time": "2022-06-04T08:24:46.502Z"
   },
   {
    "duration": 22,
    "start_time": "2022-06-04T08:24:46.515Z"
   },
   {
    "duration": 92,
    "start_time": "2022-06-04T08:24:46.538Z"
   },
   {
    "duration": 15,
    "start_time": "2022-06-04T08:24:46.631Z"
   },
   {
    "duration": 18,
    "start_time": "2022-06-04T08:24:46.648Z"
   },
   {
    "duration": 39,
    "start_time": "2022-06-04T08:24:46.668Z"
   },
   {
    "duration": 16,
    "start_time": "2022-06-04T08:24:46.709Z"
   },
   {
    "duration": 51,
    "start_time": "2022-06-04T08:24:46.726Z"
   },
   {
    "duration": 8,
    "start_time": "2022-06-04T08:24:46.779Z"
   },
   {
    "duration": 12,
    "start_time": "2022-06-04T08:24:46.791Z"
   },
   {
    "duration": 18,
    "start_time": "2022-06-04T08:24:46.805Z"
   },
   {
    "duration": 8,
    "start_time": "2022-06-04T08:24:46.825Z"
   },
   {
    "duration": 37,
    "start_time": "2022-06-04T08:24:46.835Z"
   },
   {
    "duration": 12,
    "start_time": "2022-06-04T08:24:46.873Z"
   },
   {
    "duration": 11,
    "start_time": "2022-06-04T08:24:46.886Z"
   },
   {
    "duration": 7,
    "start_time": "2022-06-04T08:24:46.899Z"
   },
   {
    "duration": 14,
    "start_time": "2022-06-04T08:24:46.908Z"
   },
   {
    "duration": 9,
    "start_time": "2022-06-04T08:24:46.923Z"
   },
   {
    "duration": 44,
    "start_time": "2022-06-04T08:24:46.933Z"
   },
   {
    "duration": 10,
    "start_time": "2022-06-04T08:24:46.979Z"
   },
   {
    "duration": 7,
    "start_time": "2022-06-04T08:24:46.991Z"
   },
   {
    "duration": 13,
    "start_time": "2022-06-04T08:24:46.999Z"
   },
   {
    "duration": 6,
    "start_time": "2022-06-04T08:24:47.014Z"
   },
   {
    "duration": 11,
    "start_time": "2022-06-04T08:24:47.021Z"
   },
   {
    "duration": 39,
    "start_time": "2022-06-04T08:24:47.034Z"
   },
   {
    "duration": 10,
    "start_time": "2022-06-04T08:24:47.075Z"
   },
   {
    "duration": 7,
    "start_time": "2022-06-04T08:24:47.086Z"
   },
   {
    "duration": 13,
    "start_time": "2022-06-04T08:24:47.094Z"
   },
   {
    "duration": 234,
    "start_time": "2022-06-04T08:24:47.109Z"
   },
   {
    "duration": 65,
    "start_time": "2022-06-04T08:24:47.345Z"
   },
   {
    "duration": 511,
    "start_time": "2022-06-04T08:24:47.412Z"
   },
   {
    "duration": 253,
    "start_time": "2022-06-04T08:24:47.925Z"
   },
   {
    "duration": 1181,
    "start_time": "2022-06-04T08:24:48.180Z"
   },
   {
    "duration": 7,
    "start_time": "2022-06-04T08:24:49.364Z"
   },
   {
    "duration": 35,
    "start_time": "2022-06-04T08:24:49.372Z"
   },
   {
    "duration": 7,
    "start_time": "2022-06-04T08:26:33.805Z"
   },
   {
    "duration": 4,
    "start_time": "2022-06-04T08:26:39.157Z"
   },
   {
    "duration": 107,
    "start_time": "2022-06-04T08:26:51.442Z"
   },
   {
    "duration": 21,
    "start_time": "2022-06-04T08:26:59.539Z"
   },
   {
    "duration": 34,
    "start_time": "2022-06-04T08:27:28.997Z"
   },
   {
    "duration": 4,
    "start_time": "2022-06-04T08:27:33.214Z"
   },
   {
    "duration": 13,
    "start_time": "2022-06-04T08:30:16.312Z"
   },
   {
    "duration": 11,
    "start_time": "2022-06-04T08:30:57.936Z"
   },
   {
    "duration": 290,
    "start_time": "2022-06-04T08:31:57.214Z"
   },
   {
    "duration": 430,
    "start_time": "2022-06-04T08:32:29.748Z"
   },
   {
    "duration": 9,
    "start_time": "2022-06-04T08:32:55.507Z"
   },
   {
    "duration": 11,
    "start_time": "2022-06-04T08:37:25.713Z"
   },
   {
    "duration": 273,
    "start_time": "2022-06-04T08:40:57.608Z"
   },
   {
    "duration": 222,
    "start_time": "2022-06-04T08:46:51.709Z"
   },
   {
    "duration": 11,
    "start_time": "2022-06-04T10:11:26.238Z"
   },
   {
    "duration": 19,
    "start_time": "2022-06-04T10:11:37.177Z"
   },
   {
    "duration": 1151,
    "start_time": "2022-06-04T10:15:48.379Z"
   },
   {
    "duration": 49,
    "start_time": "2022-06-04T10:15:49.532Z"
   },
   {
    "duration": 12,
    "start_time": "2022-06-04T10:15:49.583Z"
   },
   {
    "duration": 12,
    "start_time": "2022-06-04T10:15:49.597Z"
   },
   {
    "duration": 160,
    "start_time": "2022-06-04T10:15:49.611Z"
   },
   {
    "duration": 12,
    "start_time": "2022-06-04T10:15:49.773Z"
   },
   {
    "duration": 25,
    "start_time": "2022-06-04T10:15:49.787Z"
   },
   {
    "duration": 129,
    "start_time": "2022-06-04T10:15:49.813Z"
   },
   {
    "duration": 8,
    "start_time": "2022-06-04T10:15:49.944Z"
   },
   {
    "duration": 46,
    "start_time": "2022-06-04T10:15:49.954Z"
   },
   {
    "duration": 93,
    "start_time": "2022-06-04T10:15:50.001Z"
   },
   {
    "duration": 11,
    "start_time": "2022-06-04T10:15:50.096Z"
   },
   {
    "duration": 22,
    "start_time": "2022-06-04T10:15:50.109Z"
   },
   {
    "duration": 15,
    "start_time": "2022-06-04T10:15:50.135Z"
   },
   {
    "duration": 31,
    "start_time": "2022-06-04T10:15:50.152Z"
   },
   {
    "duration": 14,
    "start_time": "2022-06-04T10:15:50.184Z"
   },
   {
    "duration": 85,
    "start_time": "2022-06-04T10:15:50.200Z"
   },
   {
    "duration": 16,
    "start_time": "2022-06-04T10:15:50.287Z"
   },
   {
    "duration": 32,
    "start_time": "2022-06-04T10:15:50.305Z"
   },
   {
    "duration": 38,
    "start_time": "2022-06-04T10:15:50.340Z"
   },
   {
    "duration": 10,
    "start_time": "2022-06-04T10:15:50.380Z"
   },
   {
    "duration": 14,
    "start_time": "2022-06-04T10:15:50.392Z"
   },
   {
    "duration": 31,
    "start_time": "2022-06-04T10:15:50.408Z"
   },
   {
    "duration": 33,
    "start_time": "2022-06-04T10:15:50.441Z"
   },
   {
    "duration": 22,
    "start_time": "2022-06-04T10:15:50.478Z"
   },
   {
    "duration": 28,
    "start_time": "2022-06-04T10:15:50.502Z"
   },
   {
    "duration": 5,
    "start_time": "2022-06-04T10:15:50.532Z"
   },
   {
    "duration": 49,
    "start_time": "2022-06-04T10:15:50.539Z"
   },
   {
    "duration": 14,
    "start_time": "2022-06-04T10:15:50.591Z"
   },
   {
    "duration": 11,
    "start_time": "2022-06-04T10:15:50.607Z"
   },
   {
    "duration": 5,
    "start_time": "2022-06-04T10:15:50.619Z"
   },
   {
    "duration": 13,
    "start_time": "2022-06-04T10:15:50.626Z"
   },
   {
    "duration": 32,
    "start_time": "2022-06-04T10:15:50.640Z"
   },
   {
    "duration": 64,
    "start_time": "2022-06-04T10:15:50.679Z"
   },
   {
    "duration": 27,
    "start_time": "2022-06-04T10:15:50.744Z"
   },
   {
    "duration": 12,
    "start_time": "2022-06-04T10:15:50.778Z"
   },
   {
    "duration": 47,
    "start_time": "2022-06-04T10:15:50.792Z"
   },
   {
    "duration": 33,
    "start_time": "2022-06-04T10:15:50.840Z"
   },
   {
    "duration": 29,
    "start_time": "2022-06-04T10:15:50.875Z"
   },
   {
    "duration": 9,
    "start_time": "2022-06-04T10:15:50.906Z"
   },
   {
    "duration": 12,
    "start_time": "2022-06-04T10:15:50.920Z"
   },
   {
    "duration": 38,
    "start_time": "2022-06-04T10:15:50.934Z"
   },
   {
    "duration": 8,
    "start_time": "2022-06-04T10:15:50.978Z"
   },
   {
    "duration": 15,
    "start_time": "2022-06-04T10:15:50.987Z"
   },
   {
    "duration": 18,
    "start_time": "2022-06-04T10:15:51.003Z"
   },
   {
    "duration": 6,
    "start_time": "2022-06-04T10:15:51.023Z"
   },
   {
    "duration": 10,
    "start_time": "2022-06-04T10:15:51.031Z"
   },
   {
    "duration": 13,
    "start_time": "2022-06-04T10:15:51.042Z"
   },
   {
    "duration": 30,
    "start_time": "2022-06-04T10:15:51.056Z"
   },
   {
    "duration": 26,
    "start_time": "2022-06-04T10:15:51.087Z"
   },
   {
    "duration": 16,
    "start_time": "2022-06-04T10:15:51.115Z"
   },
   {
    "duration": 9,
    "start_time": "2022-06-04T10:15:51.133Z"
   },
   {
    "duration": 16,
    "start_time": "2022-06-04T10:15:51.143Z"
   },
   {
    "duration": 15,
    "start_time": "2022-06-04T10:15:51.161Z"
   },
   {
    "duration": 16,
    "start_time": "2022-06-04T10:15:51.177Z"
   },
   {
    "duration": 11,
    "start_time": "2022-06-04T10:15:51.194Z"
   },
   {
    "duration": 15,
    "start_time": "2022-06-04T10:15:51.206Z"
   },
   {
    "duration": 8,
    "start_time": "2022-06-04T10:15:51.223Z"
   },
   {
    "duration": 10,
    "start_time": "2022-06-04T10:15:51.233Z"
   },
   {
    "duration": 228,
    "start_time": "2022-06-04T10:15:51.245Z"
   },
   {
    "duration": 73,
    "start_time": "2022-06-04T10:15:51.479Z"
   },
   {
    "duration": 15,
    "start_time": "2022-06-04T10:15:51.554Z"
   },
   {
    "duration": 337,
    "start_time": "2022-06-04T10:15:51.580Z"
   },
   {
    "duration": 1085,
    "start_time": "2022-06-04T10:15:51.919Z"
   },
   {
    "duration": 7,
    "start_time": "2022-06-04T10:15:53.005Z"
   },
   {
    "duration": 31,
    "start_time": "2022-06-04T10:15:53.014Z"
   },
   {
    "duration": 10,
    "start_time": "2022-06-04T10:16:54.335Z"
   },
   {
    "duration": 581,
    "start_time": "2022-06-04T10:23:22.879Z"
   },
   {
    "duration": 353,
    "start_time": "2022-06-04T10:23:43.732Z"
   },
   {
    "duration": 257,
    "start_time": "2022-06-04T10:25:16.115Z"
   },
   {
    "duration": 242,
    "start_time": "2022-06-04T10:25:46.807Z"
   },
   {
    "duration": 197,
    "start_time": "2022-06-04T10:25:55.719Z"
   },
   {
    "duration": 14,
    "start_time": "2022-06-04T10:28:21.179Z"
   },
   {
    "duration": 201,
    "start_time": "2022-06-04T10:28:37.083Z"
   },
   {
    "duration": 8,
    "start_time": "2022-06-04T10:34:57.227Z"
   },
   {
    "duration": 219,
    "start_time": "2022-06-04T10:44:28.199Z"
   },
   {
    "duration": 201,
    "start_time": "2022-06-04T10:45:45.244Z"
   },
   {
    "duration": 183,
    "start_time": "2022-06-04T10:46:04.390Z"
   },
   {
    "duration": 211,
    "start_time": "2022-06-04T10:46:07.420Z"
   },
   {
    "duration": 356,
    "start_time": "2022-06-04T10:47:24.885Z"
   },
   {
    "duration": 210,
    "start_time": "2022-06-04T10:47:45.036Z"
   },
   {
    "duration": 202,
    "start_time": "2022-06-04T11:06:13.160Z"
   },
   {
    "duration": 262,
    "start_time": "2022-06-04T11:06:36.890Z"
   },
   {
    "duration": 405,
    "start_time": "2022-06-04T11:08:23.795Z"
   },
   {
    "duration": 272,
    "start_time": "2022-06-04T11:08:33.902Z"
   },
   {
    "duration": 461,
    "start_time": "2022-06-04T11:08:53.587Z"
   },
   {
    "duration": 270,
    "start_time": "2022-06-04T11:09:00.195Z"
   },
   {
    "duration": 11,
    "start_time": "2022-06-04T11:10:34.778Z"
   },
   {
    "duration": 5,
    "start_time": "2022-06-04T11:12:14.343Z"
   },
   {
    "duration": 9,
    "start_time": "2022-06-04T11:13:14.055Z"
   },
   {
    "duration": 13,
    "start_time": "2022-06-04T11:13:53.320Z"
   },
   {
    "duration": 1131,
    "start_time": "2022-06-04T11:16:17.595Z"
   },
   {
    "duration": 37,
    "start_time": "2022-06-04T11:21:42.965Z"
   },
   {
    "duration": 49,
    "start_time": "2022-06-04T11:21:51.694Z"
   },
   {
    "duration": 54,
    "start_time": "2022-06-04T11:22:16.757Z"
   },
   {
    "duration": 8,
    "start_time": "2022-06-04T11:33:15.827Z"
   },
   {
    "duration": 23,
    "start_time": "2022-06-04T12:03:16.092Z"
   },
   {
    "duration": 15,
    "start_time": "2022-06-04T12:03:46.214Z"
   },
   {
    "duration": 13,
    "start_time": "2022-06-04T12:06:51.602Z"
   },
   {
    "duration": 1125,
    "start_time": "2022-06-04T12:11:29.399Z"
   },
   {
    "duration": 42,
    "start_time": "2022-06-04T12:11:30.526Z"
   },
   {
    "duration": 18,
    "start_time": "2022-06-04T12:11:30.577Z"
   },
   {
    "duration": 19,
    "start_time": "2022-06-04T12:11:30.596Z"
   },
   {
    "duration": 187,
    "start_time": "2022-06-04T12:11:30.618Z"
   },
   {
    "duration": 11,
    "start_time": "2022-06-04T12:11:30.808Z"
   },
   {
    "duration": 55,
    "start_time": "2022-06-04T12:11:30.821Z"
   },
   {
    "duration": 133,
    "start_time": "2022-06-04T12:11:30.877Z"
   },
   {
    "duration": 9,
    "start_time": "2022-06-04T12:11:31.012Z"
   },
   {
    "duration": 50,
    "start_time": "2022-06-04T12:11:31.023Z"
   },
   {
    "duration": 99,
    "start_time": "2022-06-04T12:11:31.079Z"
   },
   {
    "duration": 8,
    "start_time": "2022-06-04T12:11:31.180Z"
   },
   {
    "duration": 44,
    "start_time": "2022-06-04T12:11:31.190Z"
   },
   {
    "duration": 39,
    "start_time": "2022-06-04T12:11:31.237Z"
   },
   {
    "duration": 19,
    "start_time": "2022-06-04T12:11:31.278Z"
   },
   {
    "duration": 33,
    "start_time": "2022-06-04T12:11:31.299Z"
   },
   {
    "duration": 99,
    "start_time": "2022-06-04T12:11:31.333Z"
   },
   {
    "duration": 16,
    "start_time": "2022-06-04T12:11:31.434Z"
   },
   {
    "duration": 65,
    "start_time": "2022-06-04T12:11:31.452Z"
   },
   {
    "duration": 10,
    "start_time": "2022-06-04T12:11:31.519Z"
   },
   {
    "duration": 23,
    "start_time": "2022-06-04T12:11:31.531Z"
   },
   {
    "duration": 43,
    "start_time": "2022-06-04T12:11:31.556Z"
   },
   {
    "duration": 30,
    "start_time": "2022-06-04T12:11:31.602Z"
   },
   {
    "duration": 22,
    "start_time": "2022-06-04T12:11:31.634Z"
   },
   {
    "duration": 51,
    "start_time": "2022-06-04T12:11:31.657Z"
   },
   {
    "duration": 44,
    "start_time": "2022-06-04T12:11:31.710Z"
   },
   {
    "duration": 6,
    "start_time": "2022-06-04T12:11:31.756Z"
   },
   {
    "duration": 74,
    "start_time": "2022-06-04T12:11:31.764Z"
   },
   {
    "duration": 24,
    "start_time": "2022-06-04T12:11:31.841Z"
   },
   {
    "duration": 27,
    "start_time": "2022-06-04T12:11:31.870Z"
   },
   {
    "duration": 17,
    "start_time": "2022-06-04T12:11:31.899Z"
   },
   {
    "duration": 14,
    "start_time": "2022-06-04T12:11:31.917Z"
   },
   {
    "duration": 0,
    "start_time": "2022-06-04T12:11:31.935Z"
   },
   {
    "duration": 0,
    "start_time": "2022-06-04T12:11:31.936Z"
   },
   {
    "duration": 0,
    "start_time": "2022-06-04T12:11:31.937Z"
   },
   {
    "duration": 0,
    "start_time": "2022-06-04T12:11:31.939Z"
   },
   {
    "duration": 0,
    "start_time": "2022-06-04T12:11:31.940Z"
   },
   {
    "duration": 0,
    "start_time": "2022-06-04T12:11:31.941Z"
   },
   {
    "duration": 0,
    "start_time": "2022-06-04T12:11:31.942Z"
   },
   {
    "duration": 0,
    "start_time": "2022-06-04T12:11:31.943Z"
   },
   {
    "duration": 0,
    "start_time": "2022-06-04T12:11:31.944Z"
   },
   {
    "duration": 0,
    "start_time": "2022-06-04T12:11:31.946Z"
   },
   {
    "duration": 0,
    "start_time": "2022-06-04T12:11:31.947Z"
   },
   {
    "duration": 0,
    "start_time": "2022-06-04T12:11:31.948Z"
   },
   {
    "duration": 0,
    "start_time": "2022-06-04T12:11:31.949Z"
   },
   {
    "duration": 0,
    "start_time": "2022-06-04T12:11:31.951Z"
   },
   {
    "duration": 0,
    "start_time": "2022-06-04T12:11:31.952Z"
   },
   {
    "duration": 0,
    "start_time": "2022-06-04T12:11:31.978Z"
   },
   {
    "duration": 0,
    "start_time": "2022-06-04T12:11:31.980Z"
   },
   {
    "duration": 0,
    "start_time": "2022-06-04T12:11:31.981Z"
   },
   {
    "duration": 0,
    "start_time": "2022-06-04T12:11:31.982Z"
   },
   {
    "duration": 0,
    "start_time": "2022-06-04T12:11:31.983Z"
   },
   {
    "duration": 0,
    "start_time": "2022-06-04T12:11:31.985Z"
   },
   {
    "duration": 0,
    "start_time": "2022-06-04T12:11:31.986Z"
   },
   {
    "duration": 0,
    "start_time": "2022-06-04T12:11:31.988Z"
   },
   {
    "duration": 1,
    "start_time": "2022-06-04T12:11:31.989Z"
   },
   {
    "duration": 0,
    "start_time": "2022-06-04T12:11:31.991Z"
   },
   {
    "duration": 0,
    "start_time": "2022-06-04T12:11:31.992Z"
   },
   {
    "duration": 0,
    "start_time": "2022-06-04T12:11:31.993Z"
   },
   {
    "duration": 0,
    "start_time": "2022-06-04T12:11:31.995Z"
   },
   {
    "duration": 0,
    "start_time": "2022-06-04T12:11:31.996Z"
   },
   {
    "duration": 0,
    "start_time": "2022-06-04T12:11:31.997Z"
   },
   {
    "duration": 0,
    "start_time": "2022-06-04T12:11:31.999Z"
   },
   {
    "duration": 0,
    "start_time": "2022-06-04T12:11:32.000Z"
   },
   {
    "duration": 1151,
    "start_time": "2022-06-04T12:12:36.127Z"
   },
   {
    "duration": 39,
    "start_time": "2022-06-04T12:12:37.280Z"
   },
   {
    "duration": 13,
    "start_time": "2022-06-04T12:12:37.320Z"
   },
   {
    "duration": 13,
    "start_time": "2022-06-04T12:12:37.335Z"
   },
   {
    "duration": 170,
    "start_time": "2022-06-04T12:12:37.350Z"
   },
   {
    "duration": 8,
    "start_time": "2022-06-04T12:12:37.522Z"
   },
   {
    "duration": 46,
    "start_time": "2022-06-04T12:12:37.531Z"
   },
   {
    "duration": 126,
    "start_time": "2022-06-04T12:12:37.581Z"
   },
   {
    "duration": 8,
    "start_time": "2022-06-04T12:12:37.709Z"
   },
   {
    "duration": 29,
    "start_time": "2022-06-04T12:12:37.720Z"
   },
   {
    "duration": 93,
    "start_time": "2022-06-04T12:12:37.751Z"
   },
   {
    "duration": 8,
    "start_time": "2022-06-04T12:12:37.846Z"
   },
   {
    "duration": 29,
    "start_time": "2022-06-04T12:12:37.864Z"
   },
   {
    "duration": 14,
    "start_time": "2022-06-04T12:12:37.895Z"
   },
   {
    "duration": 7,
    "start_time": "2022-06-04T12:12:37.911Z"
   },
   {
    "duration": 15,
    "start_time": "2022-06-04T12:12:37.919Z"
   },
   {
    "duration": 85,
    "start_time": "2022-06-04T12:12:37.935Z"
   },
   {
    "duration": 14,
    "start_time": "2022-06-04T12:12:38.022Z"
   },
   {
    "duration": 43,
    "start_time": "2022-06-04T12:12:38.038Z"
   },
   {
    "duration": 10,
    "start_time": "2022-06-04T12:12:38.082Z"
   },
   {
    "duration": 11,
    "start_time": "2022-06-04T12:12:38.093Z"
   },
   {
    "duration": 12,
    "start_time": "2022-06-04T12:12:38.105Z"
   },
   {
    "duration": 16,
    "start_time": "2022-06-04T12:12:38.119Z"
   },
   {
    "duration": 42,
    "start_time": "2022-06-04T12:12:38.136Z"
   },
   {
    "duration": 18,
    "start_time": "2022-06-04T12:12:38.180Z"
   },
   {
    "duration": 28,
    "start_time": "2022-06-04T12:12:38.199Z"
   },
   {
    "duration": 6,
    "start_time": "2022-06-04T12:12:38.229Z"
   },
   {
    "duration": 35,
    "start_time": "2022-06-04T12:12:38.238Z"
   },
   {
    "duration": 5,
    "start_time": "2022-06-04T12:12:38.279Z"
   },
   {
    "duration": 11,
    "start_time": "2022-06-04T12:12:38.286Z"
   },
   {
    "duration": 7,
    "start_time": "2022-06-04T12:12:38.298Z"
   },
   {
    "duration": 30,
    "start_time": "2022-06-04T12:12:38.306Z"
   },
   {
    "duration": 71,
    "start_time": "2022-06-04T12:12:38.337Z"
   },
   {
    "duration": 14,
    "start_time": "2022-06-04T12:12:38.410Z"
   },
   {
    "duration": 7,
    "start_time": "2022-06-04T12:12:38.426Z"
   },
   {
    "duration": 55,
    "start_time": "2022-06-04T12:12:38.435Z"
   },
   {
    "duration": 16,
    "start_time": "2022-06-04T12:12:38.491Z"
   },
   {
    "duration": 31,
    "start_time": "2022-06-04T12:12:38.509Z"
   },
   {
    "duration": 29,
    "start_time": "2022-06-04T12:12:38.542Z"
   },
   {
    "duration": 18,
    "start_time": "2022-06-04T12:12:38.575Z"
   },
   {
    "duration": 11,
    "start_time": "2022-06-04T12:12:38.595Z"
   },
   {
    "duration": 14,
    "start_time": "2022-06-04T12:12:38.607Z"
   },
   {
    "duration": 13,
    "start_time": "2022-06-04T12:12:38.623Z"
   },
   {
    "duration": 14,
    "start_time": "2022-06-04T12:12:38.638Z"
   },
   {
    "duration": 23,
    "start_time": "2022-06-04T12:12:38.654Z"
   },
   {
    "duration": 6,
    "start_time": "2022-06-04T12:12:38.679Z"
   },
   {
    "duration": 8,
    "start_time": "2022-06-04T12:12:38.687Z"
   },
   {
    "duration": 8,
    "start_time": "2022-06-04T12:12:38.697Z"
   },
   {
    "duration": 15,
    "start_time": "2022-06-04T12:12:38.707Z"
   },
   {
    "duration": 10,
    "start_time": "2022-06-04T12:12:38.723Z"
   },
   {
    "duration": 7,
    "start_time": "2022-06-04T12:12:38.734Z"
   },
   {
    "duration": 36,
    "start_time": "2022-06-04T12:12:38.743Z"
   },
   {
    "duration": 8,
    "start_time": "2022-06-04T12:12:38.781Z"
   },
   {
    "duration": 5,
    "start_time": "2022-06-04T12:12:38.791Z"
   },
   {
    "duration": 0,
    "start_time": "2022-06-04T12:12:38.797Z"
   },
   {
    "duration": 0,
    "start_time": "2022-06-04T12:12:38.799Z"
   },
   {
    "duration": 0,
    "start_time": "2022-06-04T12:12:38.800Z"
   },
   {
    "duration": 0,
    "start_time": "2022-06-04T12:12:38.802Z"
   },
   {
    "duration": 0,
    "start_time": "2022-06-04T12:12:38.803Z"
   },
   {
    "duration": 0,
    "start_time": "2022-06-04T12:12:38.805Z"
   },
   {
    "duration": 0,
    "start_time": "2022-06-04T12:12:38.806Z"
   },
   {
    "duration": 0,
    "start_time": "2022-06-04T12:12:38.807Z"
   },
   {
    "duration": 0,
    "start_time": "2022-06-04T12:12:38.808Z"
   },
   {
    "duration": 23,
    "start_time": "2022-06-04T12:13:46.586Z"
   },
   {
    "duration": 42,
    "start_time": "2022-06-04T12:13:47.762Z"
   },
   {
    "duration": 15,
    "start_time": "2022-06-04T12:13:54.630Z"
   },
   {
    "duration": 25,
    "start_time": "2022-06-04T12:14:13.425Z"
   },
   {
    "duration": 16,
    "start_time": "2022-06-04T12:14:14.940Z"
   },
   {
    "duration": 652,
    "start_time": "2022-06-04T12:14:39.709Z"
   },
   {
    "duration": 0,
    "start_time": "2022-06-04T12:14:40.363Z"
   },
   {
    "duration": 458,
    "start_time": "2022-06-04T12:14:57.009Z"
   },
   {
    "duration": 14,
    "start_time": "2022-06-04T12:14:57.721Z"
   },
   {
    "duration": 471,
    "start_time": "2022-06-04T12:15:20.227Z"
   },
   {
    "duration": 1130,
    "start_time": "2022-06-04T12:15:27.413Z"
   },
   {
    "duration": 48,
    "start_time": "2022-06-04T12:15:28.545Z"
   },
   {
    "duration": 12,
    "start_time": "2022-06-04T12:15:28.595Z"
   },
   {
    "duration": 10,
    "start_time": "2022-06-04T12:15:28.608Z"
   },
   {
    "duration": 154,
    "start_time": "2022-06-04T12:15:28.621Z"
   },
   {
    "duration": 11,
    "start_time": "2022-06-04T12:15:28.780Z"
   },
   {
    "duration": 32,
    "start_time": "2022-06-04T12:15:28.793Z"
   },
   {
    "duration": 150,
    "start_time": "2022-06-04T12:15:28.826Z"
   },
   {
    "duration": 13,
    "start_time": "2022-06-04T12:15:28.983Z"
   },
   {
    "duration": 26,
    "start_time": "2022-06-04T12:15:28.998Z"
   },
   {
    "duration": 91,
    "start_time": "2022-06-04T12:15:29.026Z"
   },
   {
    "duration": 9,
    "start_time": "2022-06-04T12:15:29.119Z"
   },
   {
    "duration": 38,
    "start_time": "2022-06-04T12:15:29.130Z"
   },
   {
    "duration": 25,
    "start_time": "2022-06-04T12:15:29.173Z"
   },
   {
    "duration": 8,
    "start_time": "2022-06-04T12:15:29.200Z"
   },
   {
    "duration": 16,
    "start_time": "2022-06-04T12:15:29.210Z"
   },
   {
    "duration": 87,
    "start_time": "2022-06-04T12:15:29.229Z"
   },
   {
    "duration": 14,
    "start_time": "2022-06-04T12:15:29.317Z"
   },
   {
    "duration": 43,
    "start_time": "2022-06-04T12:15:29.332Z"
   },
   {
    "duration": 14,
    "start_time": "2022-06-04T12:15:29.377Z"
   },
   {
    "duration": 15,
    "start_time": "2022-06-04T12:15:29.392Z"
   },
   {
    "duration": 14,
    "start_time": "2022-06-04T12:15:29.408Z"
   },
   {
    "duration": 17,
    "start_time": "2022-06-04T12:15:29.424Z"
   },
   {
    "duration": 30,
    "start_time": "2022-06-04T12:15:29.444Z"
   },
   {
    "duration": 16,
    "start_time": "2022-06-04T12:15:29.476Z"
   },
   {
    "duration": 32,
    "start_time": "2022-06-04T12:15:29.494Z"
   },
   {
    "duration": 5,
    "start_time": "2022-06-04T12:15:29.528Z"
   },
   {
    "duration": 44,
    "start_time": "2022-06-04T12:15:29.535Z"
   },
   {
    "duration": 13,
    "start_time": "2022-06-04T12:15:29.581Z"
   },
   {
    "duration": 29,
    "start_time": "2022-06-04T12:15:29.595Z"
   },
   {
    "duration": 6,
    "start_time": "2022-06-04T12:15:29.626Z"
   },
   {
    "duration": 31,
    "start_time": "2022-06-04T12:15:29.633Z"
   },
   {
    "duration": 60,
    "start_time": "2022-06-04T12:15:29.676Z"
   },
   {
    "duration": 14,
    "start_time": "2022-06-04T12:15:29.738Z"
   },
   {
    "duration": 22,
    "start_time": "2022-06-04T12:15:29.754Z"
   },
   {
    "duration": 39,
    "start_time": "2022-06-04T12:15:29.778Z"
   },
   {
    "duration": 16,
    "start_time": "2022-06-04T12:15:29.819Z"
   },
   {
    "duration": 163,
    "start_time": "2022-06-04T12:15:29.836Z"
   },
   {
    "duration": 0,
    "start_time": "2022-06-04T12:15:30.001Z"
   },
   {
    "duration": 0,
    "start_time": "2022-06-04T12:15:30.002Z"
   },
   {
    "duration": 0,
    "start_time": "2022-06-04T12:15:30.003Z"
   },
   {
    "duration": 0,
    "start_time": "2022-06-04T12:15:30.004Z"
   },
   {
    "duration": 0,
    "start_time": "2022-06-04T12:15:30.006Z"
   },
   {
    "duration": 0,
    "start_time": "2022-06-04T12:15:30.007Z"
   },
   {
    "duration": 0,
    "start_time": "2022-06-04T12:15:30.008Z"
   },
   {
    "duration": 0,
    "start_time": "2022-06-04T12:15:30.009Z"
   },
   {
    "duration": 0,
    "start_time": "2022-06-04T12:15:30.011Z"
   },
   {
    "duration": 0,
    "start_time": "2022-06-04T12:15:30.012Z"
   },
   {
    "duration": 0,
    "start_time": "2022-06-04T12:15:30.013Z"
   },
   {
    "duration": 0,
    "start_time": "2022-06-04T12:15:30.015Z"
   },
   {
    "duration": 0,
    "start_time": "2022-06-04T12:15:30.016Z"
   },
   {
    "duration": 0,
    "start_time": "2022-06-04T12:15:30.017Z"
   },
   {
    "duration": 0,
    "start_time": "2022-06-04T12:15:30.018Z"
   },
   {
    "duration": 0,
    "start_time": "2022-06-04T12:15:30.019Z"
   },
   {
    "duration": 0,
    "start_time": "2022-06-04T12:15:30.020Z"
   },
   {
    "duration": 0,
    "start_time": "2022-06-04T12:15:30.021Z"
   },
   {
    "duration": 0,
    "start_time": "2022-06-04T12:15:30.022Z"
   },
   {
    "duration": 0,
    "start_time": "2022-06-04T12:15:30.024Z"
   },
   {
    "duration": 0,
    "start_time": "2022-06-04T12:15:30.025Z"
   },
   {
    "duration": 0,
    "start_time": "2022-06-04T12:15:30.026Z"
   },
   {
    "duration": 0,
    "start_time": "2022-06-04T12:15:30.074Z"
   },
   {
    "duration": 0,
    "start_time": "2022-06-04T12:15:30.078Z"
   },
   {
    "duration": 0,
    "start_time": "2022-06-04T12:15:30.079Z"
   },
   {
    "duration": 18,
    "start_time": "2022-06-04T12:15:48.935Z"
   },
   {
    "duration": 13,
    "start_time": "2022-06-04T12:16:06.104Z"
   },
   {
    "duration": 621,
    "start_time": "2022-06-04T12:17:01.904Z"
   },
   {
    "duration": 14,
    "start_time": "2022-06-04T12:17:06.016Z"
   },
   {
    "duration": 1160,
    "start_time": "2022-06-04T12:17:22.500Z"
   },
   {
    "duration": 46,
    "start_time": "2022-06-04T12:17:23.669Z"
   },
   {
    "duration": 13,
    "start_time": "2022-06-04T12:17:23.716Z"
   },
   {
    "duration": 10,
    "start_time": "2022-06-04T12:17:23.731Z"
   },
   {
    "duration": 161,
    "start_time": "2022-06-04T12:17:23.743Z"
   },
   {
    "duration": 8,
    "start_time": "2022-06-04T12:17:23.906Z"
   },
   {
    "duration": 28,
    "start_time": "2022-06-04T12:17:23.916Z"
   },
   {
    "duration": 143,
    "start_time": "2022-06-04T12:17:23.946Z"
   },
   {
    "duration": 8,
    "start_time": "2022-06-04T12:17:24.091Z"
   },
   {
    "duration": 21,
    "start_time": "2022-06-04T12:17:24.102Z"
   },
   {
    "duration": 102,
    "start_time": "2022-06-04T12:17:24.124Z"
   },
   {
    "duration": 7,
    "start_time": "2022-06-04T12:17:24.228Z"
   },
   {
    "duration": 38,
    "start_time": "2022-06-04T12:17:24.237Z"
   },
   {
    "duration": 20,
    "start_time": "2022-06-04T12:17:24.277Z"
   },
   {
    "duration": 8,
    "start_time": "2022-06-04T12:17:24.299Z"
   },
   {
    "duration": 11,
    "start_time": "2022-06-04T12:17:24.308Z"
   },
   {
    "duration": 91,
    "start_time": "2022-06-04T12:17:24.321Z"
   },
   {
    "duration": 18,
    "start_time": "2022-06-04T12:17:24.414Z"
   },
   {
    "duration": 53,
    "start_time": "2022-06-04T12:17:24.434Z"
   },
   {
    "duration": 12,
    "start_time": "2022-06-04T12:17:24.488Z"
   },
   {
    "duration": 10,
    "start_time": "2022-06-04T12:17:24.501Z"
   },
   {
    "duration": 13,
    "start_time": "2022-06-04T12:17:24.513Z"
   },
   {
    "duration": 48,
    "start_time": "2022-06-04T12:17:24.528Z"
   },
   {
    "duration": 12,
    "start_time": "2022-06-04T12:17:24.583Z"
   },
   {
    "duration": 19,
    "start_time": "2022-06-04T12:17:24.597Z"
   },
   {
    "duration": 52,
    "start_time": "2022-06-04T12:17:24.617Z"
   },
   {
    "duration": 7,
    "start_time": "2022-06-04T12:17:24.679Z"
   },
   {
    "duration": 17,
    "start_time": "2022-06-04T12:17:24.690Z"
   },
   {
    "duration": 7,
    "start_time": "2022-06-04T12:17:24.708Z"
   },
   {
    "duration": 11,
    "start_time": "2022-06-04T12:17:24.716Z"
   },
   {
    "duration": 9,
    "start_time": "2022-06-04T12:17:24.728Z"
   },
   {
    "duration": 50,
    "start_time": "2022-06-04T12:17:24.739Z"
   },
   {
    "duration": 62,
    "start_time": "2022-06-04T12:17:24.790Z"
   },
   {
    "duration": 24,
    "start_time": "2022-06-04T12:17:24.854Z"
   },
   {
    "duration": 7,
    "start_time": "2022-06-04T12:17:24.880Z"
   },
   {
    "duration": 37,
    "start_time": "2022-06-04T12:17:24.889Z"
   },
   {
    "duration": 47,
    "start_time": "2022-06-04T12:17:24.927Z"
   },
   {
    "duration": 149,
    "start_time": "2022-06-04T12:17:24.976Z"
   },
   {
    "duration": 0,
    "start_time": "2022-06-04T12:17:25.127Z"
   },
   {
    "duration": 0,
    "start_time": "2022-06-04T12:17:25.128Z"
   },
   {
    "duration": 0,
    "start_time": "2022-06-04T12:17:25.129Z"
   },
   {
    "duration": 0,
    "start_time": "2022-06-04T12:17:25.130Z"
   },
   {
    "duration": 0,
    "start_time": "2022-06-04T12:17:25.131Z"
   },
   {
    "duration": 0,
    "start_time": "2022-06-04T12:17:25.132Z"
   },
   {
    "duration": 0,
    "start_time": "2022-06-04T12:17:25.133Z"
   },
   {
    "duration": 0,
    "start_time": "2022-06-04T12:17:25.134Z"
   },
   {
    "duration": 0,
    "start_time": "2022-06-04T12:17:25.134Z"
   },
   {
    "duration": 0,
    "start_time": "2022-06-04T12:17:25.135Z"
   },
   {
    "duration": 0,
    "start_time": "2022-06-04T12:17:25.136Z"
   },
   {
    "duration": 0,
    "start_time": "2022-06-04T12:17:25.137Z"
   },
   {
    "duration": 0,
    "start_time": "2022-06-04T12:17:25.138Z"
   },
   {
    "duration": 0,
    "start_time": "2022-06-04T12:17:25.138Z"
   },
   {
    "duration": 0,
    "start_time": "2022-06-04T12:17:25.140Z"
   },
   {
    "duration": 0,
    "start_time": "2022-06-04T12:17:25.140Z"
   },
   {
    "duration": 0,
    "start_time": "2022-06-04T12:17:25.170Z"
   },
   {
    "duration": 0,
    "start_time": "2022-06-04T12:17:25.171Z"
   },
   {
    "duration": 0,
    "start_time": "2022-06-04T12:17:25.171Z"
   },
   {
    "duration": 0,
    "start_time": "2022-06-04T12:17:25.172Z"
   },
   {
    "duration": 0,
    "start_time": "2022-06-04T12:17:25.173Z"
   },
   {
    "duration": 0,
    "start_time": "2022-06-04T12:17:25.173Z"
   },
   {
    "duration": 0,
    "start_time": "2022-06-04T12:17:25.174Z"
   },
   {
    "duration": 0,
    "start_time": "2022-06-04T12:17:25.175Z"
   },
   {
    "duration": 0,
    "start_time": "2022-06-04T12:17:25.175Z"
   },
   {
    "duration": 13,
    "start_time": "2022-06-04T12:17:45.642Z"
   },
   {
    "duration": 18,
    "start_time": "2022-06-04T12:17:52.434Z"
   },
   {
    "duration": 12,
    "start_time": "2022-06-04T12:17:53.820Z"
   },
   {
    "duration": 18,
    "start_time": "2022-06-04T12:18:01.525Z"
   },
   {
    "duration": 14,
    "start_time": "2022-06-04T12:18:03.107Z"
   },
   {
    "duration": 18,
    "start_time": "2022-06-04T12:18:25.807Z"
   },
   {
    "duration": 15,
    "start_time": "2022-06-04T12:18:26.435Z"
   },
   {
    "duration": 19,
    "start_time": "2022-06-04T12:18:30.616Z"
   },
   {
    "duration": 21,
    "start_time": "2022-06-04T12:18:31.040Z"
   },
   {
    "duration": 15,
    "start_time": "2022-06-04T12:18:31.400Z"
   },
   {
    "duration": 18,
    "start_time": "2022-06-04T12:19:50.755Z"
   },
   {
    "duration": 14,
    "start_time": "2022-06-04T12:19:51.441Z"
   },
   {
    "duration": 122,
    "start_time": "2022-06-04T12:20:34.215Z"
   },
   {
    "duration": 16,
    "start_time": "2022-06-04T12:20:42.618Z"
   },
   {
    "duration": 11,
    "start_time": "2022-06-04T12:20:43.798Z"
   },
   {
    "duration": 5,
    "start_time": "2022-06-04T12:21:17.999Z"
   },
   {
    "duration": 14,
    "start_time": "2022-06-04T12:21:18.602Z"
   },
   {
    "duration": 1232,
    "start_time": "2022-06-04T12:23:23.637Z"
   },
   {
    "duration": 46,
    "start_time": "2022-06-04T12:23:24.874Z"
   },
   {
    "duration": 15,
    "start_time": "2022-06-04T12:23:24.922Z"
   },
   {
    "duration": 12,
    "start_time": "2022-06-04T12:23:24.939Z"
   },
   {
    "duration": 161,
    "start_time": "2022-06-04T12:23:24.953Z"
   },
   {
    "duration": 9,
    "start_time": "2022-06-04T12:23:25.116Z"
   },
   {
    "duration": 48,
    "start_time": "2022-06-04T12:23:25.127Z"
   },
   {
    "duration": 132,
    "start_time": "2022-06-04T12:23:25.181Z"
   },
   {
    "duration": 8,
    "start_time": "2022-06-04T12:23:25.315Z"
   },
   {
    "duration": 24,
    "start_time": "2022-06-04T12:23:25.326Z"
   },
   {
    "duration": 95,
    "start_time": "2022-06-04T12:23:25.352Z"
   },
   {
    "duration": 7,
    "start_time": "2022-06-04T12:23:25.449Z"
   },
   {
    "duration": 34,
    "start_time": "2022-06-04T12:23:25.466Z"
   },
   {
    "duration": 15,
    "start_time": "2022-06-04T12:23:25.502Z"
   },
   {
    "duration": 7,
    "start_time": "2022-06-04T12:23:25.519Z"
   },
   {
    "duration": 11,
    "start_time": "2022-06-04T12:23:25.528Z"
   },
   {
    "duration": 84,
    "start_time": "2022-06-04T12:23:25.541Z"
   },
   {
    "duration": 17,
    "start_time": "2022-06-04T12:23:25.627Z"
   },
   {
    "duration": 59,
    "start_time": "2022-06-04T12:23:25.646Z"
   },
   {
    "duration": 13,
    "start_time": "2022-06-04T12:23:25.707Z"
   },
   {
    "duration": 8,
    "start_time": "2022-06-04T12:23:25.722Z"
   },
   {
    "duration": 13,
    "start_time": "2022-06-04T12:23:25.732Z"
   },
   {
    "duration": 47,
    "start_time": "2022-06-04T12:23:25.747Z"
   },
   {
    "duration": 9,
    "start_time": "2022-06-04T12:23:25.796Z"
   },
   {
    "duration": 24,
    "start_time": "2022-06-04T12:23:25.807Z"
   },
   {
    "duration": 54,
    "start_time": "2022-06-04T12:23:25.833Z"
   },
   {
    "duration": 6,
    "start_time": "2022-06-04T12:23:25.892Z"
   },
   {
    "duration": 21,
    "start_time": "2022-06-04T12:23:25.903Z"
   },
   {
    "duration": 8,
    "start_time": "2022-06-04T12:23:25.926Z"
   },
   {
    "duration": 37,
    "start_time": "2022-06-04T12:23:25.936Z"
   },
   {
    "duration": 11,
    "start_time": "2022-06-04T12:23:25.974Z"
   },
   {
    "duration": 28,
    "start_time": "2022-06-04T12:23:25.987Z"
   },
   {
    "duration": 70,
    "start_time": "2022-06-04T12:23:26.017Z"
   },
   {
    "duration": 15,
    "start_time": "2022-06-04T12:23:26.089Z"
   },
   {
    "duration": 11,
    "start_time": "2022-06-04T12:23:26.105Z"
   },
   {
    "duration": 68,
    "start_time": "2022-06-04T12:23:26.117Z"
   },
   {
    "duration": 17,
    "start_time": "2022-06-04T12:23:26.187Z"
   },
   {
    "duration": 21,
    "start_time": "2022-06-04T12:23:26.206Z"
   },
   {
    "duration": 8,
    "start_time": "2022-06-04T12:23:26.229Z"
   },
   {
    "duration": 35,
    "start_time": "2022-06-04T12:23:26.240Z"
   },
   {
    "duration": 19,
    "start_time": "2022-06-04T12:23:26.278Z"
   },
   {
    "duration": 20,
    "start_time": "2022-06-04T12:23:26.299Z"
   },
   {
    "duration": 13,
    "start_time": "2022-06-04T12:23:26.320Z"
   },
   {
    "duration": 11,
    "start_time": "2022-06-04T12:23:26.334Z"
   },
   {
    "duration": 14,
    "start_time": "2022-06-04T12:23:26.347Z"
   },
   {
    "duration": 19,
    "start_time": "2022-06-04T12:23:26.364Z"
   },
   {
    "duration": 15,
    "start_time": "2022-06-04T12:23:26.385Z"
   },
   {
    "duration": 5,
    "start_time": "2022-06-04T12:23:26.402Z"
   },
   {
    "duration": 10,
    "start_time": "2022-06-04T12:23:26.408Z"
   },
   {
    "duration": 11,
    "start_time": "2022-06-04T12:23:26.419Z"
   },
   {
    "duration": 17,
    "start_time": "2022-06-04T12:23:26.431Z"
   },
   {
    "duration": 19,
    "start_time": "2022-06-04T12:23:26.464Z"
   },
   {
    "duration": 11,
    "start_time": "2022-06-04T12:23:26.484Z"
   },
   {
    "duration": 13,
    "start_time": "2022-06-04T12:23:26.496Z"
   },
   {
    "duration": 8,
    "start_time": "2022-06-04T12:23:26.510Z"
   },
   {
    "duration": 10,
    "start_time": "2022-06-04T12:23:26.520Z"
   },
   {
    "duration": 12,
    "start_time": "2022-06-04T12:23:26.532Z"
   },
   {
    "duration": 19,
    "start_time": "2022-06-04T12:23:26.546Z"
   },
   {
    "duration": 14,
    "start_time": "2022-06-04T12:23:26.567Z"
   },
   {
    "duration": 29,
    "start_time": "2022-06-04T12:23:26.584Z"
   },
   {
    "duration": 190,
    "start_time": "2022-06-04T12:23:26.615Z"
   },
   {
    "duration": 153,
    "start_time": "2022-06-04T12:23:26.807Z"
   },
   {
    "duration": 0,
    "start_time": "2022-06-04T12:23:26.963Z"
   },
   {
    "duration": 0,
    "start_time": "2022-06-04T12:23:26.964Z"
   },
   {
    "duration": 48,
    "start_time": "2022-06-04T12:23:41.790Z"
   },
   {
    "duration": 1206,
    "start_time": "2022-06-04T12:29:25.290Z"
   },
   {
    "duration": 8,
    "start_time": "2022-06-04T12:30:35.514Z"
   },
   {
    "duration": 54,
    "start_time": "2022-06-04T17:17:35.564Z"
   },
   {
    "duration": 7,
    "start_time": "2022-06-04T17:18:32.458Z"
   },
   {
    "duration": 1260,
    "start_time": "2022-06-04T17:18:41.011Z"
   },
   {
    "duration": 75,
    "start_time": "2022-06-04T17:18:42.273Z"
   },
   {
    "duration": 13,
    "start_time": "2022-06-04T17:18:42.350Z"
   },
   {
    "duration": 11,
    "start_time": "2022-06-04T17:18:42.365Z"
   },
   {
    "duration": 222,
    "start_time": "2022-06-04T17:18:42.378Z"
   },
   {
    "duration": 12,
    "start_time": "2022-06-04T17:18:42.603Z"
   },
   {
    "duration": 31,
    "start_time": "2022-06-04T17:18:42.617Z"
   },
   {
    "duration": 287,
    "start_time": "2022-06-04T17:18:42.649Z"
   },
   {
    "duration": 9,
    "start_time": "2022-06-04T17:18:42.937Z"
   },
   {
    "duration": 40,
    "start_time": "2022-06-04T17:18:42.947Z"
   },
   {
    "duration": 262,
    "start_time": "2022-06-04T17:18:42.989Z"
   },
   {
    "duration": 7,
    "start_time": "2022-06-04T17:18:43.253Z"
   },
   {
    "duration": 17,
    "start_time": "2022-06-04T17:18:43.263Z"
   },
   {
    "duration": 56,
    "start_time": "2022-06-04T17:18:43.283Z"
   },
   {
    "duration": 7,
    "start_time": "2022-06-04T17:18:43.341Z"
   },
   {
    "duration": 13,
    "start_time": "2022-06-04T17:18:43.349Z"
   },
   {
    "duration": 69,
    "start_time": "2022-06-04T17:18:43.363Z"
   },
   {
    "duration": 19,
    "start_time": "2022-06-04T17:18:43.434Z"
   },
   {
    "duration": 31,
    "start_time": "2022-06-04T17:18:43.454Z"
   },
   {
    "duration": 11,
    "start_time": "2022-06-04T17:18:43.487Z"
   },
   {
    "duration": 10,
    "start_time": "2022-06-04T17:18:43.499Z"
   },
   {
    "duration": 14,
    "start_time": "2022-06-04T17:18:43.511Z"
   },
   {
    "duration": 19,
    "start_time": "2022-06-04T17:18:43.551Z"
   },
   {
    "duration": 8,
    "start_time": "2022-06-04T17:18:43.572Z"
   },
   {
    "duration": 18,
    "start_time": "2022-06-04T17:18:43.582Z"
   },
   {
    "duration": 28,
    "start_time": "2022-06-04T17:18:43.602Z"
   },
   {
    "duration": 23,
    "start_time": "2022-06-04T17:18:43.632Z"
   },
   {
    "duration": 20,
    "start_time": "2022-06-04T17:18:43.657Z"
   },
   {
    "duration": 30,
    "start_time": "2022-06-04T17:18:43.679Z"
   },
   {
    "duration": 35,
    "start_time": "2022-06-04T17:18:43.710Z"
   },
   {
    "duration": 27,
    "start_time": "2022-06-04T17:18:43.747Z"
   },
   {
    "duration": 46,
    "start_time": "2022-06-04T17:18:43.776Z"
   },
   {
    "duration": 59,
    "start_time": "2022-06-04T17:18:43.824Z"
   },
   {
    "duration": 15,
    "start_time": "2022-06-04T17:18:43.884Z"
   },
   {
    "duration": 16,
    "start_time": "2022-06-04T17:18:43.900Z"
   },
   {
    "duration": 63,
    "start_time": "2022-06-04T17:18:43.918Z"
   },
   {
    "duration": 21,
    "start_time": "2022-06-04T17:18:43.983Z"
   },
   {
    "duration": 38,
    "start_time": "2022-06-04T17:18:44.005Z"
   },
   {
    "duration": 21,
    "start_time": "2022-06-04T17:18:44.045Z"
   },
   {
    "duration": 26,
    "start_time": "2022-06-04T17:18:44.068Z"
   },
   {
    "duration": 22,
    "start_time": "2022-06-04T17:18:44.098Z"
   },
   {
    "duration": 32,
    "start_time": "2022-06-04T17:18:44.122Z"
   },
   {
    "duration": 34,
    "start_time": "2022-06-04T17:18:44.156Z"
   },
   {
    "duration": 20,
    "start_time": "2022-06-04T17:18:44.192Z"
   },
   {
    "duration": 26,
    "start_time": "2022-06-04T17:18:44.214Z"
   },
   {
    "duration": 33,
    "start_time": "2022-06-04T17:18:44.242Z"
   },
   {
    "duration": 32,
    "start_time": "2022-06-04T17:18:44.276Z"
   },
   {
    "duration": 42,
    "start_time": "2022-06-04T17:18:44.309Z"
   },
   {
    "duration": 27,
    "start_time": "2022-06-04T17:18:44.353Z"
   },
   {
    "duration": 40,
    "start_time": "2022-06-04T17:18:44.382Z"
   },
   {
    "duration": 40,
    "start_time": "2022-06-04T17:18:44.424Z"
   },
   {
    "duration": 38,
    "start_time": "2022-06-04T17:18:44.465Z"
   },
   {
    "duration": 25,
    "start_time": "2022-06-04T17:18:44.504Z"
   },
   {
    "duration": 41,
    "start_time": "2022-06-04T17:18:44.531Z"
   },
   {
    "duration": 42,
    "start_time": "2022-06-04T17:18:44.573Z"
   },
   {
    "duration": 24,
    "start_time": "2022-06-04T17:18:44.617Z"
   },
   {
    "duration": 38,
    "start_time": "2022-06-04T17:18:44.642Z"
   },
   {
    "duration": 42,
    "start_time": "2022-06-04T17:18:44.681Z"
   },
   {
    "duration": 41,
    "start_time": "2022-06-04T17:18:44.724Z"
   },
   {
    "duration": 36,
    "start_time": "2022-06-04T17:18:44.767Z"
   },
   {
    "duration": 230,
    "start_time": "2022-06-04T17:18:44.804Z"
   },
   {
    "duration": 54,
    "start_time": "2022-06-04T17:18:45.035Z"
   },
   {
    "duration": 1174,
    "start_time": "2022-06-04T17:18:45.091Z"
   },
   {
    "duration": 8,
    "start_time": "2022-06-04T17:18:46.267Z"
   },
   {
    "duration": 9,
    "start_time": "2022-06-04T17:19:08.322Z"
   },
   {
    "duration": 30,
    "start_time": "2022-06-04T17:21:51.854Z"
   },
   {
    "duration": 5,
    "start_time": "2022-06-04T17:25:07.892Z"
   },
   {
    "duration": 4,
    "start_time": "2022-06-04T17:26:23.423Z"
   },
   {
    "duration": 21,
    "start_time": "2022-06-04T17:26:45.847Z"
   },
   {
    "duration": 107,
    "start_time": "2022-06-04T17:26:51.911Z"
   },
   {
    "duration": 8,
    "start_time": "2022-06-04T17:27:01.237Z"
   },
   {
    "duration": 12,
    "start_time": "2022-06-04T17:27:09.128Z"
   },
   {
    "duration": 8,
    "start_time": "2022-06-04T17:27:14.904Z"
   },
   {
    "duration": 6,
    "start_time": "2022-06-04T17:39:58.863Z"
   },
   {
    "duration": 7,
    "start_time": "2022-06-04T17:40:34.957Z"
   },
   {
    "duration": 7,
    "start_time": "2022-06-04T17:40:49.504Z"
   },
   {
    "duration": 9,
    "start_time": "2022-06-04T17:40:53.893Z"
   },
   {
    "duration": 8,
    "start_time": "2022-06-04T17:43:09.362Z"
   },
   {
    "duration": 24,
    "start_time": "2022-06-04T17:44:06.092Z"
   },
   {
    "duration": 63,
    "start_time": "2022-06-04T17:53:26.101Z"
   },
   {
    "duration": 361,
    "start_time": "2022-06-04T17:53:52.221Z"
   },
   {
    "duration": 10,
    "start_time": "2022-06-04T17:54:09.501Z"
   },
   {
    "duration": 9,
    "start_time": "2022-06-04T17:56:08.948Z"
   },
   {
    "duration": 5,
    "start_time": "2022-06-04T17:56:41.858Z"
   },
   {
    "duration": 5,
    "start_time": "2022-06-04T17:56:56.190Z"
   },
   {
    "duration": 5,
    "start_time": "2022-06-04T17:57:22.097Z"
   },
   {
    "duration": 21,
    "start_time": "2022-06-04T18:00:29.667Z"
   },
   {
    "duration": 283,
    "start_time": "2022-06-04T18:04:22.364Z"
   },
   {
    "duration": 259,
    "start_time": "2022-06-04T18:04:37.437Z"
   },
   {
    "duration": 358,
    "start_time": "2022-06-04T18:04:52.241Z"
   },
   {
    "duration": 272,
    "start_time": "2022-06-04T18:05:00.794Z"
   },
   {
    "duration": 252,
    "start_time": "2022-06-04T18:05:11.235Z"
   },
   {
    "duration": 255,
    "start_time": "2022-06-04T18:05:24.449Z"
   },
   {
    "duration": 137,
    "start_time": "2022-06-04T18:07:08.226Z"
   },
   {
    "duration": 264,
    "start_time": "2022-06-04T18:07:16.002Z"
   },
   {
    "duration": 30,
    "start_time": "2022-06-04T18:08:23.498Z"
   },
   {
    "duration": 233,
    "start_time": "2022-06-04T18:09:21.164Z"
   },
   {
    "duration": 1105,
    "start_time": "2022-06-04T19:52:18.458Z"
   },
   {
    "duration": 72,
    "start_time": "2022-06-04T19:52:19.565Z"
   },
   {
    "duration": 13,
    "start_time": "2022-06-04T19:52:19.639Z"
   },
   {
    "duration": 11,
    "start_time": "2022-06-04T19:52:19.653Z"
   },
   {
    "duration": 448,
    "start_time": "2022-06-04T19:52:19.666Z"
   },
   {
    "duration": 9,
    "start_time": "2022-06-04T19:52:20.115Z"
   },
   {
    "duration": 27,
    "start_time": "2022-06-04T19:52:20.126Z"
   },
   {
    "duration": 375,
    "start_time": "2022-06-04T19:52:20.155Z"
   },
   {
    "duration": 10,
    "start_time": "2022-06-04T19:52:20.531Z"
   },
   {
    "duration": 25,
    "start_time": "2022-06-04T19:52:20.542Z"
   },
   {
    "duration": 141,
    "start_time": "2022-06-04T19:52:20.568Z"
   },
   {
    "duration": 8,
    "start_time": "2022-06-04T19:52:20.710Z"
   },
   {
    "duration": 22,
    "start_time": "2022-06-04T19:52:20.720Z"
   },
   {
    "duration": 52,
    "start_time": "2022-06-04T19:52:20.746Z"
   },
   {
    "duration": 8,
    "start_time": "2022-06-04T19:52:20.800Z"
   },
   {
    "duration": 17,
    "start_time": "2022-06-04T19:52:20.810Z"
   },
   {
    "duration": 76,
    "start_time": "2022-06-04T19:52:20.829Z"
   },
   {
    "duration": 16,
    "start_time": "2022-06-04T19:52:20.907Z"
   },
   {
    "duration": 43,
    "start_time": "2022-06-04T19:52:20.924Z"
   },
   {
    "duration": 10,
    "start_time": "2022-06-04T19:52:20.968Z"
   },
   {
    "duration": 10,
    "start_time": "2022-06-04T19:52:20.980Z"
   },
   {
    "duration": 12,
    "start_time": "2022-06-04T19:52:20.991Z"
   },
   {
    "duration": 40,
    "start_time": "2022-06-04T19:52:21.004Z"
   },
   {
    "duration": 9,
    "start_time": "2022-06-04T19:52:21.046Z"
   },
   {
    "duration": 17,
    "start_time": "2022-06-04T19:52:21.057Z"
   },
   {
    "duration": 29,
    "start_time": "2022-06-04T19:52:21.076Z"
   },
   {
    "duration": 6,
    "start_time": "2022-06-04T19:52:21.106Z"
   },
   {
    "duration": 41,
    "start_time": "2022-06-04T19:52:21.114Z"
   },
   {
    "duration": 6,
    "start_time": "2022-06-04T19:52:21.157Z"
   },
   {
    "duration": 11,
    "start_time": "2022-06-04T19:52:21.164Z"
   },
   {
    "duration": 6,
    "start_time": "2022-06-04T19:52:21.176Z"
   },
   {
    "duration": 28,
    "start_time": "2022-06-04T19:52:21.184Z"
   },
   {
    "duration": 90,
    "start_time": "2022-06-04T19:52:21.213Z"
   },
   {
    "duration": 15,
    "start_time": "2022-06-04T19:52:21.305Z"
   },
   {
    "duration": 25,
    "start_time": "2022-06-04T19:52:21.322Z"
   },
   {
    "duration": 38,
    "start_time": "2022-06-04T19:52:21.349Z"
   },
   {
    "duration": 17,
    "start_time": "2022-06-04T19:52:21.389Z"
   },
   {
    "duration": 39,
    "start_time": "2022-06-04T19:52:21.407Z"
   },
   {
    "duration": 3,
    "start_time": "2022-06-04T19:52:21.448Z"
   },
   {
    "duration": 12,
    "start_time": "2022-06-04T19:52:21.452Z"
   },
   {
    "duration": 7,
    "start_time": "2022-06-04T19:52:21.468Z"
   },
   {
    "duration": 12,
    "start_time": "2022-06-04T19:52:21.477Z"
   },
   {
    "duration": 12,
    "start_time": "2022-06-04T19:52:21.490Z"
   },
   {
    "duration": 41,
    "start_time": "2022-06-04T19:52:21.503Z"
   },
   {
    "duration": 14,
    "start_time": "2022-06-04T19:52:21.545Z"
   },
   {
    "duration": 10,
    "start_time": "2022-06-04T19:52:21.561Z"
   },
   {
    "duration": 6,
    "start_time": "2022-06-04T19:52:21.572Z"
   },
   {
    "duration": 8,
    "start_time": "2022-06-04T19:52:21.579Z"
   },
   {
    "duration": 10,
    "start_time": "2022-06-04T19:52:21.588Z"
   },
   {
    "duration": 10,
    "start_time": "2022-06-04T19:52:21.599Z"
   },
   {
    "duration": 47,
    "start_time": "2022-06-04T19:52:21.610Z"
   },
   {
    "duration": 14,
    "start_time": "2022-06-04T19:52:21.659Z"
   },
   {
    "duration": 13,
    "start_time": "2022-06-04T19:52:21.674Z"
   },
   {
    "duration": 13,
    "start_time": "2022-06-04T19:52:21.689Z"
   },
   {
    "duration": 5,
    "start_time": "2022-06-04T19:52:21.704Z"
   },
   {
    "duration": 9,
    "start_time": "2022-06-04T19:52:21.711Z"
   },
   {
    "duration": 28,
    "start_time": "2022-06-04T19:52:21.722Z"
   },
   {
    "duration": 11,
    "start_time": "2022-06-04T19:52:21.752Z"
   },
   {
    "duration": 6,
    "start_time": "2022-06-04T19:52:21.764Z"
   },
   {
    "duration": 12,
    "start_time": "2022-06-04T19:52:21.772Z"
   },
   {
    "duration": 194,
    "start_time": "2022-06-04T19:52:21.786Z"
   },
   {
    "duration": 49,
    "start_time": "2022-06-04T19:52:21.982Z"
   },
   {
    "duration": 1084,
    "start_time": "2022-06-04T19:52:22.041Z"
   },
   {
    "duration": 14,
    "start_time": "2022-06-04T19:52:23.127Z"
   },
   {
    "duration": 5,
    "start_time": "2022-06-04T19:52:23.142Z"
   },
   {
    "duration": 15,
    "start_time": "2022-06-04T19:52:23.149Z"
   },
   {
    "duration": 9,
    "start_time": "2022-06-04T19:52:23.165Z"
   },
   {
    "duration": 6,
    "start_time": "2022-06-04T19:52:23.175Z"
   },
   {
    "duration": 234,
    "start_time": "2022-06-04T19:52:23.183Z"
   },
   {
    "duration": 716,
    "start_time": "2022-06-04T19:53:35.267Z"
   },
   {
    "duration": 27,
    "start_time": "2022-06-05T03:02:41.772Z"
   },
   {
    "duration": 51,
    "start_time": "2022-06-05T03:02:52.479Z"
   },
   {
    "duration": 1360,
    "start_time": "2022-06-05T03:03:02.579Z"
   },
   {
    "duration": 84,
    "start_time": "2022-06-05T03:03:04.251Z"
   },
   {
    "duration": 251,
    "start_time": "2022-06-05T03:03:59.238Z"
   },
   {
    "duration": 365,
    "start_time": "2022-06-05T03:04:44.771Z"
   },
   {
    "duration": 327,
    "start_time": "2022-06-05T03:05:25.223Z"
   },
   {
    "duration": 76,
    "start_time": "2022-06-05T03:06:02.511Z"
   },
   {
    "duration": 186,
    "start_time": "2022-06-05T03:09:59.908Z"
   },
   {
    "duration": 14,
    "start_time": "2022-06-05T03:10:00.694Z"
   },
   {
    "duration": 31,
    "start_time": "2022-06-05T03:10:07.143Z"
   },
   {
    "duration": 31,
    "start_time": "2022-06-05T03:20:29.888Z"
   },
   {
    "duration": 25,
    "start_time": "2022-06-05T03:20:45.221Z"
   },
   {
    "duration": 26,
    "start_time": "2022-06-05T03:20:52.894Z"
   },
   {
    "duration": 39,
    "start_time": "2022-06-05T03:23:21.454Z"
   },
   {
    "duration": 27,
    "start_time": "2022-06-05T03:23:32.176Z"
   },
   {
    "duration": 28,
    "start_time": "2022-06-05T03:23:40.101Z"
   },
   {
    "duration": 27,
    "start_time": "2022-06-05T03:24:06.206Z"
   },
   {
    "duration": 25,
    "start_time": "2022-06-05T03:24:36.981Z"
   },
   {
    "duration": 34,
    "start_time": "2022-06-05T03:24:43.477Z"
   },
   {
    "duration": 23,
    "start_time": "2022-06-05T03:28:50.616Z"
   },
   {
    "duration": 73,
    "start_time": "2022-06-05T03:30:20.006Z"
   },
   {
    "duration": 1103,
    "start_time": "2022-06-05T03:30:32.019Z"
   },
   {
    "duration": 39,
    "start_time": "2022-06-05T03:30:33.124Z"
   },
   {
    "duration": 16,
    "start_time": "2022-06-05T03:30:33.170Z"
   },
   {
    "duration": 13,
    "start_time": "2022-06-05T03:30:33.189Z"
   },
   {
    "duration": 159,
    "start_time": "2022-06-05T03:30:33.203Z"
   },
   {
    "duration": 18,
    "start_time": "2022-06-05T03:30:33.364Z"
   },
   {
    "duration": 33,
    "start_time": "2022-06-05T03:30:33.384Z"
   },
   {
    "duration": 140,
    "start_time": "2022-06-05T03:30:33.419Z"
   },
   {
    "duration": 16,
    "start_time": "2022-06-05T03:30:33.561Z"
   },
   {
    "duration": 26,
    "start_time": "2022-06-05T03:30:33.581Z"
   },
   {
    "duration": 97,
    "start_time": "2022-06-05T03:30:33.609Z"
   },
   {
    "duration": 11,
    "start_time": "2022-06-05T03:30:33.708Z"
   },
   {
    "duration": 23,
    "start_time": "2022-06-05T03:30:33.721Z"
   },
   {
    "duration": 15,
    "start_time": "2022-06-05T03:30:33.745Z"
   },
   {
    "duration": 16,
    "start_time": "2022-06-05T03:30:33.765Z"
   },
   {
    "duration": 13,
    "start_time": "2022-06-05T03:30:33.784Z"
   },
   {
    "duration": 79,
    "start_time": "2022-06-05T03:30:33.798Z"
   },
   {
    "duration": 18,
    "start_time": "2022-06-05T03:30:33.880Z"
   },
   {
    "duration": 32,
    "start_time": "2022-06-05T03:30:33.900Z"
   },
   {
    "duration": 11,
    "start_time": "2022-06-05T03:30:33.934Z"
   },
   {
    "duration": 14,
    "start_time": "2022-06-05T03:30:33.964Z"
   },
   {
    "duration": 16,
    "start_time": "2022-06-05T03:30:33.981Z"
   },
   {
    "duration": 27,
    "start_time": "2022-06-05T03:30:33.999Z"
   },
   {
    "duration": 9,
    "start_time": "2022-06-05T03:30:34.028Z"
   },
   {
    "duration": 42,
    "start_time": "2022-06-05T03:30:34.039Z"
   },
   {
    "duration": 23,
    "start_time": "2022-06-05T03:30:34.082Z"
   },
   {
    "duration": 124,
    "start_time": "2022-06-05T03:30:34.107Z"
   },
   {
    "duration": 0,
    "start_time": "2022-06-05T03:30:34.235Z"
   },
   {
    "duration": 0,
    "start_time": "2022-06-05T03:30:34.237Z"
   },
   {
    "duration": 0,
    "start_time": "2022-06-05T03:30:34.238Z"
   },
   {
    "duration": 0,
    "start_time": "2022-06-05T03:30:34.239Z"
   },
   {
    "duration": 0,
    "start_time": "2022-06-05T03:30:34.240Z"
   },
   {
    "duration": 0,
    "start_time": "2022-06-05T03:30:34.241Z"
   },
   {
    "duration": 0,
    "start_time": "2022-06-05T03:30:34.242Z"
   },
   {
    "duration": 0,
    "start_time": "2022-06-05T03:30:34.243Z"
   },
   {
    "duration": 0,
    "start_time": "2022-06-05T03:30:34.244Z"
   },
   {
    "duration": 0,
    "start_time": "2022-06-05T03:30:34.245Z"
   },
   {
    "duration": 0,
    "start_time": "2022-06-05T03:30:34.268Z"
   },
   {
    "duration": 0,
    "start_time": "2022-06-05T03:30:34.269Z"
   },
   {
    "duration": 0,
    "start_time": "2022-06-05T03:30:34.269Z"
   },
   {
    "duration": 0,
    "start_time": "2022-06-05T03:30:34.270Z"
   },
   {
    "duration": 0,
    "start_time": "2022-06-05T03:30:34.272Z"
   },
   {
    "duration": 0,
    "start_time": "2022-06-05T03:30:34.273Z"
   },
   {
    "duration": 0,
    "start_time": "2022-06-05T03:30:34.274Z"
   },
   {
    "duration": 0,
    "start_time": "2022-06-05T03:30:34.277Z"
   },
   {
    "duration": 0,
    "start_time": "2022-06-05T03:30:34.277Z"
   },
   {
    "duration": 0,
    "start_time": "2022-06-05T03:30:34.278Z"
   },
   {
    "duration": 0,
    "start_time": "2022-06-05T03:30:34.279Z"
   },
   {
    "duration": 0,
    "start_time": "2022-06-05T03:30:34.280Z"
   },
   {
    "duration": 0,
    "start_time": "2022-06-05T03:30:34.281Z"
   },
   {
    "duration": 0,
    "start_time": "2022-06-05T03:30:34.282Z"
   },
   {
    "duration": 0,
    "start_time": "2022-06-05T03:30:34.283Z"
   },
   {
    "duration": 0,
    "start_time": "2022-06-05T03:30:34.283Z"
   },
   {
    "duration": 0,
    "start_time": "2022-06-05T03:30:34.284Z"
   },
   {
    "duration": 0,
    "start_time": "2022-06-05T03:30:34.285Z"
   },
   {
    "duration": 0,
    "start_time": "2022-06-05T03:30:34.286Z"
   },
   {
    "duration": 0,
    "start_time": "2022-06-05T03:30:34.288Z"
   },
   {
    "duration": 0,
    "start_time": "2022-06-05T03:30:34.289Z"
   },
   {
    "duration": 0,
    "start_time": "2022-06-05T03:30:34.290Z"
   },
   {
    "duration": 1,
    "start_time": "2022-06-05T03:30:34.291Z"
   },
   {
    "duration": 0,
    "start_time": "2022-06-05T03:30:34.295Z"
   },
   {
    "duration": 0,
    "start_time": "2022-06-05T03:30:34.295Z"
   },
   {
    "duration": 0,
    "start_time": "2022-06-05T03:30:34.297Z"
   },
   {
    "duration": 0,
    "start_time": "2022-06-05T03:30:34.298Z"
   },
   {
    "duration": 0,
    "start_time": "2022-06-05T03:30:34.299Z"
   },
   {
    "duration": 0,
    "start_time": "2022-06-05T03:30:34.300Z"
   },
   {
    "duration": 0,
    "start_time": "2022-06-05T03:30:34.301Z"
   },
   {
    "duration": 0,
    "start_time": "2022-06-05T03:30:34.302Z"
   },
   {
    "duration": 0,
    "start_time": "2022-06-05T03:30:34.303Z"
   },
   {
    "duration": 0,
    "start_time": "2022-06-05T03:30:34.304Z"
   },
   {
    "duration": 0,
    "start_time": "2022-06-05T03:30:34.305Z"
   },
   {
    "duration": 12,
    "start_time": "2022-06-05T03:30:52.675Z"
   },
   {
    "duration": 4,
    "start_time": "2022-06-05T03:31:19.647Z"
   },
   {
    "duration": 47,
    "start_time": "2022-06-05T03:31:19.653Z"
   },
   {
    "duration": 10,
    "start_time": "2022-06-05T03:31:19.702Z"
   },
   {
    "duration": 11,
    "start_time": "2022-06-05T03:31:19.714Z"
   },
   {
    "duration": 170,
    "start_time": "2022-06-05T03:31:19.727Z"
   },
   {
    "duration": 8,
    "start_time": "2022-06-05T03:31:19.899Z"
   },
   {
    "duration": 25,
    "start_time": "2022-06-05T03:31:19.909Z"
   },
   {
    "duration": 159,
    "start_time": "2022-06-05T03:31:19.936Z"
   },
   {
    "duration": 9,
    "start_time": "2022-06-05T03:31:20.097Z"
   },
   {
    "duration": 24,
    "start_time": "2022-06-05T03:31:20.107Z"
   },
   {
    "duration": 106,
    "start_time": "2022-06-05T03:31:20.133Z"
   },
   {
    "duration": 7,
    "start_time": "2022-06-05T03:31:20.241Z"
   },
   {
    "duration": 38,
    "start_time": "2022-06-05T03:31:20.250Z"
   },
   {
    "duration": 16,
    "start_time": "2022-06-05T03:31:20.292Z"
   },
   {
    "duration": 8,
    "start_time": "2022-06-05T03:31:20.310Z"
   },
   {
    "duration": 12,
    "start_time": "2022-06-05T03:31:20.320Z"
   },
   {
    "duration": 89,
    "start_time": "2022-06-05T03:31:20.334Z"
   },
   {
    "duration": 14,
    "start_time": "2022-06-05T03:31:20.425Z"
   },
   {
    "duration": 36,
    "start_time": "2022-06-05T03:31:20.441Z"
   },
   {
    "duration": 9,
    "start_time": "2022-06-05T03:31:20.482Z"
   },
   {
    "duration": 7,
    "start_time": "2022-06-05T03:31:20.493Z"
   },
   {
    "duration": 10,
    "start_time": "2022-06-05T03:31:20.501Z"
   },
   {
    "duration": 16,
    "start_time": "2022-06-05T03:31:20.512Z"
   },
   {
    "duration": 8,
    "start_time": "2022-06-05T03:31:20.530Z"
   },
   {
    "duration": 47,
    "start_time": "2022-06-05T03:31:20.539Z"
   },
   {
    "duration": 27,
    "start_time": "2022-06-05T03:31:20.588Z"
   },
   {
    "duration": 16,
    "start_time": "2022-06-05T03:31:20.617Z"
   },
   {
    "duration": 6,
    "start_time": "2022-06-05T03:31:20.634Z"
   },
   {
    "duration": 13,
    "start_time": "2022-06-05T03:31:20.666Z"
   },
   {
    "duration": 12,
    "start_time": "2022-06-05T03:31:20.680Z"
   },
   {
    "duration": 24,
    "start_time": "2022-06-05T03:31:20.694Z"
   },
   {
    "duration": 80,
    "start_time": "2022-06-05T03:31:20.720Z"
   },
   {
    "duration": 15,
    "start_time": "2022-06-05T03:31:20.802Z"
   },
   {
    "duration": 9,
    "start_time": "2022-06-05T03:31:20.818Z"
   },
   {
    "duration": 63,
    "start_time": "2022-06-05T03:31:20.828Z"
   },
   {
    "duration": 18,
    "start_time": "2022-06-05T03:31:20.893Z"
   },
   {
    "duration": 23,
    "start_time": "2022-06-05T03:31:20.912Z"
   },
   {
    "duration": 4,
    "start_time": "2022-06-05T03:31:20.937Z"
   },
   {
    "duration": 17,
    "start_time": "2022-06-05T03:31:20.964Z"
   },
   {
    "duration": 22,
    "start_time": "2022-06-05T03:31:20.984Z"
   },
   {
    "duration": 15,
    "start_time": "2022-06-05T03:31:21.012Z"
   },
   {
    "duration": 13,
    "start_time": "2022-06-05T03:31:21.028Z"
   },
   {
    "duration": 9,
    "start_time": "2022-06-05T03:31:21.042Z"
   },
   {
    "duration": 27,
    "start_time": "2022-06-05T03:31:21.052Z"
   },
   {
    "duration": 22,
    "start_time": "2022-06-05T03:31:21.081Z"
   },
   {
    "duration": 8,
    "start_time": "2022-06-05T03:31:21.105Z"
   },
   {
    "duration": 8,
    "start_time": "2022-06-05T03:31:21.115Z"
   },
   {
    "duration": 12,
    "start_time": "2022-06-05T03:31:21.124Z"
   },
   {
    "duration": 8,
    "start_time": "2022-06-05T03:31:21.138Z"
   },
   {
    "duration": 19,
    "start_time": "2022-06-05T03:31:21.167Z"
   },
   {
    "duration": 11,
    "start_time": "2022-06-05T03:31:21.187Z"
   },
   {
    "duration": 8,
    "start_time": "2022-06-05T03:31:21.199Z"
   },
   {
    "duration": 11,
    "start_time": "2022-06-05T03:31:21.209Z"
   },
   {
    "duration": 6,
    "start_time": "2022-06-05T03:31:21.222Z"
   },
   {
    "duration": 37,
    "start_time": "2022-06-05T03:31:21.230Z"
   },
   {
    "duration": 12,
    "start_time": "2022-06-05T03:31:21.274Z"
   },
   {
    "duration": 7,
    "start_time": "2022-06-05T03:31:21.287Z"
   },
   {
    "duration": 5,
    "start_time": "2022-06-05T03:31:21.296Z"
   },
   {
    "duration": 14,
    "start_time": "2022-06-05T03:31:21.303Z"
   },
   {
    "duration": 202,
    "start_time": "2022-06-05T03:31:21.319Z"
   },
   {
    "duration": 7,
    "start_time": "2022-06-05T03:31:21.522Z"
   },
   {
    "duration": 0,
    "start_time": "2022-06-05T03:31:21.531Z"
   },
   {
    "duration": 0,
    "start_time": "2022-06-05T03:31:21.532Z"
   },
   {
    "duration": 0,
    "start_time": "2022-06-05T03:31:21.533Z"
   },
   {
    "duration": 0,
    "start_time": "2022-06-05T03:31:21.534Z"
   },
   {
    "duration": 0,
    "start_time": "2022-06-05T03:31:21.535Z"
   },
   {
    "duration": 0,
    "start_time": "2022-06-05T03:31:21.536Z"
   },
   {
    "duration": 0,
    "start_time": "2022-06-05T03:31:21.537Z"
   },
   {
    "duration": 0,
    "start_time": "2022-06-05T03:31:21.538Z"
   },
   {
    "duration": 0,
    "start_time": "2022-06-05T03:31:21.539Z"
   },
   {
    "duration": 56,
    "start_time": "2022-06-05T03:31:27.610Z"
   },
   {
    "duration": 1081,
    "start_time": "2022-06-05T03:31:29.413Z"
   },
   {
    "duration": 782,
    "start_time": "2022-06-05T03:31:34.630Z"
   },
   {
    "duration": 870,
    "start_time": "2022-06-05T03:34:16.432Z"
   },
   {
    "duration": 1686,
    "start_time": "2022-06-05T03:34:27.737Z"
   },
   {
    "duration": 880,
    "start_time": "2022-06-05T03:34:45.016Z"
   },
   {
    "duration": 12,
    "start_time": "2022-06-05T03:34:56.326Z"
   },
   {
    "duration": 856,
    "start_time": "2022-06-05T03:35:28.441Z"
   },
   {
    "duration": 823,
    "start_time": "2022-06-05T03:35:45.784Z"
   },
   {
    "duration": 746,
    "start_time": "2022-06-05T03:36:47.927Z"
   },
   {
    "duration": 12,
    "start_time": "2022-06-05T03:38:14.642Z"
   },
   {
    "duration": 576,
    "start_time": "2022-06-05T03:38:19.118Z"
   },
   {
    "duration": 769,
    "start_time": "2022-06-05T03:38:24.309Z"
   },
   {
    "duration": 852,
    "start_time": "2022-06-05T03:38:38.292Z"
   },
   {
    "duration": 775,
    "start_time": "2022-06-05T03:38:43.241Z"
   },
   {
    "duration": 774,
    "start_time": "2022-06-05T03:38:46.909Z"
   },
   {
    "duration": 767,
    "start_time": "2022-06-05T03:38:52.716Z"
   },
   {
    "duration": 774,
    "start_time": "2022-06-05T03:39:02.010Z"
   },
   {
    "duration": 840,
    "start_time": "2022-06-05T03:39:54.341Z"
   },
   {
    "duration": 761,
    "start_time": "2022-06-05T03:40:14.982Z"
   },
   {
    "duration": 750,
    "start_time": "2022-06-05T03:40:44.483Z"
   },
   {
    "duration": 811,
    "start_time": "2022-06-05T03:40:50.596Z"
   },
   {
    "duration": 888,
    "start_time": "2022-06-05T03:40:56.659Z"
   },
   {
    "duration": 915,
    "start_time": "2022-06-05T03:41:03.100Z"
   },
   {
    "duration": 917,
    "start_time": "2022-06-05T03:41:20.627Z"
   },
   {
    "duration": 816,
    "start_time": "2022-06-05T03:41:33.584Z"
   },
   {
    "duration": 842,
    "start_time": "2022-06-05T03:41:53.374Z"
   },
   {
    "duration": 1506,
    "start_time": "2022-06-05T03:42:06.281Z"
   },
   {
    "duration": 761,
    "start_time": "2022-06-05T03:42:16.337Z"
   },
   {
    "duration": 8,
    "start_time": "2022-06-05T03:50:00.849Z"
   },
   {
    "duration": 774,
    "start_time": "2022-06-05T03:55:45.937Z"
   },
   {
    "duration": 54,
    "start_time": "2022-06-05T15:00:09.854Z"
   },
   {
    "duration": 37,
    "start_time": "2022-06-05T15:00:38.611Z"
   },
   {
    "duration": 57,
    "start_time": "2022-06-05T15:01:38.899Z"
   },
   {
    "duration": 38,
    "start_time": "2022-06-05T15:02:22.011Z"
   },
   {
    "duration": 52,
    "start_time": "2022-06-05T15:05:24.954Z"
   },
   {
    "duration": 9,
    "start_time": "2022-06-05T15:05:58.912Z"
   },
   {
    "duration": 1111,
    "start_time": "2022-06-05T15:06:09.359Z"
   },
   {
    "duration": 41,
    "start_time": "2022-06-05T15:06:10.472Z"
   },
   {
    "duration": 26,
    "start_time": "2022-06-05T15:06:10.514Z"
   },
   {
    "duration": 12,
    "start_time": "2022-06-05T15:06:10.542Z"
   },
   {
    "duration": 164,
    "start_time": "2022-06-05T15:06:10.556Z"
   },
   {
    "duration": 20,
    "start_time": "2022-06-05T15:06:10.722Z"
   },
   {
    "duration": 33,
    "start_time": "2022-06-05T15:06:10.744Z"
   },
   {
    "duration": 139,
    "start_time": "2022-06-05T15:06:10.778Z"
   },
   {
    "duration": 21,
    "start_time": "2022-06-05T15:06:10.918Z"
   },
   {
    "duration": 27,
    "start_time": "2022-06-05T15:06:10.942Z"
   },
   {
    "duration": 92,
    "start_time": "2022-06-05T15:06:10.971Z"
   },
   {
    "duration": 7,
    "start_time": "2022-06-05T15:06:11.065Z"
   },
   {
    "duration": 26,
    "start_time": "2022-06-05T15:06:11.073Z"
   },
   {
    "duration": 17,
    "start_time": "2022-06-05T15:06:11.100Z"
   },
   {
    "duration": 12,
    "start_time": "2022-06-05T15:06:11.119Z"
   },
   {
    "duration": 24,
    "start_time": "2022-06-05T15:06:11.133Z"
   },
   {
    "duration": 88,
    "start_time": "2022-06-05T15:06:11.159Z"
   },
   {
    "duration": 14,
    "start_time": "2022-06-05T15:06:11.249Z"
   },
   {
    "duration": 38,
    "start_time": "2022-06-05T15:06:11.264Z"
   },
   {
    "duration": 11,
    "start_time": "2022-06-05T15:06:11.303Z"
   },
   {
    "duration": 12,
    "start_time": "2022-06-05T15:06:11.328Z"
   },
   {
    "duration": 25,
    "start_time": "2022-06-05T15:06:11.342Z"
   },
   {
    "duration": 32,
    "start_time": "2022-06-05T15:06:11.369Z"
   },
   {
    "duration": 9,
    "start_time": "2022-06-05T15:06:11.403Z"
   },
   {
    "duration": 26,
    "start_time": "2022-06-05T15:06:11.414Z"
   },
   {
    "duration": 44,
    "start_time": "2022-06-05T15:06:11.442Z"
   },
   {
    "duration": 21,
    "start_time": "2022-06-05T15:06:11.488Z"
   },
   {
    "duration": 22,
    "start_time": "2022-06-05T15:06:11.514Z"
   },
   {
    "duration": 23,
    "start_time": "2022-06-05T15:06:11.543Z"
   },
   {
    "duration": 8,
    "start_time": "2022-06-05T15:06:11.569Z"
   },
   {
    "duration": 42,
    "start_time": "2022-06-05T15:06:11.580Z"
   },
   {
    "duration": 72,
    "start_time": "2022-06-05T15:06:11.624Z"
   },
   {
    "duration": 40,
    "start_time": "2022-06-05T15:06:11.698Z"
   },
   {
    "duration": 10,
    "start_time": "2022-06-05T15:06:11.742Z"
   },
   {
    "duration": 59,
    "start_time": "2022-06-05T15:06:11.754Z"
   },
   {
    "duration": 25,
    "start_time": "2022-06-05T15:06:11.815Z"
   },
   {
    "duration": 32,
    "start_time": "2022-06-05T15:06:11.842Z"
   },
   {
    "duration": 4,
    "start_time": "2022-06-05T15:06:11.876Z"
   },
   {
    "duration": 23,
    "start_time": "2022-06-05T15:06:11.881Z"
   },
   {
    "duration": 30,
    "start_time": "2022-06-05T15:06:11.906Z"
   },
   {
    "duration": 32,
    "start_time": "2022-06-05T15:06:11.938Z"
   },
   {
    "duration": 13,
    "start_time": "2022-06-05T15:06:11.972Z"
   },
   {
    "duration": 22,
    "start_time": "2022-06-05T15:06:11.986Z"
   },
   {
    "duration": 14,
    "start_time": "2022-06-05T15:06:12.010Z"
   },
   {
    "duration": 28,
    "start_time": "2022-06-05T15:06:12.025Z"
   },
   {
    "duration": 20,
    "start_time": "2022-06-05T15:06:12.054Z"
   },
   {
    "duration": 25,
    "start_time": "2022-06-05T15:06:12.078Z"
   },
   {
    "duration": 26,
    "start_time": "2022-06-05T15:06:12.105Z"
   },
   {
    "duration": 33,
    "start_time": "2022-06-05T15:06:12.133Z"
   },
   {
    "duration": 37,
    "start_time": "2022-06-05T15:06:12.168Z"
   },
   {
    "duration": 53,
    "start_time": "2022-06-05T15:06:12.206Z"
   },
   {
    "duration": 29,
    "start_time": "2022-06-05T15:06:12.261Z"
   },
   {
    "duration": 28,
    "start_time": "2022-06-05T15:06:12.292Z"
   },
   {
    "duration": 31,
    "start_time": "2022-06-05T15:06:12.322Z"
   },
   {
    "duration": 30,
    "start_time": "2022-06-05T15:06:12.354Z"
   },
   {
    "duration": 18,
    "start_time": "2022-06-05T15:06:12.385Z"
   },
   {
    "duration": 39,
    "start_time": "2022-06-05T15:06:12.404Z"
   },
   {
    "duration": 24,
    "start_time": "2022-06-05T15:06:12.446Z"
   },
   {
    "duration": 26,
    "start_time": "2022-06-05T15:06:12.472Z"
   },
   {
    "duration": 209,
    "start_time": "2022-06-05T15:06:12.500Z"
   },
   {
    "duration": 15,
    "start_time": "2022-06-05T15:06:12.711Z"
   },
   {
    "duration": 0,
    "start_time": "2022-06-05T15:06:12.728Z"
   },
   {
    "duration": 0,
    "start_time": "2022-06-05T15:06:12.730Z"
   },
   {
    "duration": 0,
    "start_time": "2022-06-05T15:06:12.731Z"
   },
   {
    "duration": 0,
    "start_time": "2022-06-05T15:06:12.732Z"
   },
   {
    "duration": 0,
    "start_time": "2022-06-05T15:06:12.733Z"
   },
   {
    "duration": 0,
    "start_time": "2022-06-05T15:06:12.735Z"
   },
   {
    "duration": 0,
    "start_time": "2022-06-05T15:06:12.736Z"
   },
   {
    "duration": 0,
    "start_time": "2022-06-05T15:06:12.737Z"
   },
   {
    "duration": 0,
    "start_time": "2022-06-05T15:06:12.738Z"
   },
   {
    "duration": 0,
    "start_time": "2022-06-05T15:06:12.739Z"
   },
   {
    "duration": 0,
    "start_time": "2022-06-05T15:06:12.740Z"
   },
   {
    "duration": 0,
    "start_time": "2022-06-05T15:06:12.741Z"
   },
   {
    "duration": 0,
    "start_time": "2022-06-05T15:06:12.742Z"
   },
   {
    "duration": 0,
    "start_time": "2022-06-05T15:06:12.743Z"
   },
   {
    "duration": 0,
    "start_time": "2022-06-05T15:06:12.745Z"
   },
   {
    "duration": 15,
    "start_time": "2022-06-05T15:06:24.024Z"
   },
   {
    "duration": 0,
    "start_time": "2022-06-05T15:06:24.041Z"
   },
   {
    "duration": 48,
    "start_time": "2022-06-05T15:06:24.045Z"
   },
   {
    "duration": 1092,
    "start_time": "2022-06-05T15:06:24.095Z"
   },
   {
    "duration": 729,
    "start_time": "2022-06-05T15:06:25.189Z"
   },
   {
    "duration": 21,
    "start_time": "2022-06-05T15:06:25.920Z"
   },
   {
    "duration": 985,
    "start_time": "2022-06-05T15:06:25.943Z"
   },
   {
    "duration": 1681,
    "start_time": "2022-06-05T15:06:26.941Z"
   },
   {
    "duration": 768,
    "start_time": "2022-06-05T15:06:28.626Z"
   },
   {
    "duration": 848,
    "start_time": "2022-06-05T15:06:29.395Z"
   },
   {
    "duration": 9,
    "start_time": "2022-06-05T15:06:30.244Z"
   },
   {
    "duration": 19,
    "start_time": "2022-06-05T15:06:30.255Z"
   },
   {
    "duration": 22,
    "start_time": "2022-06-05T15:06:30.276Z"
   },
   {
    "duration": 21,
    "start_time": "2022-06-05T15:06:30.300Z"
   },
   {
    "duration": 60,
    "start_time": "2022-06-05T15:06:30.323Z"
   },
   {
    "duration": 231,
    "start_time": "2022-06-05T15:06:30.385Z"
   },
   {
    "duration": 207,
    "start_time": "2022-06-05T15:06:37.162Z"
   },
   {
    "duration": 1240,
    "start_time": "2022-06-05T17:16:08.275Z"
   },
   {
    "duration": 72,
    "start_time": "2022-06-05T17:16:09.517Z"
   },
   {
    "duration": 13,
    "start_time": "2022-06-05T17:16:09.590Z"
   },
   {
    "duration": 11,
    "start_time": "2022-06-05T17:16:09.605Z"
   },
   {
    "duration": 208,
    "start_time": "2022-06-05T17:16:09.618Z"
   },
   {
    "duration": 9,
    "start_time": "2022-06-05T17:16:09.828Z"
   },
   {
    "duration": 27,
    "start_time": "2022-06-05T17:16:09.838Z"
   },
   {
    "duration": 308,
    "start_time": "2022-06-05T17:16:09.867Z"
   },
   {
    "duration": 10,
    "start_time": "2022-06-05T17:16:10.177Z"
   },
   {
    "duration": 26,
    "start_time": "2022-06-05T17:16:10.191Z"
   },
   {
    "duration": 267,
    "start_time": "2022-06-05T17:16:10.219Z"
   },
   {
    "duration": 7,
    "start_time": "2022-06-05T17:16:10.488Z"
   },
   {
    "duration": 39,
    "start_time": "2022-06-05T17:16:10.497Z"
   },
   {
    "duration": 64,
    "start_time": "2022-06-05T17:16:10.538Z"
   },
   {
    "duration": 7,
    "start_time": "2022-06-05T17:16:10.604Z"
   },
   {
    "duration": 27,
    "start_time": "2022-06-05T17:16:10.613Z"
   },
   {
    "duration": 80,
    "start_time": "2022-06-05T17:16:10.642Z"
   },
   {
    "duration": 17,
    "start_time": "2022-06-05T17:16:10.723Z"
   },
   {
    "duration": 32,
    "start_time": "2022-06-05T17:16:10.742Z"
   },
   {
    "duration": 14,
    "start_time": "2022-06-05T17:16:10.776Z"
   },
   {
    "duration": 13,
    "start_time": "2022-06-05T17:16:10.792Z"
   },
   {
    "duration": 27,
    "start_time": "2022-06-05T17:16:10.807Z"
   },
   {
    "duration": 30,
    "start_time": "2022-06-05T17:16:10.836Z"
   },
   {
    "duration": 15,
    "start_time": "2022-06-05T17:16:10.868Z"
   },
   {
    "duration": 27,
    "start_time": "2022-06-05T17:16:10.884Z"
   },
   {
    "duration": 31,
    "start_time": "2022-06-05T17:16:10.912Z"
   },
   {
    "duration": 20,
    "start_time": "2022-06-05T17:16:10.952Z"
   },
   {
    "duration": 6,
    "start_time": "2022-06-05T17:16:10.975Z"
   },
   {
    "duration": 34,
    "start_time": "2022-06-05T17:16:10.982Z"
   },
   {
    "duration": 11,
    "start_time": "2022-06-05T17:16:11.017Z"
   },
   {
    "duration": 38,
    "start_time": "2022-06-05T17:16:11.030Z"
   },
   {
    "duration": 57,
    "start_time": "2022-06-05T17:16:11.069Z"
   },
   {
    "duration": 24,
    "start_time": "2022-06-05T17:16:11.128Z"
   },
   {
    "duration": 7,
    "start_time": "2022-06-05T17:16:11.154Z"
   },
   {
    "duration": 44,
    "start_time": "2022-06-05T17:16:11.163Z"
   },
   {
    "duration": 17,
    "start_time": "2022-06-05T17:16:11.209Z"
   },
   {
    "duration": 30,
    "start_time": "2022-06-05T17:16:11.227Z"
   },
   {
    "duration": 4,
    "start_time": "2022-06-05T17:16:11.259Z"
   },
   {
    "duration": 19,
    "start_time": "2022-06-05T17:16:11.265Z"
   },
   {
    "duration": 12,
    "start_time": "2022-06-05T17:16:11.286Z"
   },
   {
    "duration": 17,
    "start_time": "2022-06-05T17:16:11.299Z"
   },
   {
    "duration": 11,
    "start_time": "2022-06-05T17:16:11.318Z"
   },
   {
    "duration": 9,
    "start_time": "2022-06-05T17:16:11.330Z"
   },
   {
    "duration": 22,
    "start_time": "2022-06-05T17:16:11.340Z"
   },
   {
    "duration": 11,
    "start_time": "2022-06-05T17:16:11.364Z"
   },
   {
    "duration": 5,
    "start_time": "2022-06-05T17:16:11.376Z"
   },
   {
    "duration": 6,
    "start_time": "2022-06-05T17:16:11.383Z"
   },
   {
    "duration": 21,
    "start_time": "2022-06-05T17:16:11.391Z"
   },
   {
    "duration": 11,
    "start_time": "2022-06-05T17:16:11.414Z"
   },
   {
    "duration": 29,
    "start_time": "2022-06-05T17:16:11.427Z"
   },
   {
    "duration": 22,
    "start_time": "2022-06-05T17:16:11.457Z"
   },
   {
    "duration": 14,
    "start_time": "2022-06-05T17:16:11.480Z"
   },
   {
    "duration": 11,
    "start_time": "2022-06-05T17:16:11.496Z"
   },
   {
    "duration": 7,
    "start_time": "2022-06-05T17:16:11.509Z"
   },
   {
    "duration": 13,
    "start_time": "2022-06-05T17:16:11.517Z"
   },
   {
    "duration": 10,
    "start_time": "2022-06-05T17:16:11.531Z"
   },
   {
    "duration": 9,
    "start_time": "2022-06-05T17:16:11.542Z"
   },
   {
    "duration": 7,
    "start_time": "2022-06-05T17:16:11.552Z"
   },
   {
    "duration": 13,
    "start_time": "2022-06-05T17:16:11.560Z"
   },
   {
    "duration": 181,
    "start_time": "2022-06-05T17:16:11.574Z"
   },
   {
    "duration": 8,
    "start_time": "2022-06-05T17:16:11.757Z"
   },
   {
    "duration": 0,
    "start_time": "2022-06-05T17:16:11.767Z"
   },
   {
    "duration": 0,
    "start_time": "2022-06-05T17:16:11.768Z"
   },
   {
    "duration": 0,
    "start_time": "2022-06-05T17:16:11.768Z"
   },
   {
    "duration": 0,
    "start_time": "2022-06-05T17:16:11.770Z"
   },
   {
    "duration": 0,
    "start_time": "2022-06-05T17:16:11.771Z"
   },
   {
    "duration": 0,
    "start_time": "2022-06-05T17:16:11.772Z"
   },
   {
    "duration": 0,
    "start_time": "2022-06-05T17:16:11.774Z"
   },
   {
    "duration": 0,
    "start_time": "2022-06-05T17:16:11.775Z"
   },
   {
    "duration": 0,
    "start_time": "2022-06-05T17:16:11.776Z"
   },
   {
    "duration": 0,
    "start_time": "2022-06-05T17:16:11.777Z"
   },
   {
    "duration": 0,
    "start_time": "2022-06-05T17:16:11.779Z"
   },
   {
    "duration": 0,
    "start_time": "2022-06-05T17:16:11.780Z"
   },
   {
    "duration": 0,
    "start_time": "2022-06-05T17:16:11.781Z"
   },
   {
    "duration": 0,
    "start_time": "2022-06-05T17:16:11.783Z"
   },
   {
    "duration": 47,
    "start_time": "2022-06-05T17:16:34.062Z"
   },
   {
    "duration": 1013,
    "start_time": "2022-06-05T17:16:36.779Z"
   },
   {
    "duration": 202,
    "start_time": "2022-06-05T17:17:07.853Z"
   },
   {
    "duration": 28,
    "start_time": "2022-06-05T17:18:51.579Z"
   }
  ],
  "kernelspec": {
   "display_name": "Python 3 (ipykernel)",
   "language": "python",
   "name": "python3"
  },
  "language_info": {
   "codemirror_mode": {
    "name": "ipython",
    "version": 3
   },
   "file_extension": ".py",
   "mimetype": "text/x-python",
   "name": "python",
   "nbconvert_exporter": "python",
   "pygments_lexer": "ipython3",
   "version": "3.9.7"
  },
  "toc": {
   "base_numbering": 1,
   "nav_menu": {
    "height": "147px",
    "width": "300px"
   },
   "number_sections": true,
   "sideBar": true,
   "skip_h1_title": true,
   "title_cell": "Table of Contents",
   "title_sidebar": "Contents",
   "toc_cell": false,
   "toc_position": {
    "height": "calc(100% - 180px)",
    "left": "10px",
    "top": "150px",
    "width": "221.391px"
   },
   "toc_section_display": true,
   "toc_window_display": true
  }
 },
 "nbformat": 4,
 "nbformat_minor": 2
}
